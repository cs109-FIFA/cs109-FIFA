{
 "cells": [
  {
   "cell_type": "markdown",
   "metadata": {},
   "source": [
    "## This notebook is built as a wrapper for investigating the numpy function percentile and building a find_percentile function."
   ]
  },
  {
   "cell_type": "code",
   "execution_count": 1,
   "metadata": {
    "collapsed": true
   },
   "outputs": [],
   "source": [
    "% matplotlib inline\n",
    "\n",
    "import pandas as pd\n",
    "import numpy as np\n",
    "\n",
    "pd.set_option('display.width', 500)\n",
    "pd.set_option('display.max_columns', 100)\n",
    "pd.set_option('display.notebook_repr_html', True)\n",
    "import seaborn as sns\n",
    "sns.set_style(\"whitegrid\")\n",
    "sns.set_context(\"poster\")"
   ]
  },
  {
   "cell_type": "markdown",
   "metadata": {},
   "source": [
    "#### Import the feature data"
   ]
  },
  {
   "cell_type": "code",
   "execution_count": 2,
   "metadata": {
    "collapsed": false
   },
   "outputs": [],
   "source": [
    "data12 = pd.read_pickle('Data/features12-13.pkl').transpose()\n",
    "data13 = pd.read_pickle('Data/features13-14.pkl').transpose()"
   ]
  },
  {
   "cell_type": "code",
   "execution_count": 3,
   "metadata": {
    "collapsed": false
   },
   "outputs": [],
   "source": [
    "sorted_values_12idx = data12.season_value.values.argsort()[::-1]"
   ]
  },
  {
   "cell_type": "code",
   "execution_count": 4,
   "metadata": {
    "collapsed": false
   },
   "outputs": [],
   "source": [
    "values12 = data12.season_value[sorted_values_12idx]"
   ]
  },
  {
   "cell_type": "code",
   "execution_count": null,
   "metadata": {
    "collapsed": false
   },
   "outputs": [],
   "source": []
  },
  {
   "cell_type": "code",
   "execution_count": 5,
   "metadata": {
    "collapsed": false
   },
   "outputs": [],
   "source": [
    "quartiles = np.linspace(5,100,20)"
   ]
  },
  {
   "cell_type": "markdown",
   "metadata": {},
   "source": [
    "Found that there's no reason to sort the value_array..."
   ]
  },
  {
   "cell_type": "code",
   "execution_count": 6,
   "metadata": {
    "collapsed": false
   },
   "outputs": [],
   "source": [
    "thresholds = np.percentile(data12.season_value,quartiles)"
   ]
  },
  {
   "cell_type": "code",
   "execution_count": 7,
   "metadata": {
    "collapsed": false
   },
   "outputs": [],
   "source": [
    "quart_mask = thresholds < data12.season_value['Gareth Bale']"
   ]
  },
  {
   "cell_type": "code",
   "execution_count": 8,
   "metadata": {
    "collapsed": false
   },
   "outputs": [
    {
     "data": {
      "text/plain": [
       "95.0"
      ]
     },
     "execution_count": 8,
     "metadata": {},
     "output_type": "execute_result"
    }
   ],
   "source": [
    "pcntile = quartiles[quart_mask][-1]\n",
    "pcntile"
   ]
  },
  {
   "cell_type": "code",
   "execution_count": 9,
   "metadata": {
    "collapsed": true
   },
   "outputs": [],
   "source": [
    "def find_player_percentile(value_array,player_name=None):\n",
    "    '''Takes in calculated value array (panda series) and an individual player(string):\n",
    "    Returns the percentile that player falls into with regards to that statistic'''\n",
    "    \n",
    "    # Extract the player value\n",
    "    player_value = value_array[player_name]\n",
    "    \n",
    "    # Define quartiles in increments of 5 percent\n",
    "    quartiles = np.linspace(5,100,20)\n",
    "    \n",
    "    # Find separating points, aligning with the quartiles, in the value_array\n",
    "    thresholds = np.percentile(value_array, quartiles)\n",
    "    \n",
    "    # Compute mask to find the highest quartile that player_name is above\n",
    "    quart_mask = thresholds < player_value\n",
    "    pcntile = quartiles[quart_mask][-1]\n",
    "    \n",
    "    return pcntile\n",
    "    "
   ]
  },
  {
   "cell_type": "code",
   "execution_count": 10,
   "metadata": {
    "collapsed": false
   },
   "outputs": [
    {
     "data": {
      "text/plain": [
       "95.0"
      ]
     },
     "execution_count": 10,
     "metadata": {},
     "output_type": "execute_result"
    }
   ],
   "source": [
    "find_player_percentile(data12.season_value,\"Gareth Bale\")"
   ]
  },
  {
   "cell_type": "markdown",
   "metadata": {},
   "source": [
    "#### Now that the function works to find where the player lies in relation to others, we can apply it to only the most relevant features (as pulled from the ML-ipynb) and get how the player rates across all features"
   ]
  },
  {
   "cell_type": "code",
   "execution_count": 11,
   "metadata": {
    "collapsed": false
   },
   "outputs": [],
   "source": [
    "quart_feats = [\"season_value\",\"nassists\",\"ngoals\",\"ntiebreaker_goals\",\"ntiebreaker_assists\"]\n",
    "subdf12 = data12[quart_feats]\n",
    "subdf13 = data13[quart_feats]"
   ]
  },
  {
   "cell_type": "code",
   "execution_count": 12,
   "metadata": {
    "collapsed": false
   },
   "outputs": [],
   "source": [
    "player = \"Gareth Bale\"\n",
    "bale_results12 = subdf12.apply(find_player_percentile,player_name = player)\n",
    "bale_results13 = subdf13.apply(find_player_percentile,player_name = player)"
   ]
  },
  {
   "cell_type": "code",
   "execution_count": 13,
   "metadata": {
    "collapsed": false
   },
   "outputs": [
    {
     "name": "stdout",
     "output_type": "stream",
     "text": [
      "season_value           95\n",
      "nassists               80\n",
      "ngoals                 95\n",
      "ntiebreaker_goals      95\n",
      "ntiebreaker_assists    75\n",
      "dtype: float64\n",
      "season_value           95\n",
      "nassists               95\n",
      "ngoals                 95\n",
      "ntiebreaker_goals      85\n",
      "ntiebreaker_assists    90\n",
      "dtype: float64\n"
     ]
    }
   ],
   "source": [
    "print bale_results12\n",
    "print bale_results13"
   ]
  },
  {
   "cell_type": "code",
   "execution_count": null,
   "metadata": {
    "collapsed": true
   },
   "outputs": [],
   "source": []
  }
 ],
 "metadata": {
  "kernelspec": {
   "display_name": "Python 2",
   "language": "python",
   "name": "python2"
  },
  "language_info": {
   "codemirror_mode": {
    "name": "ipython",
    "version": 2
   },
   "file_extension": ".py",
   "mimetype": "text/x-python",
   "name": "python",
   "nbconvert_exporter": "python",
   "pygments_lexer": "ipython2",
   "version": "2.7.10"
  }
 },
 "nbformat": 4,
 "nbformat_minor": 0
}
