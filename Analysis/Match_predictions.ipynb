{
 "cells": [
  {
   "cell_type": "code",
   "execution_count": 1,
   "metadata": {
    "collapsed": true
   },
   "outputs": [],
   "source": [
    "import sys\n",
    "sys.path.append('/Library/Frameworks/Python.framework/Versions/2.7/lib/python2.7/site-packages')"
   ]
  },
  {
   "cell_type": "markdown",
   "metadata": {},
   "source": [
    "## Match predictions:\n",
    "\n",
    "The goal of this notebook is to create a model to predict match results, i.e home win / home loss / draw.\n",
    "\n",
    "We base our model on the intersection of a certain domain knowledge (the kind of information that could influence the result of a game of football) and the data in our possession. Better results could definetily be achevied if we were in possession of more detailed data on previous match such as a breakdown of performances per position or average possession statistics, etc.\n",
    "\n",
    "This analysis is inspired by the work of Gunjan Kumar in his thesis: \"Machine Learning for Soccer Analytics\"."
   ]
  },
  {
   "cell_type": "code",
   "execution_count": 3,
   "metadata": {
    "collapsed": false
   },
   "outputs": [],
   "source": [
    "% matplotlib inline\n",
    "\n",
    "import pandas as pd\n",
    "import numpy as np\n",
    "import matplotlib.pyplot as plt\n",
    "\n",
    "pd.set_option('display.width', 500)\n",
    "pd.set_option('display.max_columns', 100)\n",
    "pd.set_option('display.notebook_repr_html', True)\n",
    "import seaborn as sns\n",
    "sns.set_style(\"whitegrid\")\n",
    "sns.set_context(\"poster\")\n",
    "\n",
    "# Import all ML modules and packages we'll need\n",
    "from sklearn.cross_validation import train_test_split\n",
    "from sklearn.ensemble import RandomForestRegressor\n",
    "from sklearn.linear_model import LinearRegression\n",
    "\n",
    "from __future__ import division"
   ]
  },
  {
   "cell_type": "markdown",
   "metadata": {},
   "source": [
    "## Data preparation"
   ]
  },
  {
   "cell_type": "code",
   "execution_count": 4,
   "metadata": {
    "collapsed": false
   },
   "outputs": [],
   "source": [
    "import json\n",
    "# Load in data\n",
    "filenames = ['../Data/BPL/BPL12-13.json']\n",
    "with open(filenames[0], 'r') as fp:\n",
    "    data = json.load(fp)"
   ]
  },
  {
   "cell_type": "markdown",
   "metadata": {},
   "source": [
    "We need to create a dictionary that contains the following data:\n",
    "\n",
    "- Final score: response variable\n",
    "- Home team metric average on past 5 games\n",
    "- Away team metric average on past 5 games\n",
    "- Sum of the differences of the best player metrics score for each team in the past 5 game\n",
    "- Average goals against the home team on the past 5 games\n",
    "- Average goals against the away team on the past 5 games\n",
    "- Number of losses for the home team in the past 2 games\n",
    "- Number of losses for the away team in the past 2 games \n"
   ]
  },
  {
   "cell_type": "markdown",
   "metadata": {},
   "source": [
    "We initialise the dictionary with key equal to the match ID and first values: home team, away team, and day."
   ]
  },
  {
   "cell_type": "code",
   "execution_count": 5,
   "metadata": {
    "collapsed": false
   },
   "outputs": [],
   "source": [
    "teams = ['arsenal-fc','aston-villa','chelsea-fc','everton-fc','fulham-fc','liverpool-fc','manchester-city','manchester-united','newcastle-united','norwich-city','queens-park-rangers','reading-fc','southampton-fc','stoke-city','sunderland-afc','swansea-city','tottenham-hotspur','west-bromwich-albion','west-ham-united','wigan-athletic']\n",
    "games = {}\n",
    "for t1 in teams:\n",
    "    for t2 in teams:\n",
    "        if t1!=t2:\n",
    "            games[t1+\"-\"+t2] = {'home': t1, 'away': t2}"
   ]
  },
  {
   "cell_type": "code",
   "execution_count": 6,
   "metadata": {
    "collapsed": true
   },
   "outputs": [],
   "source": [
    "for k in games.keys():\n",
    "    games[k]['day']= data[k]['day']"
   ]
  },
  {
   "cell_type": "markdown",
   "metadata": {},
   "source": [
    "In order to fill in this dictionary, we need a way to access the data for every player in the team at a particular day. We therefore create a team dictionary. Note that the \"if p[2]>=0 else ' '\" statement is to remove own goal scorers."
   ]
  },
  {
   "cell_type": "code",
   "execution_count": 7,
   "metadata": {
    "collapsed": false
   },
   "outputs": [],
   "source": [
    "team_players = dict.fromkeys(teams)\n",
    "for k in games.keys():\n",
    "    team1 = games[k]['home']\n",
    "    team2 = games[k]['away']\n",
    "    \n",
    "    if team_players[team1] is None:\n",
    "        team_players[team1] = [p[0] if p[2]>=0 else ' ' for p in data[k]['home']]\n",
    "    else:\n",
    "        team_players[team1].extend([p[0] if p[2]>=0 else ' ' for p in data[k]['home']])\n",
    "    team_players[team1].extend([p[1] if p[2]>=0 else ' ' for p in data[k]['home']])\n",
    "    \n",
    "    if team_players[team2] is None:\n",
    "        team_players[team2] = [p[0] if p[2]>=0 else ' ' for p in data[k]['away']]\n",
    "    else:\n",
    "        team_players[team2].extend([p[0] if p[2]>=0 else ' ' for p in data[k]['away']])\n",
    "    team_players[team2].extend([p[1] if p[2]>=0 else ' ' for p in data[k]['away']])"
   ]
  },
  {
   "cell_type": "code",
   "execution_count": 8,
   "metadata": {
    "collapsed": false
   },
   "outputs": [],
   "source": [
    "for k in team_players.keys():\n",
    "    team_players[k] = list(set(team_players[k]))\n",
    "    team_players[k].remove(' ')"
   ]
  },
  {
   "cell_type": "code",
   "execution_count": 9,
   "metadata": {
    "collapsed": true
   },
   "outputs": [],
   "source": [
    "player_to_club = {}\n",
    "for k in team_players.keys():\n",
    "    for v in team_players[k]:\n",
    "        player_to_club[v] = k"
   ]
  },
  {
   "cell_type": "markdown",
   "metadata": {},
   "source": [
    "We test it:"
   ]
  },
  {
   "cell_type": "code",
   "execution_count": 10,
   "metadata": {
    "collapsed": false
   },
   "outputs": [
    {
     "data": {
      "text/plain": [
       "[u'Mikel Arteta',\n",
       " u'Aaron Ramsey',\n",
       " u'Lukas Podolski',\n",
       " u'Jack Wilshere',\n",
       " u'Theo Walcott',\n",
       " u'Per Mertesacker',\n",
       " u'Gervinho',\n",
       " u'Kieran Gibbs',\n",
       " u'Nacho Monreal',\n",
       " u'Alex Oxlade-Chamberlain',\n",
       " u'Tom\\xc3\\xa1\\xc5\\xa1 Rosick\\xc3\\xbd',\n",
       " u'Laurent Koscielny',\n",
       " u'Olivier Giroud',\n",
       " u'Santi Cazorla']"
      ]
     },
     "execution_count": 10,
     "metadata": {},
     "output_type": "execute_result"
    }
   ],
   "source": [
    "team_players['arsenal-fc']"
   ]
  },
  {
   "cell_type": "code",
   "execution_count": 11,
   "metadata": {
    "collapsed": true
   },
   "outputs": [],
   "source": [
    "import json\n",
    "with open('../Data/BPL_teamplayers.json', 'w') as fp:\n",
    "    json.dump(team_players, fp)"
   ]
  },
  {
   "cell_type": "markdown",
   "metadata": {},
   "source": [
    "We load the feature data:"
   ]
  },
  {
   "cell_type": "code",
   "execution_count": 12,
   "metadata": {
    "collapsed": false
   },
   "outputs": [],
   "source": [
    "features12 = pd.read_pickle('../Data/features12-13.pkl')"
   ]
  },
  {
   "cell_type": "markdown",
   "metadata": {},
   "source": [
    "We first fill in the metric averages:"
   ]
  },
  {
   "cell_type": "code",
   "execution_count": 13,
   "metadata": {
    "collapsed": false
   },
   "outputs": [],
   "source": [
    "for k in games.keys():\n",
    "    d = games[k]['day']\n",
    "    if (d-1) == 0:\n",
    "        continue\n",
    "    home_average = 0\n",
    "    for p in team_players[games[k]['home']]:\n",
    "        home_average += features12[p]['match_value_list'][d-2]\n",
    "    games[k]['home_average'] = home_average/len(team_players[games[k]['home']])\n",
    "    away_average = 0\n",
    "    for p in team_players[games[k]['away']]:\n",
    "        away_average += features12[p]['match_value_list'][d-2]\n",
    "    games[k]['away_average'] = away_average/len(team_players[games[k]['away']])"
   ]
  },
  {
   "cell_type": "code",
   "execution_count": 14,
   "metadata": {
    "collapsed": false
   },
   "outputs": [
    {
     "data": {
      "text/plain": [
       "{'away': 'manchester-city',\n",
       " 'away_average': 0.609375,\n",
       " 'day': 19,\n",
       " 'home': 'sunderland-afc',\n",
       " 'home_average': 0.4723214285714285}"
      ]
     },
     "execution_count": 14,
     "metadata": {},
     "output_type": "execute_result"
    }
   ],
   "source": [
    "games[games.keys()[0]]"
   ]
  },
  {
   "cell_type": "markdown",
   "metadata": {},
   "source": [
    "We fill in the best player differences:"
   ]
  },
  {
   "cell_type": "code",
   "execution_count": 16,
   "metadata": {
    "collapsed": false
   },
   "outputs": [],
   "source": [
    "for k in games.keys():\n",
    "    d = games[k]['day']\n",
    "    home_team = games[k]['home']\n",
    "    away_team = games[k]['away']\n",
    "    best_home = []\n",
    "    best_away = []\n",
    "    if (d-1)==0:\n",
    "        continue\n",
    "    elif (d-1) == 1:\n",
    "        for p in team_players[home_team]:\n",
    "            best_home.append(features12[p]['match_value_list'][0])\n",
    "        for p in team_players[away_team]:\n",
    "            best_away.append(features12[p]['match_value_list'][0])\n",
    "            \n",
    "    elif (d-1) == 2:\n",
    "        for p in team_players[home_team]:\n",
    "            best_home.append(np.max(features12[p]['match_value_list'][:2]))\n",
    "        for p in team_players[away_team]:\n",
    "            best_away.append(np.max(features12[p]['match_value_list'][:2]))\n",
    "            \n",
    "    else:\n",
    "        for p in team_players[home_team]:\n",
    "            best_home.append(np.max(features12[p]['match_value_list'][d-4:d-1]))\n",
    "        for p in team_players[away_team]:\n",
    "            best_away.append(np.max(features12[p]['match_value_list'][d-4:d-1]))\n",
    "     \n",
    "    games[k]['best'] = np.sum(best_home)-np.sum(best_away)"
   ]
  },
  {
   "cell_type": "code",
   "execution_count": 17,
   "metadata": {
    "collapsed": false
   },
   "outputs": [
    {
     "data": {
      "text/plain": [
       "{'away': 'manchester-city',\n",
       " 'away_average': 0.609375,\n",
       " 'best': -13.650000000000002,\n",
       " 'day': 19,\n",
       " 'home': 'sunderland-afc',\n",
       " 'home_average': 0.4723214285714285}"
      ]
     },
     "execution_count": 17,
     "metadata": {},
     "output_type": "execute_result"
    }
   ],
   "source": [
    "games[games.keys()[0]]"
   ]
  },
  {
   "cell_type": "markdown",
   "metadata": {},
   "source": [
    "We add the score:"
   ]
  },
  {
   "cell_type": "code",
   "execution_count": 18,
   "metadata": {
    "collapsed": true
   },
   "outputs": [],
   "source": [
    "results = dict.fromkeys(teams)\n",
    "goals_against = dict.fromkeys(teams)\n",
    "\n",
    "for k in results.keys():\n",
    "    results[k] = np.zeros(38)\n",
    "    goals_against[k] = np.zeros(38)\n",
    "    \n",
    "for k in games.keys():\n",
    "    team1 = games[k]['home']\n",
    "    team2 = games[k]['away']\n",
    "    d = games[k]['day']-1\n",
    "    goal_home = len(data[k]['home'])\n",
    "    goal_away = len(data[k]['away'])\n",
    "    \n",
    "    goals_against[team1][d] = -goal_away\n",
    "    goals_against[team2][d] = -goal_home\n",
    "    \n",
    "    if goal_home > goal_away:\n",
    "        results[team1][d] = 1\n",
    "        results[team2][d] = -1\n",
    "    elif goal_home<goal_away:\n",
    "        results[team1][d] = -1\n",
    "        results[team2][d] = 1\n",
    "    else:\n",
    "        results[team1][d] = 0\n",
    "        results[team2][d] = 0"
   ]
  },
  {
   "cell_type": "markdown",
   "metadata": {},
   "source": [
    "We finally add home losses,wins, goals against, etc..."
   ]
  },
  {
   "cell_type": "code",
   "execution_count": 19,
   "metadata": {
    "collapsed": false
   },
   "outputs": [],
   "source": [
    "for k in games.keys():\n",
    "    \n",
    "    team1 = games[k]['home']\n",
    "    team2 = games[k]['away']\n",
    "    \n",
    "    d = games[k]['day']-1\n",
    "    \n",
    "    if d==0:\n",
    "        continue\n",
    "    elif d<=4:\n",
    "        home_goal_vs = np.sum(goals_against[team1][:d])/d\n",
    "        away_goal_vs = np.sum(goals_against[team2][:d])/d\n",
    "        if d<=2:\n",
    "            home_loss = len(results[team1][:d][results[team1][:d]<0])\n",
    "            home_win = len(results[team1][:d][results[team1][:d]>0])\n",
    "            away_loss = len(results[team2][:d][results[team2][:d]<0])\n",
    "            away_win = len(results[team2][:d][results[team2][:d]>0])\n",
    "        else:\n",
    "            home_loss = len(results[team1][d-2:d][results[team1][d-2:d]<0])\n",
    "            home_win = len(results[team1][d-2:d][results[team1][d-2:d]>0])\n",
    "            away_loss = len(results[team2][d-2:d][results[team2][d-2:d]<0])\n",
    "            away_win = len(results[team2][d-2:d][results[team2][d-2:d]>0])\n",
    "    else:\n",
    "        home_goal_vs = np.sum(goals_against[team1][d-5:d])/5\n",
    "        away_goal_vs = np.sum(goals_against[team2][d-5:d])/5\n",
    "        home_loss = len(results[team1][d-2:d][results[team1][d-2:d]<0])\n",
    "        home_win = len(results[team1][d-2:d][results[team1][d-2:d]>0])\n",
    "        away_loss = len(results[team2][d-2:d][results[team2][d-2:d]<0])\n",
    "        away_win = len(results[team2][d-2:d][results[team2][d-2:d]>0])\n",
    "        \n",
    "    games[k]['goals_against_home'] = home_goal_vs\n",
    "    games[k]['goals_against_away'] = away_goal_vs\n",
    "    games[k]['home_loss'] = home_loss\n",
    "    games[k]['away_loss'] = away_loss\n",
    "    games[k]['home_win'] = home_win\n",
    "    games[k]['away_win'] = away_win\n",
    "    games[k]['score'] = results[team1][d]"
   ]
  },
  {
   "cell_type": "markdown",
   "metadata": {},
   "source": [
    "We therefore have:"
   ]
  },
  {
   "cell_type": "code",
   "execution_count": 23,
   "metadata": {
    "collapsed": false
   },
   "outputs": [
    {
     "data": {
      "text/plain": [
       "{'away': 'manchester-city',\n",
       " 'away_average': 0.609375,\n",
       " 'away_loss': 0,\n",
       " 'away_win': 2,\n",
       " 'best': -13.650000000000002,\n",
       " 'day': 19,\n",
       " 'goals_against_away': -1.0,\n",
       " 'goals_against_home': -1.6000000000000001,\n",
       " 'home': 'sunderland-afc',\n",
       " 'home_average': 0.4723214285714285,\n",
       " 'home_loss': 1,\n",
       " 'home_win': 1,\n",
       " 'score': 1.0}"
      ]
     },
     "execution_count": 23,
     "metadata": {},
     "output_type": "execute_result"
    }
   ],
   "source": [
    "games[games.keys()[0]]"
   ]
  },
  {
   "cell_type": "markdown",
   "metadata": {},
   "source": [
    "We now convert it to a dataframe to perform predictions using to start multinomial logistic regression:"
   ]
  },
  {
   "cell_type": "code",
   "execution_count": 20,
   "metadata": {
    "collapsed": false
   },
   "outputs": [],
   "source": [
    "DF = pd.DataFrame.from_dict(games)"
   ]
  },
  {
   "cell_type": "code",
   "execution_count": 21,
   "metadata": {
    "collapsed": false
   },
   "outputs": [
    {
     "data": {
      "text/html": [
       "<div>\n",
       "<table border=\"1\" class=\"dataframe\">\n",
       "  <thead>\n",
       "    <tr style=\"text-align: right;\">\n",
       "      <th></th>\n",
       "      <th>arsenal-fc-aston-villa</th>\n",
       "      <th>arsenal-fc-chelsea-fc</th>\n",
       "      <th>arsenal-fc-everton-fc</th>\n",
       "      <th>arsenal-fc-fulham-fc</th>\n",
       "      <th>arsenal-fc-liverpool-fc</th>\n",
       "      <th>arsenal-fc-manchester-city</th>\n",
       "      <th>arsenal-fc-manchester-united</th>\n",
       "      <th>arsenal-fc-newcastle-united</th>\n",
       "      <th>arsenal-fc-norwich-city</th>\n",
       "      <th>arsenal-fc-queens-park-rangers</th>\n",
       "      <th>arsenal-fc-reading-fc</th>\n",
       "      <th>arsenal-fc-southampton-fc</th>\n",
       "      <th>arsenal-fc-stoke-city</th>\n",
       "      <th>arsenal-fc-sunderland-afc</th>\n",
       "      <th>arsenal-fc-swansea-city</th>\n",
       "      <th>arsenal-fc-tottenham-hotspur</th>\n",
       "      <th>arsenal-fc-west-bromwich-albion</th>\n",
       "      <th>arsenal-fc-west-ham-united</th>\n",
       "      <th>arsenal-fc-wigan-athletic</th>\n",
       "      <th>aston-villa-arsenal-fc</th>\n",
       "      <th>aston-villa-chelsea-fc</th>\n",
       "      <th>aston-villa-everton-fc</th>\n",
       "      <th>aston-villa-fulham-fc</th>\n",
       "      <th>aston-villa-liverpool-fc</th>\n",
       "      <th>aston-villa-manchester-city</th>\n",
       "      <th>aston-villa-manchester-united</th>\n",
       "      <th>aston-villa-newcastle-united</th>\n",
       "      <th>aston-villa-norwich-city</th>\n",
       "      <th>aston-villa-queens-park-rangers</th>\n",
       "      <th>aston-villa-reading-fc</th>\n",
       "      <th>aston-villa-southampton-fc</th>\n",
       "      <th>aston-villa-stoke-city</th>\n",
       "      <th>aston-villa-sunderland-afc</th>\n",
       "      <th>aston-villa-swansea-city</th>\n",
       "      <th>aston-villa-tottenham-hotspur</th>\n",
       "      <th>aston-villa-west-bromwich-albion</th>\n",
       "      <th>aston-villa-west-ham-united</th>\n",
       "      <th>aston-villa-wigan-athletic</th>\n",
       "      <th>chelsea-fc-arsenal-fc</th>\n",
       "      <th>chelsea-fc-aston-villa</th>\n",
       "      <th>chelsea-fc-everton-fc</th>\n",
       "      <th>chelsea-fc-fulham-fc</th>\n",
       "      <th>chelsea-fc-liverpool-fc</th>\n",
       "      <th>chelsea-fc-manchester-city</th>\n",
       "      <th>chelsea-fc-manchester-united</th>\n",
       "      <th>chelsea-fc-newcastle-united</th>\n",
       "      <th>chelsea-fc-norwich-city</th>\n",
       "      <th>chelsea-fc-queens-park-rangers</th>\n",
       "      <th>chelsea-fc-reading-fc</th>\n",
       "      <th>chelsea-fc-southampton-fc</th>\n",
       "      <th>...</th>\n",
       "      <th>west-bromwich-albion-manchester-united</th>\n",
       "      <th>west-bromwich-albion-newcastle-united</th>\n",
       "      <th>west-bromwich-albion-norwich-city</th>\n",
       "      <th>west-bromwich-albion-queens-park-rangers</th>\n",
       "      <th>west-bromwich-albion-reading-fc</th>\n",
       "      <th>west-bromwich-albion-southampton-fc</th>\n",
       "      <th>west-bromwich-albion-stoke-city</th>\n",
       "      <th>west-bromwich-albion-sunderland-afc</th>\n",
       "      <th>west-bromwich-albion-swansea-city</th>\n",
       "      <th>west-bromwich-albion-tottenham-hotspur</th>\n",
       "      <th>west-bromwich-albion-west-ham-united</th>\n",
       "      <th>west-bromwich-albion-wigan-athletic</th>\n",
       "      <th>west-ham-united-arsenal-fc</th>\n",
       "      <th>west-ham-united-aston-villa</th>\n",
       "      <th>west-ham-united-chelsea-fc</th>\n",
       "      <th>west-ham-united-everton-fc</th>\n",
       "      <th>west-ham-united-fulham-fc</th>\n",
       "      <th>west-ham-united-liverpool-fc</th>\n",
       "      <th>west-ham-united-manchester-city</th>\n",
       "      <th>west-ham-united-manchester-united</th>\n",
       "      <th>west-ham-united-newcastle-united</th>\n",
       "      <th>west-ham-united-norwich-city</th>\n",
       "      <th>west-ham-united-queens-park-rangers</th>\n",
       "      <th>west-ham-united-reading-fc</th>\n",
       "      <th>west-ham-united-southampton-fc</th>\n",
       "      <th>west-ham-united-stoke-city</th>\n",
       "      <th>west-ham-united-sunderland-afc</th>\n",
       "      <th>west-ham-united-swansea-city</th>\n",
       "      <th>west-ham-united-tottenham-hotspur</th>\n",
       "      <th>west-ham-united-west-bromwich-albion</th>\n",
       "      <th>west-ham-united-wigan-athletic</th>\n",
       "      <th>wigan-athletic-arsenal-fc</th>\n",
       "      <th>wigan-athletic-aston-villa</th>\n",
       "      <th>wigan-athletic-chelsea-fc</th>\n",
       "      <th>wigan-athletic-everton-fc</th>\n",
       "      <th>wigan-athletic-fulham-fc</th>\n",
       "      <th>wigan-athletic-liverpool-fc</th>\n",
       "      <th>wigan-athletic-manchester-city</th>\n",
       "      <th>wigan-athletic-manchester-united</th>\n",
       "      <th>wigan-athletic-newcastle-united</th>\n",
       "      <th>wigan-athletic-norwich-city</th>\n",
       "      <th>wigan-athletic-queens-park-rangers</th>\n",
       "      <th>wigan-athletic-reading-fc</th>\n",
       "      <th>wigan-athletic-southampton-fc</th>\n",
       "      <th>wigan-athletic-stoke-city</th>\n",
       "      <th>wigan-athletic-sunderland-afc</th>\n",
       "      <th>wigan-athletic-swansea-city</th>\n",
       "      <th>wigan-athletic-tottenham-hotspur</th>\n",
       "      <th>wigan-athletic-west-bromwich-albion</th>\n",
       "      <th>wigan-athletic-west-ham-united</th>\n",
       "    </tr>\n",
       "  </thead>\n",
       "  <tbody>\n",
       "    <tr>\n",
       "      <th>away</th>\n",
       "      <td>aston-villa</td>\n",
       "      <td>chelsea-fc</td>\n",
       "      <td>everton-fc</td>\n",
       "      <td>fulham-fc</td>\n",
       "      <td>liverpool-fc</td>\n",
       "      <td>manchester-city</td>\n",
       "      <td>manchester-united</td>\n",
       "      <td>newcastle-united</td>\n",
       "      <td>norwich-city</td>\n",
       "      <td>queens-park-rangers</td>\n",
       "      <td>reading-fc</td>\n",
       "      <td>southampton-fc</td>\n",
       "      <td>stoke-city</td>\n",
       "      <td>sunderland-afc</td>\n",
       "      <td>swansea-city</td>\n",
       "      <td>tottenham-hotspur</td>\n",
       "      <td>west-bromwich-albion</td>\n",
       "      <td>west-ham-united</td>\n",
       "      <td>wigan-athletic</td>\n",
       "      <td>arsenal-fc</td>\n",
       "      <td>chelsea-fc</td>\n",
       "      <td>everton-fc</td>\n",
       "      <td>fulham-fc</td>\n",
       "      <td>liverpool-fc</td>\n",
       "      <td>manchester-city</td>\n",
       "      <td>manchester-united</td>\n",
       "      <td>newcastle-united</td>\n",
       "      <td>norwich-city</td>\n",
       "      <td>queens-park-rangers</td>\n",
       "      <td>reading-fc</td>\n",
       "      <td>southampton-fc</td>\n",
       "      <td>stoke-city</td>\n",
       "      <td>sunderland-afc</td>\n",
       "      <td>swansea-city</td>\n",
       "      <td>tottenham-hotspur</td>\n",
       "      <td>west-bromwich-albion</td>\n",
       "      <td>west-ham-united</td>\n",
       "      <td>wigan-athletic</td>\n",
       "      <td>arsenal-fc</td>\n",
       "      <td>aston-villa</td>\n",
       "      <td>everton-fc</td>\n",
       "      <td>fulham-fc</td>\n",
       "      <td>liverpool-fc</td>\n",
       "      <td>manchester-city</td>\n",
       "      <td>manchester-united</td>\n",
       "      <td>newcastle-united</td>\n",
       "      <td>norwich-city</td>\n",
       "      <td>queens-park-rangers</td>\n",
       "      <td>reading-fc</td>\n",
       "      <td>southampton-fc</td>\n",
       "      <td>...</td>\n",
       "      <td>manchester-united</td>\n",
       "      <td>newcastle-united</td>\n",
       "      <td>norwich-city</td>\n",
       "      <td>queens-park-rangers</td>\n",
       "      <td>reading-fc</td>\n",
       "      <td>southampton-fc</td>\n",
       "      <td>stoke-city</td>\n",
       "      <td>sunderland-afc</td>\n",
       "      <td>swansea-city</td>\n",
       "      <td>tottenham-hotspur</td>\n",
       "      <td>west-ham-united</td>\n",
       "      <td>wigan-athletic</td>\n",
       "      <td>arsenal-fc</td>\n",
       "      <td>aston-villa</td>\n",
       "      <td>chelsea-fc</td>\n",
       "      <td>everton-fc</td>\n",
       "      <td>fulham-fc</td>\n",
       "      <td>liverpool-fc</td>\n",
       "      <td>manchester-city</td>\n",
       "      <td>manchester-united</td>\n",
       "      <td>newcastle-united</td>\n",
       "      <td>norwich-city</td>\n",
       "      <td>queens-park-rangers</td>\n",
       "      <td>reading-fc</td>\n",
       "      <td>southampton-fc</td>\n",
       "      <td>stoke-city</td>\n",
       "      <td>sunderland-afc</td>\n",
       "      <td>swansea-city</td>\n",
       "      <td>tottenham-hotspur</td>\n",
       "      <td>west-bromwich-albion</td>\n",
       "      <td>wigan-athletic</td>\n",
       "      <td>arsenal-fc</td>\n",
       "      <td>aston-villa</td>\n",
       "      <td>chelsea-fc</td>\n",
       "      <td>everton-fc</td>\n",
       "      <td>fulham-fc</td>\n",
       "      <td>liverpool-fc</td>\n",
       "      <td>manchester-city</td>\n",
       "      <td>manchester-united</td>\n",
       "      <td>newcastle-united</td>\n",
       "      <td>norwich-city</td>\n",
       "      <td>queens-park-rangers</td>\n",
       "      <td>reading-fc</td>\n",
       "      <td>southampton-fc</td>\n",
       "      <td>stoke-city</td>\n",
       "      <td>sunderland-afc</td>\n",
       "      <td>swansea-city</td>\n",
       "      <td>tottenham-hotspur</td>\n",
       "      <td>west-bromwich-albion</td>\n",
       "      <td>west-ham-united</td>\n",
       "    </tr>\n",
       "    <tr>\n",
       "      <th>away_average</th>\n",
       "      <td>0.25</td>\n",
       "      <td>0.75</td>\n",
       "      <td>0.578125</td>\n",
       "      <td>0.430556</td>\n",
       "      <td>0.611111</td>\n",
       "      <td>0.359375</td>\n",
       "      <td>0.420455</td>\n",
       "      <td>0.603125</td>\n",
       "      <td>0.647059</td>\n",
       "      <td>0.490789</td>\n",
       "      <td>0</td>\n",
       "      <td>1.04545</td>\n",
       "      <td>0.266667</td>\n",
       "      <td>NaN</td>\n",
       "      <td>0.660714</td>\n",
       "      <td>0.314881</td>\n",
       "      <td>0</td>\n",
       "      <td>0.302632</td>\n",
       "      <td>1.29297</td>\n",
       "      <td>1.10714</td>\n",
       "      <td>0</td>\n",
       "      <td>0.359375</td>\n",
       "      <td>0</td>\n",
       "      <td>0.0638889</td>\n",
       "      <td>0.59375</td>\n",
       "      <td>0.215909</td>\n",
       "      <td>0.15</td>\n",
       "      <td>0.176471</td>\n",
       "      <td>0.5</td>\n",
       "      <td>0.330625</td>\n",
       "      <td>0.522727</td>\n",
       "      <td>0.7075</td>\n",
       "      <td>0.410714</td>\n",
       "      <td>0.75</td>\n",
       "      <td>0.214286</td>\n",
       "      <td>0.455882</td>\n",
       "      <td>0.302632</td>\n",
       "      <td>0.071875</td>\n",
       "      <td>0</td>\n",
       "      <td>0.610937</td>\n",
       "      <td>0.25</td>\n",
       "      <td>0</td>\n",
       "      <td>0.291667</td>\n",
       "      <td>0.53125</td>\n",
       "      <td>0.659091</td>\n",
       "      <td>0.3575</td>\n",
       "      <td>0.279412</td>\n",
       "      <td>0</td>\n",
       "      <td>0</td>\n",
       "      <td>0.522727</td>\n",
       "      <td>...</td>\n",
       "      <td>0.579545</td>\n",
       "      <td>0</td>\n",
       "      <td>0.676471</td>\n",
       "      <td>0.0921053</td>\n",
       "      <td>0.2875</td>\n",
       "      <td>0.0909091</td>\n",
       "      <td>1.3</td>\n",
       "      <td>0</td>\n",
       "      <td>0.5</td>\n",
       "      <td>0.2875</td>\n",
       "      <td>0.598026</td>\n",
       "      <td>0.65625</td>\n",
       "      <td>0.517857</td>\n",
       "      <td>NaN</td>\n",
       "      <td>0</td>\n",
       "      <td>0</td>\n",
       "      <td>0.43125</td>\n",
       "      <td>0.319444</td>\n",
       "      <td>0.359375</td>\n",
       "      <td>0.590909</td>\n",
       "      <td>0</td>\n",
       "      <td>0.264706</td>\n",
       "      <td>0</td>\n",
       "      <td>0</td>\n",
       "      <td>1.04545</td>\n",
       "      <td>0.383333</td>\n",
       "      <td>0.410714</td>\n",
       "      <td>0</td>\n",
       "      <td>0.285714</td>\n",
       "      <td>0</td>\n",
       "      <td>0.375</td>\n",
       "      <td>1.04732</td>\n",
       "      <td>0.359375</td>\n",
       "      <td>NaN</td>\n",
       "      <td>0.640625</td>\n",
       "      <td>0.430556</td>\n",
       "      <td>0.680556</td>\n",
       "      <td>0</td>\n",
       "      <td>0.170455</td>\n",
       "      <td>0.725</td>\n",
       "      <td>0.388971</td>\n",
       "      <td>0.25</td>\n",
       "      <td>0.4125</td>\n",
       "      <td>0.313636</td>\n",
       "      <td>0</td>\n",
       "      <td>0.410714</td>\n",
       "      <td>1.04643</td>\n",
       "      <td>0.797619</td>\n",
       "      <td>0.441176</td>\n",
       "      <td>0.5</td>\n",
       "    </tr>\n",
       "    <tr>\n",
       "      <th>away_loss</th>\n",
       "      <td>0</td>\n",
       "      <td>0</td>\n",
       "      <td>1</td>\n",
       "      <td>0</td>\n",
       "      <td>1</td>\n",
       "      <td>0</td>\n",
       "      <td>0</td>\n",
       "      <td>1</td>\n",
       "      <td>1</td>\n",
       "      <td>1</td>\n",
       "      <td>2</td>\n",
       "      <td>2</td>\n",
       "      <td>1</td>\n",
       "      <td>NaN</td>\n",
       "      <td>0</td>\n",
       "      <td>2</td>\n",
       "      <td>2</td>\n",
       "      <td>1</td>\n",
       "      <td>0</td>\n",
       "      <td>0</td>\n",
       "      <td>0</td>\n",
       "      <td>0</td>\n",
       "      <td>1</td>\n",
       "      <td>1</td>\n",
       "      <td>1</td>\n",
       "      <td>0</td>\n",
       "      <td>1</td>\n",
       "      <td>1</td>\n",
       "      <td>0</td>\n",
       "      <td>1</td>\n",
       "      <td>0</td>\n",
       "      <td>0</td>\n",
       "      <td>0</td>\n",
       "      <td>0</td>\n",
       "      <td>0</td>\n",
       "      <td>1</td>\n",
       "      <td>1</td>\n",
       "      <td>2</td>\n",
       "      <td>1</td>\n",
       "      <td>0</td>\n",
       "      <td>0</td>\n",
       "      <td>2</td>\n",
       "      <td>0</td>\n",
       "      <td>0</td>\n",
       "      <td>0</td>\n",
       "      <td>0</td>\n",
       "      <td>2</td>\n",
       "      <td>2</td>\n",
       "      <td>1</td>\n",
       "      <td>1</td>\n",
       "      <td>...</td>\n",
       "      <td>1</td>\n",
       "      <td>1</td>\n",
       "      <td>0</td>\n",
       "      <td>2</td>\n",
       "      <td>2</td>\n",
       "      <td>2</td>\n",
       "      <td>0</td>\n",
       "      <td>2</td>\n",
       "      <td>1</td>\n",
       "      <td>0</td>\n",
       "      <td>1</td>\n",
       "      <td>1</td>\n",
       "      <td>1</td>\n",
       "      <td>NaN</td>\n",
       "      <td>0</td>\n",
       "      <td>0</td>\n",
       "      <td>1</td>\n",
       "      <td>1</td>\n",
       "      <td>0</td>\n",
       "      <td>0</td>\n",
       "      <td>1</td>\n",
       "      <td>2</td>\n",
       "      <td>0</td>\n",
       "      <td>1</td>\n",
       "      <td>1</td>\n",
       "      <td>1</td>\n",
       "      <td>0</td>\n",
       "      <td>0</td>\n",
       "      <td>0</td>\n",
       "      <td>0</td>\n",
       "      <td>1</td>\n",
       "      <td>0</td>\n",
       "      <td>1</td>\n",
       "      <td>NaN</td>\n",
       "      <td>0</td>\n",
       "      <td>1</td>\n",
       "      <td>1</td>\n",
       "      <td>0</td>\n",
       "      <td>0</td>\n",
       "      <td>1</td>\n",
       "      <td>0</td>\n",
       "      <td>0</td>\n",
       "      <td>0</td>\n",
       "      <td>1</td>\n",
       "      <td>0</td>\n",
       "      <td>1</td>\n",
       "      <td>1</td>\n",
       "      <td>0</td>\n",
       "      <td>1</td>\n",
       "      <td>1</td>\n",
       "    </tr>\n",
       "    <tr>\n",
       "      <th>away_win</th>\n",
       "      <td>1</td>\n",
       "      <td>1</td>\n",
       "      <td>1</td>\n",
       "      <td>0</td>\n",
       "      <td>1</td>\n",
       "      <td>2</td>\n",
       "      <td>2</td>\n",
       "      <td>1</td>\n",
       "      <td>0</td>\n",
       "      <td>0</td>\n",
       "      <td>0</td>\n",
       "      <td>0</td>\n",
       "      <td>0</td>\n",
       "      <td>NaN</td>\n",
       "      <td>1</td>\n",
       "      <td>0</td>\n",
       "      <td>0</td>\n",
       "      <td>0</td>\n",
       "      <td>1</td>\n",
       "      <td>1</td>\n",
       "      <td>2</td>\n",
       "      <td>1</td>\n",
       "      <td>1</td>\n",
       "      <td>1</td>\n",
       "      <td>1</td>\n",
       "      <td>2</td>\n",
       "      <td>0</td>\n",
       "      <td>1</td>\n",
       "      <td>2</td>\n",
       "      <td>1</td>\n",
       "      <td>0</td>\n",
       "      <td>2</td>\n",
       "      <td>2</td>\n",
       "      <td>1</td>\n",
       "      <td>1</td>\n",
       "      <td>1</td>\n",
       "      <td>1</td>\n",
       "      <td>0</td>\n",
       "      <td>0</td>\n",
       "      <td>1</td>\n",
       "      <td>1</td>\n",
       "      <td>0</td>\n",
       "      <td>0</td>\n",
       "      <td>2</td>\n",
       "      <td>2</td>\n",
       "      <td>1</td>\n",
       "      <td>0</td>\n",
       "      <td>0</td>\n",
       "      <td>0</td>\n",
       "      <td>1</td>\n",
       "      <td>...</td>\n",
       "      <td>1</td>\n",
       "      <td>1</td>\n",
       "      <td>2</td>\n",
       "      <td>0</td>\n",
       "      <td>0</td>\n",
       "      <td>0</td>\n",
       "      <td>2</td>\n",
       "      <td>0</td>\n",
       "      <td>1</td>\n",
       "      <td>0</td>\n",
       "      <td>1</td>\n",
       "      <td>0</td>\n",
       "      <td>0</td>\n",
       "      <td>NaN</td>\n",
       "      <td>0</td>\n",
       "      <td>1</td>\n",
       "      <td>1</td>\n",
       "      <td>1</td>\n",
       "      <td>2</td>\n",
       "      <td>2</td>\n",
       "      <td>0</td>\n",
       "      <td>0</td>\n",
       "      <td>1</td>\n",
       "      <td>1</td>\n",
       "      <td>0</td>\n",
       "      <td>1</td>\n",
       "      <td>0</td>\n",
       "      <td>1</td>\n",
       "      <td>2</td>\n",
       "      <td>1</td>\n",
       "      <td>0</td>\n",
       "      <td>2</td>\n",
       "      <td>1</td>\n",
       "      <td>NaN</td>\n",
       "      <td>2</td>\n",
       "      <td>1</td>\n",
       "      <td>1</td>\n",
       "      <td>1</td>\n",
       "      <td>2</td>\n",
       "      <td>1</td>\n",
       "      <td>0</td>\n",
       "      <td>0</td>\n",
       "      <td>1</td>\n",
       "      <td>0</td>\n",
       "      <td>0</td>\n",
       "      <td>1</td>\n",
       "      <td>0</td>\n",
       "      <td>1</td>\n",
       "      <td>1</td>\n",
       "      <td>1</td>\n",
       "    </tr>\n",
       "    <tr>\n",
       "      <th>best</th>\n",
       "      <td>0.625</td>\n",
       "      <td>-18.2875</td>\n",
       "      <td>1.2</td>\n",
       "      <td>-30.875</td>\n",
       "      <td>-16.375</td>\n",
       "      <td>18.4875</td>\n",
       "      <td>19.0125</td>\n",
       "      <td>-1.35</td>\n",
       "      <td>5.7125</td>\n",
       "      <td>10.6875</td>\n",
       "      <td>10.625</td>\n",
       "      <td>-11.4875</td>\n",
       "      <td>-2.15</td>\n",
       "      <td>NaN</td>\n",
       "      <td>7.8125</td>\n",
       "      <td>6.9375</td>\n",
       "      <td>-9.175</td>\n",
       "      <td>4.3125</td>\n",
       "      <td>-9.9625</td>\n",
       "      <td>-12.1375</td>\n",
       "      <td>6.2625</td>\n",
       "      <td>-5.75</td>\n",
       "      <td>22.4</td>\n",
       "      <td>-0.3875</td>\n",
       "      <td>-3.9625</td>\n",
       "      <td>-15.6125</td>\n",
       "      <td>8.2125</td>\n",
       "      <td>-3.6125</td>\n",
       "      <td>-10.2</td>\n",
       "      <td>-4.8625</td>\n",
       "      <td>-4.025</td>\n",
       "      <td>-26.25</td>\n",
       "      <td>1.6875</td>\n",
       "      <td>-13.1125</td>\n",
       "      <td>-9.0875</td>\n",
       "      <td>0.475</td>\n",
       "      <td>3.3125</td>\n",
       "      <td>1.7375</td>\n",
       "      <td>-7.675</td>\n",
       "      <td>2.85</td>\n",
       "      <td>18.2625</td>\n",
       "      <td>-17.625</td>\n",
       "      <td>16.675</td>\n",
       "      <td>-1.1</td>\n",
       "      <td>11.3</td>\n",
       "      <td>3.6125</td>\n",
       "      <td>18.925</td>\n",
       "      <td>34.6375</td>\n",
       "      <td>9.35</td>\n",
       "      <td>7.325</td>\n",
       "      <td>...</td>\n",
       "      <td>5.075</td>\n",
       "      <td>-4.4375</td>\n",
       "      <td>-24.1375</td>\n",
       "      <td>-3.775</td>\n",
       "      <td>4.375</td>\n",
       "      <td>11.5375</td>\n",
       "      <td>-1.4125</td>\n",
       "      <td>12.3375</td>\n",
       "      <td>1.575</td>\n",
       "      <td>8.7375</td>\n",
       "      <td>-27.6</td>\n",
       "      <td>-3.0375</td>\n",
       "      <td>-2.825</td>\n",
       "      <td>NaN</td>\n",
       "      <td>-0.275</td>\n",
       "      <td>10.4125</td>\n",
       "      <td>-11.7625</td>\n",
       "      <td>18.2625</td>\n",
       "      <td>-10.475</td>\n",
       "      <td>-2.2</td>\n",
       "      <td>7.0375</td>\n",
       "      <td>1.25</td>\n",
       "      <td>-4.6125</td>\n",
       "      <td>-8.6125</td>\n",
       "      <td>-2.9875</td>\n",
       "      <td>2.875</td>\n",
       "      <td>-10.8125</td>\n",
       "      <td>-0.7125</td>\n",
       "      <td>-2</td>\n",
       "      <td>7.25</td>\n",
       "      <td>-9.95</td>\n",
       "      <td>-3.125</td>\n",
       "      <td>-6.3875</td>\n",
       "      <td>NaN</td>\n",
       "      <td>-31.0625</td>\n",
       "      <td>-6.15</td>\n",
       "      <td>-1.35</td>\n",
       "      <td>-2.25</td>\n",
       "      <td>-11.725</td>\n",
       "      <td>-12.6125</td>\n",
       "      <td>1.3875</td>\n",
       "      <td>12.55</td>\n",
       "      <td>-6.5</td>\n",
       "      <td>5.025</td>\n",
       "      <td>4.3125</td>\n",
       "      <td>0.45</td>\n",
       "      <td>-1.2</td>\n",
       "      <td>-21.25</td>\n",
       "      <td>-7.075</td>\n",
       "      <td>-8.6125</td>\n",
       "    </tr>\n",
       "  </tbody>\n",
       "</table>\n",
       "<p>5 rows × 380 columns</p>\n",
       "</div>"
      ],
      "text/plain": [
       "             arsenal-fc-aston-villa arsenal-fc-chelsea-fc arsenal-fc-everton-fc arsenal-fc-fulham-fc arsenal-fc-liverpool-fc arsenal-fc-manchester-city arsenal-fc-manchester-united arsenal-fc-newcastle-united arsenal-fc-norwich-city arsenal-fc-queens-park-rangers arsenal-fc-reading-fc arsenal-fc-southampton-fc arsenal-fc-stoke-city arsenal-fc-sunderland-afc arsenal-fc-swansea-city arsenal-fc-tottenham-hotspur arsenal-fc-west-bromwich-albion arsenal-fc-west-ham-united arsenal-fc-wigan-athletic  \\\n",
       "away                    aston-villa            chelsea-fc            everton-fc            fulham-fc            liverpool-fc            manchester-city            manchester-united            newcastle-united            norwich-city            queens-park-rangers            reading-fc            southampton-fc            stoke-city            sunderland-afc            swansea-city            tottenham-hotspur            west-bromwich-albion            west-ham-united            wigan-athletic   \n",
       "away_average                   0.25                  0.75              0.578125             0.430556                0.611111                   0.359375                     0.420455                    0.603125                0.647059                       0.490789                     0                   1.04545              0.266667                       NaN                0.660714                     0.314881                               0                   0.302632                   1.29297   \n",
       "away_loss                         0                     0                     1                    0                       1                          0                            0                           1                       1                              1                     2                         2                     1                       NaN                       0                            2                               2                          1                         0   \n",
       "away_win                          1                     1                     1                    0                       1                          2                            2                           1                       0                              0                     0                         0                     0                       NaN                       1                            0                               0                          0                         1   \n",
       "best                          0.625              -18.2875                   1.2              -30.875                 -16.375                    18.4875                      19.0125                       -1.35                  5.7125                        10.6875                10.625                  -11.4875                 -2.15                       NaN                  7.8125                       6.9375                          -9.175                     4.3125                   -9.9625   \n",
       "\n",
       "             aston-villa-arsenal-fc aston-villa-chelsea-fc aston-villa-everton-fc aston-villa-fulham-fc aston-villa-liverpool-fc aston-villa-manchester-city aston-villa-manchester-united aston-villa-newcastle-united aston-villa-norwich-city aston-villa-queens-park-rangers aston-villa-reading-fc aston-villa-southampton-fc aston-villa-stoke-city aston-villa-sunderland-afc aston-villa-swansea-city aston-villa-tottenham-hotspur aston-villa-west-bromwich-albion aston-villa-west-ham-united  \\\n",
       "away                     arsenal-fc             chelsea-fc             everton-fc             fulham-fc             liverpool-fc             manchester-city             manchester-united             newcastle-united             norwich-city             queens-park-rangers             reading-fc             southampton-fc             stoke-city             sunderland-afc             swansea-city             tottenham-hotspur             west-bromwich-albion             west-ham-united   \n",
       "away_average                1.10714                      0               0.359375                     0                0.0638889                     0.59375                      0.215909                         0.15                 0.176471                             0.5               0.330625                   0.522727                 0.7075                   0.410714                     0.75                      0.214286                         0.455882                    0.302632   \n",
       "away_loss                         0                      0                      0                     1                        1                           1                             0                            1                        1                               0                      1                          0                      0                          0                        0                             0                                1                           1   \n",
       "away_win                          1                      2                      1                     1                        1                           1                             2                            0                        1                               2                      1                          0                      2                          2                        1                             1                                1                           1   \n",
       "best                       -12.1375                 6.2625                  -5.75                  22.4                  -0.3875                     -3.9625                      -15.6125                       8.2125                  -3.6125                           -10.2                -4.8625                     -4.025                 -26.25                     1.6875                 -13.1125                       -9.0875                            0.475                      3.3125   \n",
       "\n",
       "             aston-villa-wigan-athletic chelsea-fc-arsenal-fc chelsea-fc-aston-villa chelsea-fc-everton-fc chelsea-fc-fulham-fc chelsea-fc-liverpool-fc chelsea-fc-manchester-city chelsea-fc-manchester-united chelsea-fc-newcastle-united chelsea-fc-norwich-city chelsea-fc-queens-park-rangers chelsea-fc-reading-fc chelsea-fc-southampton-fc              ...               west-bromwich-albion-manchester-united west-bromwich-albion-newcastle-united west-bromwich-albion-norwich-city  \\\n",
       "away                     wigan-athletic            arsenal-fc            aston-villa            everton-fc            fulham-fc            liverpool-fc            manchester-city            manchester-united            newcastle-united            norwich-city            queens-park-rangers            reading-fc            southampton-fc              ...                                    manchester-united                      newcastle-united                      norwich-city   \n",
       "away_average                   0.071875                     0               0.610937                  0.25                    0                0.291667                    0.53125                     0.659091                      0.3575                0.279412                              0                     0                  0.522727              ...                                             0.579545                                     0                          0.676471   \n",
       "away_loss                             2                     1                      0                     0                    2                       0                          0                            0                           0                       2                              2                     1                         1              ...                                                    1                                     1                                 0   \n",
       "away_win                              0                     0                      1                     1                    0                       0                          2                            2                           1                       0                              0                     0                         1              ...                                                    1                                     1                                 2   \n",
       "best                             1.7375                -7.675                   2.85               18.2625              -17.625                  16.675                       -1.1                         11.3                      3.6125                  18.925                        34.6375                  9.35                     7.325              ...                                                5.075                               -4.4375                          -24.1375   \n",
       "\n",
       "             west-bromwich-albion-queens-park-rangers west-bromwich-albion-reading-fc west-bromwich-albion-southampton-fc west-bromwich-albion-stoke-city west-bromwich-albion-sunderland-afc west-bromwich-albion-swansea-city west-bromwich-albion-tottenham-hotspur west-bromwich-albion-west-ham-united west-bromwich-albion-wigan-athletic west-ham-united-arsenal-fc west-ham-united-aston-villa west-ham-united-chelsea-fc west-ham-united-everton-fc west-ham-united-fulham-fc  \\\n",
       "away                              queens-park-rangers                      reading-fc                      southampton-fc                      stoke-city                      sunderland-afc                      swansea-city                      tottenham-hotspur                      west-ham-united                      wigan-athletic                 arsenal-fc                 aston-villa                 chelsea-fc                 everton-fc                 fulham-fc   \n",
       "away_average                                0.0921053                          0.2875                           0.0909091                             1.3                                   0                               0.5                                 0.2875                             0.598026                             0.65625                   0.517857                         NaN                          0                          0                   0.43125   \n",
       "away_loss                                           2                               2                                   2                               0                                   2                                 1                                      0                                    1                                   1                          1                         NaN                          0                          0                         1   \n",
       "away_win                                            0                               0                                   0                               2                                   0                                 1                                      0                                    1                                   0                          0                         NaN                          0                          1                         1   \n",
       "best                                           -3.775                           4.375                             11.5375                         -1.4125                             12.3375                             1.575                                 8.7375                                -27.6                             -3.0375                     -2.825                         NaN                     -0.275                    10.4125                  -11.7625   \n",
       "\n",
       "             west-ham-united-liverpool-fc west-ham-united-manchester-city west-ham-united-manchester-united west-ham-united-newcastle-united west-ham-united-norwich-city west-ham-united-queens-park-rangers west-ham-united-reading-fc west-ham-united-southampton-fc west-ham-united-stoke-city west-ham-united-sunderland-afc west-ham-united-swansea-city west-ham-united-tottenham-hotspur west-ham-united-west-bromwich-albion west-ham-united-wigan-athletic wigan-athletic-arsenal-fc  \\\n",
       "away                         liverpool-fc                 manchester-city                 manchester-united                 newcastle-united                 norwich-city                 queens-park-rangers                 reading-fc                 southampton-fc                 stoke-city                 sunderland-afc                 swansea-city                 tottenham-hotspur                 west-bromwich-albion                 wigan-athletic                arsenal-fc   \n",
       "away_average                     0.319444                        0.359375                          0.590909                                0                     0.264706                                   0                          0                        1.04545                   0.383333                       0.410714                            0                          0.285714                                    0                          0.375                   1.04732   \n",
       "away_loss                               1                               0                                 0                                1                            2                                   0                          1                              1                          1                              0                            0                                 0                                    0                              1                         0   \n",
       "away_win                                1                               2                                 2                                0                            0                                   1                          1                              0                          1                              0                            1                                 2                                    1                              0                         2   \n",
       "best                              18.2625                         -10.475                              -2.2                           7.0375                         1.25                             -4.6125                    -8.6125                        -2.9875                      2.875                       -10.8125                      -0.7125                                -2                                 7.25                          -9.95                    -3.125   \n",
       "\n",
       "             wigan-athletic-aston-villa wigan-athletic-chelsea-fc wigan-athletic-everton-fc wigan-athletic-fulham-fc wigan-athletic-liverpool-fc wigan-athletic-manchester-city wigan-athletic-manchester-united wigan-athletic-newcastle-united wigan-athletic-norwich-city wigan-athletic-queens-park-rangers wigan-athletic-reading-fc wigan-athletic-southampton-fc wigan-athletic-stoke-city wigan-athletic-sunderland-afc wigan-athletic-swansea-city wigan-athletic-tottenham-hotspur  \\\n",
       "away                        aston-villa                chelsea-fc                everton-fc                fulham-fc                liverpool-fc                manchester-city                manchester-united                newcastle-united                norwich-city                queens-park-rangers                reading-fc                southampton-fc                stoke-city                sunderland-afc                swansea-city                tottenham-hotspur   \n",
       "away_average                   0.359375                       NaN                  0.640625                 0.430556                    0.680556                              0                         0.170455                           0.725                    0.388971                               0.25                    0.4125                      0.313636                         0                      0.410714                     1.04643                         0.797619   \n",
       "away_loss                             1                       NaN                         0                        1                           1                              0                                0                               1                           0                                  0                         0                             1                         0                             1                           1                                0   \n",
       "away_win                              1                       NaN                         2                        1                           1                              1                                2                               1                           0                                  0                         1                             0                         0                             1                           0                                1   \n",
       "best                            -6.3875                       NaN                  -31.0625                    -6.15                       -1.35                          -2.25                          -11.725                        -12.6125                      1.3875                              12.55                      -6.5                         5.025                    4.3125                          0.45                        -1.2                           -21.25   \n",
       "\n",
       "             wigan-athletic-west-bromwich-albion wigan-athletic-west-ham-united  \n",
       "away                        west-bromwich-albion                west-ham-united  \n",
       "away_average                            0.441176                            0.5  \n",
       "away_loss                                      1                              1  \n",
       "away_win                                       1                              1  \n",
       "best                                      -7.075                        -8.6125  \n",
       "\n",
       "[5 rows x 380 columns]"
      ]
     },
     "execution_count": 21,
     "metadata": {},
     "output_type": "execute_result"
    }
   ],
   "source": [
    "DF.head()"
   ]
  },
  {
   "cell_type": "markdown",
   "metadata": {},
   "source": [
    "## Analysis:"
   ]
  },
  {
   "cell_type": "markdown",
   "metadata": {},
   "source": [
    "We first try to run a Logistic Regression model to classify home wins, draws and home losses:"
   ]
  },
  {
   "cell_type": "code",
   "execution_count": 24,
   "metadata": {
    "collapsed": false
   },
   "outputs": [],
   "source": [
    "from sklearn.linear_model import LogisticRegression"
   ]
  },
  {
   "cell_type": "markdown",
   "metadata": {},
   "source": [
    "We will train on the first part of the season (except the first game as we don't have any explanotary variables for the first game)"
   ]
  },
  {
   "cell_type": "code",
   "execution_count": 25,
   "metadata": {
    "collapsed": false
   },
   "outputs": [],
   "source": [
    "firsthalf = DF.loc['day']<=19\n",
    "secondhalf = ~firsthalf"
   ]
  },
  {
   "cell_type": "code",
   "execution_count": 26,
   "metadata": {
    "collapsed": false
   },
   "outputs": [],
   "source": [
    "DF_firsthalf = DF[DF.columns[firsthalf]]\n",
    "DF_secondhalf = DF[DF.columns[secondhalf]]"
   ]
  },
  {
   "cell_type": "code",
   "execution_count": 35,
   "metadata": {
    "collapsed": false
   },
   "outputs": [],
   "source": [
    "# We remove the first day:\n",
    "train = DF_firsthalf[DF_firsthalf.columns[DF_firsthalf.loc['day']>1]]"
   ]
  },
  {
   "cell_type": "code",
   "execution_count": 158,
   "metadata": {
    "collapsed": false
   },
   "outputs": [],
   "source": [
    "y = train.loc['score'].copy()"
   ]
  },
  {
   "cell_type": "code",
   "execution_count": 159,
   "metadata": {
    "collapsed": false
   },
   "outputs": [],
   "source": [
    "X = train.iloc[[1,2,3,4,6,7,9,10,11],:].T\n",
    "test = DF_secondhalf.iloc[[1,2,3,4,6,7,9,10,11],:].T\n",
    "y_test = DF_secondhalf.loc['score'].copy()"
   ]
  },
  {
   "cell_type": "code",
   "execution_count": 160,
   "metadata": {
    "collapsed": false
   },
   "outputs": [
    {
     "data": {
      "text/html": [
       "<div>\n",
       "<table border=\"1\" class=\"dataframe\">\n",
       "  <thead>\n",
       "    <tr style=\"text-align: right;\">\n",
       "      <th></th>\n",
       "      <th>away_average</th>\n",
       "      <th>away_loss</th>\n",
       "      <th>away_win</th>\n",
       "      <th>best</th>\n",
       "      <th>goals_against_away</th>\n",
       "      <th>goals_against_home</th>\n",
       "      <th>home_average</th>\n",
       "      <th>home_loss</th>\n",
       "      <th>home_win</th>\n",
       "    </tr>\n",
       "  </thead>\n",
       "  <tbody>\n",
       "    <tr>\n",
       "      <th>arsenal-fc-chelsea-fc</th>\n",
       "      <td>0.75</td>\n",
       "      <td>0</td>\n",
       "      <td>1</td>\n",
       "      <td>-18.2875</td>\n",
       "      <td>-0.4</td>\n",
       "      <td>-0.4</td>\n",
       "      <td>0.246429</td>\n",
       "      <td>0</td>\n",
       "      <td>1</td>\n",
       "    </tr>\n",
       "    <tr>\n",
       "      <th>arsenal-fc-fulham-fc</th>\n",
       "      <td>0.430556</td>\n",
       "      <td>0</td>\n",
       "      <td>0</td>\n",
       "      <td>-30.875</td>\n",
       "      <td>-1.8</td>\n",
       "      <td>-1.2</td>\n",
       "      <td>0.0821429</td>\n",
       "      <td>1</td>\n",
       "      <td>1</td>\n",
       "    </tr>\n",
       "    <tr>\n",
       "      <th>arsenal-fc-queens-park-rangers</th>\n",
       "      <td>0.490789</td>\n",
       "      <td>1</td>\n",
       "      <td>0</td>\n",
       "      <td>10.6875</td>\n",
       "      <td>-1.6</td>\n",
       "      <td>-1.2</td>\n",
       "      <td>0</td>\n",
       "      <td>1</td>\n",
       "      <td>1</td>\n",
       "    </tr>\n",
       "    <tr>\n",
       "      <th>arsenal-fc-southampton-fc</th>\n",
       "      <td>1.04545</td>\n",
       "      <td>2</td>\n",
       "      <td>0</td>\n",
       "      <td>-11.4875</td>\n",
       "      <td>-2.66667</td>\n",
       "      <td>0</td>\n",
       "      <td>0.616071</td>\n",
       "      <td>0</td>\n",
       "      <td>1</td>\n",
       "    </tr>\n",
       "    <tr>\n",
       "      <th>arsenal-fc-swansea-city</th>\n",
       "      <td>0.660714</td>\n",
       "      <td>0</td>\n",
       "      <td>1</td>\n",
       "      <td>7.8125</td>\n",
       "      <td>-0.8</td>\n",
       "      <td>-1.6</td>\n",
       "      <td>0.472321</td>\n",
       "      <td>0</td>\n",
       "      <td>0</td>\n",
       "    </tr>\n",
       "  </tbody>\n",
       "</table>\n",
       "</div>"
      ],
      "text/plain": [
       "                               away_average away_loss away_win     best goals_against_away goals_against_home home_average home_loss home_win\n",
       "arsenal-fc-chelsea-fc                  0.75         0        1 -18.2875               -0.4               -0.4     0.246429         0        1\n",
       "arsenal-fc-fulham-fc               0.430556         0        0  -30.875               -1.8               -1.2    0.0821429         1        1\n",
       "arsenal-fc-queens-park-rangers     0.490789         1        0  10.6875               -1.6               -1.2            0         1        1\n",
       "arsenal-fc-southampton-fc           1.04545         2        0 -11.4875           -2.66667                  0     0.616071         0        1\n",
       "arsenal-fc-swansea-city            0.660714         0        1   7.8125               -0.8               -1.6     0.472321         0        0"
      ]
     },
     "execution_count": 160,
     "metadata": {},
     "output_type": "execute_result"
    }
   ],
   "source": [
    "X.head()"
   ]
  },
  {
   "cell_type": "markdown",
   "metadata": {},
   "source": [
    "We fit the model:"
   ]
  },
  {
   "cell_type": "code",
   "execution_count": 161,
   "metadata": {
    "collapsed": false
   },
   "outputs": [],
   "source": [
    "logreg = LogisticRegression(C=0.1)"
   ]
  },
  {
   "cell_type": "code",
   "execution_count": 162,
   "metadata": {
    "collapsed": false
   },
   "outputs": [
    {
     "data": {
      "text/plain": [
       "LogisticRegression(C=0.1, class_weight=None, dual=False, fit_intercept=True,\n",
       "          intercept_scaling=1, max_iter=100, multi_class='ovr', n_jobs=1,\n",
       "          penalty='l2', random_state=None, solver='liblinear', tol=0.0001,\n",
       "          verbose=0, warm_start=False)"
      ]
     },
     "execution_count": 162,
     "metadata": {},
     "output_type": "execute_result"
    }
   ],
   "source": [
    "logreg.fit(X,y.astype(int))"
   ]
  },
  {
   "cell_type": "markdown",
   "metadata": {},
   "source": [
    "We predict the second half:"
   ]
  },
  {
   "cell_type": "code",
   "execution_count": 163,
   "metadata": {
    "collapsed": false
   },
   "outputs": [],
   "source": [
    "y_test_pred = logreg.predict(test)"
   ]
  },
  {
   "cell_type": "markdown",
   "metadata": {},
   "source": [
    "We derive the confusion metric to check how good we actually do:"
   ]
  },
  {
   "cell_type": "code",
   "execution_count": 164,
   "metadata": {
    "collapsed": false
   },
   "outputs": [],
   "source": [
    "from sklearn.metrics import confusion_matrix\n",
    "mat = confusion_matrix(y_test.values.astype(int),y_test_pred.astype(int))"
   ]
  },
  {
   "cell_type": "code",
   "execution_count": 165,
   "metadata": {
    "collapsed": false
   },
   "outputs": [],
   "source": [
    "score = float(mat[0,0]+mat[1,1]+mat[2,2])/np.sum(mat)"
   ]
  },
  {
   "cell_type": "code",
   "execution_count": 166,
   "metadata": {
    "collapsed": false
   },
   "outputs": [
    {
     "name": "stdout",
     "output_type": "stream",
     "text": [
      "0.410526315789\n"
     ]
    }
   ],
   "source": [
    "print score"
   ]
  },
  {
   "cell_type": "markdown",
   "metadata": {},
   "source": [
    "Not bad when we know that picking randomly would lead to a 0.333 rate, but it is not great either.... Let's see if with a greater training set we can get better results !"
   ]
  },
  {
   "cell_type": "code",
   "execution_count": 170,
   "metadata": {
    "collapsed": true
   },
   "outputs": [],
   "source": [
    "tr = DF.loc['day']<=27\n",
    "ts = ~tr"
   ]
  },
  {
   "cell_type": "code",
   "execution_count": 171,
   "metadata": {
    "collapsed": true
   },
   "outputs": [],
   "source": [
    "DF_tr = DF[DF.columns[tr]]\n",
    "DF_ts = DF[DF.columns[ts]]\n",
    "train2 = DF_tr[DF_tr.columns[DF_tr.loc['day']>1]]\n",
    "y2 = train2.loc['score']\n",
    "\n",
    "X2 = train2.iloc[[1,2,3,4,6,7,9,10,11],:].T\n",
    "test2 = DF_ts.iloc[[1,2,3,4,6,7,9,10,11],:].T\n",
    "y_test2 = DF_ts.loc['score']"
   ]
  },
  {
   "cell_type": "code",
   "execution_count": 184,
   "metadata": {
    "collapsed": false
   },
   "outputs": [
    {
     "data": {
      "text/plain": [
       "LogisticRegression(C=0.1, class_weight=None, dual=False, fit_intercept=True,\n",
       "          intercept_scaling=1, max_iter=100, multi_class='ovr', n_jobs=1,\n",
       "          penalty='l2', random_state=None, solver='liblinear', tol=0.0001,\n",
       "          verbose=0, warm_start=False)"
      ]
     },
     "execution_count": 184,
     "metadata": {},
     "output_type": "execute_result"
    }
   ],
   "source": [
    "logreg2 = LogisticRegression(C=0.1)\n",
    "logreg.fit(X2,y2.astype(int))"
   ]
  },
  {
   "cell_type": "code",
   "execution_count": 185,
   "metadata": {
    "collapsed": true
   },
   "outputs": [],
   "source": [
    "y_test_pred2 = logreg.predict(test2)"
   ]
  },
  {
   "cell_type": "code",
   "execution_count": 186,
   "metadata": {
    "collapsed": true
   },
   "outputs": [],
   "source": [
    "mat2 = confusion_matrix(y_test2.values.astype(int),y_test_pred2.astype(int))"
   ]
  },
  {
   "cell_type": "code",
   "execution_count": 187,
   "metadata": {
    "collapsed": false
   },
   "outputs": [
    {
     "data": {
      "text/plain": [
       "array([[ 1,  7, 27],\n",
       "       [ 6,  5, 17],\n",
       "       [ 7,  5, 35]])"
      ]
     },
     "execution_count": 187,
     "metadata": {},
     "output_type": "execute_result"
    }
   ],
   "source": [
    "mat2"
   ]
  },
  {
   "cell_type": "code",
   "execution_count": 188,
   "metadata": {
    "collapsed": true
   },
   "outputs": [],
   "source": [
    "score2 = float(mat2[0,0]+mat2[1,1]+mat2[2,2])/np.sum(mat2)"
   ]
  },
  {
   "cell_type": "code",
   "execution_count": 189,
   "metadata": {
    "collapsed": false
   },
   "outputs": [
    {
     "name": "stdout",
     "output_type": "stream",
     "text": [
      "0.372727272727\n"
     ]
    }
   ],
   "source": [
    "print score2"
   ]
  },
  {
   "cell_type": "markdown",
   "metadata": {},
   "source": [
    "nop...."
   ]
  },
  {
   "cell_type": "markdown",
   "metadata": {},
   "source": [
    "### Let's try random forest:"
   ]
  },
  {
   "cell_type": "code",
   "execution_count": 82,
   "metadata": {
    "collapsed": false
   },
   "outputs": [],
   "source": [
    "from sklearn.ensemble import RandomForestClassifier\n",
    "from sklearn.metrics import confusion_matrix"
   ]
  },
  {
   "cell_type": "code",
   "execution_count": 95,
   "metadata": {
    "collapsed": false
   },
   "outputs": [
    {
     "data": {
      "text/plain": [
       "RandomForestClassifier(bootstrap=True, class_weight=None, criterion='gini',\n",
       "            max_depth=None, max_features='auto', max_leaf_nodes=None,\n",
       "            min_samples_leaf=1, min_samples_split=2,\n",
       "            min_weight_fraction_leaf=0.0, n_estimators=25, n_jobs=1,\n",
       "            oob_score=False, random_state=None, verbose=0,\n",
       "            warm_start=False)"
      ]
     },
     "execution_count": 95,
     "metadata": {},
     "output_type": "execute_result"
    }
   ],
   "source": [
    "clf = RandomForestClassifier(n_estimators=25)\n",
    "clf.fit(X,y.astype(int))"
   ]
  },
  {
   "cell_type": "code",
   "execution_count": 96,
   "metadata": {
    "collapsed": false
   },
   "outputs": [],
   "source": [
    "RFC_pred = clf.predict(test).astype(int)"
   ]
  },
  {
   "cell_type": "code",
   "execution_count": 97,
   "metadata": {
    "collapsed": true
   },
   "outputs": [],
   "source": [
    "RFC_mat = confusion_matrix(y_test.astype(int),RFC_pred)"
   ]
  },
  {
   "cell_type": "code",
   "execution_count": 98,
   "metadata": {
    "collapsed": false
   },
   "outputs": [
    {
     "data": {
      "text/plain": [
       "array([[13, 21, 24],\n",
       "       [14, 18, 18],\n",
       "       [16, 19, 47]])"
      ]
     },
     "execution_count": 98,
     "metadata": {},
     "output_type": "execute_result"
    }
   ],
   "source": [
    "RFC_mat"
   ]
  },
  {
   "cell_type": "code",
   "execution_count": 99,
   "metadata": {
    "collapsed": true
   },
   "outputs": [],
   "source": [
    "RFC_score = float(RFC_mat[0,0]+RFC_mat[1,1]+RFC_mat[2,2])/np.sum(RFC_mat)"
   ]
  },
  {
   "cell_type": "code",
   "execution_count": 100,
   "metadata": {
    "collapsed": false
   },
   "outputs": [
    {
     "name": "stdout",
     "output_type": "stream",
     "text": [
      "0.410526315789\n"
     ]
    }
   ],
   "source": [
    "print RFC_score"
   ]
  },
  {
   "cell_type": "markdown",
   "metadata": {},
   "source": [
    "Slightly better.... Let's try on the bigger training set:"
   ]
  },
  {
   "cell_type": "code",
   "execution_count": 279,
   "metadata": {
    "collapsed": false
   },
   "outputs": [
    {
     "name": "stdout",
     "output_type": "stream",
     "text": [
      "[[15  8 12]\n",
      " [ 7  5 16]\n",
      " [10 10 27]]\n",
      "0.427272727273\n"
     ]
    }
   ],
   "source": [
    "clf = RandomForestClassifier(n_estimators=25)\n",
    "clf.fit(X2,y2)\n",
    "RFC_pred2 = clf.predict(test2).astype(int)\n",
    "RFC_mat2 = confusion_matrix(y_test2.astype(int),RFC_pred2)\n",
    "\n",
    "print RFC_mat2\n",
    "\n",
    "RFC_score2 = float(RFC_mat2[0,0]+RFC_mat2[1,1]+RFC_mat2[2,2])/np.sum(RFC_mat2)\n",
    "\n",
    "print RFC_score2"
   ]
  },
  {
   "cell_type": "markdown",
   "metadata": {},
   "source": [
    "Let's now to see if we can at least better predict if the home teams doesn't win:"
   ]
  },
  {
   "cell_type": "code",
   "execution_count": 101,
   "metadata": {
    "collapsed": false
   },
   "outputs": [],
   "source": [
    "y[y<1]= 0 "
   ]
  },
  {
   "cell_type": "code",
   "execution_count": 102,
   "metadata": {
    "collapsed": true
   },
   "outputs": [],
   "source": [
    "y_test[y_test<1] = 0"
   ]
  },
  {
   "cell_type": "code",
   "execution_count": 147,
   "metadata": {
    "collapsed": false
   },
   "outputs": [],
   "source": [
    "logreg = LogisticRegression(C=0.1)\n",
    "logreg.fit(X,y.astype(int))\n",
    "y_test_pred = logreg.predict(test).astype(int)"
   ]
  },
  {
   "cell_type": "code",
   "execution_count": 148,
   "metadata": {
    "collapsed": true
   },
   "outputs": [],
   "source": [
    "mat4 = confusion_matrix(y_test.values.astype(int),y_test_pred)"
   ]
  },
  {
   "cell_type": "code",
   "execution_count": 149,
   "metadata": {
    "collapsed": false
   },
   "outputs": [
    {
     "data": {
      "text/plain": [
       "array([[76, 32],\n",
       "       [49, 33]])"
      ]
     },
     "execution_count": 149,
     "metadata": {},
     "output_type": "execute_result"
    }
   ],
   "source": [
    "mat4"
   ]
  },
  {
   "cell_type": "code",
   "execution_count": 150,
   "metadata": {
    "collapsed": true
   },
   "outputs": [],
   "source": [
    "score4 = float(mat4[0,0]+mat4[1,1])/np.sum(mat4)"
   ]
  },
  {
   "cell_type": "code",
   "execution_count": 151,
   "metadata": {
    "collapsed": false
   },
   "outputs": [
    {
     "data": {
      "text/plain": [
       "0.5736842105263158"
      ]
     },
     "execution_count": 151,
     "metadata": {},
     "output_type": "execute_result"
    }
   ],
   "source": [
    "score4"
   ]
  },
  {
   "cell_type": "markdown",
   "metadata": {},
   "source": [
    "We manage to predict slightly better than by chance... still not good enough..."
   ]
  },
  {
   "cell_type": "markdown",
   "metadata": {},
   "source": [
    "Lets's try to see if we are better at predicting when the home teams does not not loose:"
   ]
  },
  {
   "cell_type": "code",
   "execution_count": 196,
   "metadata": {
    "collapsed": false
   },
   "outputs": [],
   "source": [
    "y = train.loc['score'].copy()\n",
    "y_test = DF_secondhalf.loc['score'].copy()\n",
    "y[y>-1]= 1\n",
    "y_test[y_test>-1]= 1"
   ]
  },
  {
   "cell_type": "code",
   "execution_count": 275,
   "metadata": {
    "collapsed": false
   },
   "outputs": [],
   "source": [
    "logreg = LogisticRegression(C=0.1)\n",
    "logreg.fit(X,y.astype(int))\n",
    "y_test_pred = logreg.predict(test).astype(int)\n",
    "mat5 = confusion_matrix(y_test.values.astype(int),y_test_pred)\n",
    "score5 = float(mat5[0,0]+mat5[1,1])/np.sum(mat5)\n",
    "\n",
    "clf = RandomForestClassifier(n_estimators=100)\n",
    "clf.fit(X,y.astype(int))\n",
    "RFC_pred = clf.predict(test).astype(int)\n",
    "RFC_mat = confusion_matrix(y_test.astype(int),RFC_pred)\n",
    "score6 = float(RFC_mat[0,0]+RFC_mat[1,1])/np.sum(RFC_mat)"
   ]
  },
  {
   "cell_type": "code",
   "execution_count": 276,
   "metadata": {
    "collapsed": false
   },
   "outputs": [
    {
     "name": "stdout",
     "output_type": "stream",
     "text": [
      "Logistic Regression: 0.694736842105\n",
      "Random Forrest: 0.678947368421\n"
     ]
    }
   ],
   "source": [
    "print \"Logistic Regression: %s\" % score5\n",
    "\n",
    "print \"Random Forrest: %s\" %score6"
   ]
  },
  {
   "cell_type": "markdown",
   "metadata": {},
   "source": [
    "Seems to be working a bit more, let's compare to the \"Never Loosing\" baseline:"
   ]
  },
  {
   "cell_type": "code",
   "execution_count": 213,
   "metadata": {
    "collapsed": false
   },
   "outputs": [
    {
     "data": {
      "text/plain": [
       "0.6947368421052632"
      ]
     },
     "execution_count": 213,
     "metadata": {},
     "output_type": "execute_result"
    }
   ],
   "source": [
    "neverloosing_mat = confusion_matrix(y_test.values.astype(int),[1]*190)\n",
    "float(neverloosing_mat[0,0]+neverloosing_mat[1,1])/np.sum(neverloosing_mat)"
   ]
  },
  {
   "cell_type": "code",
   "execution_count": 214,
   "metadata": {
    "collapsed": false
   },
   "outputs": [
    {
     "data": {
      "text/plain": [
       "0.30526315789473685"
      ]
     },
     "execution_count": 214,
     "metadata": {},
     "output_type": "execute_result"
    }
   ],
   "source": [
    "onlyloss_mat = confusion_matrix(y_test.values.astype(int),[-1]*190)\n",
    "float(onlyloss_mat[0,0]+onlyloss_mat[1,1])/np.sum(onlyloss_mat)"
   ]
  },
  {
   "cell_type": "markdown",
   "metadata": {},
   "source": [
    "We equated one of the baselines, which is not a satisfactory result."
   ]
  },
  {
   "cell_type": "markdown",
   "metadata": {},
   "source": [
    "#### Let's try to improve results by looking in more depths at the models:"
   ]
  },
  {
   "cell_type": "markdown",
   "metadata": {},
   "source": [
    "Let's focus on one model in particular, the random forest "
   ]
  },
  {
   "cell_type": "code",
   "execution_count": 278,
   "metadata": {
    "collapsed": true
   },
   "outputs": [],
   "source": [
    "DF_firsthalf = DF[DF.columns[firsthalf]]\n",
    "DF_secondhalf = DF[DF.columns[secondhalf]]\n",
    "train = DF_firsthalf[DF_firsthalf.columns[DF_firsthalf.loc['day']>1]]\n",
    "y = train.loc['score'].copy()\n",
    "X = train.iloc[[1,2,3,4,6,7,9,10,11],:].T\n",
    "test = DF_secondhalf.iloc[[1,2,3,4,6,7,9,10,11],:].T\n",
    "y_test = DF_secondhalf.loc['score'].copy()"
   ]
  },
  {
   "cell_type": "code",
   "execution_count": 280,
   "metadata": {
    "collapsed": false
   },
   "outputs": [
    {
     "name": "stdout",
     "output_type": "stream",
     "text": [
      "Accuracy: 0.431578947368\n"
     ]
    }
   ],
   "source": [
    "clf = RandomForestClassifier(n_estimators=100)\n",
    "clf.fit(X,y.astype(int))\n",
    "\n",
    "RFC_pred = clf.predict(test).astype(int)\n",
    "RFC_mat = confusion_matrix(y_test.astype(int),RFC_pred)\n",
    "\n",
    "RFC_score = float(RFC_mat[0,0]+RFC_mat[1,1]+RFC_mat[2,2])/np.sum(RFC_mat)\n",
    "\n",
    "print \"Accuracy: %s\" % RFC_score"
   ]
  },
  {
   "cell_type": "markdown",
   "metadata": {},
   "source": [
    "Let's inspect feature importance to see if one or multiple variables might impact too much the output of the model:"
   ]
  },
  {
   "cell_type": "code",
   "execution_count": 281,
   "metadata": {
    "collapsed": false
   },
   "outputs": [
    {
     "data": {
      "text/plain": [
       "[('away_average', 0.16778765124524156),\n",
       " ('away_loss', 0.049654380727071956),\n",
       " ('away_win', 0.050517361323656862),\n",
       " ('best', 0.19601800474103415),\n",
       " ('day', 0.15084289134556492),\n",
       " ('goals_against_home', 0.14542118288312128),\n",
       " ('home', 0.15449469452813949),\n",
       " ('home_loss', 0.047315760198110297),\n",
       " ('home_win', 0.037948073008059462)]"
      ]
     },
     "execution_count": 281,
     "metadata": {},
     "output_type": "execute_result"
    }
   ],
   "source": [
    "zip(DF.index[[1,2,3,4,5,7,8,10,11,12]],clf.feature_importances_)"
   ]
  },
  {
   "cell_type": "markdown",
   "metadata": {},
   "source": [
    "It's not obvious that there is a clear bias in favor of one of the variables."
   ]
  },
  {
   "cell_type": "markdown",
   "metadata": {},
   "source": [
    "### Let's try to add a team factor:"
   ]
  },
  {
   "cell_type": "code",
   "execution_count": 282,
   "metadata": {
    "collapsed": true
   },
   "outputs": [],
   "source": [
    "team_df = dict.fromkeys(games.keys())"
   ]
  },
  {
   "cell_type": "code",
   "execution_count": 283,
   "metadata": {
    "collapsed": false
   },
   "outputs": [],
   "source": [
    "for k in team_df.keys():\n",
    "    team_df[k] = {}\n",
    "    for team in teams:\n",
    "        team_df[k][team] = 0\n",
    "    team_df[k][games[k]['home']] = 1\n",
    "    team_df[k][games[k]['away']] = 1"
   ]
  },
  {
   "cell_type": "code",
   "execution_count": 284,
   "metadata": {
    "collapsed": true
   },
   "outputs": [],
   "source": [
    "team_df = pd.DataFrame.from_dict(team_df)"
   ]
  },
  {
   "cell_type": "code",
   "execution_count": 285,
   "metadata": {
    "collapsed": false
   },
   "outputs": [
    {
     "data": {
      "text/html": [
       "<div>\n",
       "<table border=\"1\" class=\"dataframe\">\n",
       "  <thead>\n",
       "    <tr style=\"text-align: right;\">\n",
       "      <th></th>\n",
       "      <th>arsenal-fc-aston-villa</th>\n",
       "      <th>arsenal-fc-chelsea-fc</th>\n",
       "      <th>arsenal-fc-everton-fc</th>\n",
       "      <th>arsenal-fc-fulham-fc</th>\n",
       "      <th>arsenal-fc-liverpool-fc</th>\n",
       "      <th>arsenal-fc-manchester-city</th>\n",
       "      <th>arsenal-fc-manchester-united</th>\n",
       "      <th>arsenal-fc-newcastle-united</th>\n",
       "      <th>arsenal-fc-norwich-city</th>\n",
       "      <th>arsenal-fc-queens-park-rangers</th>\n",
       "      <th>arsenal-fc-reading-fc</th>\n",
       "      <th>arsenal-fc-southampton-fc</th>\n",
       "      <th>arsenal-fc-stoke-city</th>\n",
       "      <th>arsenal-fc-sunderland-afc</th>\n",
       "      <th>arsenal-fc-swansea-city</th>\n",
       "      <th>arsenal-fc-tottenham-hotspur</th>\n",
       "      <th>arsenal-fc-west-bromwich-albion</th>\n",
       "      <th>arsenal-fc-west-ham-united</th>\n",
       "      <th>arsenal-fc-wigan-athletic</th>\n",
       "      <th>aston-villa-arsenal-fc</th>\n",
       "      <th>aston-villa-chelsea-fc</th>\n",
       "      <th>aston-villa-everton-fc</th>\n",
       "      <th>aston-villa-fulham-fc</th>\n",
       "      <th>aston-villa-liverpool-fc</th>\n",
       "      <th>aston-villa-manchester-city</th>\n",
       "      <th>aston-villa-manchester-united</th>\n",
       "      <th>aston-villa-newcastle-united</th>\n",
       "      <th>aston-villa-norwich-city</th>\n",
       "      <th>aston-villa-queens-park-rangers</th>\n",
       "      <th>aston-villa-reading-fc</th>\n",
       "      <th>aston-villa-southampton-fc</th>\n",
       "      <th>aston-villa-stoke-city</th>\n",
       "      <th>aston-villa-sunderland-afc</th>\n",
       "      <th>aston-villa-swansea-city</th>\n",
       "      <th>aston-villa-tottenham-hotspur</th>\n",
       "      <th>aston-villa-west-bromwich-albion</th>\n",
       "      <th>aston-villa-west-ham-united</th>\n",
       "      <th>aston-villa-wigan-athletic</th>\n",
       "      <th>chelsea-fc-arsenal-fc</th>\n",
       "      <th>chelsea-fc-aston-villa</th>\n",
       "      <th>chelsea-fc-everton-fc</th>\n",
       "      <th>chelsea-fc-fulham-fc</th>\n",
       "      <th>chelsea-fc-liverpool-fc</th>\n",
       "      <th>chelsea-fc-manchester-city</th>\n",
       "      <th>chelsea-fc-manchester-united</th>\n",
       "      <th>chelsea-fc-newcastle-united</th>\n",
       "      <th>chelsea-fc-norwich-city</th>\n",
       "      <th>chelsea-fc-queens-park-rangers</th>\n",
       "      <th>chelsea-fc-reading-fc</th>\n",
       "      <th>chelsea-fc-southampton-fc</th>\n",
       "      <th>...</th>\n",
       "      <th>west-bromwich-albion-manchester-united</th>\n",
       "      <th>west-bromwich-albion-newcastle-united</th>\n",
       "      <th>west-bromwich-albion-norwich-city</th>\n",
       "      <th>west-bromwich-albion-queens-park-rangers</th>\n",
       "      <th>west-bromwich-albion-reading-fc</th>\n",
       "      <th>west-bromwich-albion-southampton-fc</th>\n",
       "      <th>west-bromwich-albion-stoke-city</th>\n",
       "      <th>west-bromwich-albion-sunderland-afc</th>\n",
       "      <th>west-bromwich-albion-swansea-city</th>\n",
       "      <th>west-bromwich-albion-tottenham-hotspur</th>\n",
       "      <th>west-bromwich-albion-west-ham-united</th>\n",
       "      <th>west-bromwich-albion-wigan-athletic</th>\n",
       "      <th>west-ham-united-arsenal-fc</th>\n",
       "      <th>west-ham-united-aston-villa</th>\n",
       "      <th>west-ham-united-chelsea-fc</th>\n",
       "      <th>west-ham-united-everton-fc</th>\n",
       "      <th>west-ham-united-fulham-fc</th>\n",
       "      <th>west-ham-united-liverpool-fc</th>\n",
       "      <th>west-ham-united-manchester-city</th>\n",
       "      <th>west-ham-united-manchester-united</th>\n",
       "      <th>west-ham-united-newcastle-united</th>\n",
       "      <th>west-ham-united-norwich-city</th>\n",
       "      <th>west-ham-united-queens-park-rangers</th>\n",
       "      <th>west-ham-united-reading-fc</th>\n",
       "      <th>west-ham-united-southampton-fc</th>\n",
       "      <th>west-ham-united-stoke-city</th>\n",
       "      <th>west-ham-united-sunderland-afc</th>\n",
       "      <th>west-ham-united-swansea-city</th>\n",
       "      <th>west-ham-united-tottenham-hotspur</th>\n",
       "      <th>west-ham-united-west-bromwich-albion</th>\n",
       "      <th>west-ham-united-wigan-athletic</th>\n",
       "      <th>wigan-athletic-arsenal-fc</th>\n",
       "      <th>wigan-athletic-aston-villa</th>\n",
       "      <th>wigan-athletic-chelsea-fc</th>\n",
       "      <th>wigan-athletic-everton-fc</th>\n",
       "      <th>wigan-athletic-fulham-fc</th>\n",
       "      <th>wigan-athletic-liverpool-fc</th>\n",
       "      <th>wigan-athletic-manchester-city</th>\n",
       "      <th>wigan-athletic-manchester-united</th>\n",
       "      <th>wigan-athletic-newcastle-united</th>\n",
       "      <th>wigan-athletic-norwich-city</th>\n",
       "      <th>wigan-athletic-queens-park-rangers</th>\n",
       "      <th>wigan-athletic-reading-fc</th>\n",
       "      <th>wigan-athletic-southampton-fc</th>\n",
       "      <th>wigan-athletic-stoke-city</th>\n",
       "      <th>wigan-athletic-sunderland-afc</th>\n",
       "      <th>wigan-athletic-swansea-city</th>\n",
       "      <th>wigan-athletic-tottenham-hotspur</th>\n",
       "      <th>wigan-athletic-west-bromwich-albion</th>\n",
       "      <th>wigan-athletic-west-ham-united</th>\n",
       "    </tr>\n",
       "  </thead>\n",
       "  <tbody>\n",
       "    <tr>\n",
       "      <th>arsenal-fc</th>\n",
       "      <td>1</td>\n",
       "      <td>1</td>\n",
       "      <td>1</td>\n",
       "      <td>1</td>\n",
       "      <td>1</td>\n",
       "      <td>1</td>\n",
       "      <td>1</td>\n",
       "      <td>1</td>\n",
       "      <td>1</td>\n",
       "      <td>1</td>\n",
       "      <td>1</td>\n",
       "      <td>1</td>\n",
       "      <td>1</td>\n",
       "      <td>1</td>\n",
       "      <td>1</td>\n",
       "      <td>1</td>\n",
       "      <td>1</td>\n",
       "      <td>1</td>\n",
       "      <td>1</td>\n",
       "      <td>1</td>\n",
       "      <td>0</td>\n",
       "      <td>0</td>\n",
       "      <td>0</td>\n",
       "      <td>0</td>\n",
       "      <td>0</td>\n",
       "      <td>0</td>\n",
       "      <td>0</td>\n",
       "      <td>0</td>\n",
       "      <td>0</td>\n",
       "      <td>0</td>\n",
       "      <td>0</td>\n",
       "      <td>0</td>\n",
       "      <td>0</td>\n",
       "      <td>0</td>\n",
       "      <td>0</td>\n",
       "      <td>0</td>\n",
       "      <td>0</td>\n",
       "      <td>0</td>\n",
       "      <td>1</td>\n",
       "      <td>0</td>\n",
       "      <td>0</td>\n",
       "      <td>0</td>\n",
       "      <td>0</td>\n",
       "      <td>0</td>\n",
       "      <td>0</td>\n",
       "      <td>0</td>\n",
       "      <td>0</td>\n",
       "      <td>0</td>\n",
       "      <td>0</td>\n",
       "      <td>0</td>\n",
       "      <td>...</td>\n",
       "      <td>0</td>\n",
       "      <td>0</td>\n",
       "      <td>0</td>\n",
       "      <td>0</td>\n",
       "      <td>0</td>\n",
       "      <td>0</td>\n",
       "      <td>0</td>\n",
       "      <td>0</td>\n",
       "      <td>0</td>\n",
       "      <td>0</td>\n",
       "      <td>0</td>\n",
       "      <td>0</td>\n",
       "      <td>1</td>\n",
       "      <td>0</td>\n",
       "      <td>0</td>\n",
       "      <td>0</td>\n",
       "      <td>0</td>\n",
       "      <td>0</td>\n",
       "      <td>0</td>\n",
       "      <td>0</td>\n",
       "      <td>0</td>\n",
       "      <td>0</td>\n",
       "      <td>0</td>\n",
       "      <td>0</td>\n",
       "      <td>0</td>\n",
       "      <td>0</td>\n",
       "      <td>0</td>\n",
       "      <td>0</td>\n",
       "      <td>0</td>\n",
       "      <td>0</td>\n",
       "      <td>0</td>\n",
       "      <td>1</td>\n",
       "      <td>0</td>\n",
       "      <td>0</td>\n",
       "      <td>0</td>\n",
       "      <td>0</td>\n",
       "      <td>0</td>\n",
       "      <td>0</td>\n",
       "      <td>0</td>\n",
       "      <td>0</td>\n",
       "      <td>0</td>\n",
       "      <td>0</td>\n",
       "      <td>0</td>\n",
       "      <td>0</td>\n",
       "      <td>0</td>\n",
       "      <td>0</td>\n",
       "      <td>0</td>\n",
       "      <td>0</td>\n",
       "      <td>0</td>\n",
       "      <td>0</td>\n",
       "    </tr>\n",
       "    <tr>\n",
       "      <th>aston-villa</th>\n",
       "      <td>1</td>\n",
       "      <td>0</td>\n",
       "      <td>0</td>\n",
       "      <td>0</td>\n",
       "      <td>0</td>\n",
       "      <td>0</td>\n",
       "      <td>0</td>\n",
       "      <td>0</td>\n",
       "      <td>0</td>\n",
       "      <td>0</td>\n",
       "      <td>0</td>\n",
       "      <td>0</td>\n",
       "      <td>0</td>\n",
       "      <td>0</td>\n",
       "      <td>0</td>\n",
       "      <td>0</td>\n",
       "      <td>0</td>\n",
       "      <td>0</td>\n",
       "      <td>0</td>\n",
       "      <td>1</td>\n",
       "      <td>1</td>\n",
       "      <td>1</td>\n",
       "      <td>1</td>\n",
       "      <td>1</td>\n",
       "      <td>1</td>\n",
       "      <td>1</td>\n",
       "      <td>1</td>\n",
       "      <td>1</td>\n",
       "      <td>1</td>\n",
       "      <td>1</td>\n",
       "      <td>1</td>\n",
       "      <td>1</td>\n",
       "      <td>1</td>\n",
       "      <td>1</td>\n",
       "      <td>1</td>\n",
       "      <td>1</td>\n",
       "      <td>1</td>\n",
       "      <td>1</td>\n",
       "      <td>0</td>\n",
       "      <td>1</td>\n",
       "      <td>0</td>\n",
       "      <td>0</td>\n",
       "      <td>0</td>\n",
       "      <td>0</td>\n",
       "      <td>0</td>\n",
       "      <td>0</td>\n",
       "      <td>0</td>\n",
       "      <td>0</td>\n",
       "      <td>0</td>\n",
       "      <td>0</td>\n",
       "      <td>...</td>\n",
       "      <td>0</td>\n",
       "      <td>0</td>\n",
       "      <td>0</td>\n",
       "      <td>0</td>\n",
       "      <td>0</td>\n",
       "      <td>0</td>\n",
       "      <td>0</td>\n",
       "      <td>0</td>\n",
       "      <td>0</td>\n",
       "      <td>0</td>\n",
       "      <td>0</td>\n",
       "      <td>0</td>\n",
       "      <td>0</td>\n",
       "      <td>1</td>\n",
       "      <td>0</td>\n",
       "      <td>0</td>\n",
       "      <td>0</td>\n",
       "      <td>0</td>\n",
       "      <td>0</td>\n",
       "      <td>0</td>\n",
       "      <td>0</td>\n",
       "      <td>0</td>\n",
       "      <td>0</td>\n",
       "      <td>0</td>\n",
       "      <td>0</td>\n",
       "      <td>0</td>\n",
       "      <td>0</td>\n",
       "      <td>0</td>\n",
       "      <td>0</td>\n",
       "      <td>0</td>\n",
       "      <td>0</td>\n",
       "      <td>0</td>\n",
       "      <td>1</td>\n",
       "      <td>0</td>\n",
       "      <td>0</td>\n",
       "      <td>0</td>\n",
       "      <td>0</td>\n",
       "      <td>0</td>\n",
       "      <td>0</td>\n",
       "      <td>0</td>\n",
       "      <td>0</td>\n",
       "      <td>0</td>\n",
       "      <td>0</td>\n",
       "      <td>0</td>\n",
       "      <td>0</td>\n",
       "      <td>0</td>\n",
       "      <td>0</td>\n",
       "      <td>0</td>\n",
       "      <td>0</td>\n",
       "      <td>0</td>\n",
       "    </tr>\n",
       "    <tr>\n",
       "      <th>chelsea-fc</th>\n",
       "      <td>0</td>\n",
       "      <td>1</td>\n",
       "      <td>0</td>\n",
       "      <td>0</td>\n",
       "      <td>0</td>\n",
       "      <td>0</td>\n",
       "      <td>0</td>\n",
       "      <td>0</td>\n",
       "      <td>0</td>\n",
       "      <td>0</td>\n",
       "      <td>0</td>\n",
       "      <td>0</td>\n",
       "      <td>0</td>\n",
       "      <td>0</td>\n",
       "      <td>0</td>\n",
       "      <td>0</td>\n",
       "      <td>0</td>\n",
       "      <td>0</td>\n",
       "      <td>0</td>\n",
       "      <td>0</td>\n",
       "      <td>1</td>\n",
       "      <td>0</td>\n",
       "      <td>0</td>\n",
       "      <td>0</td>\n",
       "      <td>0</td>\n",
       "      <td>0</td>\n",
       "      <td>0</td>\n",
       "      <td>0</td>\n",
       "      <td>0</td>\n",
       "      <td>0</td>\n",
       "      <td>0</td>\n",
       "      <td>0</td>\n",
       "      <td>0</td>\n",
       "      <td>0</td>\n",
       "      <td>0</td>\n",
       "      <td>0</td>\n",
       "      <td>0</td>\n",
       "      <td>0</td>\n",
       "      <td>1</td>\n",
       "      <td>1</td>\n",
       "      <td>1</td>\n",
       "      <td>1</td>\n",
       "      <td>1</td>\n",
       "      <td>1</td>\n",
       "      <td>1</td>\n",
       "      <td>1</td>\n",
       "      <td>1</td>\n",
       "      <td>1</td>\n",
       "      <td>1</td>\n",
       "      <td>1</td>\n",
       "      <td>...</td>\n",
       "      <td>0</td>\n",
       "      <td>0</td>\n",
       "      <td>0</td>\n",
       "      <td>0</td>\n",
       "      <td>0</td>\n",
       "      <td>0</td>\n",
       "      <td>0</td>\n",
       "      <td>0</td>\n",
       "      <td>0</td>\n",
       "      <td>0</td>\n",
       "      <td>0</td>\n",
       "      <td>0</td>\n",
       "      <td>0</td>\n",
       "      <td>0</td>\n",
       "      <td>1</td>\n",
       "      <td>0</td>\n",
       "      <td>0</td>\n",
       "      <td>0</td>\n",
       "      <td>0</td>\n",
       "      <td>0</td>\n",
       "      <td>0</td>\n",
       "      <td>0</td>\n",
       "      <td>0</td>\n",
       "      <td>0</td>\n",
       "      <td>0</td>\n",
       "      <td>0</td>\n",
       "      <td>0</td>\n",
       "      <td>0</td>\n",
       "      <td>0</td>\n",
       "      <td>0</td>\n",
       "      <td>0</td>\n",
       "      <td>0</td>\n",
       "      <td>0</td>\n",
       "      <td>1</td>\n",
       "      <td>0</td>\n",
       "      <td>0</td>\n",
       "      <td>0</td>\n",
       "      <td>0</td>\n",
       "      <td>0</td>\n",
       "      <td>0</td>\n",
       "      <td>0</td>\n",
       "      <td>0</td>\n",
       "      <td>0</td>\n",
       "      <td>0</td>\n",
       "      <td>0</td>\n",
       "      <td>0</td>\n",
       "      <td>0</td>\n",
       "      <td>0</td>\n",
       "      <td>0</td>\n",
       "      <td>0</td>\n",
       "    </tr>\n",
       "    <tr>\n",
       "      <th>everton-fc</th>\n",
       "      <td>0</td>\n",
       "      <td>0</td>\n",
       "      <td>1</td>\n",
       "      <td>0</td>\n",
       "      <td>0</td>\n",
       "      <td>0</td>\n",
       "      <td>0</td>\n",
       "      <td>0</td>\n",
       "      <td>0</td>\n",
       "      <td>0</td>\n",
       "      <td>0</td>\n",
       "      <td>0</td>\n",
       "      <td>0</td>\n",
       "      <td>0</td>\n",
       "      <td>0</td>\n",
       "      <td>0</td>\n",
       "      <td>0</td>\n",
       "      <td>0</td>\n",
       "      <td>0</td>\n",
       "      <td>0</td>\n",
       "      <td>0</td>\n",
       "      <td>1</td>\n",
       "      <td>0</td>\n",
       "      <td>0</td>\n",
       "      <td>0</td>\n",
       "      <td>0</td>\n",
       "      <td>0</td>\n",
       "      <td>0</td>\n",
       "      <td>0</td>\n",
       "      <td>0</td>\n",
       "      <td>0</td>\n",
       "      <td>0</td>\n",
       "      <td>0</td>\n",
       "      <td>0</td>\n",
       "      <td>0</td>\n",
       "      <td>0</td>\n",
       "      <td>0</td>\n",
       "      <td>0</td>\n",
       "      <td>0</td>\n",
       "      <td>0</td>\n",
       "      <td>1</td>\n",
       "      <td>0</td>\n",
       "      <td>0</td>\n",
       "      <td>0</td>\n",
       "      <td>0</td>\n",
       "      <td>0</td>\n",
       "      <td>0</td>\n",
       "      <td>0</td>\n",
       "      <td>0</td>\n",
       "      <td>0</td>\n",
       "      <td>...</td>\n",
       "      <td>0</td>\n",
       "      <td>0</td>\n",
       "      <td>0</td>\n",
       "      <td>0</td>\n",
       "      <td>0</td>\n",
       "      <td>0</td>\n",
       "      <td>0</td>\n",
       "      <td>0</td>\n",
       "      <td>0</td>\n",
       "      <td>0</td>\n",
       "      <td>0</td>\n",
       "      <td>0</td>\n",
       "      <td>0</td>\n",
       "      <td>0</td>\n",
       "      <td>0</td>\n",
       "      <td>1</td>\n",
       "      <td>0</td>\n",
       "      <td>0</td>\n",
       "      <td>0</td>\n",
       "      <td>0</td>\n",
       "      <td>0</td>\n",
       "      <td>0</td>\n",
       "      <td>0</td>\n",
       "      <td>0</td>\n",
       "      <td>0</td>\n",
       "      <td>0</td>\n",
       "      <td>0</td>\n",
       "      <td>0</td>\n",
       "      <td>0</td>\n",
       "      <td>0</td>\n",
       "      <td>0</td>\n",
       "      <td>0</td>\n",
       "      <td>0</td>\n",
       "      <td>0</td>\n",
       "      <td>1</td>\n",
       "      <td>0</td>\n",
       "      <td>0</td>\n",
       "      <td>0</td>\n",
       "      <td>0</td>\n",
       "      <td>0</td>\n",
       "      <td>0</td>\n",
       "      <td>0</td>\n",
       "      <td>0</td>\n",
       "      <td>0</td>\n",
       "      <td>0</td>\n",
       "      <td>0</td>\n",
       "      <td>0</td>\n",
       "      <td>0</td>\n",
       "      <td>0</td>\n",
       "      <td>0</td>\n",
       "    </tr>\n",
       "    <tr>\n",
       "      <th>fulham-fc</th>\n",
       "      <td>0</td>\n",
       "      <td>0</td>\n",
       "      <td>0</td>\n",
       "      <td>1</td>\n",
       "      <td>0</td>\n",
       "      <td>0</td>\n",
       "      <td>0</td>\n",
       "      <td>0</td>\n",
       "      <td>0</td>\n",
       "      <td>0</td>\n",
       "      <td>0</td>\n",
       "      <td>0</td>\n",
       "      <td>0</td>\n",
       "      <td>0</td>\n",
       "      <td>0</td>\n",
       "      <td>0</td>\n",
       "      <td>0</td>\n",
       "      <td>0</td>\n",
       "      <td>0</td>\n",
       "      <td>0</td>\n",
       "      <td>0</td>\n",
       "      <td>0</td>\n",
       "      <td>1</td>\n",
       "      <td>0</td>\n",
       "      <td>0</td>\n",
       "      <td>0</td>\n",
       "      <td>0</td>\n",
       "      <td>0</td>\n",
       "      <td>0</td>\n",
       "      <td>0</td>\n",
       "      <td>0</td>\n",
       "      <td>0</td>\n",
       "      <td>0</td>\n",
       "      <td>0</td>\n",
       "      <td>0</td>\n",
       "      <td>0</td>\n",
       "      <td>0</td>\n",
       "      <td>0</td>\n",
       "      <td>0</td>\n",
       "      <td>0</td>\n",
       "      <td>0</td>\n",
       "      <td>1</td>\n",
       "      <td>0</td>\n",
       "      <td>0</td>\n",
       "      <td>0</td>\n",
       "      <td>0</td>\n",
       "      <td>0</td>\n",
       "      <td>0</td>\n",
       "      <td>0</td>\n",
       "      <td>0</td>\n",
       "      <td>...</td>\n",
       "      <td>0</td>\n",
       "      <td>0</td>\n",
       "      <td>0</td>\n",
       "      <td>0</td>\n",
       "      <td>0</td>\n",
       "      <td>0</td>\n",
       "      <td>0</td>\n",
       "      <td>0</td>\n",
       "      <td>0</td>\n",
       "      <td>0</td>\n",
       "      <td>0</td>\n",
       "      <td>0</td>\n",
       "      <td>0</td>\n",
       "      <td>0</td>\n",
       "      <td>0</td>\n",
       "      <td>0</td>\n",
       "      <td>1</td>\n",
       "      <td>0</td>\n",
       "      <td>0</td>\n",
       "      <td>0</td>\n",
       "      <td>0</td>\n",
       "      <td>0</td>\n",
       "      <td>0</td>\n",
       "      <td>0</td>\n",
       "      <td>0</td>\n",
       "      <td>0</td>\n",
       "      <td>0</td>\n",
       "      <td>0</td>\n",
       "      <td>0</td>\n",
       "      <td>0</td>\n",
       "      <td>0</td>\n",
       "      <td>0</td>\n",
       "      <td>0</td>\n",
       "      <td>0</td>\n",
       "      <td>0</td>\n",
       "      <td>1</td>\n",
       "      <td>0</td>\n",
       "      <td>0</td>\n",
       "      <td>0</td>\n",
       "      <td>0</td>\n",
       "      <td>0</td>\n",
       "      <td>0</td>\n",
       "      <td>0</td>\n",
       "      <td>0</td>\n",
       "      <td>0</td>\n",
       "      <td>0</td>\n",
       "      <td>0</td>\n",
       "      <td>0</td>\n",
       "      <td>0</td>\n",
       "      <td>0</td>\n",
       "    </tr>\n",
       "  </tbody>\n",
       "</table>\n",
       "<p>5 rows × 380 columns</p>\n",
       "</div>"
      ],
      "text/plain": [
       "             arsenal-fc-aston-villa  arsenal-fc-chelsea-fc  arsenal-fc-everton-fc  arsenal-fc-fulham-fc  arsenal-fc-liverpool-fc  arsenal-fc-manchester-city  arsenal-fc-manchester-united  arsenal-fc-newcastle-united  arsenal-fc-norwich-city  arsenal-fc-queens-park-rangers  arsenal-fc-reading-fc  arsenal-fc-southampton-fc  arsenal-fc-stoke-city  arsenal-fc-sunderland-afc  arsenal-fc-swansea-city  arsenal-fc-tottenham-hotspur  arsenal-fc-west-bromwich-albion  arsenal-fc-west-ham-united  \\\n",
       "arsenal-fc                        1                      1                      1                     1                        1                           1                             1                            1                        1                               1                      1                          1                      1                          1                        1                             1                                1                           1   \n",
       "aston-villa                       1                      0                      0                     0                        0                           0                             0                            0                        0                               0                      0                          0                      0                          0                        0                             0                                0                           0   \n",
       "chelsea-fc                        0                      1                      0                     0                        0                           0                             0                            0                        0                               0                      0                          0                      0                          0                        0                             0                                0                           0   \n",
       "everton-fc                        0                      0                      1                     0                        0                           0                             0                            0                        0                               0                      0                          0                      0                          0                        0                             0                                0                           0   \n",
       "fulham-fc                         0                      0                      0                     1                        0                           0                             0                            0                        0                               0                      0                          0                      0                          0                        0                             0                                0                           0   \n",
       "\n",
       "             arsenal-fc-wigan-athletic  aston-villa-arsenal-fc  aston-villa-chelsea-fc  aston-villa-everton-fc  aston-villa-fulham-fc  aston-villa-liverpool-fc  aston-villa-manchester-city  aston-villa-manchester-united  aston-villa-newcastle-united  aston-villa-norwich-city  aston-villa-queens-park-rangers  aston-villa-reading-fc  aston-villa-southampton-fc  aston-villa-stoke-city  aston-villa-sunderland-afc  aston-villa-swansea-city  aston-villa-tottenham-hotspur  \\\n",
       "arsenal-fc                           1                       1                       0                       0                      0                         0                            0                              0                             0                         0                                0                       0                           0                       0                           0                         0                              0   \n",
       "aston-villa                          0                       1                       1                       1                      1                         1                            1                              1                             1                         1                                1                       1                           1                       1                           1                         1                              1   \n",
       "chelsea-fc                           0                       0                       1                       0                      0                         0                            0                              0                             0                         0                                0                       0                           0                       0                           0                         0                              0   \n",
       "everton-fc                           0                       0                       0                       1                      0                         0                            0                              0                             0                         0                                0                       0                           0                       0                           0                         0                              0   \n",
       "fulham-fc                            0                       0                       0                       0                      1                         0                            0                              0                             0                         0                                0                       0                           0                       0                           0                         0                              0   \n",
       "\n",
       "             aston-villa-west-bromwich-albion  aston-villa-west-ham-united  aston-villa-wigan-athletic  chelsea-fc-arsenal-fc  chelsea-fc-aston-villa  chelsea-fc-everton-fc  chelsea-fc-fulham-fc  chelsea-fc-liverpool-fc  chelsea-fc-manchester-city  chelsea-fc-manchester-united  chelsea-fc-newcastle-united  chelsea-fc-norwich-city  chelsea-fc-queens-park-rangers  chelsea-fc-reading-fc  chelsea-fc-southampton-fc               ...                west-bromwich-albion-manchester-united  \\\n",
       "arsenal-fc                                  0                            0                           0                      1                       0                      0                     0                        0                           0                             0                            0                        0                               0                      0                          0               ...                                                     0   \n",
       "aston-villa                                 1                            1                           1                      0                       1                      0                     0                        0                           0                             0                            0                        0                               0                      0                          0               ...                                                     0   \n",
       "chelsea-fc                                  0                            0                           0                      1                       1                      1                     1                        1                           1                             1                            1                        1                               1                      1                          1               ...                                                     0   \n",
       "everton-fc                                  0                            0                           0                      0                       0                      1                     0                        0                           0                             0                            0                        0                               0                      0                          0               ...                                                     0   \n",
       "fulham-fc                                   0                            0                           0                      0                       0                      0                     1                        0                           0                             0                            0                        0                               0                      0                          0               ...                                                     0   \n",
       "\n",
       "             west-bromwich-albion-newcastle-united  west-bromwich-albion-norwich-city  west-bromwich-albion-queens-park-rangers  west-bromwich-albion-reading-fc  west-bromwich-albion-southampton-fc  west-bromwich-albion-stoke-city  west-bromwich-albion-sunderland-afc  west-bromwich-albion-swansea-city  west-bromwich-albion-tottenham-hotspur  west-bromwich-albion-west-ham-united  west-bromwich-albion-wigan-athletic  west-ham-united-arsenal-fc  west-ham-united-aston-villa  \\\n",
       "arsenal-fc                                       0                                  0                                         0                                0                                    0                                0                                    0                                  0                                       0                                     0                                    0                           1                            0   \n",
       "aston-villa                                      0                                  0                                         0                                0                                    0                                0                                    0                                  0                                       0                                     0                                    0                           0                            1   \n",
       "chelsea-fc                                       0                                  0                                         0                                0                                    0                                0                                    0                                  0                                       0                                     0                                    0                           0                            0   \n",
       "everton-fc                                       0                                  0                                         0                                0                                    0                                0                                    0                                  0                                       0                                     0                                    0                           0                            0   \n",
       "fulham-fc                                        0                                  0                                         0                                0                                    0                                0                                    0                                  0                                       0                                     0                                    0                           0                            0   \n",
       "\n",
       "             west-ham-united-chelsea-fc  west-ham-united-everton-fc  west-ham-united-fulham-fc  west-ham-united-liverpool-fc  west-ham-united-manchester-city  west-ham-united-manchester-united  west-ham-united-newcastle-united  west-ham-united-norwich-city  west-ham-united-queens-park-rangers  west-ham-united-reading-fc  west-ham-united-southampton-fc  west-ham-united-stoke-city  west-ham-united-sunderland-afc  west-ham-united-swansea-city  west-ham-united-tottenham-hotspur  \\\n",
       "arsenal-fc                            0                           0                          0                             0                                0                                  0                                 0                             0                                    0                           0                               0                           0                               0                             0                                  0   \n",
       "aston-villa                           0                           0                          0                             0                                0                                  0                                 0                             0                                    0                           0                               0                           0                               0                             0                                  0   \n",
       "chelsea-fc                            1                           0                          0                             0                                0                                  0                                 0                             0                                    0                           0                               0                           0                               0                             0                                  0   \n",
       "everton-fc                            0                           1                          0                             0                                0                                  0                                 0                             0                                    0                           0                               0                           0                               0                             0                                  0   \n",
       "fulham-fc                             0                           0                          1                             0                                0                                  0                                 0                             0                                    0                           0                               0                           0                               0                             0                                  0   \n",
       "\n",
       "             west-ham-united-west-bromwich-albion  west-ham-united-wigan-athletic  wigan-athletic-arsenal-fc  wigan-athletic-aston-villa  wigan-athletic-chelsea-fc  wigan-athletic-everton-fc  wigan-athletic-fulham-fc  wigan-athletic-liverpool-fc  wigan-athletic-manchester-city  wigan-athletic-manchester-united  wigan-athletic-newcastle-united  wigan-athletic-norwich-city  wigan-athletic-queens-park-rangers  wigan-athletic-reading-fc  wigan-athletic-southampton-fc  wigan-athletic-stoke-city  \\\n",
       "arsenal-fc                                      0                               0                          1                           0                          0                          0                         0                            0                               0                                 0                                0                            0                                   0                          0                              0                          0   \n",
       "aston-villa                                     0                               0                          0                           1                          0                          0                         0                            0                               0                                 0                                0                            0                                   0                          0                              0                          0   \n",
       "chelsea-fc                                      0                               0                          0                           0                          1                          0                         0                            0                               0                                 0                                0                            0                                   0                          0                              0                          0   \n",
       "everton-fc                                      0                               0                          0                           0                          0                          1                         0                            0                               0                                 0                                0                            0                                   0                          0                              0                          0   \n",
       "fulham-fc                                       0                               0                          0                           0                          0                          0                         1                            0                               0                                 0                                0                            0                                   0                          0                              0                          0   \n",
       "\n",
       "             wigan-athletic-sunderland-afc  wigan-athletic-swansea-city  wigan-athletic-tottenham-hotspur  wigan-athletic-west-bromwich-albion  wigan-athletic-west-ham-united  \n",
       "arsenal-fc                               0                            0                                 0                                    0                               0  \n",
       "aston-villa                              0                            0                                 0                                    0                               0  \n",
       "chelsea-fc                               0                            0                                 0                                    0                               0  \n",
       "everton-fc                               0                            0                                 0                                    0                               0  \n",
       "fulham-fc                                0                            0                                 0                                    0                               0  \n",
       "\n",
       "[5 rows x 380 columns]"
      ]
     },
     "execution_count": 285,
     "metadata": {},
     "output_type": "execute_result"
    }
   ],
   "source": [
    "team_df.head()"
   ]
  },
  {
   "cell_type": "code",
   "execution_count": 286,
   "metadata": {
    "collapsed": true
   },
   "outputs": [],
   "source": [
    "big_df = pd.concat([DF,team_df])"
   ]
  },
  {
   "cell_type": "code",
   "execution_count": 287,
   "metadata": {
    "collapsed": true
   },
   "outputs": [],
   "source": [
    "big_df_firsthalf = big_df[big_df.columns[firsthalf]]\n",
    "big_df_secondhalf = big_df[big_df.columns[secondhalf]]\n",
    "train = big_df_firsthalf[big_df_firsthalf.columns[big_df_firsthalf.loc['day']>1]]\n",
    "y = train.loc['score'].copy()\n",
    "X = train.iloc[[1,2,3,4,6,7,9,10,11,13,14,15,16,17,18,19,20,21,22,23,24,25,26,27,28,29,30,31,32],:].T\n",
    "test = big_df_secondhalf.iloc[[1,2,3,4,6,7,9,10,11,13,14,15,16,17,18,19,20,21,22,23,24,25,26,27,28,29,30,31,32],:].T\n",
    "y_test = big_df_secondhalf.loc['score'].copy()"
   ]
  },
  {
   "cell_type": "code",
   "execution_count": 294,
   "metadata": {
    "collapsed": false
   },
   "outputs": [
    {
     "name": "stdout",
     "output_type": "stream",
     "text": [
      "[[12  9 37]\n",
      " [ 7 14 29]\n",
      " [12 16 54]]\n",
      "0.421052631579\n"
     ]
    }
   ],
   "source": [
    "clf = RandomForestClassifier(n_estimators=100)\n",
    "clf.fit(X,y.astype(int))\n",
    "\n",
    "RFC_pred = clf.predict(test).astype(int)\n",
    "RFC_mat = confusion_matrix(y_test.astype(int),RFC_pred)\n",
    "\n",
    "print RFC_mat\n",
    "\n",
    "RFC_score = float(RFC_mat[0,0]+RFC_mat[1,1]+RFC_mat[2,2])/np.sum(RFC_mat)\n",
    "print RFC_score"
   ]
  },
  {
   "cell_type": "markdown",
   "metadata": {},
   "source": [
    "It did not seem to have much impact. Let's try on the \"Not Loosing\" problem:"
   ]
  },
  {
   "cell_type": "code",
   "execution_count": 295,
   "metadata": {
    "collapsed": true
   },
   "outputs": [],
   "source": [
    "y = train.loc['score'].copy()\n",
    "y_test = big_df_secondhalf.loc['score'].copy()\n",
    "y[y>-1]= 1\n",
    "y[y==-1] = 0\n",
    "y_test[y_test>-1]= 1\n",
    "y_test[y_test==-1] = 0"
   ]
  },
  {
   "cell_type": "code",
   "execution_count": 303,
   "metadata": {
    "collapsed": false
   },
   "outputs": [
    {
     "name": "stdout",
     "output_type": "stream",
     "text": [
      "[[  3  55]\n",
      " [  2 130]]\n",
      "0.7\n"
     ]
    }
   ],
   "source": [
    "clf = RandomForestClassifier(n_estimators=100,class_weight='auto')\n",
    "clf.fit(X,y.astype(int))\n",
    "\n",
    "RFC_pred = clf.predict(test).astype(int)\n",
    "RFC_mat = confusion_matrix(y_test.astype(int),RFC_pred)\n",
    "\n",
    "print RFC_mat\n",
    "\n",
    "RFC_score = float(RFC_mat[0,0]+RFC_mat[1,1])/np.sum(RFC_mat)\n",
    "print RFC_score"
   ]
  },
  {
   "cell_type": "markdown",
   "metadata": {},
   "source": [
    "Slightly better..."
   ]
  },
  {
   "cell_type": "markdown",
   "metadata": {
    "collapsed": true
   },
   "source": [
    "## Using a more equally distributed training data set:"
   ]
  },
  {
   "cell_type": "markdown",
   "metadata": {},
   "source": [
    "Analysing the confusion matrices, we noticed that the models we created tend to classify most of the matches as a win. This is due to the fact that the training set is inherently biased in favor of home wins (cf. the baseline 'every game is a win' gives a 69% accuracy'). Let's try to rebalance the training set by sampling equal number of losses, draws and wins."
   ]
  },
  {
   "cell_type": "markdown",
   "metadata": {},
   "source": [
    "Let's start by evaluating the size of each class in the training data:"
   ]
  },
  {
   "cell_type": "code",
   "execution_count": 38,
   "metadata": {
    "collapsed": true
   },
   "outputs": [],
   "source": [
    "firsthalf = DF.loc['day']<=19\n",
    "secondhalf = ~firsthalf\n",
    "\n",
    "big_df = pd.concat([DF,team_df])\n",
    "\n",
    "big_df_firsthalf = big_df[big_df.columns[firsthalf]]\n",
    "big_df_secondhalf = big_df[big_df.columns[secondhalf]]\n",
    "train = big_df_firsthalf[big_df_firsthalf.columns[big_df_firsthalf.loc['day']>1]]\n",
    "y = train.loc['score'].copy()\n",
    "X = train.iloc[[1,2,3,4,6,7,9,10,11,13,14,15,16,17,18,19,20,21,22,23,24,25,26,27,28,29,30,31,32],:].copy().T\n",
    "test = big_df_secondhalf.iloc[[1,2,3,4,6,7,9,10,11,13,14,15,16,17,18,19,20,21,22,23,24,25,26,27,28,29,30,31,32],:].T\n",
    "y_test = big_df_secondhalf.loc['score'].copy()"
   ]
  },
  {
   "cell_type": "code",
   "execution_count": 39,
   "metadata": {
    "collapsed": true
   },
   "outputs": [],
   "source": [
    "y[y>-1]= 1\n",
    "y[y==-1] = 0\n",
    "y_test[y_test>-1]= 1\n",
    "y_test[y_test==-1] = 0"
   ]
  },
  {
   "cell_type": "markdown",
   "metadata": {},
   "source": [
    "Number of games where the home team is not loosing:"
   ]
  },
  {
   "cell_type": "code",
   "execution_count": 40,
   "metadata": {
    "collapsed": false
   },
   "outputs": [
    {
     "data": {
      "text/plain": [
       "134"
      ]
     },
     "execution_count": 40,
     "metadata": {},
     "output_type": "execute_result"
    }
   ],
   "source": [
    "len(y[y==1])"
   ]
  },
  {
   "cell_type": "markdown",
   "metadata": {},
   "source": [
    "Number of home losses:"
   ]
  },
  {
   "cell_type": "code",
   "execution_count": 41,
   "metadata": {
    "collapsed": false
   },
   "outputs": [
    {
     "data": {
      "text/plain": [
       "46"
      ]
     },
     "execution_count": 41,
     "metadata": {},
     "output_type": "execute_result"
    }
   ],
   "source": [
    "len(y[y==0])"
   ]
  },
  {
   "cell_type": "markdown",
   "metadata": {},
   "source": [
    "Let's sample 46 wins/draws:"
   ]
  },
  {
   "cell_type": "code",
   "execution_count": 53,
   "metadata": {
    "collapsed": false
   },
   "outputs": [],
   "source": [
    "train_noloss = train.loc[:,y==1].copy()\n",
    "train_loss = train.loc[:,y==0].copy()"
   ]
  },
  {
   "cell_type": "code",
   "execution_count": 54,
   "metadata": {
    "collapsed": false
   },
   "outputs": [],
   "source": [
    "touse = np.random.choice(range(len(y[y==1])),len(y[y==0]))"
   ]
  },
  {
   "cell_type": "code",
   "execution_count": 59,
   "metadata": {
    "collapsed": false
   },
   "outputs": [],
   "source": [
    "new_train = train_noloss.loc[:,train_noloss.columns[touse]].join(train_loss)"
   ]
  },
  {
   "cell_type": "code",
   "execution_count": 80,
   "metadata": {
    "collapsed": false
   },
   "outputs": [],
   "source": [
    "newX = new_train.iloc[[1,2,3,4,6,7,9,10,11,13,14,15,16,17,18,19,20,21,22,23,24,25,26,27,28,29,30,31,32],:].copy().T"
   ]
  },
  {
   "cell_type": "code",
   "execution_count": 74,
   "metadata": {
    "collapsed": false
   },
   "outputs": [
    {
     "data": {
      "text/plain": [
       "92"
      ]
     },
     "execution_count": 74,
     "metadata": {},
     "output_type": "execute_result"
    }
   ],
   "source": [
    "newy = list(y[y==1][touse].values)\n",
    "newy.extend(list(y[y==0].values))\n",
    "len(newy)"
   ]
  },
  {
   "cell_type": "code",
   "execution_count": 81,
   "metadata": {
    "collapsed": false
   },
   "outputs": [
    {
     "data": {
      "text/plain": [
       "RandomForestClassifier(bootstrap=True, class_weight=None, criterion='gini',\n",
       "            max_depth=None, max_features='auto', max_leaf_nodes=None,\n",
       "            min_samples_leaf=1, min_samples_split=2,\n",
       "            min_weight_fraction_leaf=0.0, n_estimators=20, n_jobs=1,\n",
       "            oob_score=False, random_state=None, verbose=0,\n",
       "            warm_start=False)"
      ]
     },
     "execution_count": 81,
     "metadata": {},
     "output_type": "execute_result"
    }
   ],
   "source": [
    "clf = RandomForestClassifier(n_estimators=20)\n",
    "clf.fit(newX,newy)"
   ]
  },
  {
   "cell_type": "code",
   "execution_count": 84,
   "metadata": {
    "collapsed": false
   },
   "outputs": [],
   "source": [
    "RFC_pred = clf.predict(test).astype(int)\n",
    "RFC_mat = confusion_matrix(y_test.astype(int),RFC_pred)"
   ]
  },
  {
   "cell_type": "code",
   "execution_count": 85,
   "metadata": {
    "collapsed": false
   },
   "outputs": [
    {
     "name": "stdout",
     "output_type": "stream",
     "text": [
      "0.415789473684\n"
     ]
    }
   ],
   "source": [
    "RFC_score = float(RFC_mat[0,0]+RFC_mat[1,1])/np.sum(RFC_mat)\n",
    "print RFC_score"
   ]
  },
  {
   "cell_type": "code",
   "execution_count": 86,
   "metadata": {
    "collapsed": false
   },
   "outputs": [
    {
     "data": {
      "text/plain": [
       "array([[37, 21],\n",
       "       [90, 42]])"
      ]
     },
     "execution_count": 86,
     "metadata": {},
     "output_type": "execute_result"
    }
   ],
   "source": [
    "RFC_mat"
   ]
  },
  {
   "cell_type": "markdown",
   "metadata": {},
   "source": [
    "FAIL..."
   ]
  },
  {
   "cell_type": "markdown",
   "metadata": {},
   "source": [
    "Lets add more data to the training set:"
   ]
  },
  {
   "cell_type": "code",
   "execution_count": 87,
   "metadata": {
    "collapsed": true
   },
   "outputs": [],
   "source": [
    "firsthalf = DF.loc['day']<=29\n",
    "secondhalf = ~firsthalf\n",
    "\n",
    "big_df = pd.concat([DF,team_df])\n",
    "\n",
    "big_df_firsthalf = big_df[big_df.columns[firsthalf]]\n",
    "big_df_secondhalf = big_df[big_df.columns[secondhalf]]\n",
    "train = big_df_firsthalf[big_df_firsthalf.columns[big_df_firsthalf.loc['day']>1]]\n",
    "y = train.loc['score'].copy()\n",
    "X = train.iloc[[1,2,3,4,6,7,9,10,11,13,14,15,16,17,18,19,20,21,22,23,24,25,26,27,28,29,30,31,32],:].copy().T\n",
    "test = big_df_secondhalf.iloc[[1,2,3,4,6,7,9,10,11,13,14,15,16,17,18,19,20,21,22,23,24,25,26,27,28,29,30,31,32],:].T\n",
    "y_test = big_df_secondhalf.loc['score'].copy()"
   ]
  },
  {
   "cell_type": "code",
   "execution_count": 100,
   "metadata": {
    "collapsed": false
   },
   "outputs": [
    {
     "name": "stdout",
     "output_type": "stream",
     "text": [
      "0.422222222222\n"
     ]
    }
   ],
   "source": [
    "clf = RandomForestClassifier(n_estimators=20)\n",
    "clf.fit(X,list(y.values))\n",
    "\n",
    "RFC_pred = clf.predict(test).astype(int)\n",
    "RFC_mat = confusion_matrix(y_test.astype(int),RFC_pred)\n",
    "\n",
    "RFC_score = float(RFC_mat[0,0]+RFC_mat[1,1]+RFC_mat[2,2])/np.sum(RFC_mat)\n",
    "print RFC_score"
   ]
  }
 ],
 "metadata": {
  "kernelspec": {
   "display_name": "Python 2",
   "language": "python",
   "name": "python2"
  },
  "language_info": {
   "codemirror_mode": {
    "name": "ipython",
    "version": 2
   },
   "file_extension": ".py",
   "mimetype": "text/x-python",
   "name": "python",
   "nbconvert_exporter": "python",
   "pygments_lexer": "ipython2",
   "version": "2.7.10"
  }
 },
 "nbformat": 4,
 "nbformat_minor": 0
}
