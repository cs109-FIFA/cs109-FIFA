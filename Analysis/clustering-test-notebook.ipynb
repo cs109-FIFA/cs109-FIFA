{
 "cells": [
  {
   "cell_type": "code",
   "execution_count": 77,
   "metadata": {
    "collapsed": false
   },
   "outputs": [],
   "source": [
    "import pandas as pd\n",
    "import numpy as np\n",
    "import itertools\n",
    "import sklearn.cluster as skc\n",
    "import matplotlib.pyplot as plt\n",
    "import matplotlib.cm as cm\n",
    "from mpl_toolkits.mplot3d import Axes3D\n",
    "import plotly.plotly as py\n",
    "import plotly.tools as tls\n",
    "py.sign_in('AbhishekMalali', 'rwqa8v03mr')\n",
    "from plotly.graph_objs import *\n",
    "%matplotlib inline"
   ]
  },
  {
   "cell_type": "markdown",
   "metadata": {},
   "source": [
    "#### Loading the data for the 2012-13 Season"
   ]
  },
  {
   "cell_type": "code",
   "execution_count": 78,
   "metadata": {
    "collapsed": false
   },
   "outputs": [],
   "source": [
    "features12 = pd.read_pickle('../Data/features12-13.pkl')\n",
    "tr_features12 = features12.transpose()"
   ]
  },
  {
   "cell_type": "code",
   "execution_count": 79,
   "metadata": {
    "collapsed": false
   },
   "outputs": [],
   "source": [
    "#Splitting the smoothed_value_list into 38 new columns\n",
    "split_fn = lambda x: pd.Series([i for i in x])\n",
    "tr_features12_sm = tr_features12['smoothed_value_list'].apply(split_fn)"
   ]
  },
  {
   "cell_type": "code",
   "execution_count": 80,
   "metadata": {
    "collapsed": true
   },
   "outputs": [],
   "source": [
    "#Splitting the cum_value_list into 38 new columns\n",
    "tr_features12_cm = tr_features12['cum_value_list'].apply(split_fn)"
   ]
  },
  {
   "cell_type": "code",
   "execution_count": 81,
   "metadata": {
    "collapsed": false
   },
   "outputs": [],
   "source": [
    "#Generating column names for the new dataframe\n",
    "col_names_sm = []\n",
    "col_names_cm = []\n",
    "for i in range(38):\n",
    "    col_names_sm.append('smooth_value_week_'+str(i+1))\n",
    "    col_names_cm.append('cuml_value_week_'+str(i+1))"
   ]
  },
  {
   "cell_type": "code",
   "execution_count": 82,
   "metadata": {
    "collapsed": false
   },
   "outputs": [],
   "source": [
    "#Setting the column names for the new dataframe\n",
    "tr_features12_sm.columns = col_names_sm\n",
    "tr_features12_cm.columns = col_names_cm"
   ]
  },
  {
   "cell_type": "code",
   "execution_count": 83,
   "metadata": {
    "collapsed": false
   },
   "outputs": [],
   "source": [
    "#Concatenating the two dataframes\n",
    "df_features12 = pd.concat([tr_features12,tr_features12_sm,tr_features12_cm],axis=1)"
   ]
  },
  {
   "cell_type": "code",
   "execution_count": 84,
   "metadata": {
    "collapsed": false
   },
   "outputs": [],
   "source": [
    "#Selecting columns to be clustered\n",
    "columns_cluster = [[u'avg_value'], [u'avg_value_smoothed'],\n",
    "        [u'nassists'], [u'naway_assists'], [u'naway_goals'],\n",
    "        [u'nearly_assists'], [u'nearly_goals'], [u'nequalizer_assists'],\n",
    "        [u'nequalizer_goals'], [u'ngoals'], [u'nhome_assists'], [u'nhome_goals'],\n",
    "        [u'nlate_assists'], [u'nlate_goals'], [u'nmid_assists'], [u'nmid_goals'],\n",
    "        [u'nsub_assists'], [u'nsub_goals'], [u'ntiebreaker_assists'],\n",
    "        [u'ntiebreaker_goals'], [u'season_value'],col_names_sm, col_names_cm]\n",
    "columns_cluster = list(itertools.chain(*columns_cluster))"
   ]
  },
  {
   "cell_type": "code",
   "execution_count": 85,
   "metadata": {
    "collapsed": false
   },
   "outputs": [],
   "source": [
    "#Creating a new dataframe to be used for clustering\n",
    "df_clustering = df_features12[columns_cluster]"
   ]
  },
  {
   "cell_type": "code",
   "execution_count": 86,
   "metadata": {
    "collapsed": false
   },
   "outputs": [
    {
     "data": {
      "text/html": [
       "<div>\n",
       "<table border=\"1\" class=\"dataframe\">\n",
       "  <thead>\n",
       "    <tr style=\"text-align: right;\">\n",
       "      <th></th>\n",
       "      <th>avg_value</th>\n",
       "      <th>avg_value_smoothed</th>\n",
       "      <th>nassists</th>\n",
       "      <th>naway_assists</th>\n",
       "      <th>naway_goals</th>\n",
       "      <th>nearly_assists</th>\n",
       "      <th>nearly_goals</th>\n",
       "      <th>nequalizer_assists</th>\n",
       "      <th>nequalizer_goals</th>\n",
       "      <th>ngoals</th>\n",
       "      <th>...</th>\n",
       "      <th>cuml_value_week_29</th>\n",
       "      <th>cuml_value_week_30</th>\n",
       "      <th>cuml_value_week_31</th>\n",
       "      <th>cuml_value_week_32</th>\n",
       "      <th>cuml_value_week_33</th>\n",
       "      <th>cuml_value_week_34</th>\n",
       "      <th>cuml_value_week_35</th>\n",
       "      <th>cuml_value_week_36</th>\n",
       "      <th>cuml_value_week_37</th>\n",
       "      <th>cuml_value_week_38</th>\n",
       "    </tr>\n",
       "  </thead>\n",
       "  <tbody>\n",
       "    <tr>\n",
       "      <th>Aaron Hunt</th>\n",
       "      <td>1.142434</td>\n",
       "      <td>1.19568</td>\n",
       "      <td>4</td>\n",
       "      <td>0</td>\n",
       "      <td>5</td>\n",
       "      <td>0</td>\n",
       "      <td>3</td>\n",
       "      <td>0</td>\n",
       "      <td>2</td>\n",
       "      <td>11</td>\n",
       "      <td>...</td>\n",
       "      <td>40.4125</td>\n",
       "      <td>40.4125</td>\n",
       "      <td>40.4125</td>\n",
       "      <td>43.4125</td>\n",
       "      <td>43.4125</td>\n",
       "      <td>43.4125</td>\n",
       "      <td>43.4125</td>\n",
       "      <td>43.4125</td>\n",
       "      <td>43.4125</td>\n",
       "      <td>43.4125</td>\n",
       "    </tr>\n",
       "    <tr>\n",
       "      <th>Aaron Lennon</th>\n",
       "      <td>0.6901316</td>\n",
       "      <td>0.5942928</td>\n",
       "      <td>7</td>\n",
       "      <td>2</td>\n",
       "      <td>1</td>\n",
       "      <td>1</td>\n",
       "      <td>1</td>\n",
       "      <td>1</td>\n",
       "      <td>0</td>\n",
       "      <td>4</td>\n",
       "      <td>...</td>\n",
       "      <td>21.4750</td>\n",
       "      <td>21.4750</td>\n",
       "      <td>21.4750</td>\n",
       "      <td>21.4750</td>\n",
       "      <td>21.4750</td>\n",
       "      <td>21.4750</td>\n",
       "      <td>21.4750</td>\n",
       "      <td>21.4750</td>\n",
       "      <td>21.4750</td>\n",
       "      <td>26.2250</td>\n",
       "    </tr>\n",
       "    <tr>\n",
       "      <th>Aaron Ramsey</th>\n",
       "      <td>0.1848684</td>\n",
       "      <td>0.1690789</td>\n",
       "      <td>2</td>\n",
       "      <td>2</td>\n",
       "      <td>0</td>\n",
       "      <td>1</td>\n",
       "      <td>0</td>\n",
       "      <td>0</td>\n",
       "      <td>0</td>\n",
       "      <td>1</td>\n",
       "      <td>...</td>\n",
       "      <td>3.1625</td>\n",
       "      <td>6.0250</td>\n",
       "      <td>6.0250</td>\n",
       "      <td>6.0250</td>\n",
       "      <td>6.0250</td>\n",
       "      <td>6.0250</td>\n",
       "      <td>6.0250</td>\n",
       "      <td>6.0250</td>\n",
       "      <td>7.0250</td>\n",
       "      <td>7.0250</td>\n",
       "    </tr>\n",
       "    <tr>\n",
       "      <th>Abdelaziz Barrada</th>\n",
       "      <td>0.7023026</td>\n",
       "      <td>0.7875164</td>\n",
       "      <td>6</td>\n",
       "      <td>1</td>\n",
       "      <td>2</td>\n",
       "      <td>1</td>\n",
       "      <td>0</td>\n",
       "      <td>1</td>\n",
       "      <td>2</td>\n",
       "      <td>4</td>\n",
       "      <td>...</td>\n",
       "      <td>23.6875</td>\n",
       "      <td>23.6875</td>\n",
       "      <td>23.6875</td>\n",
       "      <td>23.6875</td>\n",
       "      <td>23.6875</td>\n",
       "      <td>26.6875</td>\n",
       "      <td>26.6875</td>\n",
       "      <td>26.6875</td>\n",
       "      <td>26.6875</td>\n",
       "      <td>26.6875</td>\n",
       "    </tr>\n",
       "    <tr>\n",
       "      <th>Abdou TraorÃ©</th>\n",
       "      <td>0.01973684</td>\n",
       "      <td>0.003947368</td>\n",
       "      <td>1</td>\n",
       "      <td>0</td>\n",
       "      <td>0</td>\n",
       "      <td>0</td>\n",
       "      <td>0</td>\n",
       "      <td>0</td>\n",
       "      <td>0</td>\n",
       "      <td>0</td>\n",
       "      <td>...</td>\n",
       "      <td>0.0000</td>\n",
       "      <td>0.0000</td>\n",
       "      <td>0.0000</td>\n",
       "      <td>0.0000</td>\n",
       "      <td>0.0000</td>\n",
       "      <td>0.0000</td>\n",
       "      <td>0.0000</td>\n",
       "      <td>0.0000</td>\n",
       "      <td>0.0000</td>\n",
       "      <td>0.7500</td>\n",
       "    </tr>\n",
       "  </tbody>\n",
       "</table>\n",
       "<p>5 rows × 97 columns</p>\n",
       "</div>"
      ],
      "text/plain": [
       "                    avg_value avg_value_smoothed nassists naway_assists  \\\n",
       "Aaron Hunt           1.142434            1.19568        4             0   \n",
       "Aaron Lennon        0.6901316          0.5942928        7             2   \n",
       "Aaron Ramsey        0.1848684          0.1690789        2             2   \n",
       "Abdelaziz Barrada   0.7023026          0.7875164        6             1   \n",
       "Abdou TraorÃ©      0.01973684        0.003947368        1             0   \n",
       "\n",
       "                  naway_goals nearly_assists nearly_goals nequalizer_assists  \\\n",
       "Aaron Hunt                  5              0            3                  0   \n",
       "Aaron Lennon                1              1            1                  1   \n",
       "Aaron Ramsey                0              1            0                  0   \n",
       "Abdelaziz Barrada           2              1            0                  1   \n",
       "Abdou TraorÃ©               0              0            0                  0   \n",
       "\n",
       "                  nequalizer_goals ngoals        ...          \\\n",
       "Aaron Hunt                       2     11        ...           \n",
       "Aaron Lennon                     0      4        ...           \n",
       "Aaron Ramsey                     0      1        ...           \n",
       "Abdelaziz Barrada                2      4        ...           \n",
       "Abdou TraorÃ©                    0      0        ...           \n",
       "\n",
       "                  cuml_value_week_29 cuml_value_week_30 cuml_value_week_31  \\\n",
       "Aaron Hunt                   40.4125            40.4125            40.4125   \n",
       "Aaron Lennon                 21.4750            21.4750            21.4750   \n",
       "Aaron Ramsey                  3.1625             6.0250             6.0250   \n",
       "Abdelaziz Barrada            23.6875            23.6875            23.6875   \n",
       "Abdou TraorÃ©                 0.0000             0.0000             0.0000   \n",
       "\n",
       "                  cuml_value_week_32 cuml_value_week_33 cuml_value_week_34  \\\n",
       "Aaron Hunt                   43.4125            43.4125            43.4125   \n",
       "Aaron Lennon                 21.4750            21.4750            21.4750   \n",
       "Aaron Ramsey                  6.0250             6.0250             6.0250   \n",
       "Abdelaziz Barrada            23.6875            23.6875            26.6875   \n",
       "Abdou TraorÃ©                 0.0000             0.0000             0.0000   \n",
       "\n",
       "                  cuml_value_week_35 cuml_value_week_36 cuml_value_week_37  \\\n",
       "Aaron Hunt                   43.4125            43.4125            43.4125   \n",
       "Aaron Lennon                 21.4750            21.4750            21.4750   \n",
       "Aaron Ramsey                  6.0250             6.0250             7.0250   \n",
       "Abdelaziz Barrada            26.6875            26.6875            26.6875   \n",
       "Abdou TraorÃ©                 0.0000             0.0000             0.0000   \n",
       "\n",
       "                  cuml_value_week_38  \n",
       "Aaron Hunt                   43.4125  \n",
       "Aaron Lennon                 26.2250  \n",
       "Aaron Ramsey                  7.0250  \n",
       "Abdelaziz Barrada            26.6875  \n",
       "Abdou TraorÃ©                 0.7500  \n",
       "\n",
       "[5 rows x 97 columns]"
      ]
     },
     "execution_count": 86,
     "metadata": {},
     "output_type": "execute_result"
    }
   ],
   "source": [
    "df_clustering.head()"
   ]
  },
  {
   "cell_type": "markdown",
   "metadata": {},
   "source": [
    "For the data at hand, we choose 10 clusters to group players in. The features which we use are not only the features like goals, assists and our metric but also the score achieved in every round of games. For clustering we use the K-Means algorithm."
   ]
  },
  {
   "cell_type": "markdown",
   "metadata": {},
   "source": [
    "#### Clustering the data using K-Means"
   ]
  },
  {
   "cell_type": "code",
   "execution_count": 103,
   "metadata": {
    "collapsed": false
   },
   "outputs": [
    {
     "data": {
      "text/plain": [
       "KMeans(copy_x=True, init='k-means++', max_iter=300, n_clusters=10, n_init=10,\n",
       "    n_jobs=1, precompute_distances='auto', random_state=None, tol=0.0001,\n",
       "    verbose=0)"
      ]
     },
     "execution_count": 103,
     "metadata": {},
     "output_type": "execute_result"
    }
   ],
   "source": [
    "n_clusters = 10\n",
    "km = skc.KMeans(n_clusters=n_clusters)\n",
    "km.fit(df_clustering.values)"
   ]
  },
  {
   "cell_type": "markdown",
   "metadata": {},
   "source": [
    "#### Counting the number of players in every cluster"
   ]
  },
  {
   "cell_type": "code",
   "execution_count": 104,
   "metadata": {
    "collapsed": false
   },
   "outputs": [
    {
     "name": "stdout",
     "output_type": "stream",
     "text": [
      "Number of players in Cluster no. 0: 413\n",
      "Number of players in Cluster no. 1: 85\n",
      "Number of players in Cluster no. 2: 56\n",
      "Number of players in Cluster no. 3: 122\n",
      "Number of players in Cluster no. 4: 153\n",
      "Number of players in Cluster no. 5: 2\n",
      "Number of players in Cluster no. 6: 137\n",
      "Number of players in Cluster no. 7: 9\n",
      "Number of players in Cluster no. 8: 649\n",
      "Number of players in Cluster no. 9: 37\n"
     ]
    }
   ],
   "source": [
    "for cl_idx in range(10):\n",
    "    print \"Number of players in Cluster no. \"+str(cl_idx)+\":\",\\\n",
    "                    sum(km.labels_ == cl_idx)"
   ]
  },
  {
   "cell_type": "code",
   "execution_count": 105,
   "metadata": {
    "collapsed": false
   },
   "outputs": [
    {
     "data": {
      "text/plain": [
       "<matplotlib.collections.PathCollection at 0x10eb28450>"
      ]
     },
     "execution_count": 105,
     "metadata": {},
     "output_type": "execute_result"
    },
    {
     "data": {
      "image/png": "[encoded data removed]",
      "text/plain": [
       "<matplotlib.figure.Figure at 0x1029a3b50>"
      ]
     },
     "metadata": {},
     "output_type": "display_data"
    }
   ],
   "source": [
    "plt.scatter(df_clustering['ngoals'],km.labels_)"
   ]
  },
  {
   "cell_type": "markdown",
   "metadata": {},
   "source": [
    "#### Visualizing results"
   ]
  },
  {
   "cell_type": "code",
   "execution_count": 106,
   "metadata": {
    "collapsed": false
   },
   "outputs": [],
   "source": [
    "results = pd.DataFrame([df_clustering.index,km.labels_,df_clustering.season_value,\\\n",
    "                       df_clustering.ngoals,df_clustering.nassists,\\\n",
    "                       df_clustering.ntiebreaker_goals, df_clustering.ntiebreaker_assists]).T\n",
    "results.columns = ['Player','Cluster','Value','Goals','Assists','TGoals', 'TAssists']"
   ]
  },
  {
   "cell_type": "code",
   "execution_count": 107,
   "metadata": {
    "collapsed": false
   },
   "outputs": [
    {
     "data": {
      "text/html": [
       "<div>\n",
       "<table border=\"1\" class=\"dataframe\">\n",
       "  <thead>\n",
       "    <tr style=\"text-align: right;\">\n",
       "      <th></th>\n",
       "      <th>Player</th>\n",
       "      <th>Cluster</th>\n",
       "      <th>Value</th>\n",
       "      <th>Goals</th>\n",
       "      <th>Assists</th>\n",
       "      <th>TGoals</th>\n",
       "      <th>TAssists</th>\n",
       "    </tr>\n",
       "  </thead>\n",
       "  <tbody>\n",
       "    <tr>\n",
       "      <th>544</th>\n",
       "      <td>Gareth Bale</td>\n",
       "      <td>9</td>\n",
       "      <td>64.05</td>\n",
       "      <td>21</td>\n",
       "      <td>4</td>\n",
       "      <td>10</td>\n",
       "      <td>2</td>\n",
       "    </tr>\n",
       "  </tbody>\n",
       "</table>\n",
       "</div>"
      ],
      "text/plain": [
       "          Player Cluster  Value Goals Assists TGoals TAssists\n",
       "544  Gareth Bale       9  64.05    21       4     10        2"
      ]
     },
     "execution_count": 107,
     "metadata": {},
     "output_type": "execute_result"
    }
   ],
   "source": [
    "results[results['Player'] == 'Gareth Bale']"
   ]
  },
  {
   "cell_type": "code",
   "execution_count": 108,
   "metadata": {
    "collapsed": false
   },
   "outputs": [
    {
     "data": {
      "text/html": [
       "<div>\n",
       "<table border=\"1\" class=\"dataframe\">\n",
       "  <thead>\n",
       "    <tr style=\"text-align: right;\">\n",
       "      <th></th>\n",
       "      <th>Player</th>\n",
       "      <th>Cluster</th>\n",
       "      <th>Value</th>\n",
       "      <th>Goals</th>\n",
       "      <th>Assists</th>\n",
       "      <th>TGoals</th>\n",
       "      <th>TAssists</th>\n",
       "    </tr>\n",
       "  </thead>\n",
       "  <tbody>\n",
       "    <tr>\n",
       "      <th>909</th>\n",
       "      <td>Lionel Messi</td>\n",
       "      <td>5</td>\n",
       "      <td>128.2087</td>\n",
       "      <td>46</td>\n",
       "      <td>12</td>\n",
       "      <td>14</td>\n",
       "      <td>5</td>\n",
       "    </tr>\n",
       "    <tr>\n",
       "      <th>1334</th>\n",
       "      <td>Robin van Persie</td>\n",
       "      <td>5</td>\n",
       "      <td>98.125</td>\n",
       "      <td>26</td>\n",
       "      <td>9</td>\n",
       "      <td>11</td>\n",
       "      <td>6</td>\n",
       "    </tr>\n",
       "  </tbody>\n",
       "</table>\n",
       "</div>"
      ],
      "text/plain": [
       "                Player Cluster     Value Goals Assists TGoals TAssists\n",
       "909       Lionel Messi       5  128.2087    46      12     14        5\n",
       "1334  Robin van Persie       5    98.125    26       9     11        6"
      ]
     },
     "execution_count": 108,
     "metadata": {},
     "output_type": "execute_result"
    }
   ],
   "source": [
    "results[results['Cluster'] == 5]"
   ]
  },
  {
   "cell_type": "code",
   "execution_count": 109,
   "metadata": {
    "collapsed": true
   },
   "outputs": [],
   "source": [
    "# Save results to be used in further analysis\n",
    "results.to_pickle('../Data/clusteredDF12-13.pkl')"
   ]
  },
  {
   "cell_type": "code",
   "execution_count": 110,
   "metadata": {
    "collapsed": true
   },
   "outputs": [],
   "source": [
    "colors = cm.rainbow(np.linspace(0, 1, n_clusters))"
   ]
  },
  {
   "cell_type": "code",
   "execution_count": 111,
   "metadata": {
    "collapsed": false
   },
   "outputs": [
    {
     "data": {
      "image/png": "[encoded data removed]",
      "text/plain": [
       "<matplotlib.figure.Figure at 0x10eb28ad0>"
      ]
     },
     "metadata": {},
     "output_type": "display_data"
    }
   ],
   "source": [
    "fig = plt.figure()\n",
    "ax = fig.add_subplot(111, projection='3d')\n",
    "ax = Axes3D(fig)\n",
    "cluster_idx = 0\n",
    "for c in colors:\n",
    "    ax.scatter(results['Value'][results['Cluster'] == cluster_idx],\\\n",
    "                results['Goals'][results['Cluster'] == cluster_idx],\n",
    "            zs=results['Assists'][results['Cluster'] == cluster_idx],\\\n",
    "                color=c)\n",
    "    cluster_idx += 1"
   ]
  },
  {
   "cell_type": "code",
   "execution_count": 112,
   "metadata": {
    "collapsed": false
   },
   "outputs": [
    {
     "data": {
      "image/png": "[encoded data removed]",
      "text/plain": [
       "<matplotlib.figure.Figure at 0x110bfe650>"
      ]
     },
     "metadata": {},
     "output_type": "display_data"
    }
   ],
   "source": [
    "import seaborn as sns\n",
    "sns.set_style(\"whitegrid\")\n",
    "sns.set_context(\"poster\")\n",
    "\n",
    "plt.figure(figsize=(12,9))\n",
    "cluster_idx = 0\n",
    "for c in colors:\n",
    "    plt.scatter(results['Goals'][results['Cluster'] == cluster_idx],\\\n",
    "                results['Value'][results['Cluster'] == cluster_idx],\\\n",
    "                color=c)\n",
    "    cluster_idx += 1\n",
    "plt.xlim([0,50])\n",
    "plt.ylim([0,140])\n",
    "plt.xlabel('Number of Goals in Season')\n",
    "plt.ylabel('Season Value')\n",
    "plt.title('Clusters of players for 2012-13 Season')\n",
    "plt.savefig('../Plots/clusters-12-13.jpg',bbox_inches='tight')"
   ]
  },
  {
   "cell_type": "markdown",
   "metadata": {},
   "source": [
    "#### Making 2D plotly plot for 2012-13 season"
   ]
  },
  {
   "cell_type": "code",
   "execution_count": 113,
   "metadata": {
    "collapsed": true
   },
   "outputs": [],
   "source": [
    "cluster_idx=0\n",
    "trace_list = []\n",
    "for c in range(n_clusters):\n",
    "    trace = Scatter(\n",
    "        x=np.array(results['Goals'][results['Cluster'] == c].astype(float)),\n",
    "        y=np.array(results['Value'][results['Cluster'] == c].astype(float)),\n",
    "        name = \"Cluster\" + str(c),\n",
    "        text= results['Player'][results['Cluster'] == c].astype(unicode),\n",
    "        mode='markers')\n",
    "    trace_list.append(trace)\n",
    "data = Data(trace_list)"
   ]
  },
  {
   "cell_type": "code",
   "execution_count": 114,
   "metadata": {
    "collapsed": false
   },
   "outputs": [],
   "source": [
    "layout = Layout(\n",
    "    title='Cluster distribution of players in 2012-13',\n",
    "    xaxis=dict(\n",
    "        title='Number of goals in the season',\n",
    "        titlefont=dict(\n",
    "            family='Courier New, monospace',\n",
    "            size=18,\n",
    "            color='#7f7f7f'\n",
    "        )\n",
    "    ),\n",
    "    yaxis=dict(\n",
    "        title='Season Value',\n",
    "        titlefont=dict(\n",
    "            family='Courier New, monospace',\n",
    "            size=18,\n",
    "            color='#7f7f7f'\n",
    "        )\n",
    "    )\n",
    ")"
   ]
  },
  {
   "cell_type": "code",
   "execution_count": 101,
   "metadata": {
    "collapsed": false
   },
   "outputs": [
    {
     "data": {
      "text/html": [
       "<iframe id=\"igraph\" scrolling=\"no\" style=\"border:none;\"seamless=\"seamless\" src=\"https://plot.ly/~AbhishekMalali/20.embed\" height=\"525px\" width=\"100%\"></iframe>"
      ],
      "text/plain": [
       "<plotly.tools.PlotlyDisplay object>"
      ]
     },
     "execution_count": 101,
     "metadata": {},
     "output_type": "execute_result"
    }
   ],
   "source": [
    "fig = Figure(data=data, layout=layout)\n",
    "py.iplot(fig, filename='basic-scatter-12-13')"
   ]
  },
  {
   "cell_type": "code",
   "execution_count": 102,
   "metadata": {
    "collapsed": true
   },
   "outputs": [],
   "source": [
    "# Dictionary of style options for all axes\n",
    "axis = dict(\n",
    "    showbackground=True, # (!) show axis background\n",
    "    backgroundcolor=\"rgb(204, 204, 204)\", # set background color to grey\n",
    "    gridcolor=\"rgb(255, 255, 255)\",       # set grid line color\n",
    "    zerolinecolor=\"rgb(255, 255, 255)\",   # set zero grid line color\n",
    ")\n",
    "\n",
    "# Make a layout object\n",
    "layout = Layout(\n",
    "    title='Cluster Distribution', # set plot title\n",
    "    scene=Scene(  # (!) axes are part of a 'scene' in 3d plots\n",
    "        xaxis=XAxis(axis,title='Assists'), # set x-axis style\n",
    "        yaxis=YAxis(axis,title='Goals'), # set y-axis style\n",
    "        zaxis=ZAxis(axis,title='Season Value')  # set z-axis style\n",
    "    )\n",
    ")"
   ]
  },
  {
   "cell_type": "code",
   "execution_count": 40,
   "metadata": {
    "collapsed": false
   },
   "outputs": [],
   "source": [
    "cluster_idx=0\n",
    "trace_list = []\n",
    "for c in range(n_clusters):\n",
    "    trace = Scatter3d(\n",
    "        z=np.array(results['Value'][results['Cluster'] == c].astype(float)),\n",
    "        x=np.array(results['Assists'][results['Cluster'] == c].astype(float)),\n",
    "        y=np.array(results['Goals'][results['Cluster'] == c].astype(float)),\n",
    "        name = \"Cluster\" + str(c),\n",
    "        text= results['Player'][results['Cluster'] == c].astype(unicode),\n",
    "        mode='markers')\n",
    "    trace_list.append(trace)\n",
    "data = Data(trace_list)"
   ]
  },
  {
   "cell_type": "code",
   "execution_count": 41,
   "metadata": {
    "collapsed": false
   },
   "outputs": [
    {
     "data": {
      "text/html": [
       "<iframe id=\"igraph\" scrolling=\"no\" style=\"border:none;\"seamless=\"seamless\" src=\"https://plot.ly/~AbhishekMalali/8.embed\" height=\"525px\" width=\"100%\"></iframe>"
      ],
      "text/plain": [
       "<plotly.tools.PlotlyDisplay object>"
      ]
     },
     "execution_count": 41,
     "metadata": {},
     "output_type": "execute_result"
    }
   ],
   "source": [
    "# Make a figure object\n",
    "fig = Figure(data=data, layout=layout)\n",
    "\n",
    "# (@) Send to Plotly and show in notebook\n",
    "py.iplot(fig, filename='s8_surface')"
   ]
  },
  {
   "cell_type": "markdown",
   "metadata": {
    "collapsed": true
   },
   "source": [
    "#### Analyzing data for 2013-14 Season"
   ]
  },
  {
   "cell_type": "code",
   "execution_count": 63,
   "metadata": {
    "collapsed": true
   },
   "outputs": [],
   "source": [
    "features13 = pd.read_pickle('../Data/features13-14.pkl')\n",
    "tr_features13 = features13.transpose()\n",
    "#Splitting the smoothed_value_list into 38 new columns\n",
    "split_fn = lambda x: pd.Series([i for i in x])\n",
    "tr_features13_sm = tr_features13['smoothed_value_list'].apply(split_fn)\n",
    "#Splitting the cum_value_list into 38 new columns\n",
    "tr_features13_cm = tr_features13['cum_value_list'].apply(split_fn)"
   ]
  },
  {
   "cell_type": "code",
   "execution_count": 64,
   "metadata": {
    "collapsed": true
   },
   "outputs": [],
   "source": [
    "#Generating column names for the new dataframe\n",
    "col_names_sm = []\n",
    "col_names_cm = []\n",
    "for i in range(38):\n",
    "    col_names_sm.append('smooth_value_week_'+str(i+1))\n",
    "    col_names_cm.append('cuml_value_week_'+str(i+1))\n",
    "#Setting the column names for the new dataframe\n",
    "tr_features13_sm.columns = col_names_sm\n",
    "tr_features13_cm.columns = col_names_cm"
   ]
  },
  {
   "cell_type": "code",
   "execution_count": 65,
   "metadata": {
    "collapsed": true
   },
   "outputs": [],
   "source": [
    "#Concatenating the two dataframes\n",
    "df_features13 = pd.concat([tr_features13,tr_features13_sm,tr_features13_cm],axis=1)"
   ]
  },
  {
   "cell_type": "code",
   "execution_count": 66,
   "metadata": {
    "collapsed": true
   },
   "outputs": [],
   "source": [
    "#Selecting columns to be clustered\n",
    "columns_cluster = [[u'avg_value'], [u'avg_value_smoothed'],\n",
    "        [u'nassists'], [u'naway_assists'], [u'naway_goals'],\n",
    "        [u'nearly_assists'], [u'nearly_goals'], [u'nequalizer_assists'],\n",
    "        [u'nequalizer_goals'], [u'ngoals'], [u'nhome_assists'], [u'nhome_goals'],\n",
    "        [u'nlate_assists'], [u'nlate_goals'], [u'nmid_assists'], [u'nmid_goals'],\n",
    "        [u'nsub_assists'], [u'nsub_goals'], [u'ntiebreaker_assists'],\n",
    "        [u'ntiebreaker_goals'], [u'season_value'],col_names_sm, col_names_cm]\n",
    "columns_cluster = list(itertools.chain(*columns_cluster))\n",
    "#Creating a new dataframe to be used for clustering\n",
    "df_clustering = df_features13[columns_cluster]\n",
    "df_clustering = df_clustering.dropna(axis=0)"
   ]
  },
  {
   "cell_type": "code",
   "execution_count": 67,
   "metadata": {
    "collapsed": false
   },
   "outputs": [
    {
     "data": {
      "text/html": [
       "<div>\n",
       "<table border=\"1\" class=\"dataframe\">\n",
       "  <thead>\n",
       "    <tr style=\"text-align: right;\">\n",
       "      <th></th>\n",
       "      <th>avg_value</th>\n",
       "      <th>avg_value_smoothed</th>\n",
       "      <th>nassists</th>\n",
       "      <th>naway_assists</th>\n",
       "      <th>naway_goals</th>\n",
       "      <th>nearly_assists</th>\n",
       "      <th>nearly_goals</th>\n",
       "      <th>nequalizer_assists</th>\n",
       "      <th>nequalizer_goals</th>\n",
       "      <th>ngoals</th>\n",
       "      <th>...</th>\n",
       "      <th>cuml_value_week_29</th>\n",
       "      <th>cuml_value_week_30</th>\n",
       "      <th>cuml_value_week_31</th>\n",
       "      <th>cuml_value_week_32</th>\n",
       "      <th>cuml_value_week_33</th>\n",
       "      <th>cuml_value_week_34</th>\n",
       "      <th>cuml_value_week_35</th>\n",
       "      <th>cuml_value_week_36</th>\n",
       "      <th>cuml_value_week_37</th>\n",
       "      <th>cuml_value_week_38</th>\n",
       "    </tr>\n",
       "  </thead>\n",
       "  <tbody>\n",
       "    <tr>\n",
       "      <th>Aaron Hughes</th>\n",
       "      <td>0</td>\n",
       "      <td>0</td>\n",
       "      <td>0</td>\n",
       "      <td>0</td>\n",
       "      <td>0</td>\n",
       "      <td>0</td>\n",
       "      <td>0</td>\n",
       "      <td>0</td>\n",
       "      <td>0</td>\n",
       "      <td>0</td>\n",
       "      <td>...</td>\n",
       "      <td>0.0000</td>\n",
       "      <td>0.0000</td>\n",
       "      <td>0.0000</td>\n",
       "      <td>0.0000</td>\n",
       "      <td>0.0000</td>\n",
       "      <td>0.000</td>\n",
       "      <td>0.0000</td>\n",
       "      <td>0.0000</td>\n",
       "      <td>0.0000</td>\n",
       "      <td>0.0000</td>\n",
       "    </tr>\n",
       "    <tr>\n",
       "      <th>Aaron Hunt</th>\n",
       "      <td>0.8835526</td>\n",
       "      <td>0.8835526</td>\n",
       "      <td>7</td>\n",
       "      <td>4</td>\n",
       "      <td>3</td>\n",
       "      <td>2</td>\n",
       "      <td>0</td>\n",
       "      <td>1</td>\n",
       "      <td>3</td>\n",
       "      <td>7</td>\n",
       "      <td>...</td>\n",
       "      <td>20.2125</td>\n",
       "      <td>20.2125</td>\n",
       "      <td>22.9625</td>\n",
       "      <td>26.4125</td>\n",
       "      <td>30.4125</td>\n",
       "      <td>33.575</td>\n",
       "      <td>33.5750</td>\n",
       "      <td>33.5750</td>\n",
       "      <td>33.5750</td>\n",
       "      <td>33.5750</td>\n",
       "    </tr>\n",
       "    <tr>\n",
       "      <th>Aaron Lennon</th>\n",
       "      <td>0.1638158</td>\n",
       "      <td>0.1493421</td>\n",
       "      <td>4</td>\n",
       "      <td>2</td>\n",
       "      <td>0</td>\n",
       "      <td>0</td>\n",
       "      <td>0</td>\n",
       "      <td>0</td>\n",
       "      <td>0</td>\n",
       "      <td>1</td>\n",
       "      <td>...</td>\n",
       "      <td>2.6125</td>\n",
       "      <td>2.6125</td>\n",
       "      <td>2.6125</td>\n",
       "      <td>2.6125</td>\n",
       "      <td>2.6125</td>\n",
       "      <td>3.475</td>\n",
       "      <td>6.2250</td>\n",
       "      <td>6.2250</td>\n",
       "      <td>6.2250</td>\n",
       "      <td>6.2250</td>\n",
       "    </tr>\n",
       "    <tr>\n",
       "      <th>Aaron Ramsey</th>\n",
       "      <td>0.9121711</td>\n",
       "      <td>0.8631195</td>\n",
       "      <td>7</td>\n",
       "      <td>5</td>\n",
       "      <td>7</td>\n",
       "      <td>1</td>\n",
       "      <td>1</td>\n",
       "      <td>0</td>\n",
       "      <td>0</td>\n",
       "      <td>10</td>\n",
       "      <td>...</td>\n",
       "      <td>26.9000</td>\n",
       "      <td>26.9000</td>\n",
       "      <td>26.9000</td>\n",
       "      <td>26.9000</td>\n",
       "      <td>26.9000</td>\n",
       "      <td>26.900</td>\n",
       "      <td>31.2125</td>\n",
       "      <td>31.2125</td>\n",
       "      <td>31.2125</td>\n",
       "      <td>34.6625</td>\n",
       "    </tr>\n",
       "    <tr>\n",
       "      <th>AarÃ³n</th>\n",
       "      <td>0.1059211</td>\n",
       "      <td>0.1059211</td>\n",
       "      <td>1</td>\n",
       "      <td>1</td>\n",
       "      <td>1</td>\n",
       "      <td>0</td>\n",
       "      <td>0</td>\n",
       "      <td>1</td>\n",
       "      <td>0</td>\n",
       "      <td>1</td>\n",
       "      <td>...</td>\n",
       "      <td>4.0250</td>\n",
       "      <td>4.0250</td>\n",
       "      <td>4.0250</td>\n",
       "      <td>4.0250</td>\n",
       "      <td>4.0250</td>\n",
       "      <td>4.025</td>\n",
       "      <td>4.0250</td>\n",
       "      <td>4.0250</td>\n",
       "      <td>4.0250</td>\n",
       "      <td>4.0250</td>\n",
       "    </tr>\n",
       "  </tbody>\n",
       "</table>\n",
       "<p>5 rows × 97 columns</p>\n",
       "</div>"
      ],
      "text/plain": [
       "              avg_value avg_value_smoothed nassists naway_assists naway_goals  \\\n",
       "Aaron Hughes          0                  0        0             0           0   \n",
       "Aaron Hunt    0.8835526          0.8835526        7             4           3   \n",
       "Aaron Lennon  0.1638158          0.1493421        4             2           0   \n",
       "Aaron Ramsey  0.9121711          0.8631195        7             5           7   \n",
       "AarÃ³n        0.1059211          0.1059211        1             1           1   \n",
       "\n",
       "             nearly_assists nearly_goals nequalizer_assists nequalizer_goals  \\\n",
       "Aaron Hughes              0            0                  0                0   \n",
       "Aaron Hunt                2            0                  1                3   \n",
       "Aaron Lennon              0            0                  0                0   \n",
       "Aaron Ramsey              1            1                  0                0   \n",
       "AarÃ³n                    0            0                  1                0   \n",
       "\n",
       "             ngoals        ...         cuml_value_week_29 cuml_value_week_30  \\\n",
       "Aaron Hughes      0        ...                     0.0000             0.0000   \n",
       "Aaron Hunt        7        ...                    20.2125            20.2125   \n",
       "Aaron Lennon      1        ...                     2.6125             2.6125   \n",
       "Aaron Ramsey     10        ...                    26.9000            26.9000   \n",
       "AarÃ³n            1        ...                     4.0250             4.0250   \n",
       "\n",
       "             cuml_value_week_31 cuml_value_week_32 cuml_value_week_33  \\\n",
       "Aaron Hughes             0.0000             0.0000             0.0000   \n",
       "Aaron Hunt              22.9625            26.4125            30.4125   \n",
       "Aaron Lennon             2.6125             2.6125             2.6125   \n",
       "Aaron Ramsey            26.9000            26.9000            26.9000   \n",
       "AarÃ³n                   4.0250             4.0250             4.0250   \n",
       "\n",
       "             cuml_value_week_34 cuml_value_week_35 cuml_value_week_36  \\\n",
       "Aaron Hughes              0.000             0.0000             0.0000   \n",
       "Aaron Hunt               33.575            33.5750            33.5750   \n",
       "Aaron Lennon              3.475             6.2250             6.2250   \n",
       "Aaron Ramsey             26.900            31.2125            31.2125   \n",
       "AarÃ³n                    4.025             4.0250             4.0250   \n",
       "\n",
       "             cuml_value_week_37 cuml_value_week_38  \n",
       "Aaron Hughes             0.0000             0.0000  \n",
       "Aaron Hunt              33.5750            33.5750  \n",
       "Aaron Lennon             6.2250             6.2250  \n",
       "Aaron Ramsey            31.2125            34.6625  \n",
       "AarÃ³n                   4.0250             4.0250  \n",
       "\n",
       "[5 rows x 97 columns]"
      ]
     },
     "execution_count": 67,
     "metadata": {},
     "output_type": "execute_result"
    }
   ],
   "source": [
    "df_clustering.head(5)"
   ]
  },
  {
   "cell_type": "markdown",
   "metadata": {},
   "source": [
    "#### Clustering using K-Means"
   ]
  },
  {
   "cell_type": "code",
   "execution_count": 68,
   "metadata": {
    "collapsed": false
   },
   "outputs": [
    {
     "data": {
      "text/plain": [
       "KMeans(copy_x=True, init='k-means++', max_iter=300, n_clusters=10, n_init=10,\n",
       "    n_jobs=1, precompute_distances='auto', random_state=None, tol=0.0001,\n",
       "    verbose=0)"
      ]
     },
     "execution_count": 68,
     "metadata": {},
     "output_type": "execute_result"
    }
   ],
   "source": [
    "n_clusters = 10\n",
    "km = skc.KMeans(n_clusters=n_clusters)\n",
    "km.fit(df_clustering.values)"
   ]
  },
  {
   "cell_type": "markdown",
   "metadata": {},
   "source": [
    "#### Counting the number of players in every cluster"
   ]
  },
  {
   "cell_type": "code",
   "execution_count": 69,
   "metadata": {
    "collapsed": false
   },
   "outputs": [
    {
     "name": "stdout",
     "output_type": "stream",
     "text": [
      "Number of players in Cluster no. 0: 163\n",
      "Number of players in Cluster no. 1: 48\n",
      "Number of players in Cluster no. 2: 72\n",
      "Number of players in Cluster no. 3: 440\n",
      "Number of players in Cluster no. 4: 406\n",
      "Number of players in Cluster no. 5: 20\n",
      "Number of players in Cluster no. 6: 113\n",
      "Number of players in Cluster no. 7: 50\n",
      "Number of players in Cluster no. 8: 265\n",
      "Number of players in Cluster no. 9: 65\n"
     ]
    }
   ],
   "source": [
    "for cl_idx in range(10):\n",
    "    print \"Number of players in Cluster no. \"+str(cl_idx)+\":\",\\\n",
    "                    sum(km.labels_ == cl_idx)"
   ]
  },
  {
   "cell_type": "code",
   "execution_count": 70,
   "metadata": {
    "collapsed": true
   },
   "outputs": [],
   "source": [
    "results = pd.DataFrame([df_clustering.index,km.labels_,df_clustering.season_value,\\\n",
    "                       df_clustering.ngoals,df_clustering.nassists,\\\n",
    "                       df_clustering.ntiebreaker_goals, df_clustering.ntiebreaker_assists]).T\n",
    "results.columns = ['Player','Cluster','Value','Goals','Assists','TGoals', 'TAssists']"
   ]
  },
  {
   "cell_type": "code",
   "execution_count": 71,
   "metadata": {
    "collapsed": false
   },
   "outputs": [
    {
     "data": {
      "text/html": [
       "<div>\n",
       "<table border=\"1\" class=\"dataframe\">\n",
       "  <thead>\n",
       "    <tr style=\"text-align: right;\">\n",
       "      <th></th>\n",
       "      <th>Player</th>\n",
       "      <th>Cluster</th>\n",
       "      <th>Value</th>\n",
       "      <th>Goals</th>\n",
       "      <th>Assists</th>\n",
       "      <th>TGoals</th>\n",
       "      <th>TAssists</th>\n",
       "    </tr>\n",
       "  </thead>\n",
       "  <tbody>\n",
       "    <tr>\n",
       "      <th>525</th>\n",
       "      <td>Gareth Bale</td>\n",
       "      <td>1</td>\n",
       "      <td>46.2475</td>\n",
       "      <td>15</td>\n",
       "      <td>12</td>\n",
       "      <td>4</td>\n",
       "      <td>3</td>\n",
       "    </tr>\n",
       "  </tbody>\n",
       "</table>\n",
       "</div>"
      ],
      "text/plain": [
       "          Player Cluster    Value Goals Assists TGoals TAssists\n",
       "525  Gareth Bale       1  46.2475    15      12      4        3"
      ]
     },
     "execution_count": 71,
     "metadata": {},
     "output_type": "execute_result"
    }
   ],
   "source": [
    "results[results['Player'] == 'Gareth Bale']"
   ]
  },
  {
   "cell_type": "code",
   "execution_count": 72,
   "metadata": {
    "collapsed": false
   },
   "outputs": [
    {
     "data": {
      "text/html": [
       "<div>\n",
       "<table border=\"1\" class=\"dataframe\">\n",
       "  <thead>\n",
       "    <tr style=\"text-align: right;\">\n",
       "      <th></th>\n",
       "      <th>Player</th>\n",
       "      <th>Cluster</th>\n",
       "      <th>Value</th>\n",
       "      <th>Goals</th>\n",
       "      <th>Assists</th>\n",
       "      <th>TGoals</th>\n",
       "      <th>TAssists</th>\n",
       "    </tr>\n",
       "  </thead>\n",
       "  <tbody>\n",
       "    <tr>\n",
       "      <th>0</th>\n",
       "      <td>Aaron Hughes</td>\n",
       "      <td>4</td>\n",
       "      <td>0</td>\n",
       "      <td>0</td>\n",
       "      <td>0</td>\n",
       "      <td>0</td>\n",
       "      <td>0</td>\n",
       "    </tr>\n",
       "    <tr>\n",
       "      <th>5</th>\n",
       "      <td>Abdelhamid El-Kaoutari</td>\n",
       "      <td>4</td>\n",
       "      <td>1</td>\n",
       "      <td>1</td>\n",
       "      <td>0</td>\n",
       "      <td>0</td>\n",
       "      <td>0</td>\n",
       "    </tr>\n",
       "    <tr>\n",
       "      <th>6</th>\n",
       "      <td>Abdou TraorÃ©</td>\n",
       "      <td>4</td>\n",
       "      <td>3</td>\n",
       "      <td>1</td>\n",
       "      <td>0</td>\n",
       "      <td>1</td>\n",
       "      <td>0</td>\n",
       "    </tr>\n",
       "    <tr>\n",
       "      <th>11</th>\n",
       "      <td>Abel Aguilar</td>\n",
       "      <td>4</td>\n",
       "      <td>2.75</td>\n",
       "      <td>1</td>\n",
       "      <td>0</td>\n",
       "      <td>0</td>\n",
       "      <td>0</td>\n",
       "    </tr>\n",
       "    <tr>\n",
       "      <th>13</th>\n",
       "      <td>Abraham</td>\n",
       "      <td>4</td>\n",
       "      <td>0.8625</td>\n",
       "      <td>0</td>\n",
       "      <td>1</td>\n",
       "      <td>0</td>\n",
       "      <td>0</td>\n",
       "    </tr>\n",
       "    <tr>\n",
       "      <th>20</th>\n",
       "      <td>Adem Ljajić</td>\n",
       "      <td>4</td>\n",
       "      <td>1</td>\n",
       "      <td>1</td>\n",
       "      <td>0</td>\n",
       "      <td>0</td>\n",
       "      <td>0</td>\n",
       "    </tr>\n",
       "    <tr>\n",
       "      <th>31</th>\n",
       "      <td>Agim Ibraimi</td>\n",
       "      <td>4</td>\n",
       "      <td>4.9125</td>\n",
       "      <td>2</td>\n",
       "      <td>1</td>\n",
       "      <td>0</td>\n",
       "      <td>0</td>\n",
       "    </tr>\n",
       "    <tr>\n",
       "      <th>34</th>\n",
       "      <td>Aiden McGeady</td>\n",
       "      <td>4</td>\n",
       "      <td>5.1625</td>\n",
       "      <td>0</td>\n",
       "      <td>1</td>\n",
       "      <td>0</td>\n",
       "      <td>1</td>\n",
       "    </tr>\n",
       "    <tr>\n",
       "      <th>36</th>\n",
       "      <td>Alaixys Romao</td>\n",
       "      <td>4</td>\n",
       "      <td>1</td>\n",
       "      <td>1</td>\n",
       "      <td>0</td>\n",
       "      <td>0</td>\n",
       "      <td>0</td>\n",
       "    </tr>\n",
       "    <tr>\n",
       "      <th>39</th>\n",
       "      <td>Alberto Frison</td>\n",
       "      <td>4</td>\n",
       "      <td>1</td>\n",
       "      <td>1</td>\n",
       "      <td>0</td>\n",
       "      <td>0</td>\n",
       "      <td>0</td>\n",
       "    </tr>\n",
       "    <tr>\n",
       "      <th>45</th>\n",
       "      <td>Aldo Angoula</td>\n",
       "      <td>4</td>\n",
       "      <td>1.15</td>\n",
       "      <td>1</td>\n",
       "      <td>0</td>\n",
       "      <td>0</td>\n",
       "      <td>0</td>\n",
       "    </tr>\n",
       "    <tr>\n",
       "      <th>50</th>\n",
       "      <td>Aleksandr Yakovenko</td>\n",
       "      <td>4</td>\n",
       "      <td>3.15</td>\n",
       "      <td>1</td>\n",
       "      <td>0</td>\n",
       "      <td>0</td>\n",
       "      <td>0</td>\n",
       "    </tr>\n",
       "    <tr>\n",
       "      <th>51</th>\n",
       "      <td>Alessandro Agostini</td>\n",
       "      <td>4</td>\n",
       "      <td>2.75</td>\n",
       "      <td>0</td>\n",
       "      <td>1</td>\n",
       "      <td>0</td>\n",
       "      <td>0</td>\n",
       "    </tr>\n",
       "    <tr>\n",
       "      <th>55</th>\n",
       "      <td>Alessandro Gazzi</td>\n",
       "      <td>4</td>\n",
       "      <td>6.75</td>\n",
       "      <td>0</td>\n",
       "      <td>1</td>\n",
       "      <td>0</td>\n",
       "      <td>1</td>\n",
       "    </tr>\n",
       "    <tr>\n",
       "      <th>62</th>\n",
       "      <td>Alex Bruce</td>\n",
       "      <td>4</td>\n",
       "      <td>2.75</td>\n",
       "      <td>0</td>\n",
       "      <td>1</td>\n",
       "      <td>0</td>\n",
       "      <td>1</td>\n",
       "    </tr>\n",
       "    <tr>\n",
       "      <th>64</th>\n",
       "      <td>Alex Song</td>\n",
       "      <td>4</td>\n",
       "      <td>0</td>\n",
       "      <td>0</td>\n",
       "      <td>0</td>\n",
       "      <td>0</td>\n",
       "      <td>0</td>\n",
       "    </tr>\n",
       "    <tr>\n",
       "      <th>71</th>\n",
       "      <td>Alexander Tettey</td>\n",
       "      <td>4</td>\n",
       "      <td>1</td>\n",
       "      <td>1</td>\n",
       "      <td>0</td>\n",
       "      <td>0</td>\n",
       "      <td>0</td>\n",
       "    </tr>\n",
       "    <tr>\n",
       "      <th>76</th>\n",
       "      <td>Allan</td>\n",
       "      <td>4</td>\n",
       "      <td>0.75</td>\n",
       "      <td>0</td>\n",
       "      <td>1</td>\n",
       "      <td>0</td>\n",
       "      <td>0</td>\n",
       "    </tr>\n",
       "    <tr>\n",
       "      <th>78</th>\n",
       "      <td>Aly Cissokho</td>\n",
       "      <td>4</td>\n",
       "      <td>0.75</td>\n",
       "      <td>0</td>\n",
       "      <td>1</td>\n",
       "      <td>0</td>\n",
       "      <td>0</td>\n",
       "    </tr>\n",
       "    <tr>\n",
       "      <th>81</th>\n",
       "      <td>Amin Younes</td>\n",
       "      <td>4</td>\n",
       "      <td>2.8625</td>\n",
       "      <td>0</td>\n",
       "      <td>1</td>\n",
       "      <td>0</td>\n",
       "      <td>0</td>\n",
       "    </tr>\n",
       "    <tr>\n",
       "      <th>82</th>\n",
       "      <td>Amorebieta</td>\n",
       "      <td>4</td>\n",
       "      <td>1</td>\n",
       "      <td>1</td>\n",
       "      <td>0</td>\n",
       "      <td>0</td>\n",
       "      <td>0</td>\n",
       "    </tr>\n",
       "    <tr>\n",
       "      <th>85</th>\n",
       "      <td>Andrea Barzagli</td>\n",
       "      <td>4</td>\n",
       "      <td>1.15</td>\n",
       "      <td>1</td>\n",
       "      <td>0</td>\n",
       "      <td>0</td>\n",
       "      <td>0</td>\n",
       "    </tr>\n",
       "    <tr>\n",
       "      <th>105</th>\n",
       "      <td>Angelo Palombo</td>\n",
       "      <td>4</td>\n",
       "      <td>1</td>\n",
       "      <td>1</td>\n",
       "      <td>0</td>\n",
       "      <td>0</td>\n",
       "      <td>0</td>\n",
       "    </tr>\n",
       "    <tr>\n",
       "      <th>107</th>\n",
       "      <td>Ante RebiÄ</td>\n",
       "      <td>4</td>\n",
       "      <td>3</td>\n",
       "      <td>1</td>\n",
       "      <td>0</td>\n",
       "      <td>1</td>\n",
       "      <td>0</td>\n",
       "    </tr>\n",
       "    <tr>\n",
       "      <th>108</th>\n",
       "      <td>Anthony Le Tallec</td>\n",
       "      <td>4</td>\n",
       "      <td>2.3</td>\n",
       "      <td>2</td>\n",
       "      <td>0</td>\n",
       "      <td>0</td>\n",
       "      <td>0</td>\n",
       "    </tr>\n",
       "    <tr>\n",
       "      <th>113</th>\n",
       "      <td>Anthony Weber</td>\n",
       "      <td>4</td>\n",
       "      <td>0</td>\n",
       "      <td>0</td>\n",
       "      <td>0</td>\n",
       "      <td>0</td>\n",
       "      <td>0</td>\n",
       "    </tr>\n",
       "    <tr>\n",
       "      <th>114</th>\n",
       "      <td>Antoine Conte</td>\n",
       "      <td>4</td>\n",
       "      <td>2.75</td>\n",
       "      <td>0</td>\n",
       "      <td>1</td>\n",
       "      <td>0</td>\n",
       "      <td>1</td>\n",
       "    </tr>\n",
       "    <tr>\n",
       "      <th>117</th>\n",
       "      <td>AntolÃ­n Alcaraz</td>\n",
       "      <td>4</td>\n",
       "      <td>3</td>\n",
       "      <td>1</td>\n",
       "      <td>0</td>\n",
       "      <td>1</td>\n",
       "      <td>0</td>\n",
       "    </tr>\n",
       "    <tr>\n",
       "      <th>122</th>\n",
       "      <td>Antonio Luna</td>\n",
       "      <td>4</td>\n",
       "      <td>1.15</td>\n",
       "      <td>1</td>\n",
       "      <td>0</td>\n",
       "      <td>0</td>\n",
       "      <td>0</td>\n",
       "    </tr>\n",
       "    <tr>\n",
       "      <th>125</th>\n",
       "      <td>Antonio Rukavina</td>\n",
       "      <td>4</td>\n",
       "      <td>6.1625</td>\n",
       "      <td>1</td>\n",
       "      <td>1</td>\n",
       "      <td>1</td>\n",
       "      <td>1</td>\n",
       "    </tr>\n",
       "    <tr>\n",
       "      <th>...</th>\n",
       "      <td>...</td>\n",
       "      <td>...</td>\n",
       "      <td>...</td>\n",
       "      <td>...</td>\n",
       "      <td>...</td>\n",
       "      <td>...</td>\n",
       "      <td>...</td>\n",
       "    </tr>\n",
       "    <tr>\n",
       "      <th>1515</th>\n",
       "      <td>Tom Cleverley</td>\n",
       "      <td>4</td>\n",
       "      <td>1.15</td>\n",
       "      <td>1</td>\n",
       "      <td>0</td>\n",
       "      <td>0</td>\n",
       "      <td>0</td>\n",
       "    </tr>\n",
       "    <tr>\n",
       "      <th>1523</th>\n",
       "      <td>Toquero</td>\n",
       "      <td>4</td>\n",
       "      <td>2.5875</td>\n",
       "      <td>0</td>\n",
       "      <td>1</td>\n",
       "      <td>0</td>\n",
       "      <td>0</td>\n",
       "    </tr>\n",
       "    <tr>\n",
       "      <th>1528</th>\n",
       "      <td>Trujillo</td>\n",
       "      <td>4</td>\n",
       "      <td>1.15</td>\n",
       "      <td>1</td>\n",
       "      <td>0</td>\n",
       "      <td>0</td>\n",
       "      <td>0</td>\n",
       "    </tr>\n",
       "    <tr>\n",
       "      <th>1530</th>\n",
       "      <td>UroÅ¡ SpajiÄ</td>\n",
       "      <td>4</td>\n",
       "      <td>0.75</td>\n",
       "      <td>0</td>\n",
       "      <td>1</td>\n",
       "      <td>0</td>\n",
       "      <td>0</td>\n",
       "    </tr>\n",
       "    <tr>\n",
       "      <th>1533</th>\n",
       "      <td>Valentin Roberge</td>\n",
       "      <td>4</td>\n",
       "      <td>3.1625</td>\n",
       "      <td>0</td>\n",
       "      <td>1</td>\n",
       "      <td>0</td>\n",
       "      <td>0</td>\n",
       "    </tr>\n",
       "    <tr>\n",
       "      <th>1534</th>\n",
       "      <td>Valmir Sulejmani</td>\n",
       "      <td>4</td>\n",
       "      <td>2.75</td>\n",
       "      <td>0</td>\n",
       "      <td>1</td>\n",
       "      <td>0</td>\n",
       "      <td>0</td>\n",
       "    </tr>\n",
       "    <tr>\n",
       "      <th>1539</th>\n",
       "      <td>Vasco Regini</td>\n",
       "      <td>4</td>\n",
       "      <td>6.25</td>\n",
       "      <td>0</td>\n",
       "      <td>3</td>\n",
       "      <td>0</td>\n",
       "      <td>1</td>\n",
       "    </tr>\n",
       "    <tr>\n",
       "      <th>1540</th>\n",
       "      <td>Vasilios Torosidis</td>\n",
       "      <td>4</td>\n",
       "      <td>1.8625</td>\n",
       "      <td>1</td>\n",
       "      <td>1</td>\n",
       "      <td>0</td>\n",
       "      <td>0</td>\n",
       "    </tr>\n",
       "    <tr>\n",
       "      <th>1547</th>\n",
       "      <td>Victor Obinna</td>\n",
       "      <td>4</td>\n",
       "      <td>9.75</td>\n",
       "      <td>2</td>\n",
       "      <td>0</td>\n",
       "      <td>1</td>\n",
       "      <td>0</td>\n",
       "    </tr>\n",
       "    <tr>\n",
       "      <th>1554</th>\n",
       "      <td>VinÃ­cius AraÃºjo</td>\n",
       "      <td>4</td>\n",
       "      <td>5.1625</td>\n",
       "      <td>0</td>\n",
       "      <td>1</td>\n",
       "      <td>0</td>\n",
       "      <td>0</td>\n",
       "    </tr>\n",
       "    <tr>\n",
       "      <th>1560</th>\n",
       "      <td>VÃ­ctor CasadesÃºs</td>\n",
       "      <td>4</td>\n",
       "      <td>4.95</td>\n",
       "      <td>1</td>\n",
       "      <td>2</td>\n",
       "      <td>1</td>\n",
       "      <td>0</td>\n",
       "    </tr>\n",
       "    <tr>\n",
       "      <th>1567</th>\n",
       "      <td>Walter Samuel</td>\n",
       "      <td>4</td>\n",
       "      <td>4.15</td>\n",
       "      <td>2</td>\n",
       "      <td>0</td>\n",
       "      <td>1</td>\n",
       "      <td>0</td>\n",
       "    </tr>\n",
       "    <tr>\n",
       "      <th>1574</th>\n",
       "      <td>Wesley Lautoa</td>\n",
       "      <td>4</td>\n",
       "      <td>5.75</td>\n",
       "      <td>1</td>\n",
       "      <td>1</td>\n",
       "      <td>1</td>\n",
       "      <td>1</td>\n",
       "    </tr>\n",
       "    <tr>\n",
       "      <th>1581</th>\n",
       "      <td>Xabi Alonso</td>\n",
       "      <td>4</td>\n",
       "      <td>0.75</td>\n",
       "      <td>0</td>\n",
       "      <td>1</td>\n",
       "      <td>0</td>\n",
       "      <td>0</td>\n",
       "    </tr>\n",
       "    <tr>\n",
       "      <th>1596</th>\n",
       "      <td>Yoel</td>\n",
       "      <td>4</td>\n",
       "      <td>0</td>\n",
       "      <td>0</td>\n",
       "      <td>0</td>\n",
       "      <td>0</td>\n",
       "      <td>0</td>\n",
       "    </tr>\n",
       "    <tr>\n",
       "      <th>1600</th>\n",
       "      <td>YounÃ¨s Kaabouni</td>\n",
       "      <td>4</td>\n",
       "      <td>3.1625</td>\n",
       "      <td>0</td>\n",
       "      <td>1</td>\n",
       "      <td>0</td>\n",
       "      <td>1</td>\n",
       "    </tr>\n",
       "    <tr>\n",
       "      <th>1601</th>\n",
       "      <td>YounÃ¨s Kaboul</td>\n",
       "      <td>4</td>\n",
       "      <td>4.75</td>\n",
       "      <td>2</td>\n",
       "      <td>1</td>\n",
       "      <td>1</td>\n",
       "      <td>0</td>\n",
       "    </tr>\n",
       "    <tr>\n",
       "      <th>1609</th>\n",
       "      <td>Zhi Gin Lam</td>\n",
       "      <td>4</td>\n",
       "      <td>1.15</td>\n",
       "      <td>1</td>\n",
       "      <td>0</td>\n",
       "      <td>0</td>\n",
       "      <td>0</td>\n",
       "    </tr>\n",
       "    <tr>\n",
       "      <th>1612</th>\n",
       "      <td>ZoltÃ¡n Gera</td>\n",
       "      <td>4</td>\n",
       "      <td>2.75</td>\n",
       "      <td>0</td>\n",
       "      <td>1</td>\n",
       "      <td>0</td>\n",
       "      <td>0</td>\n",
       "    </tr>\n",
       "    <tr>\n",
       "      <th>1614</th>\n",
       "      <td>ZÃ© Castro</td>\n",
       "      <td>4</td>\n",
       "      <td>6.1625</td>\n",
       "      <td>1</td>\n",
       "      <td>1</td>\n",
       "      <td>1</td>\n",
       "      <td>1</td>\n",
       "    </tr>\n",
       "    <tr>\n",
       "      <th>1615</th>\n",
       "      <td>Ãngel Rangel</td>\n",
       "      <td>4</td>\n",
       "      <td>2.875</td>\n",
       "      <td>0</td>\n",
       "      <td>1</td>\n",
       "      <td>0</td>\n",
       "      <td>0</td>\n",
       "    </tr>\n",
       "    <tr>\n",
       "      <th>1617</th>\n",
       "      <td>Ãlex</td>\n",
       "      <td>4</td>\n",
       "      <td>2.75</td>\n",
       "      <td>0</td>\n",
       "      <td>1</td>\n",
       "      <td>0</td>\n",
       "      <td>0</td>\n",
       "    </tr>\n",
       "    <tr>\n",
       "      <th>1619</th>\n",
       "      <td>Ãlvaro</td>\n",
       "      <td>4</td>\n",
       "      <td>0.8625</td>\n",
       "      <td>0</td>\n",
       "      <td>1</td>\n",
       "      <td>0</td>\n",
       "      <td>0</td>\n",
       "    </tr>\n",
       "    <tr>\n",
       "      <th>1620</th>\n",
       "      <td>Ãlvaro Arroyo</td>\n",
       "      <td>4</td>\n",
       "      <td>1</td>\n",
       "      <td>1</td>\n",
       "      <td>0</td>\n",
       "      <td>0</td>\n",
       "      <td>0</td>\n",
       "    </tr>\n",
       "    <tr>\n",
       "      <th>1624</th>\n",
       "      <td>Ãngel</td>\n",
       "      <td>4</td>\n",
       "      <td>8.1625</td>\n",
       "      <td>2</td>\n",
       "      <td>0</td>\n",
       "      <td>1</td>\n",
       "      <td>0</td>\n",
       "    </tr>\n",
       "    <tr>\n",
       "      <th>1631</th>\n",
       "      <td>Ãtienne Capoue</td>\n",
       "      <td>4</td>\n",
       "      <td>3</td>\n",
       "      <td>1</td>\n",
       "      <td>0</td>\n",
       "      <td>0</td>\n",
       "      <td>0</td>\n",
       "    </tr>\n",
       "    <tr>\n",
       "      <th>1634</th>\n",
       "      <td>ÃÃ±igo LÃ³pez</td>\n",
       "      <td>4</td>\n",
       "      <td>3.45</td>\n",
       "      <td>1</td>\n",
       "      <td>0</td>\n",
       "      <td>1</td>\n",
       "      <td>0</td>\n",
       "    </tr>\n",
       "    <tr>\n",
       "      <th>1637</th>\n",
       "      <td>Ãscar DÃ­az</td>\n",
       "      <td>4</td>\n",
       "      <td>7.75</td>\n",
       "      <td>4</td>\n",
       "      <td>0</td>\n",
       "      <td>1</td>\n",
       "      <td>0</td>\n",
       "    </tr>\n",
       "    <tr>\n",
       "      <th>1639</th>\n",
       "      <td>Ãmer Toprak</td>\n",
       "      <td>4</td>\n",
       "      <td>5.9125</td>\n",
       "      <td>1</td>\n",
       "      <td>1</td>\n",
       "      <td>0</td>\n",
       "      <td>1</td>\n",
       "    </tr>\n",
       "    <tr>\n",
       "      <th>1641</th>\n",
       "      <td>Å ime Vrsaljko</td>\n",
       "      <td>4</td>\n",
       "      <td>0.8625</td>\n",
       "      <td>0</td>\n",
       "      <td>1</td>\n",
       "      <td>0</td>\n",
       "      <td>0</td>\n",
       "    </tr>\n",
       "  </tbody>\n",
       "</table>\n",
       "<p>406 rows × 7 columns</p>\n",
       "</div>"
      ],
      "text/plain": [
       "                      Player Cluster   Value Goals Assists TGoals TAssists\n",
       "0               Aaron Hughes       4       0     0       0      0        0\n",
       "5     Abdelhamid El-Kaoutari       4       1     1       0      0        0\n",
       "6              Abdou TraorÃ©       4       3     1       0      1        0\n",
       "11              Abel Aguilar       4    2.75     1       0      0        0\n",
       "13                   Abraham       4  0.8625     0       1      0        0\n",
       "20               Adem Ljajić       4       1     1       0      0        0\n",
       "31              Agim Ibraimi       4  4.9125     2       1      0        0\n",
       "34             Aiden McGeady       4  5.1625     0       1      0        1\n",
       "36             Alaixys Romao       4       1     1       0      0        0\n",
       "39            Alberto Frison       4       1     1       0      0        0\n",
       "45              Aldo Angoula       4    1.15     1       0      0        0\n",
       "50       Aleksandr Yakovenko       4    3.15     1       0      0        0\n",
       "51       Alessandro Agostini       4    2.75     0       1      0        0\n",
       "55          Alessandro Gazzi       4    6.75     0       1      0        1\n",
       "62                Alex Bruce       4    2.75     0       1      0        1\n",
       "64                 Alex Song       4       0     0       0      0        0\n",
       "71          Alexander Tettey       4       1     1       0      0        0\n",
       "76                     Allan       4    0.75     0       1      0        0\n",
       "78              Aly Cissokho       4    0.75     0       1      0        0\n",
       "81               Amin Younes       4  2.8625     0       1      0        0\n",
       "82                Amorebieta       4       1     1       0      0        0\n",
       "85           Andrea Barzagli       4    1.15     1       0      0        0\n",
       "105           Angelo Palombo       4       1     1       0      0        0\n",
       "107              Ante RebiÄ       4       3     1       0      1        0\n",
       "108        Anthony Le Tallec       4     2.3     2       0      0        0\n",
       "113            Anthony Weber       4       0     0       0      0        0\n",
       "114            Antoine Conte       4    2.75     0       1      0        1\n",
       "117         AntolÃ­n Alcaraz       4       3     1       0      1        0\n",
       "122             Antonio Luna       4    1.15     1       0      0        0\n",
       "125         Antonio Rukavina       4  6.1625     1       1      1        1\n",
       "...                      ...     ...     ...   ...     ...    ...      ...\n",
       "1515           Tom Cleverley       4    1.15     1       0      0        0\n",
       "1523                 Toquero       4  2.5875     0       1      0        0\n",
       "1528                Trujillo       4    1.15     1       0      0        0\n",
       "1530           UroÅ¡ SpajiÄ       4    0.75     0       1      0        0\n",
       "1533        Valentin Roberge       4  3.1625     0       1      0        0\n",
       "1534        Valmir Sulejmani       4    2.75     0       1      0        0\n",
       "1539            Vasco Regini       4    6.25     0       3      0        1\n",
       "1540      Vasilios Torosidis       4  1.8625     1       1      0        0\n",
       "1547           Victor Obinna       4    9.75     2       0      1        0\n",
       "1554       VinÃ­cius AraÃºjo       4  5.1625     0       1      0        0\n",
       "1560      VÃ­ctor CasadesÃºs       4    4.95     1       2      1        0\n",
       "1567           Walter Samuel       4    4.15     2       0      1        0\n",
       "1574           Wesley Lautoa       4    5.75     1       1      1        1\n",
       "1581             Xabi Alonso       4    0.75     0       1      0        0\n",
       "1596                    Yoel       4       0     0       0      0        0\n",
       "1600        YounÃ¨s Kaabouni       4  3.1625     0       1      0        1\n",
       "1601          YounÃ¨s Kaboul       4    4.75     2       1      1        0\n",
       "1609             Zhi Gin Lam       4    1.15     1       0      0        0\n",
       "1612            ZoltÃ¡n Gera       4    2.75     0       1      0        0\n",
       "1614              ZÃ© Castro       4  6.1625     1       1      1        1\n",
       "1615           Ãngel Rangel       4   2.875     0       1      0        0\n",
       "1617                   Ãlex       4    2.75     0       1      0        0\n",
       "1619                 Ãlvaro       4  0.8625     0       1      0        0\n",
       "1620          Ãlvaro Arroyo       4       1     1       0      0        0\n",
       "1624                  Ãngel       4  8.1625     2       0      1        0\n",
       "1631         Ãtienne Capoue       4       3     1       0      0        0\n",
       "1634          ÃÃ±igo LÃ³pez       4    3.45     1       0      1        0\n",
       "1637            Ãscar DÃ­az       4    7.75     4       0      1        0\n",
       "1639            Ãmer Toprak       4  5.9125     1       1      0        1\n",
       "1641          Å ime Vrsaljko       4  0.8625     0       1      0        0\n",
       "\n",
       "[406 rows x 7 columns]"
      ]
     },
     "execution_count": 72,
     "metadata": {},
     "output_type": "execute_result"
    }
   ],
   "source": [
    "results[results['Cluster'] == 4]"
   ]
  },
  {
   "cell_type": "code",
   "execution_count": 73,
   "metadata": {
    "collapsed": true
   },
   "outputs": [],
   "source": [
    "# Save results for future use\n",
    "results.to_pickle('../Data/clusteredDF13-14.pkl')"
   ]
  },
  {
   "cell_type": "markdown",
   "metadata": {},
   "source": [
    "#### Creating 2D plotly plot for 2013-14 season"
   ]
  },
  {
   "cell_type": "code",
   "execution_count": 74,
   "metadata": {
    "collapsed": true
   },
   "outputs": [],
   "source": [
    "cluster_idx=0\n",
    "trace_list = []\n",
    "for c in range(n_clusters):\n",
    "    trace = Scatter(\n",
    "        x=np.array(results['Goals'][results['Cluster'] == c].astype(float)),\n",
    "        y=np.array(results['Value'][results['Cluster'] == c].astype(float)),\n",
    "        name = \"Cluster\" + str(c),\n",
    "        text= results['Player'][results['Cluster'] == c].astype(unicode),\n",
    "        mode='markers')\n",
    "    trace_list.append(trace)\n",
    "data = Data(trace_list)"
   ]
  },
  {
   "cell_type": "code",
   "execution_count": 75,
   "metadata": {
    "collapsed": false
   },
   "outputs": [],
   "source": [
    "layout = Layout(\n",
    "    title='Cluster distribution of players in 2013-14',\n",
    "    xaxis=dict(\n",
    "        title='Number of goals in the season',\n",
    "        titlefont=dict(\n",
    "            family='Courier New, monospace',\n",
    "            size=18,\n",
    "            color='#7f7f7f'\n",
    "        )\n",
    "    ),\n",
    "    yaxis=dict(\n",
    "        title='Season Value',\n",
    "        titlefont=dict(\n",
    "            family='Courier New, monospace',\n",
    "            size=18,\n",
    "            color='#7f7f7f'\n",
    "        )\n",
    "    )\n",
    ")"
   ]
  },
  {
   "cell_type": "code",
   "execution_count": 76,
   "metadata": {
    "collapsed": false
   },
   "outputs": [
    {
     "data": {
      "text/html": [
       "<iframe id=\"igraph\" scrolling=\"no\" style=\"border:none;\"seamless=\"seamless\" src=\"https://plot.ly/~AbhishekMalali/24.embed\" height=\"525px\" width=\"100%\"></iframe>"
      ],
      "text/plain": [
       "<plotly.tools.PlotlyDisplay object>"
      ]
     },
     "execution_count": 76,
     "metadata": {},
     "output_type": "execute_result"
    }
   ],
   "source": [
    "fig = Figure(data=data, layout=layout)\n",
    "py.iplot(fig, filename='basic-scatter-13-14')"
   ]
  },
  {
   "cell_type": "code",
   "execution_count": null,
   "metadata": {
    "collapsed": true
   },
   "outputs": [],
   "source": []
  }
 ],
 "metadata": {
  "kernelspec": {
   "display_name": "Python 2",
   "language": "python",
   "name": "python2"
  },
  "language_info": {
   "codemirror_mode": {
    "name": "ipython",
    "version": 2
   },
   "file_extension": ".py",
   "mimetype": "text/x-python",
   "name": "python",
   "nbconvert_exporter": "python",
   "pygments_lexer": "ipython2",
   "version": "2.7.10"
  }
 },
 "nbformat": 4,
 "nbformat_minor": 0
}
