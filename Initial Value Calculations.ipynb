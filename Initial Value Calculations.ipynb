{
 "cells": [
  {
   "cell_type": "markdown",
   "metadata": {},
   "source": [
    "# In this notebook, I'll start the process of building and refining our algorithm (read, function... it's really only a linear combination of weights and game statistics) for calculating the game-by-game value of a player."
   ]
  },
  {
   "cell_type": "code",
   "execution_count": 2,
   "metadata": {
    "collapsed": false
   },
   "outputs": [],
   "source": [
    "% matplotlib inline\n",
    "import json\n",
    "import pandas as pd\n",
    "import numpy as np\n",
    "import copy\n",
    "pd.set_option('display.width', 500)\n",
    "pd.set_option('display.max_columns', 100)\n",
    "pd.set_option('display.notebook_repr_html', True)"
   ]
  },
  {
   "cell_type": "markdown",
   "metadata": {},
   "source": [
    "### First, we need to load all the data frames created in Init_DataCleaning.ipynb and merge them by season. We do this so that we'll have a superset of players."
   ]
  },
  {
   "cell_type": "code",
   "execution_count": 45,
   "metadata": {
    "collapsed": false
   },
   "outputs": [],
   "source": [
    "filenames = ['BPL/BPL12_13.pkl', 'BPL/BPL13_14.pkl', 'French/French12_13.pkl', 'French/French13_14.pkl', \n",
    "             'Germany/Bundes12_13.pkl', 'Germany/Bundes13_14.pkl', \n",
    "             'Italy/Italy12_13.pkl', 'Italy/Italy13_14.pkl', \n",
    "             'Spanish/Spanish12_13.pkl', 'Spanish/Spanish13_14.pkl']\n",
    "\n",
    "BPL12 = pd.read_pickle(filenames[0]).drop(' ', axis=1)\n",
    "BPL13 = pd.read_pickle(filenames[1]).drop(' ', axis=1)\n",
    "FRA12 = pd.read_pickle(filenames[2]).drop(' ', axis=1)\n",
    "FRA13 = pd.read_pickle(filenames[3]).drop(' ', axis=1)\n",
    "GER12 = pd.read_pickle(filenames[4]).drop(' ', axis=1)\n",
    "GER13 = pd.read_pickle(filenames[5]).drop(' ', axis=1)\n",
    "ITA12 = pd.read_pickle(filenames[6]).drop(' ', axis=1)\n",
    "ITA13 = pd.read_pickle(filenames[7]).drop(' ', axis=1)\n",
    "SPA12 = pd.read_pickle(filenames[8]).drop(' ', axis=1)\n",
    "SPA13 = pd.read_pickle(filenames[9]).drop(' ', axis=1)\n"
   ]
  },
  {
   "cell_type": "code",
   "execution_count": 74,
   "metadata": {
    "collapsed": false
   },
   "outputs": [],
   "source": [
    "players12 = BPL12.merge(FRA12,left_index=True, right_index=True)\n",
    "players12 = players12.merge(GER12,left_index=True, right_index=True)\n",
    "players12 = players12.merge(ITA12,left_index=True, right_index=True)\n",
    "players12 = players12.merge(SPA12,left_index=True, right_index=True)"
   ]
  },
  {
   "cell_type": "code",
   "execution_count": 75,
   "metadata": {
    "collapsed": false
   },
   "outputs": [
    {
     "data": {
      "text/plain": [
       "(38, 1679)"
      ]
     },
     "execution_count": 75,
     "metadata": {},
     "output_type": "execute_result"
    }
   ],
   "source": [
    "players12.shape"
   ]
  },
  {
   "cell_type": "code",
   "execution_count": 76,
   "metadata": {
    "collapsed": false
   },
   "outputs": [],
   "source": [
    "players13 = BPL13.merge(FRA13,left_index=True, right_index=True)\n",
    "players13 = players13.merge(GER13,left_index=True, right_index=True)\n",
    "players13 = players13.merge(ITA13,left_index=True, right_index=True)\n",
    "players13 = players13.merge(SPA13,left_index=True, right_index=True)"
   ]
  },
  {
   "cell_type": "code",
   "execution_count": 77,
   "metadata": {
    "collapsed": false
   },
   "outputs": [
    {
     "data": {
      "text/plain": [
       "(38, 1659)"
      ]
     },
     "execution_count": 77,
     "metadata": {},
     "output_type": "execute_result"
    }
   ],
   "source": [
    "players13.shape"
   ]
  },
  {
   "cell_type": "code",
   "execution_count": null,
   "metadata": {
    "collapsed": true
   },
   "outputs": [],
   "source": []
  }
 ],
 "metadata": {
  "kernelspec": {
   "display_name": "Python 2",
   "language": "python",
   "name": "python2"
  },
  "language_info": {
   "codemirror_mode": {
    "name": "ipython",
    "version": 2
   },
   "file_extension": ".py",
   "mimetype": "text/x-python",
   "name": "python",
   "nbconvert_exporter": "python",
   "pygments_lexer": "ipython2",
   "version": "2.7.10"
  }
 },
 "nbformat": 4,
 "nbformat_minor": 0
}
