{
 "cells": [
  {
   "cell_type": "markdown",
   "metadata": {},
   "source": [
    "#Initial Data Cleaning\n",
    "\n",
    "This notebook is for the initial stages of data cleaning. It will be updated and cleaned up as we solidify our methods and have completed our scraping."
   ]
  },
  {
   "cell_type": "code",
   "execution_count": 1,
   "metadata": {
    "collapsed": true
   },
   "outputs": [],
   "source": [
    "% matplotlib inline\n",
    "import json\n",
    "import pandas as pd\n",
    "import numpy as np\n",
    "import copy"
   ]
  },
  {
   "cell_type": "code",
   "execution_count": 2,
   "metadata": {
    "collapsed": true
   },
   "outputs": [],
   "source": [
    "# Load in data\n",
    "filenames = ['BPL/BPL12-13.json', 'BPL/BPL13-14.json', 'French/French12-13.json', 'French/French13-14.json']\n",
    "# with open('BPL/BPL12-13.json', 'r') as fp:\n",
    "#     data = json.load(fp)"
   ]
  },
  {
   "cell_type": "markdown",
   "metadata": {},
   "source": [
    "###Gaining familiarity with data structure and early testing"
   ]
  },
  {
   "cell_type": "code",
   "execution_count": 16,
   "metadata": {
    "collapsed": false
   },
   "outputs": [
    {
     "data": {
      "text/plain": [
       "{u'away': [[u'Andreas Weimann', 67, 0, 0]],\n",
       " u'home': [[u'Santi Cazorla', 5, 1, 0],\n",
       "  [u'Santi Cazorla', u'Nacho Monreal', 84, 1, 0, 0]]}"
      ]
     },
     "execution_count": 16,
     "metadata": {},
     "output_type": "execute_result"
    }
   ],
   "source": [
    "data['arsenal-fc-aston-villa']"
   ]
  },
  {
   "cell_type": "code",
   "execution_count": 15,
   "metadata": {
    "collapsed": false
   },
   "outputs": [
    {
     "data": {
      "text/plain": [
       "[[u'Santi Cazorla', 5, 1, 0],\n",
       " [u'Santi Cazorla', u'Nacho Monreal', 84, 1, 0, 0]]"
      ]
     },
     "execution_count": 15,
     "metadata": {},
     "output_type": "execute_result"
    }
   ],
   "source": [
    "data['arsenal-fc-aston-villa']['home']"
   ]
  },
  {
   "cell_type": "code",
   "execution_count": 21,
   "metadata": {
    "collapsed": false
   },
   "outputs": [
    {
     "data": {
      "text/plain": [
       "[(u'Santi Cazorla', 2)]"
      ]
     },
     "execution_count": 21,
     "metadata": {},
     "output_type": "execute_result"
    }
   ],
   "source": [
    "homescorer = [goals[0] for goals in data['arsenal-fc-aston-villa']['home']]\n",
    "homescorer = [(player, homescorer.count(player)) for player in set(homescorer)]\n",
    "homescorer"
   ]
  },
  {
   "cell_type": "code",
   "execution_count": 28,
   "metadata": {
    "collapsed": false
   },
   "outputs": [
    {
     "data": {
      "text/plain": [
       "[u'Nacho Monreal']"
      ]
     },
     "execution_count": 28,
     "metadata": {},
     "output_type": "execute_result"
    }
   ],
   "source": [
    "homeassist = [goals[1] for goals in data['arsenal-fc-aston-villa']['home'] if isinstance(goals[1],unicode)]\n",
    "homeassist"
   ]
  },
  {
   "cell_type": "code",
   "execution_count": 24,
   "metadata": {
    "collapsed": false
   },
   "outputs": [
    {
     "data": {
      "text/plain": [
       "[(u'Andreas Weimann', 1)]"
      ]
     },
     "execution_count": 24,
     "metadata": {},
     "output_type": "execute_result"
    }
   ],
   "source": [
    "awayscorer = [goals[0] for goals in data['arsenal-fc-aston-villa']['away']]\n",
    "awayscorer = [(player, awayscorer.count(player)) for player in set(awayscorer)]\n",
    "awayscorer"
   ]
  },
  {
   "cell_type": "code",
   "execution_count": 30,
   "metadata": {
    "collapsed": false
   },
   "outputs": [
    {
     "data": {
      "text/plain": [
       "{u'away': [[u'Jermain Defoe', u'Kyle Naughton', 58, 1, 0, 0],\n",
       "  [u'Gareth Bale', 61, 2, 0],\n",
       "  [u'Gareth Bale', u'Aaron Lennon', 73, 3, 0, 0],\n",
       "  [u'Gareth Bale', u'Gylfi Sigur\\xc3\\xb0sson', 84, 4, 0, 1]],\n",
       " u'home': []}"
      ]
     },
     "execution_count": 30,
     "metadata": {},
     "output_type": "execute_result"
    }
   ],
   "source": [
    "data['aston-villa-tottenham-hotspur']"
   ]
  },
  {
   "cell_type": "code",
   "execution_count": 34,
   "metadata": {
    "collapsed": false
   },
   "outputs": [
    {
     "data": {
      "text/plain": [
       "['arsenal-fc-aston-villa', 'arsenal-fc-chelsea-fc', 'arsenal-fc-everton-fc']"
      ]
     },
     "execution_count": 34,
     "metadata": {},
     "output_type": "execute_result"
    }
   ],
   "source": [
    "teams = ['arsenal-fc','aston-villa','chelsea-fc','everton-fc','fulham-fc','liverpool-fc','manchester-city','manchester-united','newcastle-united','norwich-city','queens-park-rangers','reading-fc','southampton-fc','stoke-city','sunderland-afc','swansea-city','tottenham-hotspur','west-bromwich-albion','west-ham-united','wigan-athletic']\n",
    "games = [t1+\"-\"+t2 for t1 in teams for t2 in teams if t1!=t2]\n",
    "games[:3]"
   ]
  },
  {
   "cell_type": "code",
   "execution_count": 35,
   "metadata": {
    "collapsed": false
   },
   "outputs": [
    {
     "data": {
      "text/plain": [
       "{u'away': [[u'Andreas Weimann', 67, 0, 0]],\n",
       " u'home': [[u'Santi Cazorla', 5, 1, 0],\n",
       "  [u'Santi Cazorla', u'Nacho Monreal', 84, 1, 0, 0]]}"
      ]
     },
     "execution_count": 35,
     "metadata": {},
     "output_type": "execute_result"
    }
   ],
   "source": [
    "data[games[0]]"
   ]
  },
  {
   "cell_type": "markdown",
   "metadata": {},
   "source": [
    " "
   ]
  },
  {
   "cell_type": "markdown",
   "metadata": {},
   "source": [
    " "
   ]
  },
  {
   "cell_type": "markdown",
   "metadata": {},
   "source": [
    "### The following function reads in the data scraped from http://www.worldfootball.net/ via the scraping.ipynb code that is stored as .json files in our repository. What needs to be changed is the number of columns per player. In order to keep things uniform, each player has every match for the season. I want to change this to be ordered by match chronologically."
   ]
  },
  {
   "cell_type": "code",
   "execution_count": 3,
   "metadata": {
    "collapsed": false
   },
   "outputs": [],
   "source": [
    "def cleaner_to_df(data,games):\n",
    "    \"\"\"\n",
    "    Function\n",
    "    --------\n",
    "    cleaner_to_df\n",
    "\n",
    "    Inputs\n",
    "    ------\n",
    "    data : dictionary of dictionaries\n",
    "       dictionary provided from scraping.ipynb in the format of {match: home: [], away: []}\n",
    "    games : list of match pairings\n",
    "\n",
    "    Returns\n",
    "    -------\n",
    "     A dataframe, indexed by player, with each match as the columns (will be adjusted to matchday):\n",
    "         Each column contains a dictionary for the players contributions during that particular match\n",
    "         {goals: (minute, was_tiebreaker, was_equalizer), \n",
    "         assists: (minute, was_tiebreaker, was_equalizer), \n",
    "         was_sub: boolean, whether player was a substitute or not\n",
    "         was_home: boolean, whether player's club was home team}\n",
    "\n",
    "    Notes\n",
    "    -----\n",
    "    Current version of code creates a column for every match for each player (very wrong I know),\n",
    "    this will be updated to contain matchday information so that the columns are consistent across match day \n",
    "\n",
    "    Written by TWK ... 11 November '15\n",
    "    \"\"\"\n",
    "    players_list = set([])\n",
    "    for game in games:\n",
    "        for team in ['home', 'away']:\n",
    "            for goal in range(len(data[game][team])):\n",
    "                scorer = data[game][team][goal][0]\n",
    "                assister = data[game][team][goal][1]\n",
    "\n",
    "                if not isinstance(assister,unicode):\n",
    "                    assister = ''\n",
    "                players_list.add(scorer)\n",
    "                players_list.add(assister)    \n",
    "\n",
    "    base_dict = {}\n",
    "    for game in games:\n",
    "        base_dict[game] = dict(zip(['goals','assists','was_sub', 'was_home'],[[],[],0, 0]))\n",
    "    players = {}\n",
    "    for player in players_list:\n",
    "        players[player] = copy.deepcopy(base_dict)\n",
    "\n",
    "    for game in games:\n",
    "        for team in ['home','away']:\n",
    "            for num_goal in range(len(data[game][team])):\n",
    "                goal = data[game][team][num_goal]\n",
    "                scorerName = goal[0]\n",
    "                assistName = goal[1]\n",
    "                if isinstance(assistName, unicode):\n",
    "                    goaltuple = (goal[2],goal[3]==1,goal[3]==0)\n",
    "                    scorerSub = goal[4]\n",
    "                    assistSub = goal[5]\n",
    "                    players[assistName][game][\"assists\"].append(goaltuple)\n",
    "                    players[assistName][game][\"was_sub\"] = scorerSub == 1 | assistSub == 1\n",
    "                    players[assistName][game][\"was_home\"] = team == 'home'\n",
    "                else:\n",
    "                    assistName = ''\n",
    "                    goaltuple = (goal[1],goal[2]==1,goal[2]==0)\n",
    "                    scorerSub = goal[3]\n",
    "                    assistSub = 0\n",
    "\n",
    "                players[scorerName][game][\"goals\"].append(goaltuple)\n",
    "                players[scorerName][game][\"was_sub\"] = scorerSub == 1 | assistSub == 1\n",
    "                players[scorerName][game][\"was_home\"] = team == 'home'\n",
    "\n",
    "    return pd.DataFrame(players)"
   ]
  },
  {
   "cell_type": "markdown",
   "metadata": {},
   "source": [
    "### For each json stored in our repository as of 10 PM on 11 Nov. '15, we load each data set and populate the relevant dataframe and save it with the same file name with the .pkl extension (saved the data frames using the pickle class of Pandas...)"
   ]
  },
  {
   "cell_type": "code",
   "execution_count": 13,
   "metadata": {
    "collapsed": false
   },
   "outputs": [],
   "source": [
    "for filedir in filenames:\n",
    "    with open(filedir, 'r') as fp:\n",
    "        data = json.load(fp)\n",
    "    if filedir == filenames[0]:\n",
    "        teams = ['arsenal-fc','aston-villa','chelsea-fc','everton-fc','fulham-fc','liverpool-fc','manchester-city','manchester-united','newcastle-united','norwich-city','queens-park-rangers','reading-fc','southampton-fc','stoke-city','sunderland-afc','swansea-city','tottenham-hotspur','west-bromwich-albion','west-ham-united','wigan-athletic']\n",
    "    elif filedir == filenames[1]:\n",
    "        teams = ['arsenal-fc','aston-villa','cardiff-city','chelsea-fc','crystal-palace','everton-fc','fulham-fc','hull-city','liverpool-fc','manchester-city','manchester-united','newcastle-united','norwich-city','southampton-fc','stoke-city','sunderland-afc','swansea-city','tottenham-hotspur','west-bromwich-albion','west-ham-united']\n",
    "    elif filedir == filenames[2]:\n",
    "        teams = ['ac-ajaccio','as-nancy','as-saint-etienne','estac-troyes','evian-thonon-gaillard','fc-lorient','fc-sochaux','girondins-bordeaux','lille-osc','montpellier-hsc','ogc-nice','olympique-lyon','olympique-marseille','paris-saint-germain','sc-bastia','stade-brest','stade-reims','stade-rennes','toulouse-fc','valenciennes-fc']\n",
    "    elif filedir == filenames[3]:\n",
    "        teams = ['ac-ajaccio','as-monaco','as-saint-etienne','ea-guingamp','evian-thonon-gaillard','fc-lorient','fc-nantes','fc-sochaux','girondins-bordeaux','lille-osc','montpellier-hsc','ogc-nice','olympique-lyon','olympique-marseille','paris-saint-germain','sc-bastia','stade-reims','stade-rennes','toulouse-fc','valenciennes-fc']\n",
    "\n",
    "    games = [t1+\"-\"+t2 for t1 in teams for t2 in teams if t1!=t2]\n",
    "    playerdf = cleaner_to_df(data,games)\n",
    "    \n",
    "    filename = filedir.split(\"/\")[1][:-5].replace(\"-\",\"_\")\n",
    "    filename = filename+'.pkl'\n",
    "    \n",
    "    playerdf.to_pickle(filename)"
   ]
  },
  {
   "cell_type": "markdown",
   "metadata": {},
   "source": []
  },
  {
   "cell_type": "markdown",
   "metadata": {},
   "source": [
    "### Example of how to load one of our dataframes"
   ]
  },
  {
   "cell_type": "code",
   "execution_count": 17,
   "metadata": {
    "collapsed": false
   },
   "outputs": [],
   "source": [
    "playerdf = pd.read_pickle('BPL12_13.pkl')"
   ]
  },
  {
   "cell_type": "code",
   "execution_count": 19,
   "metadata": {
    "collapsed": false
   },
   "outputs": [
    {
     "data": {
      "text/plain": [
       "{'assists': [(59, False, False)],\n",
       " 'goals': [(16, True, False)],\n",
       " 'was_home': True,\n",
       " 'was_sub': False}"
      ]
     },
     "execution_count": 19,
     "metadata": {},
     "output_type": "execute_result"
    }
   ],
   "source": [
    "playerdf[\"Robin van Persie\"][\"manchester-united-sunderland-afc\"]"
   ]
  },
  {
   "cell_type": "code",
   "execution_count": null,
   "metadata": {
    "collapsed": true
   },
   "outputs": [],
   "source": []
  }
 ],
 "metadata": {
  "kernelspec": {
   "display_name": "Python 2",
   "language": "python",
   "name": "python2"
  },
  "language_info": {
   "codemirror_mode": {
    "name": "ipython",
    "version": 2
   },
   "file_extension": ".py",
   "mimetype": "text/x-python",
   "name": "python",
   "nbconvert_exporter": "python",
   "pygments_lexer": "ipython2",
   "version": "2.7.10"
  }
 },
 "nbformat": 4,
 "nbformat_minor": 0
}
