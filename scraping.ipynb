{
 "cells": [
  {
   "cell_type": "markdown",
   "metadata": {},
   "source": [
    "# Scraping script for worldfootball.net"
   ]
  },
  {
   "cell_type": "code",
   "execution_count": 13,
   "metadata": {
    "collapsed": false
   },
   "outputs": [],
   "source": [
    "%matplotlib inline\n",
    "import numpy as np\n",
    "import scipy as sp\n",
    "import matplotlib as mpl\n",
    "import matplotlib.cm as cm\n",
    "import matplotlib.pyplot as plt\n",
    "import pandas as pd\n",
    "import time\n",
    "pd.set_option('display.width', 500)\n",
    "pd.set_option('display.max_columns', 100)\n",
    "pd.set_option('display.notebook_repr_html', True)\n",
    "import seaborn as sns\n",
    "sns.set_style(\"whitegrid\")\n",
    "sns.set_context(\"poster\")\n",
    "from pyquery import PyQuery as pq\n",
    "from bs4 import BeautifulSoup\n",
    "import requests\n",
    "import re"
   ]
  },
  {
   "cell_type": "markdown",
   "metadata": {},
   "source": [
    "### Defining the list of teams for BPL 12-13"
   ]
  },
  {
   "cell_type": "code",
   "execution_count": 75,
   "metadata": {
    "collapsed": true
   },
   "outputs": [],
   "source": [
    "teams = ['arsenal-fc','aston-villa','chelsea-fc','everton-fc','fulham-fc','liverpool-fc','manchester-city','manchester-united','newcastle-united','norwich-city','queens-park-rangers','reading-fc','southampton-fc','stoke-city','sunderland-afc','swansea-city','tottenham-hotspur','west-bromwich-albion','west-ham-united','wigan-athletic']"
   ]
  },
  {
   "cell_type": "code",
   "execution_count": 5,
   "metadata": {
    "collapsed": false
   },
   "outputs": [
    {
     "data": {
      "text/plain": [
       "20"
      ]
     },
     "execution_count": 5,
     "metadata": {},
     "output_type": "execute_result"
    }
   ],
   "source": [
    "len(teams)"
   ]
  },
  {
   "cell_type": "markdown",
   "metadata": {},
   "source": [
    "### Defining the scraping function:"
   ]
  },
  {
   "cell_type": "markdown",
   "metadata": {},
   "source": [
    "This function takes for argument a BeautifoulSoup HTML parsed object (e.g. BeautifulSoup(test,\"html.parser\"))\n",
    "\n",
    "It returns a dictionary with keys away and home and their respective values are lists of triples and quadruples of the form:\n",
    "\n",
    "$\\star$(Goal scorer, assist player, time of goal, type of goal) if there is an assist player\n",
    "\n",
    "$\\star$(Goal scorer, time of goal, type of goal) if there isn't an assist player\n",
    "\n",
    "The type of goal is an integer corresponding:\n",
    "\n",
    "$\\bullet$ if type = +1: goal is a tie breaker (e.g 1-0,0-1, 2-1, 1-2...)\n",
    "\n",
    "$\\bullet$ if type = 0: goal is an equaliser (e.g 1-1,2-2,..)\n",
    "\n",
    "$\\bullet$ if type = -1: goal is a score reducer (e.g 0-2 to 1-2)\n",
    "\n",
    "$\\bullet$ if type = +/-k for k>1: goal is a score increaser/reducer (e.g 0-1 to 0-2 or 3-0 to 3-1)"
   ]
  },
  {
   "cell_type": "code",
   "execution_count": 71,
   "metadata": {
    "collapsed": false
   },
   "outputs": [],
   "source": [
    "def summary(page):\n",
    "    home = []\n",
    "    away = []\n",
    "    score = 0\n",
    "    \n",
    "    #Checking if the score was 0-0 as there won't be any scorers to scrape\n",
    "    \n",
    "    #Getting the score:\n",
    "    finalscore = page.find_all(\"table\",attrs={'class': \"standard_tabelle\",'cellpadding': '3'})[0]\n",
    "    finalscore = map(int,re.findall(r'\\b\\d+\\b',finalscore.find(\"div\",attrs={'class':\"resultat\"}).get_text()))\n",
    "    \n",
    "    #Return dictionary with empyt home and away scorer lists:\n",
    "    if np.sum(finalscore)==0:\n",
    "        return dict([('home',[]),('away',[])])\n",
    "    \n",
    "    else:\n",
    "        for td in page.find_all(\"table\",attrs={'class': \"standard_tabelle\",'cellpadding': '3'})[1].find_all('td'):\n",
    "            #Not considering the Goals heading of the table:\n",
    "            if td.has_attr('align'):\n",
    "                continue\n",
    "                \n",
    "            #Getting the home scorers:   \n",
    "            elif td.has_attr('class') and (not td.has_attr('style')):\n",
    "                #Update the score\n",
    "                score += 1\n",
    "                text = td.get_text()\n",
    "                ga = td.find_all(\"a\")\n",
    "                \n",
    "                #Checking if there is a player assisting on the goal:\n",
    "                if len(ga)>1:\n",
    "                    sc = ga[0].get_text()\n",
    "                    assis = ga[1].get_text()\n",
    "                    home.append((sc,assis,map(int,re.findall(r'\\b\\d+\\b', text))[0],score))\n",
    "                    \n",
    "                #If no assist:\n",
    "                else:\n",
    "                    sc = ga[0].get_text()\n",
    "                    home.append((sc,map(int,re.findall(r'\\b\\d+\\b', text))[0],score))\n",
    "        \n",
    "            elif td.has_attr('class') and i.has_attr('style'):\n",
    "                #Update the score\n",
    "                score -= 1\n",
    "                text = td.get_text()\n",
    "                ga = td.find_all(\"a\")\n",
    "                \n",
    "                #Checking if there is a player assisting on the goal:\n",
    "                if len(ga)>1:\n",
    "                    sc = ga[0].get_text()\n",
    "                    assis = ga[1].get_text()\n",
    "                    #Note we return -score to account for the fact that if the away team scores the tie breaker goal, we still output +1:\n",
    "                    away.append((sc,assis,map(int,re.findall(r'\\b\\d+\\b', text))[0],-score))\n",
    "                    \n",
    "                #If no assist:\n",
    "                else:\n",
    "                    sc = ga[0].get_text()\n",
    "                    #Same remark\n",
    "                    away.append((sc,map(int,re.findall(r'\\b\\d+\\b', text))[0],-score))\n",
    "            \n",
    "            else:\n",
    "                continue\n",
    "        \n",
    "        return dict([('home',home),('away',away)])"
   ]
  },
  {
   "cell_type": "markdown",
   "metadata": {},
   "source": [
    "### Testing the function:"
   ]
  },
  {
   "cell_type": "code",
   "execution_count": 51,
   "metadata": {
    "collapsed": true
   },
   "outputs": [],
   "source": [
    "test = requests.get(\"http://www.worldfootball.net/report/premier-league-2012-2013-norwich-city-aston-villa/\").text"
   ]
  },
  {
   "cell_type": "code",
   "execution_count": 52,
   "metadata": {
    "collapsed": true
   },
   "outputs": [],
   "source": [
    "test = BeautifulSoup(test,\"html.parser\")"
   ]
  },
  {
   "cell_type": "markdown",
   "metadata": {},
   "source": [
    "##### YAY!!!!!"
   ]
  },
  {
   "cell_type": "code",
   "execution_count": 54,
   "metadata": {
    "collapsed": false
   },
   "outputs": [
    {
     "data": {
      "text/plain": [
       "{'away': [(u'Gabriel Agbonlahor', u'Ashley Westwood', 55, 1),\n",
       "  (u'Gabriel Agbonlahor', u'Ashley Westwood', 89, 1)],\n",
       " 'home': [(u'Grant Holt', 74, 0)]}"
      ]
     },
     "execution_count": 54,
     "metadata": {},
     "output_type": "execute_result"
    }
   ],
   "source": [
    "summary(test)"
   ]
  },
  {
   "cell_type": "markdown",
   "metadata": {},
   "source": [
    "### Now the entire season 12-13:"
   ]
  },
  {
   "cell_type": "markdown",
   "metadata": {},
   "source": [
    "We first create the list of games using the format of the url needed:"
   ]
  },
  {
   "cell_type": "code",
   "execution_count": 79,
   "metadata": {
    "collapsed": false
   },
   "outputs": [],
   "source": [
    "games = []\n",
    "for t1 in teams:\n",
    "    for t2 in teams:\n",
    "        if t1!=t2:\n",
    "            games.append(t1+\"-\"+t2)"
   ]
  },
  {
   "cell_type": "markdown",
   "metadata": {},
   "source": [
    "We then scrape the website and create a dictionary to store the webpages per game:"
   ]
  },
  {
   "cell_type": "code",
   "execution_count": 80,
   "metadata": {
    "collapsed": false
   },
   "outputs": [],
   "source": [
    "games_page = dict([game,requests.get(\"http://www.worldfootball.net/report/premier-league-2012-2013-%s\" % game).text] \n",
    "             for game in games)\n",
    "\n",
    "#Don't forget that step:\n",
    "for k in games_page.keys():\n",
    "    games_page[k] = BeautifulSoup(games_page[k],\"html.parser\")"
   ]
  },
  {
   "cell_type": "code",
   "execution_count": 81,
   "metadata": {
    "collapsed": false
   },
   "outputs": [
    {
     "data": {
      "text/plain": [
       "380"
      ]
     },
     "execution_count": 81,
     "metadata": {},
     "output_type": "execute_result"
    }
   ],
   "source": [
    "#sanity check\n",
    "len(games_page)"
   ]
  },
  {
   "cell_type": "code",
   "execution_count": 82,
   "metadata": {
    "collapsed": false
   },
   "outputs": [
    {
     "data": {
      "text/plain": [
       "False"
      ]
     },
     "execution_count": 82,
     "metadata": {},
     "output_type": "execute_result"
    }
   ],
   "source": [
    "#sanity check for empty pages\n",
    "any(a == [] for a in games_page.values())"
   ]
  },
  {
   "cell_type": "markdown",
   "metadata": {},
   "source": [
    "We now extract the relevant information from each page and create a new dictionary with games as keys and the output of summary for values:"
   ]
  },
  {
   "cell_type": "code",
   "execution_count": 83,
   "metadata": {
    "collapsed": false
   },
   "outputs": [
    {
     "name": "stdout",
     "output_type": "stream",
     "text": [
      "sunderland-afc-manchester-city\n",
      "west-ham-united-aston-villa\n",
      "norwich-city-arsenal-fc\n",
      "reading-fc-arsenal-fc\n",
      "norwich-city-tottenham-hotspur\n",
      "tottenham-hotspur-southampton-fc\n",
      "newcastle-united-reading-fc\n",
      "fulham-fc-liverpool-fc\n",
      "west-ham-united-norwich-city\n",
      "aston-villa-manchester-united\n",
      "everton-fc-manchester-city\n",
      "manchester-united-norwich-city\n",
      "swansea-city-arsenal-fc\n",
      "everton-fc-fulham-fc\n",
      "arsenal-fc-west-ham-united\n",
      "tottenham-hotspur-wigan-athletic\n",
      "sunderland-afc-fulham-fc\n",
      "sunderland-afc-southampton-fc\n",
      "newcastle-united-queens-park-rangers\n",
      "west-ham-united-tottenham-hotspur\n",
      "swansea-city-west-ham-united\n",
      "swansea-city-liverpool-fc\n",
      "swansea-city-southampton-fc\n",
      "sunderland-afc-reading-fc\n",
      "chelsea-fc-tottenham-hotspur\n",
      "fulham-fc-manchester-city\n",
      "norwich-city-fulham-fc\n",
      "norwich-city-wigan-athletic\n",
      "sunderland-afc-manchester-united\n",
      "sunderland-afc-everton-fc\n",
      "swansea-city-queens-park-rangers\n",
      "fulham-fc-newcastle-united\n",
      "aston-villa-norwich-city\n",
      "southampton-fc-everton-fc\n",
      "tottenham-hotspur-arsenal-fc\n",
      "reading-fc-wigan-athletic\n",
      "west-bromwich-albion-manchester-united\n",
      "norwich-city-everton-fc\n",
      "fulham-fc-manchester-united\n",
      "wigan-athletic-aston-villa\n",
      "everton-fc-reading-fc\n",
      "fulham-fc-stoke-city\n",
      "fulham-fc-west-ham-united\n",
      "aston-villa-sunderland-afc\n",
      "sunderland-afc-newcastle-united\n",
      "everton-fc-tottenham-hotspur\n",
      "arsenal-fc-aston-villa\n",
      "manchester-united-aston-villa\n",
      "sunderland-afc-arsenal-fc\n",
      "liverpool-fc-everton-fc\n",
      "liverpool-fc-west-bromwich-albion\n",
      "chelsea-fc-everton-fc\n",
      "stoke-city-sunderland-afc\n",
      "manchester-united-wigan-athletic\n",
      "queens-park-rangers-fulham-fc\n",
      "tottenham-hotspur-stoke-city\n",
      "reading-fc-liverpool-fc\n",
      "newcastle-united-manchester-united\n",
      "sunderland-afc-norwich-city\n",
      "swansea-city-wigan-athletic\n",
      "everton-fc-west-bromwich-albion\n",
      "chelsea-fc-west-ham-united\n",
      "queens-park-rangers-liverpool-fc\n",
      "west-bromwich-albion-reading-fc\n",
      "reading-fc-manchester-city\n",
      "newcastle-united-west-bromwich-albion\n",
      "reading-fc-fulham-fc\n",
      "stoke-city-tottenham-hotspur\n",
      "norwich-city-manchester-city\n",
      "southampton-fc-west-bromwich-albion\n",
      "arsenal-fc-newcastle-united\n",
      "stoke-city-manchester-city\n",
      "wigan-athletic-fulham-fc\n",
      "fulham-fc-reading-fc\n",
      "newcastle-united-everton-fc\n",
      "manchester-united-manchester-city\n",
      "newcastle-united-southampton-fc\n",
      "queens-park-rangers-reading-fc\n",
      "newcastle-united-wigan-athletic\n",
      "chelsea-fc-aston-villa\n",
      "arsenal-fc-wigan-athletic\n",
      "aston-villa-reading-fc\n",
      "west-ham-united-fulham-fc\n",
      "arsenal-fc-west-bromwich-albion\n",
      "everton-fc-west-ham-united\n",
      "fulham-fc-tottenham-hotspur\n",
      "swansea-city-newcastle-united\n",
      "liverpool-fc-manchester-city\n",
      "sunderland-afc-west-ham-united\n",
      "reading-fc-manchester-united\n",
      "wigan-athletic-queens-park-rangers\n",
      "manchester-united-everton-fc\n",
      "chelsea-fc-liverpool-fc\n",
      "queens-park-rangers-wigan-athletic\n",
      "tottenham-hotspur-chelsea-fc\n",
      "tottenham-hotspur-newcastle-united\n",
      "reading-fc-queens-park-rangers\n",
      "reading-fc-west-ham-united\n",
      "west-ham-united-sunderland-afc\n",
      "swansea-city-manchester-city\n",
      "manchester-city-southampton-fc\n",
      "west-bromwich-albion-west-ham-united\n",
      "queens-park-rangers-stoke-city\n",
      "west-bromwich-albion-queens-park-rangers\n",
      "reading-fc-norwich-city\n",
      "liverpool-fc-swansea-city\n",
      "chelsea-fc-wigan-athletic\n",
      "aston-villa-wigan-athletic\n",
      "manchester-city-west-ham-united\n",
      "aston-villa-liverpool-fc\n",
      "stoke-city-reading-fc\n",
      "arsenal-fc-queens-park-rangers\n",
      "manchester-city-chelsea-fc\n",
      "stoke-city-aston-villa\n",
      "tottenham-hotspur-fulham-fc\n",
      "chelsea-fc-manchester-united\n",
      "norwich-city-liverpool-fc\n",
      "swansea-city-west-bromwich-albion\n",
      "sunderland-afc-west-bromwich-albion\n",
      "arsenal-fc-manchester-city\n",
      "norwich-city-southampton-fc\n",
      "arsenal-fc-everton-fc\n",
      "southampton-fc-queens-park-rangers\n",
      "aston-villa-swansea-city\n",
      "manchester-city-reading-fc\n",
      "west-bromwich-albion-everton-fc\n",
      "west-bromwich-albion-wigan-athletic\n",
      "west-ham-united-everton-fc\n",
      "sunderland-afc-chelsea-fc\n",
      "queens-park-rangers-swansea-city\n",
      "liverpool-fc-chelsea-fc\n",
      "queens-park-rangers-chelsea-fc\n",
      "manchester-city-liverpool-fc\n",
      "southampton-fc-tottenham-hotspur\n",
      "norwich-city-west-bromwich-albion\n",
      "southampton-fc-swansea-city\n",
      "liverpool-fc-aston-villa\n",
      "southampton-fc-reading-fc\n",
      "newcastle-united-sunderland-afc\n",
      "everton-fc-sunderland-afc\n",
      "newcastle-united-aston-villa\n",
      "everton-fc-norwich-city\n",
      "aston-villa-newcastle-united\n",
      "tottenham-hotspur-manchester-united\n",
      "stoke-city-west-bromwich-albion\n",
      "wigan-athletic-southampton-fc\n",
      "newcastle-united-liverpool-fc\n",
      "wigan-athletic-newcastle-united\n",
      "fulham-fc-swansea-city\n",
      "reading-fc-swansea-city\n",
      "fulham-fc-chelsea-fc\n",
      "norwich-city-queens-park-rangers\n",
      "west-bromwich-albion-fulham-fc\n",
      "arsenal-fc-sunderland-afc\n",
      "manchester-united-sunderland-afc\n",
      "west-ham-united-manchester-united\n",
      "manchester-city-wigan-athletic\n",
      "west-bromwich-albion-newcastle-united\n",
      "reading-fc-chelsea-fc\n",
      "manchester-united-west-bromwich-albion\n",
      "reading-fc-aston-villa\n",
      "southampton-fc-chelsea-fc\n",
      "west-bromwich-albion-liverpool-fc\n",
      "aston-villa-chelsea-fc\n",
      "swansea-city-fulham-fc\n",
      "liverpool-fc-tottenham-hotspur\n",
      "aston-villa-west-bromwich-albion\n",
      "manchester-united-reading-fc\n",
      "manchester-city-swansea-city\n",
      "stoke-city-fulham-fc\n",
      "sunderland-afc-wigan-athletic\n",
      "aston-villa-queens-park-rangers\n",
      "west-ham-united-wigan-athletic\n",
      "tottenham-hotspur-swansea-city\n",
      "chelsea-fc-queens-park-rangers\n",
      "queens-park-rangers-everton-fc\n",
      "queens-park-rangers-west-ham-united\n",
      "sunderland-afc-aston-villa\n",
      "chelsea-fc-norwich-city\n",
      "newcastle-united-stoke-city\n",
      "queens-park-rangers-southampton-fc\n",
      "aston-villa-everton-fc\n",
      "manchester-united-tottenham-hotspur\n",
      "tottenham-hotspur-west-ham-united\n",
      "west-ham-united-reading-fc\n",
      "everton-fc-stoke-city\n",
      "manchester-city-aston-villa\n",
      "liverpool-fc-sunderland-afc\n",
      "chelsea-fc-west-bromwich-albion\n",
      "fulham-fc-sunderland-afc\n",
      "southampton-fc-wigan-athletic\n",
      "tottenham-hotspur-sunderland-afc\n",
      "arsenal-fc-reading-fc\n",
      "wigan-athletic-manchester-united\n",
      "aston-villa-fulham-fc\n",
      "fulham-fc-queens-park-rangers\n",
      "stoke-city-queens-park-rangers\n",
      "southampton-fc-manchester-united\n",
      "west-bromwich-albion-tottenham-hotspur\n",
      "swansea-city-reading-fc\n",
      "west-ham-united-arsenal-fc\n",
      "queens-park-rangers-sunderland-afc\n",
      "queens-park-rangers-aston-villa\n",
      "norwich-city-chelsea-fc\n",
      "norwich-city-sunderland-afc\n",
      "arsenal-fc-fulham-fc\n",
      "fulham-fc-norwich-city\n",
      "stoke-city-chelsea-fc\n",
      "wigan-athletic-west-bromwich-albion\n",
      "liverpool-fc-arsenal-fc\n",
      "west-ham-united-newcastle-united\n",
      "arsenal-fc-norwich-city\n",
      "sunderland-afc-liverpool-fc\n",
      "wigan-athletic-tottenham-hotspur\n",
      "tottenham-hotspur-everton-fc\n",
      "fulham-fc-west-bromwich-albion\n",
      "everton-fc-chelsea-fc\n",
      "swansea-city-sunderland-afc\n",
      "everton-fc-liverpool-fc\n",
      "stoke-city-west-ham-united\n",
      "manchester-united-arsenal-fc\n",
      "arsenal-fc-tottenham-hotspur\n",
      "liverpool-fc-west-ham-united\n",
      "chelsea-fc-reading-fc\n",
      "chelsea-fc-sunderland-afc\n",
      "arsenal-fc-stoke-city\n",
      "west-bromwich-albion-sunderland-afc\n",
      "west-ham-united-swansea-city\n",
      "swansea-city-manchester-united\n",
      "wigan-athletic-sunderland-afc\n",
      "swansea-city-norwich-city\n",
      "liverpool-fc-southampton-fc\n",
      "everton-fc-arsenal-fc\n",
      "fulham-fc-arsenal-fc\n",
      "west-bromwich-albion-arsenal-fc\n",
      "west-ham-united-manchester-city\n",
      "southampton-fc-manchester-city\n",
      "manchester-city-norwich-city\n",
      "manchester-city-queens-park-rangers\n",
      "aston-villa-stoke-city\n",
      "aston-villa-west-ham-united\n",
      "aston-villa-southampton-fc\n",
      "arsenal-fc-chelsea-fc\n",
      "reading-fc-west-bromwich-albion\n",
      "wigan-athletic-everton-fc\n",
      "reading-fc-sunderland-afc\n",
      "chelsea-fc-manchester-city\n",
      "manchester-city-arsenal-fc\n",
      "liverpool-fc-fulham-fc\n",
      "manchester-city-newcastle-united\n",
      "everton-fc-newcastle-united\n",
      "everton-fc-southampton-fc\n",
      "wigan-athletic-swansea-city\n",
      "reading-fc-everton-fc\n",
      "stoke-city-liverpool-fc\n",
      "sunderland-afc-stoke-city\n",
      "stoke-city-southampton-fc\n",
      "wigan-athletic-stoke-city\n",
      "norwich-city-swansea-city\n",
      "southampton-fc-west-ham-united\n",
      "manchester-city-manchester-united\n",
      "west-ham-united-chelsea-fc\n",
      "newcastle-united-arsenal-fc\n",
      "arsenal-fc-swansea-city\n",
      "manchester-united-liverpool-fc\n",
      "arsenal-fc-liverpool-fc\n",
      "west-bromwich-albion-southampton-fc\n",
      "manchester-city-sunderland-afc\n",
      "fulham-fc-southampton-fc\n",
      "southampton-fc-sunderland-afc\n",
      "norwich-city-reading-fc\n",
      "southampton-fc-aston-villa\n",
      "newcastle-united-manchester-city\n",
      "reading-fc-newcastle-united\n",
      "manchester-united-chelsea-fc\n",
      "southampton-fc-fulham-fc\n",
      "west-bromwich-albion-stoke-city\n",
      "sunderland-afc-tottenham-hotspur\n",
      "swansea-city-chelsea-fc\n",
      "manchester-city-tottenham-hotspur\n",
      "west-ham-united-queens-park-rangers\n",
      "chelsea-fc-arsenal-fc\n",
      "chelsea-fc-southampton-fc\n",
      "manchester-united-stoke-city\n",
      "manchester-united-west-ham-united\n",
      "stoke-city-wigan-athletic\n",
      "tottenham-hotspur-norwich-city\n",
      "newcastle-united-norwich-city\n",
      "wigan-athletic-chelsea-fc\n",
      "west-bromwich-albion-manchester-city\n",
      "chelsea-fc-stoke-city\n",
      "manchester-city-everton-fc\n",
      "swansea-city-stoke-city\n",
      "southampton-fc-norwich-city\n",
      "southampton-fc-arsenal-fc\n",
      "southampton-fc-liverpool-fc\n",
      "newcastle-united-swansea-city\n",
      "manchester-united-fulham-fc\n",
      "newcastle-united-chelsea-fc\n",
      "norwich-city-newcastle-united\n",
      "liverpool-fc-newcastle-united\n",
      "everton-fc-queens-park-rangers\n",
      "swansea-city-tottenham-hotspur\n",
      "norwich-city-west-ham-united\n",
      "newcastle-united-tottenham-hotspur\n",
      "aston-villa-arsenal-fc\n",
      "southampton-fc-newcastle-united\n",
      "sunderland-afc-swansea-city\n",
      "sunderland-afc-queens-park-rangers\n",
      "norwich-city-stoke-city\n",
      "liverpool-fc-wigan-athletic\n",
      "queens-park-rangers-west-bromwich-albion\n",
      "wigan-athletic-west-ham-united\n",
      "swansea-city-everton-fc\n",
      "west-bromwich-albion-chelsea-fc\n",
      "west-bromwich-albion-swansea-city\n",
      "queens-park-rangers-manchester-united\n",
      "liverpool-fc-queens-park-rangers\n",
      "wigan-athletic-arsenal-fc\n",
      "stoke-city-swansea-city\n",
      "swansea-city-aston-villa\n",
      "stoke-city-everton-fc\n",
      "aston-villa-manchester-city\n",
      "manchester-united-southampton-fc\n",
      "tottenham-hotspur-queens-park-rangers\n",
      "queens-park-rangers-norwich-city\n",
      "queens-park-rangers-tottenham-hotspur\n",
      "west-bromwich-albion-aston-villa\n",
      "newcastle-united-fulham-fc\n",
      "fulham-fc-aston-villa\n",
      "queens-park-rangers-arsenal-fc\n",
      "stoke-city-arsenal-fc\n",
      "queens-park-rangers-manchester-city\n",
      "chelsea-fc-newcastle-united\n",
      "chelsea-fc-swansea-city\n",
      "everton-fc-wigan-athletic\n",
      "tottenham-hotspur-liverpool-fc\n",
      "west-ham-united-liverpool-fc\n",
      "fulham-fc-everton-fc\n",
      "liverpool-fc-norwich-city\n",
      "newcastle-united-west-ham-united\n",
      "manchester-united-queens-park-rangers\n",
      "tottenham-hotspur-aston-villa\n",
      "everton-fc-swansea-city\n",
      "manchester-city-fulham-fc\n",
      "manchester-city-west-bromwich-albion\n",
      "wigan-athletic-manchester-city\n",
      "chelsea-fc-fulham-fc\n",
      "stoke-city-norwich-city\n",
      "stoke-city-manchester-united\n",
      "west-ham-united-west-bromwich-albion\n",
      "west-bromwich-albion-norwich-city\n",
      "manchester-united-newcastle-united\n",
      "manchester-city-stoke-city\n",
      "wigan-athletic-liverpool-fc\n",
      "queens-park-rangers-newcastle-united\n",
      "liverpool-fc-stoke-city\n",
      "west-ham-united-stoke-city\n",
      "tottenham-hotspur-reading-fc\n",
      "liverpool-fc-manchester-united\n",
      "west-ham-united-southampton-fc\n",
      "reading-fc-stoke-city\n",
      "southampton-fc-stoke-city\n",
      "reading-fc-tottenham-hotspur\n",
      "manchester-united-swansea-city\n",
      "fulham-fc-wigan-athletic\n",
      "norwich-city-aston-villa\n",
      "aston-villa-tottenham-hotspur\n",
      "everton-fc-aston-villa\n",
      "wigan-athletic-reading-fc\n",
      "wigan-athletic-norwich-city\n",
      "liverpool-fc-reading-fc\n",
      "arsenal-fc-manchester-united\n",
      "tottenham-hotspur-west-bromwich-albion\n",
      "norwich-city-manchester-united\n",
      "stoke-city-newcastle-united\n",
      "reading-fc-southampton-fc\n",
      "tottenham-hotspur-manchester-city\n",
      "everton-fc-manchester-united\n",
      "arsenal-fc-southampton-fc\n"
     ]
    }
   ],
   "source": [
    "games_scorers_assists = {}\n",
    "for k in games_page.keys():\n",
    "    print k\n",
    "    games_scorers_assists[k] = summary(games_page[k])"
   ]
  },
  {
   "cell_type": "code",
   "execution_count": 92,
   "metadata": {
    "collapsed": false
   },
   "outputs": [
    {
     "data": {
      "text/plain": [
       "{'away': [(u'Robin van Persie', u'Tom Cleverley', 25, 1)],\n",
       " 'home': [(u'Clint Dempsey', u'Aaron Lennon', 90, 0)]}"
      ]
     },
     "execution_count": 92,
     "metadata": {},
     "output_type": "execute_result"
    }
   ],
   "source": [
    "#Testing ! It worked super well ! check the website below:\n",
    "games_scorers_assists['tottenham-hotspur-manchester-united']"
   ]
  },
  {
   "cell_type": "markdown",
   "metadata": {},
   "source": [
    "http://www.worldfootball.net/report/premier-league-2012-2013-tottenham-hotspur-manchester-united/\n",
    "\n",
    "Early goal form RVP and equaliser of Dempsey (USA USA USA) at the last minute :-)"
   ]
  },
  {
   "cell_type": "code",
   "execution_count": 89,
   "metadata": {
    "collapsed": false
   },
   "outputs": [],
   "source": [
    "import json\n",
    "with open('BPL12-13.json', 'w') as fp:\n",
    "    json.dump(games_scorers_assists, fp)"
   ]
  },
  {
   "cell_type": "code",
   "execution_count": 90,
   "metadata": {
    "collapsed": true
   },
   "outputs": [],
   "source": [
    "#In case you need to reload it:\n",
    "with open('BPL/BPL12-13.json', 'r') as fp:\n",
    "    data = json.load(fp)"
   ]
  },
  {
   "cell_type": "code",
   "execution_count": 91,
   "metadata": {
    "collapsed": false
   },
   "outputs": [
    {
     "data": {
      "text/plain": [
       "{u'away': [[u'Robin van Persie', u'Tom Cleverley', 25, 1]],\n",
       " u'home': [[u'Clint Dempsey', u'Aaron Lennon', 90, 0]]}"
      ]
     },
     "execution_count": 91,
     "metadata": {},
     "output_type": "execute_result"
    }
   ],
   "source": [
    "data['tottenham-hotspur-manchester-united']"
   ]
  }
 ],
 "metadata": {
  "kernelspec": {
   "display_name": "Python 2",
   "language": "python",
   "name": "python2"
  },
  "language_info": {
   "codemirror_mode": {
    "name": "ipython",
    "version": 2
   },
   "file_extension": ".py",
   "mimetype": "text/x-python",
   "name": "python",
   "nbconvert_exporter": "python",
   "pygments_lexer": "ipython2",
   "version": "2.7.10"
  }
 },
 "nbformat": 4,
 "nbformat_minor": 0
}
