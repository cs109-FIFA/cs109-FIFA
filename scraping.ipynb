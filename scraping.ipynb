{
 "cells": [
  {
   "cell_type": "markdown",
   "metadata": {},
   "source": [
    "# Scraping script for worldfootball.net"
   ]
  },
  {
   "cell_type": "code",
   "execution_count": 1,
   "metadata": {
    "collapsed": false
   },
   "outputs": [],
   "source": [
    "%matplotlib inline\n",
    "import numpy as np\n",
    "import scipy as sp\n",
    "import matplotlib as mpl\n",
    "import matplotlib.cm as cm\n",
    "import matplotlib.pyplot as plt\n",
    "import pandas as pd\n",
    "import time\n",
    "pd.set_option('display.width', 500)\n",
    "pd.set_option('display.max_columns', 100)\n",
    "pd.set_option('display.notebook_repr_html', True)\n",
    "import seaborn as sns\n",
    "sns.set_style(\"whitegrid\")\n",
    "sns.set_context(\"poster\")\n",
    "from pyquery import PyQuery as pq\n",
    "from bs4 import BeautifulSoup\n",
    "import requests\n",
    "import re"
   ]
  },
  {
   "cell_type": "markdown",
   "metadata": {},
   "source": [
    "### Defining the list of teams for BPL 12-13"
   ]
  },
  {
   "cell_type": "code",
   "execution_count": 16,
   "metadata": {
    "collapsed": true
   },
   "outputs": [],
   "source": [
    "teams = ['arsenal-fc','aston-villa','chelsea-fc','everton-fc','fulham-fc','liverpool-fc','manchester-city','manchester-united','newcastle-united','norwich-city','queens-park-rangers','reading-fc','southampton-fc','stoke-city','sunderland-afc','swansea-city','tottenham-hotspur','west-bromwich-albion','west-ham-united','wigan-athletic']"
   ]
  },
  {
   "cell_type": "code",
   "execution_count": 17,
   "metadata": {
    "collapsed": false
   },
   "outputs": [
    {
     "data": {
      "text/plain": [
       "20"
      ]
     },
     "execution_count": 17,
     "metadata": {},
     "output_type": "execute_result"
    }
   ],
   "source": [
    "len(teams)"
   ]
  },
  {
   "cell_type": "markdown",
   "metadata": {},
   "source": [
    "### Defining the scraping function:"
   ]
  },
  {
   "cell_type": "markdown",
   "metadata": {},
   "source": [
    "This function takes for arguments: a BeautifoulSoup HTML parsed object (e.g. BeautifulSoup(test,\"html.parser\")) and boolean variable that indicates if there is a integer in the name of a league (e.g Ligue 1 in France)\n",
    "\n",
    "It returns a dictionary with keys away and home and their respective values are lists of triples and quadruples of the form:\n",
    "\n",
    "$\\star$(Goal scorer, assist player, time of goal, type of goal, scorer was subbed in, assister was subbed in) if there is an assist player\n",
    "\n",
    "$\\star$(Goal scorer, time of goal, type of goal, scorer was subbed in) if there isn't an assist player\n",
    "\n",
    "The type of goal is an integer corresponding:\n",
    "\n",
    "$\\bullet$ if type = +1: goal is a tie breaker (e.g 1-0,0-1, 2-1, 1-2...)\n",
    "\n",
    "$\\bullet$ if type = 0: goal is an equaliser (e.g 1-1,2-2,..)\n",
    "\n",
    "$\\bullet$ if type = -1: goal is a score reducer (e.g 0-2 to 1-2)\n",
    "\n",
    "$\\bullet$ if type = +/-k for k>1: goal is a score increaser/reducer (e.g 0-1 to 0-2 or 3-0 to 3-1)\n",
    "\n",
    "The subbed in features is binary:\n",
    "\n",
    "$\\bullet$ 0 if not subbed in\n",
    "\n",
    "$\\bullet$ 1 if subbed in"
   ]
  },
  {
   "cell_type": "code",
   "execution_count": 70,
   "metadata": {
    "collapsed": false
   },
   "outputs": [],
   "source": [
    "def summary(page,num_in_league_title):\n",
    "    \n",
    "    if num_in_league_title:\n",
    "        day = int(re.findall(r'\\b\\d+\\b',page.find_all(\"div\", attrs={'class': 'breadcrumb'})[0].get_text())[3])\n",
    "    else:\n",
    "        day = int(re.findall(r'\\b\\d+\\b',page.find_all(\"div\", attrs={'class': 'breadcrumb'})[0].get_text())[2])\n",
    "        \n",
    "    home = []\n",
    "    away = []\n",
    "    \n",
    "    score = 0\n",
    "    \n",
    "    #Checking if the score was 0-0 as there won't be any scorers to scrape\n",
    "    \n",
    "    #Getting the score:\n",
    "    finalscore = page.find_all(\"table\",attrs={'class': \"standard_tabelle\",'cellpadding': '3'})[0]\n",
    "    finalscore = map(int,re.findall(r'\\b\\d+\\b',finalscore.find(\"div\",attrs={'class':\"resultat\"}).get_text()))\n",
    "    \n",
    "    #Return dictionary with empyt home and away scorer lists:\n",
    "    if np.sum(finalscore)==0:\n",
    "        return dict([('home',[]),('day',day),('away',[])])\n",
    "    \n",
    "    else:\n",
    "        for td in page.find_all(\"table\",attrs={'class': \"standard_tabelle\",'cellpadding': '3'})[1].find_all('td'):\n",
    "            #Not considering the Goals heading of the table:\n",
    "            if td.has_attr('align'):\n",
    "                continue\n",
    "                \n",
    "            #Getting the home scorers:   \n",
    "            elif td.has_attr('class') and (not td.has_attr('style')):\n",
    "                #Update the score\n",
    "                score += 1\n",
    "                text = td.get_text()\n",
    "                ga = td.find_all(\"a\")\n",
    "                \n",
    "                #Checking if there is a player assisting on the goal:\n",
    "                if len(ga)>1:\n",
    "                    sc = ga[0].get_text()                    \n",
    "                    assis = ga[1].get_text()                    \n",
    "                    home.append((sc,assis,map(int,re.findall(r'\\b\\d+\\b', text))[0],score))\n",
    "                    \n",
    "                #If no assist:\n",
    "                else:\n",
    "                    sc = ga[0].get_text()\n",
    "                    home.append((sc,map(int,re.findall(r'\\b\\d+\\b', text))[0],score))\n",
    "\n",
    "\n",
    "            elif td.has_attr('class') and td.has_attr('style'):\n",
    "                #Update the score\n",
    "                score -= 1\n",
    "                text = td.get_text()\n",
    "                ga = td.find_all(\"a\")\n",
    "                \n",
    "                #Checking if there is a player assisting on the goal:\n",
    "                if len(ga)>1:\n",
    "                    sc = ga[0].get_text()                    \n",
    "                    assis = ga[1].get_text()\n",
    "                    #Note we return -score to account for the fact that if the away team scores the tie breaker goal, we still output +1:\n",
    "                    away.append((sc,assis,map(int,re.findall(r'\\b\\d+\\b', text))[0],-score))\n",
    "                    \n",
    "                #If no assist:\n",
    "                else:\n",
    "                    sc = ga[0].get_text()\n",
    "                    #Same remark\n",
    "                    away.append((sc,map(int,re.findall(r'\\b\\d+\\b', text))[0],-score))\n",
    "                    \n",
    "            else:\n",
    "                continue\n",
    "                \n",
    "        #Obtaining the list of players:    \n",
    "        home_players = page.find_all(\"table\",attrs={'class': \"standard_tabelle\",'cellpadding': '3'})[2].find_all('td')\n",
    "        #Obtaining the list of players subbed in:\n",
    "        home_sub =[]\n",
    "        for td in range(34,len(home_players),3):\n",
    "            home_sub.append(home_players[td+1].get_text().rstrip().lstrip())\n",
    "        \n",
    "        #Similarly for the away team:\n",
    "        away_players = page.find_all(\"table\",attrs={'class': \"standard_tabelle\",'cellpadding': '3'})[3].find_all('td')\n",
    "        away_sub =[]\n",
    "        for td in range(34,len(away_players),3):\n",
    "            away_sub.append(away_players[td+1].get_text().rstrip().lstrip())\n",
    "\n",
    "        #Adding the subbed in feature to the existing tuples:\n",
    "        for i in range(len(home)):\n",
    "            #Account for the presence or not of an assist player\n",
    "            if len(home[i])==4:\n",
    "                #Four cases:\n",
    "                # - both subbed in\n",
    "                if home[i][0] in home_sub:\n",
    "                    if home[i][1] in home_sub:\n",
    "                        temp = list(home[i])\n",
    "                        temp.append(1)\n",
    "                        temp.append(1)\n",
    "                        home[i] = tuple(temp)\n",
    "                    # - Only scorer subbed in\n",
    "                    else:\n",
    "                        temp = list(home[i])\n",
    "                        temp.append(1)\n",
    "                        temp.append(0)\n",
    "                        home[i] = tuple(temp)\n",
    "                else:\n",
    "                    # - Only assist playr subbed in\n",
    "                    if home[i][1] in home_sub:\n",
    "                        temp = list(home[i])\n",
    "                        temp.append(0)\n",
    "                        temp.append(1)\n",
    "                        home[i] = tuple(temp)\n",
    "                    # - None of them subbed in\n",
    "                    else:\n",
    "                        temp = list(home[i])\n",
    "                        temp.append(0)\n",
    "                        temp.append(0)\n",
    "                        home[i] = tuple(temp)\n",
    "                        \n",
    "            #Case with no assist player\n",
    "            else:\n",
    "                if home[i][0] in home_sub:\n",
    "                    temp = list(home[i])\n",
    "                    temp.append(1)\n",
    "                    home[i] = tuple(temp)\n",
    "                else:\n",
    "                    temp = list(home[i])\n",
    "                    temp.append(0)\n",
    "                    home[i] = tuple(temp)\n",
    "                    \n",
    "        #Repeat for away team           \n",
    "        for j in range(len(away)):\n",
    "            if len(away[j])==4:\n",
    "                if away[j][0] in away:\n",
    "                    if away[j][1] in away_sub:                        \n",
    "                        temp = list(away[j])\n",
    "                        temp.append(1)\n",
    "                        temp.append(1)\n",
    "                        away[j] = tuple(temp)\n",
    "                    else:\n",
    "                        temp = list(away[j])\n",
    "                        temp.append(1)\n",
    "                        temp.append(0)\n",
    "                        away[j] = tuple(temp)\n",
    "                else:\n",
    "                    if away[j][1] in away_sub:\n",
    "                        temp = list(away[j])\n",
    "                        temp.append(0)\n",
    "                        temp.append(1)\n",
    "                        away[j] = tuple(temp)\n",
    "                    else:\n",
    "                        temp = list(away[j])\n",
    "                        temp.append(0)\n",
    "                        temp.append(0)\n",
    "                        away[j] = tuple(temp)\n",
    "            else:\n",
    "                if away[j][0] in away_sub:\n",
    "                    temp = list(away[j])\n",
    "                    temp.append(1)\n",
    "                    away[j] = tuple(temp)\n",
    "                else:\n",
    "                    temp = list(away[j])\n",
    "                    temp.append(0)\n",
    "                    away[j] = tuple(temp)\n",
    "        \n",
    "   \n",
    "    return dict([('day',day),('home',home),('away',away)])"
   ]
  },
  {
   "cell_type": "markdown",
   "metadata": {},
   "source": [
    "### Testing the function:"
   ]
  },
  {
   "cell_type": "code",
   "execution_count": 71,
   "metadata": {
    "collapsed": true
   },
   "outputs": [],
   "source": [
    "test = requests.get(\"http://www.worldfootball.net/report/premier-league-2012-2013-norwich-city-aston-villa/\").text"
   ]
  },
  {
   "cell_type": "code",
   "execution_count": 72,
   "metadata": {
    "collapsed": true
   },
   "outputs": [],
   "source": [
    "test = BeautifulSoup(test,\"html.parser\")"
   ]
  },
  {
   "cell_type": "markdown",
   "metadata": {},
   "source": [
    "##### YAY!!!!!"
   ]
  },
  {
   "cell_type": "code",
   "execution_count": 73,
   "metadata": {
    "collapsed": false
   },
   "outputs": [
    {
     "data": {
      "text/plain": [
       "{'away': [(u'Gabriel Agbonlahor', u'Ashley Westwood', 55, 1, 0, 0),\n",
       "  (u'Gabriel Agbonlahor', u'Ashley Westwood', 89, 1, 0, 0)],\n",
       " 'day': 36,\n",
       " 'home': [(u'Grant Holt', 74, 0, 0)]}"
      ]
     },
     "execution_count": 73,
     "metadata": {},
     "output_type": "execute_result"
    }
   ],
   "source": [
    "summary(test,False)"
   ]
  },
  {
   "cell_type": "markdown",
   "metadata": {},
   "source": [
    "### Now the entire season 12-13:"
   ]
  },
  {
   "cell_type": "markdown",
   "metadata": {},
   "source": [
    "We first create the list of games using the format of the url needed:"
   ]
  },
  {
   "cell_type": "code",
   "execution_count": 18,
   "metadata": {
    "collapsed": false
   },
   "outputs": [],
   "source": [
    "games = []\n",
    "for t1 in teams:\n",
    "    for t2 in teams:\n",
    "        if t1!=t2:\n",
    "            games.append(t1+\"-\"+t2)"
   ]
  },
  {
   "cell_type": "markdown",
   "metadata": {},
   "source": [
    "We then scrape the website and create a dictionary to store the webpages per game:"
   ]
  },
  {
   "cell_type": "code",
   "execution_count": 19,
   "metadata": {
    "collapsed": false
   },
   "outputs": [],
   "source": [
    "games_page = dict([game,requests.get(\"http://www.worldfootball.net/report/premier-league-2012-2013-%s\" % game).text] \n",
    "             for game in games)\n",
    "\n",
    "#Don't forget that step:\n",
    "for k in games_page.keys():\n",
    "    games_page[k] = BeautifulSoup(games_page[k],\"html.parser\")"
   ]
  },
  {
   "cell_type": "code",
   "execution_count": 20,
   "metadata": {
    "collapsed": false
   },
   "outputs": [
    {
     "data": {
      "text/plain": [
       "380"
      ]
     },
     "execution_count": 20,
     "metadata": {},
     "output_type": "execute_result"
    }
   ],
   "source": [
    "#sanity check\n",
    "len(games_page)"
   ]
  },
  {
   "cell_type": "code",
   "execution_count": 21,
   "metadata": {
    "collapsed": false
   },
   "outputs": [
    {
     "data": {
      "text/plain": [
       "False"
      ]
     },
     "execution_count": 21,
     "metadata": {},
     "output_type": "execute_result"
    }
   ],
   "source": [
    "#sanity check for empty pages\n",
    "any(a == [] for a in games_page.values())"
   ]
  },
  {
   "cell_type": "markdown",
   "metadata": {},
   "source": [
    "We now extract the relevant information from each page and create a new dictionary with games as keys and the output of summary for values:"
   ]
  },
  {
   "cell_type": "code",
   "execution_count": 22,
   "metadata": {
    "collapsed": false
   },
   "outputs": [],
   "source": [
    "games_scorers_assists = {}\n",
    "for k in games_page.keys():\n",
    "    games_scorers_assists[k] = summary(games_page[k],False)"
   ]
  },
  {
   "cell_type": "code",
   "execution_count": 23,
   "metadata": {
    "collapsed": false
   },
   "outputs": [
    {
     "data": {
      "text/plain": [
       "{'away': [(u'Robin van Persie', u'Tom Cleverley', 25, 1, 0, 0)],\n",
       " 'day': 23,\n",
       " 'home': [(u'Clint Dempsey', u'Aaron Lennon', 90, 0, 0, 0)]}"
      ]
     },
     "execution_count": 23,
     "metadata": {},
     "output_type": "execute_result"
    }
   ],
   "source": [
    "#Testing ! It worked super well ! check the website below:\n",
    "games_scorers_assists['tottenham-hotspur-manchester-united']"
   ]
  },
  {
   "cell_type": "markdown",
   "metadata": {},
   "source": [
    "http://www.worldfootball.net/report/premier-league-2012-2013-tottenham-hotspur-manchester-united/\n",
    "\n",
    "Early goal form RVP and equaliser of Dempsey (USA USA USA) at the last minute :-)"
   ]
  },
  {
   "cell_type": "code",
   "execution_count": 24,
   "metadata": {
    "collapsed": false
   },
   "outputs": [],
   "source": [
    "import json\n",
    "with open('BPL12-13.json', 'w') as fp:\n",
    "    json.dump(games_scorers_assists, fp)"
   ]
  },
  {
   "cell_type": "code",
   "execution_count": 25,
   "metadata": {
    "collapsed": true
   },
   "outputs": [],
   "source": [
    "#In case you need to reload it:\n",
    "#with open('BPL/BPL12-13.json', 'r') as fp:\n",
    "#    data = json.load(fp)"
   ]
  },
  {
   "cell_type": "code",
   "execution_count": 26,
   "metadata": {
    "collapsed": false
   },
   "outputs": [],
   "source": [
    "#data['tottenham-hotspur-manchester-united']"
   ]
  },
  {
   "cell_type": "markdown",
   "metadata": {},
   "source": [
    "### Now the entire season 13-14:"
   ]
  },
  {
   "cell_type": "code",
   "execution_count": 27,
   "metadata": {
    "collapsed": true
   },
   "outputs": [],
   "source": [
    "teams13 = ['arsenal-fc','aston-villa','cardiff-city','chelsea-fc','crystal-palace','everton-fc','fulham-fc','hull-city','liverpool-fc','manchester-city','manchester-united','newcastle-united','norwich-city','southampton-fc','stoke-city','sunderland-afc','swansea-city','tottenham-hotspur','west-bromwich-albion','west-ham-united']"
   ]
  },
  {
   "cell_type": "code",
   "execution_count": 28,
   "metadata": {
    "collapsed": false
   },
   "outputs": [
    {
     "data": {
      "text/plain": [
       "20"
      ]
     },
     "execution_count": 28,
     "metadata": {},
     "output_type": "execute_result"
    }
   ],
   "source": [
    "len(teams13)"
   ]
  },
  {
   "cell_type": "code",
   "execution_count": 29,
   "metadata": {
    "collapsed": true
   },
   "outputs": [],
   "source": [
    "games13 = []\n",
    "for t1 in teams13:\n",
    "    for t2 in teams13:\n",
    "        if t1!=t2:\n",
    "            games13.append(t1+\"-\"+t2)"
   ]
  },
  {
   "cell_type": "code",
   "execution_count": 30,
   "metadata": {
    "collapsed": true
   },
   "outputs": [],
   "source": [
    "games_page13 = dict([game,requests.get(\"http://www.worldfootball.net/report/premier-league-2013-2014-%s\" % game).text] \n",
    "             for game in games13)\n",
    "\n",
    "#Don't forget that step:\n",
    "for k in games_page13.keys():\n",
    "    games_page13[k] = BeautifulSoup(games_page13[k],\"html.parser\")"
   ]
  },
  {
   "cell_type": "code",
   "execution_count": 31,
   "metadata": {
    "collapsed": false
   },
   "outputs": [
    {
     "name": "stdout",
     "output_type": "stream",
     "text": [
      "380\n",
      "False\n"
     ]
    }
   ],
   "source": [
    "#sanity check\n",
    "print len(games_page13)\n",
    "#sanity check for empty pages\n",
    "print any(a == [] for a in games_page13.values())"
   ]
  },
  {
   "cell_type": "code",
   "execution_count": 32,
   "metadata": {
    "collapsed": false
   },
   "outputs": [],
   "source": [
    "games_scorers_assists13 = {}\n",
    "for k in games_page13.keys():\n",
    "    games_scorers_assists13[k] = summary(games_page13[k],False)"
   ]
  },
  {
   "cell_type": "code",
   "execution_count": 33,
   "metadata": {
    "collapsed": true
   },
   "outputs": [],
   "source": [
    "import json\n",
    "with open('BPL13-14.json', 'w') as fp:\n",
    "    json.dump(games_scorers_assists13, fp)"
   ]
  },
  {
   "cell_type": "code",
   "execution_count": 34,
   "metadata": {
    "collapsed": true
   },
   "outputs": [],
   "source": [
    "#In case you need to reload it:\n",
    "#with open('BPL/BPL13-14.json', 'r') as fp:\n",
    "#    data = json.load(fp)"
   ]
  },
  {
   "cell_type": "markdown",
   "metadata": {},
   "source": [
    "### French league:"
   ]
  },
  {
   "cell_type": "markdown",
   "metadata": {},
   "source": [
    "#### Season 12-13"
   ]
  },
  {
   "cell_type": "code",
   "execution_count": 35,
   "metadata": {
    "collapsed": true
   },
   "outputs": [],
   "source": [
    "frenchteams12 = ['ac-ajaccio','as-nancy','as-saint-etienne','estac-troyes','evian-thonon-gaillard','fc-lorient','fc-sochaux','girondins-bordeaux','lille-osc','montpellier-hsc','ogc-nice','olympique-lyon','olympique-marseille','paris-saint-germain','sc-bastia','stade-brest','stade-reims','stade-rennes','toulouse-fc','valenciennes-fc']"
   ]
  },
  {
   "cell_type": "code",
   "execution_count": 36,
   "metadata": {
    "collapsed": false
   },
   "outputs": [
    {
     "data": {
      "text/plain": [
       "20"
      ]
     },
     "execution_count": 36,
     "metadata": {},
     "output_type": "execute_result"
    }
   ],
   "source": [
    "len(list(set(frenchteams12)))"
   ]
  },
  {
   "cell_type": "code",
   "execution_count": 37,
   "metadata": {
    "collapsed": true
   },
   "outputs": [],
   "source": [
    "frenchgames12 = []\n",
    "for t1 in frenchteams12:\n",
    "    for t2 in frenchteams12:\n",
    "        if t1!=t2:\n",
    "            frenchgames12.append(t1+\"-\"+t2)"
   ]
  },
  {
   "cell_type": "code",
   "execution_count": 38,
   "metadata": {
    "collapsed": false
   },
   "outputs": [
    {
     "data": {
      "text/plain": [
       "380"
      ]
     },
     "execution_count": 38,
     "metadata": {},
     "output_type": "execute_result"
    }
   ],
   "source": [
    "len(frenchgames12)"
   ]
  },
  {
   "cell_type": "code",
   "execution_count": 39,
   "metadata": {
    "collapsed": true
   },
   "outputs": [],
   "source": [
    "frenchgames_page12 = dict([game,requests.get(\"http://www.worldfootball.net/report/ligue-1-2012-2013-%s\" % game).text] \n",
    "             for game in frenchgames12)\n",
    "\n",
    "#Don't forget that step:\n",
    "for k in frenchgames_page12.keys():\n",
    "    frenchgames_page12[k] = BeautifulSoup(frenchgames_page12[k],\"html.parser\")"
   ]
  },
  {
   "cell_type": "code",
   "execution_count": 40,
   "metadata": {
    "collapsed": false
   },
   "outputs": [
    {
     "name": "stdout",
     "output_type": "stream",
     "text": [
      "380\n",
      "False\n"
     ]
    }
   ],
   "source": [
    "#sanity check\n",
    "print len(frenchgames_page12)\n",
    "#sanity check for empty pages\n",
    "print any(a == [] for a in frenchgames_page12.values())"
   ]
  },
  {
   "cell_type": "code",
   "execution_count": 74,
   "metadata": {
    "collapsed": false
   },
   "outputs": [],
   "source": [
    "frenchgames_scorers_assists12 = {}\n",
    "for k in frenchgames_page12.keys():\n",
    "    frenchgames_scorers_assists12[k] = summary(frenchgames_page12[k],True)"
   ]
  },
  {
   "cell_type": "code",
   "execution_count": 77,
   "metadata": {
    "collapsed": false
   },
   "outputs": [
    {
     "data": {
      "text/plain": [
       "{'away': [(u'S\\xc3\\xa9bastien Roudet',\n",
       "   u'J\\xc3\\xa9r\\xc3\\xb4me Roussillon',\n",
       "   62,\n",
       "   -2,\n",
       "   0,\n",
       "   0)],\n",
       " 'day': 11,\n",
       " 'home': [(u'Foued Kadir', 12, 1, 0),\n",
       "  (u'Gr\\xc3\\xa9gory Pujol', u'Foued Kadir', 27, 2, 0, 0),\n",
       "  (u'Gr\\xc3\\xa9gory Pujol', u'Foued Kadir', 60, 3, 0, 0)]}"
      ]
     },
     "execution_count": 77,
     "metadata": {},
     "output_type": "execute_result"
    }
   ],
   "source": [
    "#test:\n",
    "frenchgames_scorers_assists12['valenciennes-fc-fc-sochaux']"
   ]
  },
  {
   "cell_type": "code",
   "execution_count": 78,
   "metadata": {
    "collapsed": true
   },
   "outputs": [],
   "source": [
    "import json\n",
    "with open('French12-13.json', 'w') as fp:\n",
    "    json.dump(frenchgames_scorers_assists12, fp)"
   ]
  },
  {
   "cell_type": "code",
   "execution_count": 44,
   "metadata": {
    "collapsed": true
   },
   "outputs": [],
   "source": [
    "#In case you need to reload it:\n",
    "#with open('French/French12-13.json', 'r') as fp:\n",
    "#    data = json.load(fp)"
   ]
  },
  {
   "cell_type": "markdown",
   "metadata": {},
   "source": [
    "#### Season 13-14"
   ]
  },
  {
   "cell_type": "code",
   "execution_count": 45,
   "metadata": {
    "collapsed": true
   },
   "outputs": [],
   "source": [
    "frenchteams13 = ['ac-ajaccio','as-monaco','as-saint-etienne','ea-guingamp','evian-thonon-gaillard','fc-lorient','fc-nantes','fc-sochaux','girondins-bordeaux','lille-osc','montpellier-hsc','ogc-nice','olympique-lyon','olympique-marseille','paris-saint-germain','sc-bastia','stade-reims','stade-rennes','toulouse-fc','valenciennes-fc']\n",
    "len(frenchteams13)\n",
    "frenchgames13 = []\n",
    "\n",
    "for t1 in frenchteams13:\n",
    "    for t2 in frenchteams13:\n",
    "        if t1!=t2:\n",
    "            frenchgames13.append(t1+\"-\"+t2)\n",
    "            \n",
    "frenchgames_page13 = dict([game,requests.get(\"http://www.worldfootball.net/report/ligue-1-2013-2014-%s\" % game).text] \n",
    "             for game in frenchgames13)\n",
    "\n",
    "#Don't forget that step:\n",
    "for k in frenchgames_page13.keys():\n",
    "    frenchgames_page13[k] = BeautifulSoup(frenchgames_page13[k],\"html.parser\")"
   ]
  },
  {
   "cell_type": "code",
   "execution_count": 46,
   "metadata": {
    "collapsed": false
   },
   "outputs": [
    {
     "name": "stdout",
     "output_type": "stream",
     "text": [
      "380\n",
      "False\n"
     ]
    }
   ],
   "source": [
    "#sanity check\n",
    "print len(frenchgames_page13)\n",
    "#sanity check for empty pages\n",
    "print any(a == [] for a in frenchgames_page13.values())"
   ]
  },
  {
   "cell_type": "code",
   "execution_count": 79,
   "metadata": {
    "collapsed": true
   },
   "outputs": [],
   "source": [
    "frenchgames_scorers_assists13 = {}\n",
    "for k in frenchgames_page13.keys():\n",
    "    frenchgames_scorers_assists13[k] = summary(frenchgames_page13[k],True)"
   ]
  },
  {
   "cell_type": "code",
   "execution_count": 80,
   "metadata": {
    "collapsed": true
   },
   "outputs": [],
   "source": [
    "import json\n",
    "with open('French13-14.json', 'w') as fp:\n",
    "    json.dump(frenchgames_scorers_assists13, fp)"
   ]
  },
  {
   "cell_type": "code",
   "execution_count": 49,
   "metadata": {
    "collapsed": true
   },
   "outputs": [],
   "source": [
    "#In case you need to reload it:\n",
    "#with open('French/French13-14.json', 'r') as fp:\n",
    "#    data = json.load(fp)"
   ]
  },
  {
   "cell_type": "code",
   "execution_count": null,
   "metadata": {
    "collapsed": true
   },
   "outputs": [],
   "source": []
  }
 ],
 "metadata": {
  "kernelspec": {
   "display_name": "Python 2",
   "language": "python",
   "name": "python2"
  },
  "language_info": {
   "codemirror_mode": {
    "name": "ipython",
    "version": 2
   },
   "file_extension": ".py",
   "mimetype": "text/x-python",
   "name": "python",
   "nbconvert_exporter": "python",
   "pygments_lexer": "ipython2",
   "version": "2.7.10"
  }
 },
 "nbformat": 4,
 "nbformat_minor": 0
}
