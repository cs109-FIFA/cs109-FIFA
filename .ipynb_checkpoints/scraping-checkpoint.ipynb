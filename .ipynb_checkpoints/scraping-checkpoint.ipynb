{
 "cells": [
  {
   "cell_type": "markdown",
   "metadata": {},
   "source": [
    "# Scraping script for worldfootball.net"
   ]
  },
  {
   "cell_type": "code",
   "execution_count": 1,
   "metadata": {
    "collapsed": false
   },
   "outputs": [],
   "source": [
    "%matplotlib inline\n",
    "import numpy as np\n",
    "import scipy as sp\n",
    "import matplotlib as mpl\n",
    "import matplotlib.cm as cm\n",
    "import matplotlib.pyplot as plt\n",
    "import pandas as pd\n",
    "import time\n",
    "pd.set_option('display.width', 500)\n",
    "pd.set_option('display.max_columns', 100)\n",
    "pd.set_option('display.notebook_repr_html', True)\n",
    "import seaborn as sns\n",
    "sns.set_style(\"whitegrid\")\n",
    "sns.set_context(\"poster\")\n",
    "from pyquery import PyQuery as pq\n",
    "from bs4 import BeautifulSoup\n",
    "import requests\n",
    "import re"
   ]
  },
  {
   "cell_type": "markdown",
   "metadata": {},
   "source": [
    "### Defining the list of teams for BPL 12-13"
   ]
  },
  {
   "cell_type": "code",
   "execution_count": 16,
   "metadata": {
    "collapsed": true
   },
   "outputs": [],
   "source": [
    "teams = ['arsenal-fc','aston-villa','chelsea-fc','everton-fc','fulham-fc','liverpool-fc','manchester-city','manchester-united','newcastle-united','norwich-city','queens-park-rangers','reading-fc','southampton-fc','stoke-city','sunderland-afc','swansea-city','tottenham-hotspur','west-bromwich-albion','west-ham-united','wigan-athletic']"
   ]
  },
  {
   "cell_type": "code",
   "execution_count": 17,
   "metadata": {
    "collapsed": false
   },
   "outputs": [
    {
     "data": {
      "text/plain": [
       "20"
      ]
     },
     "execution_count": 17,
     "metadata": {},
     "output_type": "execute_result"
    }
   ],
   "source": [
    "len(teams)"
   ]
  },
  {
   "cell_type": "markdown",
   "metadata": {},
   "source": [
    "### Defining the scraping function:"
   ]
  },
  {
   "cell_type": "markdown",
   "metadata": {},
   "source": [
    "This function takes for arguments: a BeautifoulSoup HTML parsed object (e.g. BeautifulSoup(test,\"html.parser\")) and boolean variable that indicates if there is a integer in the name of a league (e.g Ligue 1 in France)\n",
    "\n",
    "It returns a dictionary with keys away and home and their respective values are lists of triples and quadruples of the form:\n",
    "\n",
    "$\\star$(Goal scorer, assist player, time of goal, type of goal, scorer was subbed in, assister was subbed in) if there is an assist player\n",
    "\n",
    "$\\star$(Goal scorer, \" \" , time of goal, type of goal, scorer was subbed in) if there isn't an assist player\n",
    "\n",
    "The type of goal is an integer corresponding:\n",
    "\n",
    "$\\bullet$ if type = +1: goal is a tie breaker (e.g 1-0,0-1, 2-1, 1-2...)\n",
    "\n",
    "$\\bullet$ if type = 0: goal is an equaliser (e.g 1-1,2-2,..)\n",
    "\n",
    "$\\bullet$ if type = -1: goal is a score reducer (e.g 0-2 to 1-2)\n",
    "\n",
    "$\\bullet$ if type = +/-k for k>1: goal is a score increaser/reducer (e.g 0-1 to 0-2 or 3-0 to 3-1)\n",
    "\n",
    "The subbed in features is binary:\n",
    "\n",
    "$\\bullet$ 0 if not subbed in\n",
    "\n",
    "$\\bullet$ 1 if subbed in"
   ]
  },
  {
   "cell_type": "code",
   "execution_count": 117,
   "metadata": {
    "collapsed": false
   },
   "outputs": [],
   "source": [
    "def summary(page,num_in_league_title):\n",
    "    \n",
    "    if num_in_league_title:\n",
    "        day = int(re.findall(r'\\b\\d+\\b',page.find_all(\"div\", attrs={'class': 'breadcrumb'})[0].get_text())[3])\n",
    "    else:\n",
    "        day = int(re.findall(r'\\b\\d+\\b',page.find_all(\"div\", attrs={'class': 'breadcrumb'})[0].get_text())[2])\n",
    "        \n",
    "    home = []\n",
    "    away = []\n",
    "    \n",
    "    score = 0\n",
    "    \n",
    "    #Checking if the score was 0-0 as there won't be any scorers to scrape\n",
    "    \n",
    "    #Getting the score:\n",
    "    finalscore = page.find_all(\"table\",attrs={'class': \"standard_tabelle\",'cellpadding': '3'})[0]\n",
    "    finalscore = map(int,re.findall(r'\\b\\d+\\b',finalscore.find(\"div\",attrs={'class':\"resultat\"}).get_text()))\n",
    "    \n",
    "    #Return dictionary with empyt home and away scorer lists:\n",
    "    if np.sum(finalscore)==0:\n",
    "        return dict([('home',[]),('day',day),('away',[])])\n",
    "    \n",
    "    else:\n",
    "        for td in page.find_all(\"table\",attrs={'class': \"standard_tabelle\",'cellpadding': '3'})[1].find_all('td'):\n",
    "            #Not considering the Goals heading of the table:\n",
    "            if td.has_attr('align'):\n",
    "                continue\n",
    "                \n",
    "            #Getting the home scorers:   \n",
    "            elif td.has_attr('class') and (not td.has_attr('style')):\n",
    "                #Update the score\n",
    "                score += 1\n",
    "                text = td.get_text()\n",
    "                ga = td.find_all(\"a\")\n",
    "                \n",
    "                #Checking if there is a player assisting on the goal:\n",
    "                if len(ga)>1:\n",
    "                    sc = ga[0].get_text()                    \n",
    "                    assis = ga[1].get_text()\n",
    "                    #To fix some bad HTML on the site:\n",
    "                    if sc == assis:\n",
    "                        assis = ' '\n",
    "                    home.append((sc,assis,map(int,re.findall(r'\\b\\d+\\b', text))[0],score))\n",
    "                    \n",
    "                #If no assist:\n",
    "                else:\n",
    "                    sc = ga[0].get_text()\n",
    "                    home.append((sc,\" \",map(int,re.findall(r'\\b\\d+\\b', text))[0],score))\n",
    "\n",
    "\n",
    "            elif td.has_attr('class') and td.has_attr('style'):\n",
    "                #Update the score\n",
    "                score -= 1\n",
    "                text = td.get_text()\n",
    "                ga = td.find_all(\"a\")\n",
    "                \n",
    "                #Checking if there is a player assisting on the goal:\n",
    "                if len(ga)>1:\n",
    "                    sc = ga[0].get_text()                    \n",
    "                    assis = ga[1].get_text()\n",
    "                    if sc == assis:\n",
    "                        assis = ' '\n",
    "                    #Note we return -score to account for the fact that if the away team scores the tie breaker goal, we still output +1:\n",
    "                    away.append((sc,assis,map(int,re.findall(r'\\b\\d+\\b', text))[0],-score))\n",
    "                    \n",
    "                #If no assist:\n",
    "                else:\n",
    "                    sc = ga[0].get_text()\n",
    "                    #Same remark\n",
    "                    away.append((sc,\" \",map(int,re.findall(r'\\b\\d+\\b', text))[0],-score))\n",
    "                    \n",
    "            else:\n",
    "                continue\n",
    "                \n",
    "        #Obtaining the list of players:    \n",
    "        home_players = page.find_all(\"table\",attrs={'class': \"standard_tabelle\",'cellpadding': '3'})[2].find_all('td')\n",
    "        #Obtaining the list of players subbed in:\n",
    "        home_sub =[]\n",
    "        for td in range(34,len(home_players),3):\n",
    "            home_sub.append(home_players[td+1].get_text().rstrip().lstrip())\n",
    "        \n",
    "        #Similarly for the away team:\n",
    "        away_players = page.find_all(\"table\",attrs={'class': \"standard_tabelle\",'cellpadding': '3'})[3].find_all('td')\n",
    "        away_sub =[]\n",
    "        for td in range(34,len(away_players),3):\n",
    "            away_sub.append(away_players[td+1].get_text().rstrip().lstrip())\n",
    "\n",
    "        #Adding the subbed in feature to the existing tuples:\n",
    "        for i in range(len(home)):\n",
    "            #Four cases:\n",
    "            # - both subbed in\n",
    "            if home[i][0] in home_sub:\n",
    "                if home[i][1] in home_sub:\n",
    "                    temp = list(home[i])\n",
    "                    temp.append(1)\n",
    "                    temp.append(1)\n",
    "                    home[i] = tuple(temp)\n",
    "                # - Only scorer subbed in\n",
    "                else:\n",
    "                    temp = list(home[i])\n",
    "                    temp.append(1)\n",
    "                    temp.append(0)\n",
    "                    home[i] = tuple(temp)\n",
    "            else:\n",
    "                # - Only assist playr subbed in\n",
    "                if home[i][1] in home_sub:\n",
    "                    temp = list(home[i])\n",
    "                    temp.append(0)\n",
    "                    temp.append(1)\n",
    "                    home[i] = tuple(temp)\n",
    "                # - None of them subbed in\n",
    "                else:\n",
    "                    temp = list(home[i])\n",
    "                    temp.append(0)\n",
    "                    temp.append(0)\n",
    "                    home[i] = tuple(temp)\n",
    "            \n",
    "                    \n",
    "        #Repeat for away team           \n",
    "        for j in range(len(away)):\n",
    "            if away[j][0] in away_sub:\n",
    "                if away[j][1] in away_sub:                        \n",
    "                    temp = list(away[j])\n",
    "                    temp.append(1)\n",
    "                    temp.append(1)\n",
    "                    away[j] = tuple(temp)\n",
    "                else:\n",
    "                    temp = list(away[j])\n",
    "                    temp.append(1)\n",
    "                    temp.append(0)\n",
    "                    away[j] = tuple(temp)\n",
    "            else:\n",
    "                if away[j][1] in away_sub:\n",
    "                    temp = list(away[j])\n",
    "                    temp.append(0)\n",
    "                    temp.append(1)\n",
    "                    away[j] = tuple(temp)\n",
    "                else:\n",
    "                    temp = list(away[j])\n",
    "                    temp.append(0)\n",
    "                    temp.append(0)\n",
    "                    away[j] = tuple(temp)\n",
    "   \n",
    "    return dict([('day',day),('home',home),('away',away)])"
   ]
  },
  {
   "cell_type": "markdown",
   "metadata": {},
   "source": [
    "### Testing the function:"
   ]
  },
  {
   "cell_type": "code",
   "execution_count": 86,
   "metadata": {
    "collapsed": true
   },
   "outputs": [],
   "source": [
    "test = requests.get(\"http://www.worldfootball.net/report/premier-league-2012-2013-norwich-city-aston-villa/\").text"
   ]
  },
  {
   "cell_type": "code",
   "execution_count": 87,
   "metadata": {
    "collapsed": true
   },
   "outputs": [],
   "source": [
    "test = BeautifulSoup(test,\"html.parser\")"
   ]
  },
  {
   "cell_type": "markdown",
   "metadata": {},
   "source": [
    "##### YAY!!!!!"
   ]
  },
  {
   "cell_type": "code",
   "execution_count": 88,
   "metadata": {
    "collapsed": false
   },
   "outputs": [
    {
     "data": {
      "text/plain": [
       "{'away': [(u'Gabriel Agbonlahor', u'Ashley Westwood', 55, 1, 0, 0),\n",
       "  (u'Gabriel Agbonlahor', u'Ashley Westwood', 89, 1, 0, 0)],\n",
       " 'day': 36,\n",
       " 'home': [(u'Grant Holt', ' ', 74, 0, 0, 0)]}"
      ]
     },
     "execution_count": 88,
     "metadata": {},
     "output_type": "execute_result"
    }
   ],
   "source": [
    "summary(test,False)"
   ]
  },
  {
   "cell_type": "markdown",
   "metadata": {},
   "source": [
    "### Now the entire season 12-13:"
   ]
  },
  {
   "cell_type": "markdown",
   "metadata": {},
   "source": [
    "We first create the list of games using the format of the url needed:"
   ]
  },
  {
   "cell_type": "code",
   "execution_count": 18,
   "metadata": {
    "collapsed": false
   },
   "outputs": [],
   "source": [
    "games = []\n",
    "for t1 in teams:\n",
    "    for t2 in teams:\n",
    "        if t1!=t2:\n",
    "            games.append(t1+\"-\"+t2)"
   ]
  },
  {
   "cell_type": "markdown",
   "metadata": {},
   "source": [
    "We then scrape the website and create a dictionary to store the webpages per game:"
   ]
  },
  {
   "cell_type": "code",
   "execution_count": 19,
   "metadata": {
    "collapsed": false
   },
   "outputs": [],
   "source": [
    "games_page = dict([game,requests.get(\"http://www.worldfootball.net/report/premier-league-2012-2013-%s\" % game).text] \n",
    "             for game in games)\n",
    "\n",
    "#Don't forget that step:\n",
    "for k in games_page.keys():\n",
    "    games_page[k] = BeautifulSoup(games_page[k],\"html.parser\")"
   ]
  },
  {
   "cell_type": "code",
   "execution_count": 20,
   "metadata": {
    "collapsed": false
   },
   "outputs": [
    {
     "data": {
      "text/plain": [
       "380"
      ]
     },
     "execution_count": 20,
     "metadata": {},
     "output_type": "execute_result"
    }
   ],
   "source": [
    "#sanity check\n",
    "len(games_page)"
   ]
  },
  {
   "cell_type": "code",
   "execution_count": 21,
   "metadata": {
    "collapsed": false
   },
   "outputs": [
    {
     "data": {
      "text/plain": [
       "False"
      ]
     },
     "execution_count": 21,
     "metadata": {},
     "output_type": "execute_result"
    }
   ],
   "source": [
    "#sanity check for empty pages\n",
    "any(a == [] for a in games_page.values())"
   ]
  },
  {
   "cell_type": "markdown",
   "metadata": {},
   "source": [
    "We now extract the relevant information from each page and create a new dictionary with games as keys and the output of summary for values:"
   ]
  },
  {
   "cell_type": "code",
   "execution_count": 119,
   "metadata": {
    "collapsed": false
   },
   "outputs": [],
   "source": [
    "games_scorers_assists = {}\n",
    "for k in games_page.keys():\n",
    "    games_scorers_assists[k] = summary(games_page[k],False)"
   ]
  },
  {
   "cell_type": "code",
   "execution_count": 120,
   "metadata": {
    "collapsed": false
   },
   "outputs": [
    {
     "data": {
      "text/plain": [
       "{'away': [(u'Robin van Persie', ' ', 44, 0, 0, 0)],\n",
       " 'day': 35,\n",
       " 'home': [(u'Theo Walcott',\n",
       "   u'Tom\\xc3\\xa1\\xc5\\xa1 Rosick\\xc3\\xbd',\n",
       "   2,\n",
       "   1,\n",
       "   0,\n",
       "   0)]}"
      ]
     },
     "execution_count": 120,
     "metadata": {},
     "output_type": "execute_result"
    }
   ],
   "source": [
    "#Testing ! It worked super well ! check the website below:\n",
    "games_scorers_assists['arsenal-fc-manchester-united']"
   ]
  },
  {
   "cell_type": "markdown",
   "metadata": {},
   "source": [
    "http://www.worldfootball.net/report/premier-league-2012-2013-tottenham-hotspur-manchester-united/\n",
    "\n",
    "Early goal form RVP and equaliser of Dempsey (USA USA USA) at the last minute :-)"
   ]
  },
  {
   "cell_type": "code",
   "execution_count": 121,
   "metadata": {
    "collapsed": false
   },
   "outputs": [],
   "source": [
    "import json\n",
    "with open('BPL12-13.json', 'w') as fp:\n",
    "    json.dump(games_scorers_assists, fp)"
   ]
  },
  {
   "cell_type": "code",
   "execution_count": 25,
   "metadata": {
    "collapsed": true
   },
   "outputs": [],
   "source": [
    "#In case you need to reload it:\n",
    "#with open('BPL/BPL12-13.json', 'r') as fp:\n",
    "#    data = json.load(fp)"
   ]
  },
  {
   "cell_type": "code",
   "execution_count": 26,
   "metadata": {
    "collapsed": false
   },
   "outputs": [],
   "source": [
    "#data['tottenham-hotspur-manchester-united']"
   ]
  },
  {
   "cell_type": "markdown",
   "metadata": {},
   "source": [
    "### Now the entire season 13-14:"
   ]
  },
  {
   "cell_type": "code",
   "execution_count": 27,
   "metadata": {
    "collapsed": true
   },
   "outputs": [],
   "source": [
    "teams13 = ['arsenal-fc','aston-villa','cardiff-city','chelsea-fc','crystal-palace','everton-fc','fulham-fc','hull-city','liverpool-fc','manchester-city','manchester-united','newcastle-united','norwich-city','southampton-fc','stoke-city','sunderland-afc','swansea-city','tottenham-hotspur','west-bromwich-albion','west-ham-united']"
   ]
  },
  {
   "cell_type": "code",
   "execution_count": 28,
   "metadata": {
    "collapsed": false
   },
   "outputs": [
    {
     "data": {
      "text/plain": [
       "20"
      ]
     },
     "execution_count": 28,
     "metadata": {},
     "output_type": "execute_result"
    }
   ],
   "source": [
    "len(teams13)"
   ]
  },
  {
   "cell_type": "code",
   "execution_count": 29,
   "metadata": {
    "collapsed": true
   },
   "outputs": [],
   "source": [
    "games13 = []\n",
    "for t1 in teams13:\n",
    "    for t2 in teams13:\n",
    "        if t1!=t2:\n",
    "            games13.append(t1+\"-\"+t2)"
   ]
  },
  {
   "cell_type": "code",
   "execution_count": 30,
   "metadata": {
    "collapsed": true
   },
   "outputs": [],
   "source": [
    "games_page13 = dict([game,requests.get(\"http://www.worldfootball.net/report/premier-league-2013-2014-%s\" % game).text] \n",
    "             for game in games13)\n",
    "\n",
    "#Don't forget that step:\n",
    "for k in games_page13.keys():\n",
    "    games_page13[k] = BeautifulSoup(games_page13[k],\"html.parser\")"
   ]
  },
  {
   "cell_type": "code",
   "execution_count": 31,
   "metadata": {
    "collapsed": false
   },
   "outputs": [
    {
     "name": "stdout",
     "output_type": "stream",
     "text": [
      "380\n",
      "False\n"
     ]
    }
   ],
   "source": [
    "#sanity check\n",
    "print len(games_page13)\n",
    "#sanity check for empty pages\n",
    "print any(a == [] for a in games_page13.values())"
   ]
  },
  {
   "cell_type": "code",
   "execution_count": 122,
   "metadata": {
    "collapsed": false
   },
   "outputs": [],
   "source": [
    "games_scorers_assists13 = {}\n",
    "for k in games_page13.keys():\n",
    "    games_scorers_assists13[k] = summary(games_page13[k],False)"
   ]
  },
  {
   "cell_type": "code",
   "execution_count": 123,
   "metadata": {
    "collapsed": true
   },
   "outputs": [],
   "source": [
    "import json\n",
    "with open('BPL13-14.json', 'w') as fp:\n",
    "    json.dump(games_scorers_assists13, fp)"
   ]
  },
  {
   "cell_type": "code",
   "execution_count": 34,
   "metadata": {
    "collapsed": true
   },
   "outputs": [],
   "source": [
    "#In case you need to reload it:\n",
    "#with open('BPL/BPL13-14.json', 'r') as fp:\n",
    "#    data = json.load(fp)"
   ]
  },
  {
   "cell_type": "markdown",
   "metadata": {},
   "source": [
    "### French league:"
   ]
  },
  {
   "cell_type": "markdown",
   "metadata": {},
   "source": [
    "#### Season 12-13"
   ]
  },
  {
   "cell_type": "code",
   "execution_count": 35,
   "metadata": {
    "collapsed": true
   },
   "outputs": [],
   "source": [
    "frenchteams12 = ['ac-ajaccio','as-nancy','as-saint-etienne','estac-troyes','evian-thonon-gaillard','fc-lorient','fc-sochaux','girondins-bordeaux','lille-osc','montpellier-hsc','ogc-nice','olympique-lyon','olympique-marseille','paris-saint-germain','sc-bastia','stade-brest','stade-reims','stade-rennes','toulouse-fc','valenciennes-fc']"
   ]
  },
  {
   "cell_type": "code",
   "execution_count": 36,
   "metadata": {
    "collapsed": false
   },
   "outputs": [
    {
     "data": {
      "text/plain": [
       "20"
      ]
     },
     "execution_count": 36,
     "metadata": {},
     "output_type": "execute_result"
    }
   ],
   "source": [
    "len(list(set(frenchteams12)))"
   ]
  },
  {
   "cell_type": "code",
   "execution_count": 37,
   "metadata": {
    "collapsed": true
   },
   "outputs": [],
   "source": [
    "frenchgames12 = []\n",
    "for t1 in frenchteams12:\n",
    "    for t2 in frenchteams12:\n",
    "        if t1!=t2:\n",
    "            frenchgames12.append(t1+\"-\"+t2)"
   ]
  },
  {
   "cell_type": "code",
   "execution_count": 38,
   "metadata": {
    "collapsed": false
   },
   "outputs": [
    {
     "data": {
      "text/plain": [
       "380"
      ]
     },
     "execution_count": 38,
     "metadata": {},
     "output_type": "execute_result"
    }
   ],
   "source": [
    "len(frenchgames12)"
   ]
  },
  {
   "cell_type": "code",
   "execution_count": 39,
   "metadata": {
    "collapsed": true
   },
   "outputs": [],
   "source": [
    "frenchgames_page12 = dict([game,requests.get(\"http://www.worldfootball.net/report/ligue-1-2012-2013-%s\" % game).text] \n",
    "             for game in frenchgames12)\n",
    "\n",
    "#Don't forget that step:\n",
    "for k in frenchgames_page12.keys():\n",
    "    frenchgames_page12[k] = BeautifulSoup(frenchgames_page12[k],\"html.parser\")"
   ]
  },
  {
   "cell_type": "code",
   "execution_count": 40,
   "metadata": {
    "collapsed": false
   },
   "outputs": [
    {
     "name": "stdout",
     "output_type": "stream",
     "text": [
      "380\n",
      "False\n"
     ]
    }
   ],
   "source": [
    "#sanity check\n",
    "print len(frenchgames_page12)\n",
    "#sanity check for empty pages\n",
    "print any(a == [] for a in frenchgames_page12.values())"
   ]
  },
  {
   "cell_type": "code",
   "execution_count": 124,
   "metadata": {
    "collapsed": false
   },
   "outputs": [],
   "source": [
    "frenchgames_scorers_assists12 = {}\n",
    "for k in frenchgames_page12.keys():\n",
    "    frenchgames_scorers_assists12[k] = summary(frenchgames_page12[k],True)"
   ]
  },
  {
   "cell_type": "code",
   "execution_count": 99,
   "metadata": {
    "collapsed": false
   },
   "outputs": [
    {
     "data": {
      "text/plain": [
       "{'away': [(u'S\\xc3\\xa9bastien Roudet',\n",
       "   u'J\\xc3\\xa9r\\xc3\\xb4me Roussillon',\n",
       "   62,\n",
       "   -2,\n",
       "   0,\n",
       "   0)],\n",
       " 'day': 11,\n",
       " 'home': [(u'Foued Kadir', ' ', 12, 1, 0, 0),\n",
       "  (u'Gr\\xc3\\xa9gory Pujol', u'Foued Kadir', 27, 2, 0, 0),\n",
       "  (u'Gr\\xc3\\xa9gory Pujol', u'Foued Kadir', 60, 3, 0, 0)]}"
      ]
     },
     "execution_count": 99,
     "metadata": {},
     "output_type": "execute_result"
    }
   ],
   "source": [
    "#test:\n",
    "frenchgames_scorers_assists12['valenciennes-fc-fc-sochaux']"
   ]
  },
  {
   "cell_type": "code",
   "execution_count": 125,
   "metadata": {
    "collapsed": true
   },
   "outputs": [],
   "source": [
    "import json\n",
    "with open('French12-13.json', 'w') as fp:\n",
    "    json.dump(frenchgames_scorers_assists12, fp)"
   ]
  },
  {
   "cell_type": "code",
   "execution_count": 44,
   "metadata": {
    "collapsed": true
   },
   "outputs": [],
   "source": [
    "#In case you need to reload it:\n",
    "#with open('French/French12-13.json', 'r') as fp:\n",
    "#    data = json.load(fp)"
   ]
  },
  {
   "cell_type": "markdown",
   "metadata": {},
   "source": [
    "#### Season 13-14"
   ]
  },
  {
   "cell_type": "code",
   "execution_count": 45,
   "metadata": {
    "collapsed": true
   },
   "outputs": [],
   "source": [
    "frenchteams13 = ['ac-ajaccio','as-monaco','as-saint-etienne','ea-guingamp','evian-thonon-gaillard','fc-lorient','fc-nantes','fc-sochaux','girondins-bordeaux','lille-osc','montpellier-hsc','ogc-nice','olympique-lyon','olympique-marseille','paris-saint-germain','sc-bastia','stade-reims','stade-rennes','toulouse-fc','valenciennes-fc']\n",
    "len(frenchteams13)\n",
    "frenchgames13 = []\n",
    "\n",
    "for t1 in frenchteams13:\n",
    "    for t2 in frenchteams13:\n",
    "        if t1!=t2:\n",
    "            frenchgames13.append(t1+\"-\"+t2)\n",
    "            \n",
    "frenchgames_page13 = dict([game,requests.get(\"http://www.worldfootball.net/report/ligue-1-2013-2014-%s\" % game).text] \n",
    "             for game in frenchgames13)\n",
    "\n",
    "#Don't forget that step:\n",
    "for k in frenchgames_page13.keys():\n",
    "    frenchgames_page13[k] = BeautifulSoup(frenchgames_page13[k],\"html.parser\")"
   ]
  },
  {
   "cell_type": "code",
   "execution_count": 46,
   "metadata": {
    "collapsed": false
   },
   "outputs": [
    {
     "name": "stdout",
     "output_type": "stream",
     "text": [
      "380\n",
      "False\n"
     ]
    }
   ],
   "source": [
    "#sanity check\n",
    "print len(frenchgames_page13)\n",
    "#sanity check for empty pages\n",
    "print any(a == [] for a in frenchgames_page13.values())"
   ]
  },
  {
   "cell_type": "code",
   "execution_count": 126,
   "metadata": {
    "collapsed": true
   },
   "outputs": [],
   "source": [
    "frenchgames_scorers_assists13 = {}\n",
    "for k in frenchgames_page13.keys():\n",
    "    frenchgames_scorers_assists13[k] = summary(frenchgames_page13[k],True)"
   ]
  },
  {
   "cell_type": "code",
   "execution_count": 127,
   "metadata": {
    "collapsed": true
   },
   "outputs": [],
   "source": [
    "import json\n",
    "with open('French13-14.json', 'w') as fp:\n",
    "    json.dump(frenchgames_scorers_assists13, fp)"
   ]
  },
  {
   "cell_type": "code",
   "execution_count": 49,
   "metadata": {
    "collapsed": true
   },
   "outputs": [],
   "source": [
    "#In case you need to reload it:\n",
    "#with open('French/French13-14.json', 'r') as fp:\n",
    "#    data = json.load(fp)"
   ]
  },
  {
   "cell_type": "markdown",
   "metadata": {},
   "source": [
    "### Spanish division:"
   ]
  },
  {
   "cell_type": "markdown",
   "metadata": {},
   "source": [
    "#### Season 12/13"
   ]
  },
  {
   "cell_type": "code",
   "execution_count": 106,
   "metadata": {
    "collapsed": false
   },
   "outputs": [
    {
     "name": "stdout",
     "output_type": "stream",
     "text": [
      "20\n"
     ]
    }
   ],
   "source": [
    "spanishteams12 = ['real-madrid','ca-osasuna','fc-barcelona','malaga-cf','granada-cf','getafe-cf','sevilla-fc','valencia-cf','deportivo-la-coruna','real-sociedad','celta-vigo','espanyol-barcelona','rcd-mallorca','real-valladolid','real-zaragoza','atletico-madrid','levante-ud','real-betis','rayo-vallecano','athletic-bilbao']\n",
    "print len(spanishteams12)\n",
    "\n",
    "spanishgames12 = []\n",
    "\n",
    "for t1 in spanishteams12:\n",
    "    for t2 in spanishteams12:\n",
    "        if t1!=t2:\n",
    "            spanishgames12.append(t1+\"-\"+t2)\n",
    "            \n",
    "spanishgames_page12 = dict([game,requests.get(\"http://www.worldfootball.net/report/primera-division-2012-2013-%s\" % game).text] \n",
    "             for game in spanishgames12)\n",
    "\n",
    "#Don't forget that step:\n",
    "for k in spanishgames_page12.keys():\n",
    "    spanishgames_page12[k] = BeautifulSoup(spanishgames_page12[k],\"html.parser\")"
   ]
  },
  {
   "cell_type": "code",
   "execution_count": 107,
   "metadata": {
    "collapsed": false
   },
   "outputs": [
    {
     "name": "stdout",
     "output_type": "stream",
     "text": [
      "380\n",
      "False\n"
     ]
    }
   ],
   "source": [
    "#sanity check\n",
    "print len(spanishgames_page12)\n",
    "#sanity check for empty pages\n",
    "print any(a == [] for a in spanishgames_page12.values())"
   ]
  },
  {
   "cell_type": "code",
   "execution_count": 128,
   "metadata": {
    "collapsed": true
   },
   "outputs": [],
   "source": [
    "spanishgames_scorers_assists12 = {}\n",
    "for k in spanishgames_page12.keys():\n",
    "    spanishgames_scorers_assists12[k] = summary(spanishgames_page12[k],False)"
   ]
  },
  {
   "cell_type": "code",
   "execution_count": 129,
   "metadata": {
    "collapsed": false
   },
   "outputs": [
    {
     "data": {
      "text/plain": [
       "{'away': [(u'Pedro Morales', u'Jes\\xc3\\xbas G\\xc3\\xa1mez', 55, -3, 1, 0)],\n",
       " 'day': 38,\n",
       " 'home': [(u'David Villa', u'Pedro', 2, 1, 0, 0),\n",
       "  (u'Cesc F\\xc3\\xa0bregas', u'Iniesta', 13, 2, 0, 0),\n",
       "  (u'Mart\\xc3\\xadn Montoya', ' ', 15, 3, 0, 0),\n",
       "  (u'Iniesta', ' ', 50, 4, 0, 0)]}"
      ]
     },
     "execution_count": 129,
     "metadata": {},
     "output_type": "execute_result"
    }
   ],
   "source": [
    "summary(spanishgames_page12['fc-barcelona-malaga-cf'],False)"
   ]
  },
  {
   "cell_type": "code",
   "execution_count": 130,
   "metadata": {
    "collapsed": true
   },
   "outputs": [],
   "source": [
    "import json\n",
    "with open('Spanish12-13.json', 'w') as fp:\n",
    "    json.dump(spanishgames_scorers_assists12, fp)"
   ]
  },
  {
   "cell_type": "code",
   "execution_count": null,
   "metadata": {
    "collapsed": true
   },
   "outputs": [],
   "source": [
    "#In case you need to reload it:\n",
    "#with open('Spanish/Spanish12-13.json', 'r') as fp:\n",
    "#    data = json.load(fp)"
   ]
  },
  {
   "cell_type": "markdown",
   "metadata": {},
   "source": [
    "#### Season 13/14"
   ]
  },
  {
   "cell_type": "code",
   "execution_count": 112,
   "metadata": {
    "collapsed": false
   },
   "outputs": [
    {
     "name": "stdout",
     "output_type": "stream",
     "text": [
      "20\n"
     ]
    }
   ],
   "source": [
    "spanishteams13 = ['real-madrid','ca-osasuna','fc-barcelona','malaga-cf','granada-cf','getafe-cf','sevilla-fc','valencia-cf','elche-cf','real-sociedad','celta-vigo','espanyol-barcelona','villarreal-cf','real-valladolid','ud-almeria','atletico-madrid','levante-ud','real-betis','rayo-vallecano','athletic-bilbao']\n",
    "print len(spanishteams13)\n",
    "\n",
    "spanishgames13 = []\n",
    "\n",
    "for t1 in spanishteams13:\n",
    "    for t2 in spanishteams13:\n",
    "        if t1!=t2:\n",
    "            spanishgames13.append(t1+\"-\"+t2)\n",
    "            \n",
    "spanishgames_page13 = dict([game,requests.get(\"http://www.worldfootball.net/report/primera-division-2013-2014-%s\" % game).text] \n",
    "             for game in spanishgames13)\n",
    "\n",
    "#Don't forget that step:\n",
    "for k in spanishgames_page13.keys():\n",
    "    spanishgames_page13[k] = BeautifulSoup(spanishgames_page13[k],\"html.parser\")"
   ]
  },
  {
   "cell_type": "code",
   "execution_count": 132,
   "metadata": {
    "collapsed": false
   },
   "outputs": [
    {
     "name": "stdout",
     "output_type": "stream",
     "text": [
      "380\n",
      "False\n"
     ]
    }
   ],
   "source": [
    "print len(spanishgames_page13)\n",
    "#sanity check for empty pages\n",
    "print any(a == [] for a in spanishgames_page13.values())"
   ]
  },
  {
   "cell_type": "code",
   "execution_count": 131,
   "metadata": {
    "collapsed": true
   },
   "outputs": [],
   "source": [
    "spanishgames_scorers_assists13 = {}\n",
    "for k in spanishgames_page13.keys():\n",
    "    spanishgames_scorers_assists13[k] = summary(spanishgames_page13[k],False)"
   ]
  },
  {
   "cell_type": "code",
   "execution_count": 133,
   "metadata": {
    "collapsed": true
   },
   "outputs": [],
   "source": [
    "import json\n",
    "with open('Spanish13-14.json', 'w') as fp:\n",
    "    json.dump(spanishgames_scorers_assists13, fp)"
   ]
  },
  {
   "cell_type": "code",
   "execution_count": null,
   "metadata": {
    "collapsed": true
   },
   "outputs": [],
   "source": [
    "#In case you need to reload it:\n",
    "#with open('Spanish/Spanish13-14.json', 'r') as fp:\n",
    "#    data = json.load(fp)"
   ]
  },
  {
   "cell_type": "markdown",
   "metadata": {},
   "source": [
    "### Bundesliga"
   ]
  },
  {
   "cell_type": "markdown",
   "metadata": {},
   "source": [
    "#### Season 12/13"
   ]
  },
  {
   "cell_type": "code",
   "execution_count": 138,
   "metadata": {
    "collapsed": false
   },
   "outputs": [
    {
     "name": "stdout",
     "output_type": "stream",
     "text": [
      "18\n"
     ]
    }
   ],
   "source": [
    "bundesteams12 = ['bor-moenchengladbach','bayern-muenchen','sc-freiburg','fc-schalke-04','hamburger-sv','bayer-leverkusen','eintracht-frankfurt','vfl-wolfsburg','1-fc-nuernberg','werder-bremen','borussia-dortmund','1899-hoffenheim','vfb-stuttgart','1-fsv-mainz-05','fc-augsburg','spvgg-greuther-fuerth','hannover-96','fortuna-duesseldorf']\n",
    "print len(bundesteams12)\n",
    "\n",
    "bundesgames12 = []\n",
    "\n",
    "for t1 in bundesteams12:\n",
    "    for t2 in bundesteams12:\n",
    "        if t1!=t2:\n",
    "            bundesgames12.append(t1+\"-\"+t2)\n",
    "            \n",
    "bundesgames_page12 = dict([game,requests.get(\"http://www.worldfootball.net/report/bundesliga-2012-2013-%s\" % game).text] \n",
    "             for game in bundesgames12)\n",
    "\n",
    "#Don't forget that step:\n",
    "for k in bundesgames_page12.keys():\n",
    "    bundesgames_page12[k] = BeautifulSoup(bundesgames_page12[k],\"html.parser\")"
   ]
  },
  {
   "cell_type": "code",
   "execution_count": 139,
   "metadata": {
    "collapsed": false
   },
   "outputs": [
    {
     "name": "stdout",
     "output_type": "stream",
     "text": [
      "306\n",
      "False\n"
     ]
    }
   ],
   "source": [
    "#sanity check\n",
    "print len(bundesgames_page12)\n",
    "#sanity check for empty pages\n",
    "print any(a == [] for a in bundesgames_page12.values())"
   ]
  },
  {
   "cell_type": "code",
   "execution_count": 140,
   "metadata": {
    "collapsed": true
   },
   "outputs": [],
   "source": [
    "bundesgames_scorers_assists12 = {}\n",
    "for k in bundesgames_page12.keys():\n",
    "    bundesgames_scorers_assists12[k] = summary(bundesgames_page12[k],False)"
   ]
  },
  {
   "cell_type": "code",
   "execution_count": 141,
   "metadata": {
    "collapsed": false
   },
   "outputs": [
    {
     "data": {
      "text/plain": [
       "{'away': [(u'Javi Mart\\xc3\\xadnez', u'Franck Rib\\xc3\\xa9ry', 7, -1, 0, 0),\n",
       "  (u'Franck Rib\\xc3\\xa9ry', u'Thomas M\\xc3\\xbcller', 18, -1, 0, 0),\n",
       "  (u'Franck Rib\\xc3\\xa9ry', u'Philipp Lahm', 53, 0, 0, 0),\n",
       "  (u'Arjen Robben', u'Franck Rib\\xc3\\xa9ry', 59, 1, 0, 0)],\n",
       " 'day': 34,\n",
       " 'home': [(u'Martin Stranzl', u'Juan Arango', 4, 1, 0, 0),\n",
       "  (u'Mike Hanke', u'Branimir Hrgota', 5, 2, 0, 0),\n",
       "  (u'H\\xc3\\xa5vard Nordtveit', u'Patrick Herrmann', 10, 2, 0, 0)]}"
      ]
     },
     "execution_count": 141,
     "metadata": {},
     "output_type": "execute_result"
    }
   ],
   "source": [
    "bundesgames_scorers_assists12['bor-moenchengladbach-bayern-muenchen']"
   ]
  },
  {
   "cell_type": "code",
   "execution_count": 142,
   "metadata": {
    "collapsed": true
   },
   "outputs": [],
   "source": [
    "import json\n",
    "with open('Bundes12-13.json', 'w') as fp:\n",
    "    json.dump(bundesgames_scorers_assists12, fp)"
   ]
  },
  {
   "cell_type": "code",
   "execution_count": null,
   "metadata": {
    "collapsed": true
   },
   "outputs": [],
   "source": [
    "#In case you need to reload it:\n",
    "#with open('Germany/Bundes12-13.json', 'r') as fp:\n",
    "#    data = json.load(fp)"
   ]
  },
  {
   "cell_type": "markdown",
   "metadata": {},
   "source": [
    "#### Season 13/14"
   ]
  },
  {
   "cell_type": "code",
   "execution_count": 143,
   "metadata": {
    "collapsed": false
   },
   "outputs": [
    {
     "name": "stdout",
     "output_type": "stream",
     "text": [
      "18\n"
     ]
    }
   ],
   "source": [
    "bundesteams13 = ['bor-moenchengladbach','bayern-muenchen','sc-freiburg','fc-schalke-04','hamburger-sv','bayer-leverkusen','eintracht-frankfurt','vfl-wolfsburg','1-fc-nuernberg','werder-bremen','borussia-dortmund','1899-hoffenheim','vfb-stuttgart','1-fsv-mainz-05','fc-augsburg','eintracht-braunschweig','hannover-96','hertha-bsc']\n",
    "print len(bundesteams13)\n",
    "\n",
    "bundesgames13 = []\n",
    "\n",
    "for t1 in bundesteams13:\n",
    "    for t2 in bundesteams13:\n",
    "        if t1!=t2:\n",
    "            bundesgames13.append(t1+\"-\"+t2)\n",
    "            \n",
    "bundesgames_page13 = dict([game,requests.get(\"http://www.worldfootball.net/report/bundesliga-2013-2014-%s\" % game).text] \n",
    "             for game in bundesgames13)\n",
    "\n",
    "#Don't forget that step:\n",
    "for k in bundesgames_page13.keys():\n",
    "    bundesgames_page13[k] = BeautifulSoup(bundesgames_page13[k],\"html.parser\")"
   ]
  },
  {
   "cell_type": "code",
   "execution_count": 144,
   "metadata": {
    "collapsed": false
   },
   "outputs": [
    {
     "name": "stdout",
     "output_type": "stream",
     "text": [
      "306\n",
      "False\n"
     ]
    }
   ],
   "source": [
    "#sanity check\n",
    "print len(bundesgames_page13)\n",
    "#sanity check for empty pages\n",
    "print any(a == [] for a in bundesgames_page13.values())"
   ]
  },
  {
   "cell_type": "code",
   "execution_count": 145,
   "metadata": {
    "collapsed": true
   },
   "outputs": [],
   "source": [
    "bundesgames_scorers_assists13 = {}\n",
    "for k in bundesgames_page13.keys():\n",
    "    bundesgames_scorers_assists13[k] = summary(bundesgames_page13[k],False)"
   ]
  },
  {
   "cell_type": "code",
   "execution_count": 146,
   "metadata": {
    "collapsed": false
   },
   "outputs": [
    {
     "data": {
      "text/plain": [
       "{'away': [(u'Mario G\\xc3\\xb6tze', u'Thomas M\\xc3\\xbcller', 7, 1, 0, 0),\n",
       "  (u'Thomas M\\xc3\\xbcller', ' ', 53, 2, 0, 0)],\n",
       " 'day': 18,\n",
       " 'home': []}"
      ]
     },
     "execution_count": 146,
     "metadata": {},
     "output_type": "execute_result"
    }
   ],
   "source": [
    "bundesgames_scorers_assists13['bor-moenchengladbach-bayern-muenchen']"
   ]
  },
  {
   "cell_type": "code",
   "execution_count": 147,
   "metadata": {
    "collapsed": true
   },
   "outputs": [],
   "source": [
    "import json\n",
    "with open('Bundes13-14.json', 'w') as fp:\n",
    "    json.dump(bundesgames_scorers_assists13, fp)"
   ]
  },
  {
   "cell_type": "code",
   "execution_count": null,
   "metadata": {
    "collapsed": true
   },
   "outputs": [],
   "source": [
    "#In case you need to reload it:\n",
    "#with open('Germany/Bundes13-14.json', 'r') as fp:\n",
    "#    data = json.load(fp)"
   ]
  },
  {
   "cell_type": "markdown",
   "metadata": {},
   "source": [
    "### Italy"
   ]
  },
  {
   "cell_type": "markdown",
   "metadata": {},
   "source": [
    "#### Season 12/13"
   ]
  },
  {
   "cell_type": "code",
   "execution_count": 150,
   "metadata": {
    "collapsed": false
   },
   "outputs": [
    {
     "name": "stdout",
     "output_type": "stream",
     "text": [
      "20\n"
     ]
    }
   ],
   "source": [
    "itateams12 = ['sampdoria','juventus','atalanta-bergamo','chievo-verona','bologna-fc','genoa-cfc','torino-fc','calcio-catania','cagliari-calcio','lazio-roma','delfino-pescara-1936','acf-fiorentina','ac-siena','ac-milan','as-roma','ssc-napoli','us-palermo','parma-fc','inter','udinese-calcio']\n",
    "print len(itateams12)\n",
    "\n",
    "itagames12 = []\n",
    "\n",
    "for t1 in itateams12:\n",
    "    for t2 in itateams12:\n",
    "        if t1!=t2:\n",
    "            itagames12.append(t1+\"-\"+t2)\n",
    "            \n",
    "itagames_page12 = dict([game,requests.get(\"http://www.worldfootball.net/report/serie-a-2012-2013-%s\" % game).text] \n",
    "             for game in itagames12)\n",
    "\n",
    "#Don't forget that step:\n",
    "for k in itagames_page12.keys():\n",
    "    itagames_page12[k] = BeautifulSoup(itagames_page12[k],\"html.parser\")"
   ]
  },
  {
   "cell_type": "code",
   "execution_count": 151,
   "metadata": {
    "collapsed": false
   },
   "outputs": [
    {
     "name": "stdout",
     "output_type": "stream",
     "text": [
      "380\n",
      "False\n"
     ]
    }
   ],
   "source": [
    "#sanity check\n",
    "print len(itagames_page12)\n",
    "#sanity check for empty pages\n",
    "print any(a == [] for a in itagames_page12.values())"
   ]
  },
  {
   "cell_type": "code",
   "execution_count": 155,
   "metadata": {
    "collapsed": false
   },
   "outputs": [],
   "source": [
    "itagames_scorers_assists12 = {}\n",
    "for k in itagames_page12.keys():\n",
    "    if k == 'cagliari-calcio-as-roma':\n",
    "        continue\n",
    "    else:\n",
    "        itagames_scorers_assists12[k] = summary(itagames_page12[k],False)\n",
    "#This game was awarded to Roma due to legal ruling, we will count it as 0 0:\n",
    "itagames_scorers_assists12['cagliari-calcio-as-roma'] = dict([('home',[]),('day',4),('away',[])])"
   ]
  },
  {
   "cell_type": "code",
   "execution_count": 156,
   "metadata": {
    "collapsed": false
   },
   "outputs": [
    {
     "data": {
      "text/plain": [
       "{'away': [(u'Fabio Quagliarella', u'Andrea Pirlo', 25, 1, 0, 0),\n",
       "  (u'Emanuele Giaccherini', u'Stephan Lichtsteiner', 90, -1, 0, 1)],\n",
       " 'day': 38,\n",
       " 'home': [(u'\\xc3\\x89der', ' ', 31, 0, 0, 0),\n",
       "  (u'Lorenzo De Silvestri', u'Marcelo Estigarribia', 57, 1, 0, 0),\n",
       "  (u'Mauro Icardi', u'Marcelo Estigarribia', 75, 2, 0, 0)]}"
      ]
     },
     "execution_count": 156,
     "metadata": {},
     "output_type": "execute_result"
    }
   ],
   "source": [
    "itagames_scorers_assists12['sampdoria-juventus']"
   ]
  },
  {
   "cell_type": "code",
   "execution_count": 157,
   "metadata": {
    "collapsed": true
   },
   "outputs": [],
   "source": [
    "import json\n",
    "with open('Italy12-13.json', 'w') as fp:\n",
    "    json.dump(itagames_scorers_assists12, fp)"
   ]
  },
  {
   "cell_type": "code",
   "execution_count": null,
   "metadata": {
    "collapsed": true
   },
   "outputs": [],
   "source": [
    "#In case you need to reload it:\n",
    "#with open('Italy/Italy12-13.json', 'r') as fp:\n",
    "#    data = json.load(fp)"
   ]
  },
  {
   "cell_type": "markdown",
   "metadata": {},
   "source": [
    "#### Season 13/14 "
   ]
  },
  {
   "cell_type": "code",
   "execution_count": 158,
   "metadata": {
    "collapsed": false
   },
   "outputs": [
    {
     "name": "stdout",
     "output_type": "stream",
     "text": [
      "20\n"
     ]
    }
   ],
   "source": [
    "itateams13 = ['sampdoria','juventus','atalanta-bergamo','chievo-verona','bologna-fc','genoa-cfc','torino-fc','calcio-catania','cagliari-calcio','lazio-roma','sassuolo-calcio','acf-fiorentina','hellas-verona','ac-milan','as-roma','ssc-napoli','as-livorno','parma-fc','inter','udinese-calcio']\n",
    "print len(itateams13)\n",
    "\n",
    "itagames13 = []\n",
    "\n",
    "for t1 in itateams13:\n",
    "    for t2 in itateams13:\n",
    "        if t1!=t2:\n",
    "            itagames13.append(t1+\"-\"+t2)\n",
    "            \n",
    "itagames_page13 = dict([game,requests.get(\"http://www.worldfootball.net/report/serie-a-2013-2014-%s\" % game).text] \n",
    "             for game in itagames13)\n",
    "\n",
    "#Don't forget that step:\n",
    "for k in itagames_page13.keys():\n",
    "    itagames_page13[k] = BeautifulSoup(itagames_page13[k],\"html.parser\")"
   ]
  },
  {
   "cell_type": "code",
   "execution_count": 159,
   "metadata": {
    "collapsed": false
   },
   "outputs": [
    {
     "name": "stdout",
     "output_type": "stream",
     "text": [
      "380\n",
      "False\n"
     ]
    }
   ],
   "source": [
    "#sanity check\n",
    "print len(itagames_page13)\n",
    "#sanity check for empty pages\n",
    "print any(a == [] for a in itagames_page13.values())"
   ]
  },
  {
   "cell_type": "code",
   "execution_count": 167,
   "metadata": {
    "collapsed": false
   },
   "outputs": [
    {
     "data": {
      "text/plain": [
       "True"
      ]
     },
     "execution_count": 167,
     "metadata": {},
     "output_type": "execute_result"
    }
   ],
   "source": [
    "'atalanta-bergamo' in 'ssc-napoli-atalanta-bergamo'"
   ]
  },
  {
   "cell_type": "code",
   "execution_count": 168,
   "metadata": {
    "collapsed": false
   },
   "outputs": [
    {
     "name": "stdout",
     "output_type": "stream",
     "text": [
      "calcio-catania-genoa-cfc\n",
      "torino-fc-sampdoria\n",
      "sassuolo-calcio-udinese-calcio\n",
      "chievo-verona-juventus\n",
      "juventus-bologna-fc\n",
      "hellas-verona-juventus\n",
      "inter-torino-fc\n",
      "calcio-catania-bologna-fc\n",
      "sassuolo-calcio-juventus\n",
      "calcio-catania-udinese-calcio\n",
      "juventus-ac-milan\n",
      "as-livorno-inter\n",
      "lazio-roma-as-livorno\n",
      "acf-fiorentina-as-livorno\n",
      "atalanta-bergamo-udinese-calcio\n",
      "acf-fiorentina-lazio-roma\n",
      "ssc-napoli-atalanta-bergamo\n",
      "as-livorno-hellas-verona\n",
      "chievo-verona-genoa-cfc\n",
      "sampdoria-genoa-cfc\n",
      "torino-fc-inter\n",
      "calcio-catania-cagliari-calcio\n",
      "chievo-verona-udinese-calcio\n",
      "cagliari-calcio-acf-fiorentina\n",
      "udinese-calcio-chievo-verona\n",
      "cagliari-calcio-inter\n",
      "genoa-cfc-ac-milan\n",
      "sassuolo-calcio-genoa-cfc\n",
      "atalanta-bergamo-ac-milan\n",
      "lazio-roma-genoa-cfc\n",
      "sassuolo-calcio-bologna-fc\n",
      "ssc-napoli-genoa-cfc\n",
      "hellas-verona-atalanta-bergamo\n",
      "cagliari-calcio-torino-fc\n",
      "bologna-fc-sampdoria\n",
      "udinese-calcio-parma-fc\n",
      "hellas-verona-parma-fc\n",
      "sassuolo-calcio-calcio-catania\n",
      "torino-fc-sassuolo-calcio\n",
      "atalanta-bergamo-cagliari-calcio\n",
      "genoa-cfc-atalanta-bergamo\n",
      "atalanta-bergamo-hellas-verona\n",
      "parma-fc-juventus\n",
      "as-livorno-sampdoria\n",
      "udinese-calcio-cagliari-calcio\n",
      "sampdoria-udinese-calcio\n",
      "sassuolo-calcio-hellas-verona\n",
      "parma-fc-torino-fc\n",
      "as-roma-acf-fiorentina\n",
      "ac-milan-hellas-verona\n",
      "ac-milan-as-livorno\n",
      "atalanta-bergamo-as-livorno\n",
      "torino-fc-as-livorno\n",
      "hellas-verona-inter\n",
      "parma-fc-as-roma\n",
      "ssc-napoli-parma-fc\n",
      "hellas-verona-ssc-napoli\n",
      "bologna-fc-chievo-verona\n",
      "genoa-cfc-sassuolo-calcio\n",
      "sassuolo-calcio-ssc-napoli\n",
      "inter-as-roma\n",
      "chievo-verona-ac-milan\n",
      "as-livorno-genoa-cfc\n",
      "cagliari-calcio-atalanta-bergamo\n",
      "sampdoria-ssc-napoli\n",
      "as-livorno-calcio-catania\n",
      "as-roma-hellas-verona\n",
      "sampdoria-as-roma\n",
      "parma-fc-ac-milan\n",
      "chievo-verona-cagliari-calcio\n",
      "parma-fc-sampdoria\n",
      "inter-juventus\n",
      "acf-fiorentina-parma-fc\n",
      "inter-hellas-verona\n",
      "bologna-fc-calcio-catania\n",
      "atalanta-bergamo-lazio-roma\n",
      "ssc-napoli-sampdoria\n",
      "chievo-verona-calcio-catania\n",
      "ssc-napoli-inter\n",
      "udinese-calcio-atalanta-bergamo\n",
      "cagliari-calcio-as-roma\n",
      "bologna-fc-as-roma\n",
      "hellas-verona-sampdoria\n",
      "ac-milan-as-roma\n",
      "juventus-cagliari-calcio\n",
      "juventus-genoa-cfc\n",
      "udinese-calcio-hellas-verona\n",
      "atalanta-bergamo-torino-fc\n",
      "cagliari-calcio-bologna-fc\n",
      "ac-milan-sassuolo-calcio\n",
      "sampdoria-calcio-catania\n",
      "inter-ac-milan\n",
      "bologna-fc-torino-fc\n",
      "chievo-verona-acf-fiorentina\n",
      "atalanta-bergamo-as-roma\n",
      "as-roma-genoa-cfc\n",
      "inter-calcio-catania\n",
      "chievo-verona-as-livorno\n",
      "acf-fiorentina-ssc-napoli\n",
      "ac-milan-sampdoria\n",
      "as-roma-cagliari-calcio\n",
      "cagliari-calcio-ac-milan\n",
      "parma-fc-as-livorno\n",
      "as-livorno-sassuolo-calcio\n",
      "bologna-fc-atalanta-bergamo\n",
      "inter-cagliari-calcio\n",
      "sampdoria-acf-fiorentina\n",
      "acf-fiorentina-calcio-catania\n",
      "ssc-napoli-bologna-fc\n",
      "ac-milan-ssc-napoli\n",
      "ssc-napoli-as-livorno\n",
      "inter-sampdoria\n",
      "genoa-cfc-ssc-napoli\n",
      "sampdoria-parma-fc\n",
      "hellas-verona-bologna-fc\n",
      "parma-fc-udinese-calcio\n",
      "sampdoria-juventus\n",
      "sampdoria-atalanta-bergamo\n",
      "juventus-parma-fc\n",
      "genoa-cfc-acf-fiorentina\n",
      "bologna-fc-lazio-roma\n",
      "torino-fc-hellas-verona\n",
      "bologna-fc-genoa-cfc\n",
      "sampdoria-chievo-verona\n",
      "genoa-cfc-hellas-verona\n",
      "juventus-sassuolo-calcio\n",
      "lazio-roma-calcio-catania\n",
      "sampdoria-cagliari-calcio\n",
      "as-livorno-ssc-napoli\n",
      "hellas-verona-torino-fc\n",
      "calcio-catania-acf-fiorentina\n",
      "lazio-roma-parma-fc\n",
      "genoa-cfc-inter\n",
      "genoa-cfc-calcio-catania\n",
      "acf-fiorentina-sampdoria\n",
      "bologna-fc-sassuolo-calcio\n",
      "hellas-verona-cagliari-calcio\n",
      "lazio-roma-as-roma\n",
      "acf-fiorentina-atalanta-bergamo\n",
      "bologna-fc-ac-milan\n",
      "genoa-cfc-as-roma\n",
      "parma-fc-ssc-napoli\n",
      "hellas-verona-as-livorno\n",
      "parma-fc-genoa-cfc\n",
      "udinese-calcio-calcio-catania\n",
      "juventus-chievo-verona\n",
      "sampdoria-sassuolo-calcio\n",
      "ssc-napoli-chievo-verona\n",
      "inter-sassuolo-calcio\n",
      "genoa-cfc-udinese-calcio\n",
      "acf-fiorentina-bologna-fc\n",
      "as-roma-chievo-verona\n",
      "chievo-verona-inter\n",
      "ac-milan-juventus\n",
      "calcio-catania-torino-fc\n",
      "ac-milan-acf-fiorentina\n",
      "calcio-catania-sassuolo-calcio\n",
      "udinese-calcio-torino-fc\n",
      "torino-fc-bologna-fc\n",
      "parma-fc-sassuolo-calcio\n",
      "sampdoria-inter\n",
      "hellas-verona-ac-milan\n",
      "sassuolo-calcio-sampdoria\n",
      "acf-fiorentina-sassuolo-calcio\n",
      "genoa-cfc-sampdoria\n",
      "ac-milan-chievo-verona\n",
      "sassuolo-calcio-acf-fiorentina\n",
      "parma-fc-bologna-fc\n",
      "inter-lazio-roma\n",
      "acf-fiorentina-as-roma\n",
      "parma-fc-chievo-verona\n",
      "acf-fiorentina-chievo-verona\n",
      "ssc-napoli-calcio-catania\n",
      "torino-fc-cagliari-calcio\n",
      "lazio-roma-bologna-fc\n",
      "inter-chievo-verona\n",
      "as-roma-sassuolo-calcio\n",
      "sampdoria-as-livorno\n",
      "torino-fc-ac-milan\n",
      "juventus-torino-fc\n",
      "genoa-cfc-bologna-fc\n",
      "as-livorno-torino-fc\n",
      "chievo-verona-torino-fc\n",
      "as-roma-as-livorno\n",
      "calcio-catania-juventus\n",
      "hellas-verona-calcio-catania\n",
      "hellas-verona-lazio-roma\n",
      "chievo-verona-parma-fc\n",
      "sassuolo-calcio-as-livorno\n",
      "lazio-roma-hellas-verona\n",
      "inter-udinese-calcio\n",
      "ac-milan-parma-fc\n",
      "as-roma-ac-milan\n",
      "torino-fc-genoa-cfc\n",
      "atalanta-bergamo-juventus\n",
      "inter-parma-fc\n",
      "cagliari-calcio-hellas-verona\n",
      "lazio-roma-sassuolo-calcio\n",
      "chievo-verona-atalanta-bergamo\n",
      "udinese-calcio-inter\n",
      "sampdoria-lazio-roma\n",
      "acf-fiorentina-udinese-calcio\n",
      "torino-fc-juventus\n",
      "as-livorno-parma-fc\n",
      "lazio-roma-torino-fc\n",
      "juventus-calcio-catania\n",
      "udinese-calcio-genoa-cfc\n",
      "bologna-fc-cagliari-calcio\n",
      "calcio-catania-atalanta-bergamo\n",
      "calcio-catania-as-roma\n",
      "sampdoria-hellas-verona\n",
      "as-roma-bologna-fc\n",
      "inter-acf-fiorentina\n",
      "inter-ssc-napoli\n",
      "bologna-fc-acf-fiorentina\n",
      "calcio-catania-parma-fc\n",
      "acf-fiorentina-torino-fc\n",
      "parma-fc-calcio-catania\n",
      "as-livorno-juventus\n",
      "lazio-roma-acf-fiorentina\n",
      "ssc-napoli-acf-fiorentina\n",
      "udinese-calcio-sassuolo-calcio\n",
      "inter-as-livorno\n",
      "as-roma-juventus\n",
      "acf-fiorentina-ac-milan\n",
      "sassuolo-calcio-torino-fc\n",
      "cagliari-calcio-juventus\n",
      "genoa-cfc-parma-fc\n",
      "udinese-calcio-as-livorno\n",
      "as-roma-torino-fc\n",
      "chievo-verona-ssc-napoli\n",
      "udinese-calcio-as-roma\n",
      "bologna-fc-udinese-calcio\n",
      "atalanta-bergamo-genoa-cfc\n",
      "calcio-catania-lazio-roma\n",
      "bologna-fc-inter\n",
      "atalanta-bergamo-bologna-fc\n",
      "ssc-napoli-hellas-verona\n",
      "hellas-verona-genoa-cfc\n",
      "juventus-as-roma\n",
      "juventus-hellas-verona\n",
      "torino-fc-calcio-catania\n",
      "acf-fiorentina-cagliari-calcio\n",
      "sassuolo-calcio-atalanta-bergamo\n",
      "hellas-verona-sassuolo-calcio\n",
      "as-livorno-cagliari-calcio\n",
      "ac-milan-genoa-cfc\n",
      "calcio-catania-sampdoria\n",
      "ssc-napoli-sassuolo-calcio\n",
      "sassuolo-calcio-chievo-verona\n",
      "ssc-napoli-torino-fc\n",
      "acf-fiorentina-hellas-verona\n",
      "ssc-napoli-lazio-roma\n",
      "sampdoria-torino-fc\n",
      "cagliari-calcio-ssc-napoli\n",
      "parma-fc-lazio-roma\n",
      "udinese-calcio-juventus\n",
      "parma-fc-hellas-verona\n",
      "sassuolo-calcio-lazio-roma\n",
      "lazio-roma-atalanta-bergamo\n",
      "bologna-fc-as-livorno\n",
      "udinese-calcio-ac-milan\n",
      "as-roma-udinese-calcio\n",
      "lazio-roma-ac-milan\n",
      "cagliari-calcio-lazio-roma\n",
      "hellas-verona-chievo-verona\n",
      "cagliari-calcio-genoa-cfc\n",
      "inter-bologna-fc\n",
      "lazio-roma-sampdoria\n",
      "sassuolo-calcio-ac-milan\n",
      "cagliari-calcio-chievo-verona\n",
      "lazio-roma-udinese-calcio\n",
      "ssc-napoli-juventus\n",
      "as-roma-atalanta-bergamo\n",
      "calcio-catania-chievo-verona\n",
      "calcio-catania-hellas-verona\n",
      "genoa-cfc-juventus\n",
      "juventus-atalanta-bergamo\n",
      "as-livorno-atalanta-bergamo\n",
      "udinese-calcio-acf-fiorentina\n",
      "bologna-fc-parma-fc\n",
      "juventus-sampdoria\n",
      "as-roma-parma-fc\n",
      "ac-milan-calcio-catania\n",
      "sampdoria-bologna-fc\n",
      "atalanta-bergamo-sassuolo-calcio\n",
      "parma-fc-atalanta-bergamo\n",
      "udinese-calcio-lazio-roma\n",
      "inter-genoa-cfc\n",
      "lazio-roma-cagliari-calcio\n",
      "genoa-cfc-torino-fc\n",
      "torino-fc-chievo-verona\n",
      "as-livorno-as-roma\n",
      "hellas-verona-as-roma\n",
      "ssc-napoli-ac-milan\n",
      "as-livorno-chievo-verona\n",
      "ac-milan-udinese-calcio\n",
      "as-livorno-acf-fiorentina\n",
      "calcio-catania-as-livorno\n",
      "calcio-catania-ac-milan\n",
      "ac-milan-lazio-roma\n",
      "as-livorno-ac-milan\n",
      "torino-fc-parma-fc\n",
      "cagliari-calcio-sampdoria\n",
      "bologna-fc-juventus\n",
      "hellas-verona-udinese-calcio\n",
      "torino-fc-ssc-napoli\n",
      "cagliari-calcio-sassuolo-calcio\n",
      "as-roma-inter\n",
      "juventus-udinese-calcio\n",
      "atalanta-bergamo-sampdoria\n",
      "cagliari-calcio-parma-fc\n",
      "as-livorno-lazio-roma\n",
      "bologna-fc-hellas-verona\n",
      "ssc-napoli-cagliari-calcio\n",
      "sassuolo-calcio-cagliari-calcio\n",
      "bologna-fc-ssc-napoli\n",
      "as-roma-ssc-napoli\n",
      "torino-fc-acf-fiorentina\n",
      "udinese-calcio-sampdoria\n",
      "torino-fc-udinese-calcio\n",
      "genoa-cfc-lazio-roma\n",
      "as-roma-sampdoria\n",
      "sassuolo-calcio-as-roma\n",
      "sassuolo-calcio-parma-fc\n",
      "torino-fc-as-roma\n",
      "as-roma-calcio-catania\n",
      "chievo-verona-lazio-roma\n",
      "hellas-verona-acf-fiorentina\n",
      "ac-milan-atalanta-bergamo\n",
      "genoa-cfc-cagliari-calcio\n",
      "genoa-cfc-chievo-verona\n",
      "juventus-acf-fiorentina\n",
      "atalanta-bergamo-ssc-napoli\n",
      "ac-milan-cagliari-calcio\n",
      "ac-milan-torino-fc\n",
      "juventus-ssc-napoli\n",
      "udinese-calcio-bologna-fc\n",
      "cagliari-calcio-as-livorno\n",
      "parma-fc-cagliari-calcio\n",
      "calcio-catania-ssc-napoli\n",
      "chievo-verona-sampdoria\n",
      "calcio-catania-inter\n",
      "lazio-roma-inter\n",
      "juventus-lazio-roma\n",
      "udinese-calcio-ssc-napoli\n",
      "ac-milan-inter\n",
      "sampdoria-ac-milan\n",
      "acf-fiorentina-juventus\n",
      "ssc-napoli-as-roma\n",
      "acf-fiorentina-inter\n",
      "atalanta-bergamo-chievo-verona\n",
      "sassuolo-calcio-inter\n",
      "torino-fc-atalanta-bergamo\n",
      "juventus-as-livorno\n",
      "chievo-verona-hellas-verona\n",
      "cagliari-calcio-udinese-calcio\n",
      "acf-fiorentina-genoa-cfc\n",
      "atalanta-bergamo-calcio-catania\n",
      "as-livorno-bologna-fc\n",
      "inter-atalanta-bergamo\n",
      "chievo-verona-as-roma\n",
      "chievo-verona-sassuolo-calcio\n",
      "lazio-roma-juventus\n",
      "lazio-roma-ssc-napoli\n",
      "juventus-inter\n",
      "cagliari-calcio-calcio-catania\n",
      "lazio-roma-chievo-verona\n",
      "chievo-verona-bologna-fc\n",
      "atalanta-bergamo-acf-fiorentina\n",
      "as-livorno-udinese-calcio\n",
      "ac-milan-bologna-fc\n",
      "genoa-cfc-as-livorno\n",
      "torino-fc-lazio-roma\n",
      "ssc-napoli-udinese-calcio\n",
      "parma-fc-inter\n",
      "atalanta-bergamo-inter\n",
      "as-roma-lazio-roma\n",
      "atalanta-bergamo-parma-fc\n",
      "parma-fc-acf-fiorentina\n"
     ]
    }
   ],
   "source": [
    "itagames_scorers_assists13 = {}\n",
    "for k in itagames_page13.keys():\n",
    "    print k\n",
    "    if 'atalanta-bergamo' in k:\n",
    "        continue\n",
    "    else:\n",
    "        itagames_scorers_assists13[k] = summary(itagames_page13[k],False)"
   ]
  },
  {
   "cell_type": "code",
   "execution_count": 169,
   "metadata": {
    "collapsed": false
   },
   "outputs": [
    {
     "name": "stdout",
     "output_type": "stream",
     "text": [
      "['atalanta-bergamo-udinese-calcio', 'ssc-napoli-atalanta-bergamo', 'atalanta-bergamo-ac-milan', 'hellas-verona-atalanta-bergamo', 'atalanta-bergamo-cagliari-calcio', 'genoa-cfc-atalanta-bergamo', 'atalanta-bergamo-hellas-verona', 'atalanta-bergamo-as-livorno', 'cagliari-calcio-atalanta-bergamo', 'atalanta-bergamo-lazio-roma', 'udinese-calcio-atalanta-bergamo', 'atalanta-bergamo-torino-fc', 'atalanta-bergamo-as-roma', 'bologna-fc-atalanta-bergamo', 'sampdoria-atalanta-bergamo', 'acf-fiorentina-atalanta-bergamo', 'atalanta-bergamo-juventus', 'chievo-verona-atalanta-bergamo', 'calcio-catania-atalanta-bergamo', 'atalanta-bergamo-genoa-cfc', 'atalanta-bergamo-bologna-fc', 'sassuolo-calcio-atalanta-bergamo', 'lazio-roma-atalanta-bergamo', 'as-roma-atalanta-bergamo', 'juventus-atalanta-bergamo', 'as-livorno-atalanta-bergamo', 'atalanta-bergamo-sassuolo-calcio', 'parma-fc-atalanta-bergamo', 'atalanta-bergamo-sampdoria', 'ac-milan-atalanta-bergamo', 'atalanta-bergamo-ssc-napoli', 'atalanta-bergamo-chievo-verona', 'torino-fc-atalanta-bergamo', 'atalanta-bergamo-calcio-catania', 'inter-atalanta-bergamo', 'atalanta-bergamo-acf-fiorentina', 'atalanta-bergamo-inter', 'atalanta-bergamo-parma-fc']\n"
     ]
    }
   ],
   "source": [
    "atl = []\n",
    "for k in itagames_page13.keys():\n",
    "    if 'atalanta-bergamo' in k:\n",
    "        atl.append(k)\n",
    "print atl"
   ]
  },
  {
   "cell_type": "code",
   "execution_count": 170,
   "metadata": {
    "collapsed": true
   },
   "outputs": [],
   "source": [
    "itagames_scorers_assists13['ssc-napoli-atalanta-bergamo'] =  dict([('home',[('Gonzalo Higuain',' ',71,1,0,0),('José Callejón',' ',81,2,0,0)]),('day',4),('away',[])])\n",
    "itagames_scorers_assists13['atalanta-bergamo-udinese-calcio'] = dict([('home',[('Germán Denis',' ',45,1,0,0),('Germán Denis',' ',63,2,0,0)]),('day',4),('away',[])])\n",
    "itagames_scorers_assists13['atalanta-bergamo-ac-milan'] = dict([('home',[('Germán Denis',' ',68,1,0,0),('Franco Brienza',' ',96,1,0,0)]),('day',37),('away',[])])\n",
    "itagames_scorers_assists13['hellas-verona-atalanta-bergamo'] = dict([('home',[('Juanito',' ',82,0,0,0),('Jorginho', ' ',87,1,0,0)]),('day',15),('away',[('Germán Denis',' ',42,1,0,0)])])\n",
    "itagames_scorers_assists13['atalanta-bergamo-cagliari-calcio'] = dict([('home',[('Giacomo Bonaventura',' ',68,1,0,0)]),('day',20),('away',[])])\n",
    "itagames_scorers_assists13['genoa-cfc-atalanta-bergamo'] = dict([('home',[('Andrea Bertolacci',' ',72,1,0,0)]),('day',16),('away',[('Giuseppe De Luca',' ',90,0,0,0)])])\n",
    "itagames_scorers_assists13['atalanta-bergamo-hellas-verona']=dict([('home',[('Germán Denis',' ',87,-1,0,0)]),('day',34),('away',[('Massimo Donati', ' ',53,1,0,0),('Luca Toni',' ',74,2,0,0)])])\n",
    "itagames_scorers_assists13['atalanta-bergamo-as-livorno']=dict([('home',[('Giuseppe De Luca',' ',22,1,0,0),('Germán Denis',' ',59,2,0,0)]),('day',[30]),('away',[])])\n",
    "itagames_scorers_assists13['cagliari-calcio-atalanta-bergamo']=dict([('home',[('Guglielmo Stendardo', ' ',27,1,0,0)]),('day',1),('away',[('Radja Nainggolan',' ',28,0,0,0),('Matías Cabrera', ' ',63,1,0,0)])])\n",
    "itagames_scorers_assists13['atalanta-bergamo-lazio-roma']=dict([('home',[('Luca Cigarini',' ',42,1,0,0),('Germán Denis',' ',84,1,0,0)]),('day',8),('away',[('Brayan Perea',' ',53,0,0,0)])])\n",
    "itagames_scorers_assists13['udinese-calcio-atalanta-bergamo']=dict([('home',[('Antonio Di Natale',' ',74,0,0,0)]),('day',25),('away',[('Davide Brivio',' ',27,1,0,0)])])\n",
    "itagames_scorers_assists13['atalanta-bergamo-torino-fc']=dict([('home',[('Guglielmo Stendardo', ' ',57,1,0,0),('Stefano Lucchini',' ',81,2,0,0)]),('day',2),('away',[])])\n",
    "itagames_scorers_assists13['atalanta-bergamo-as-roma']=dict([('home',[('Davide Brivio',' ',51,1,0,0)]),('day',14),('away',[('Kevin Strootman',' ',90,0,0,0)])])\n",
    "itagames_scorers_assists13['bologna-fc-atalanta-bergamo']=dict([('home',[]),('day',31),('away',[('Giuseppe De Luca',' ',22,1,0,0),('Marcelo Estigarribia',' ',27,2,0,0)])])\n",
    "itagames_scorers_assists13['sampdoria-atalanta-bergamo']=dict([('home',[('Shkodran Mostafi',' ',57,1,0,0)]),('day',9),('away',[])])\n",
    "itagames_scorers_assists13['acf-fiorentina-atalanta-bergamo']=dict([('home',[('Josip Iličić',' ',16,1,0,0),('Rafał Wolski',' ',80,2,0,0)]),('day',22),('away',[])])\n",
    "itagames_scorers_assists13['atalanta-bergamo-juventus']=dict([('home',[('Maximiliano Moralez',' ',15,0,0,0)]),('day',17),('away',[('Carlos Tevez',' ',6,1,0,0),('Paul Pogba',' ',46,1,0,0),('Fernando Llorente',' ',75,2,0,0),('Arturo Vidal',' ',79,3,0,0)])])\n",
    "itagames_scorers_assists13['chievo-verona-atalanta-bergam']=dict([('home',[]),('day',7),('away',[('Maximiliano Moralez',' ',16,1,0,0)])])\n",
    "itagames_scorers_assists13['calcio-catania-atalanta-bergamo']=dict([('home',[('Francesco Lodi',' ',65,1,0,0),('Gonzalo Rubén Bergessio',' ',90,1,0,0)]),('day',38),('away',[('Moussa Kone',' ',80,0,0,0)])])\n",
    "itagames_scorers_assists13['atalanta-bergamo-genoa-cfc']=dict([('home',[('Giuseppe De Luca',' ',82,0,0,0)]),('day',35),('away',[('Paolo De Ceglie',' ',27,1,0,0)])])\n",
    "itagames_scorers_assists13['atalanta-bergamo-bologna-fc']=dict([('home',[('Davide Brivio',' ',74,1,0,0),('Marko Livaja',' ',90,1,0,0)]),('day',12),('away',[('Rolando Bianchi',' ',77,0,0,0)])])\n",
    "itagames_scorers_assists13['sassuolo-calcio-atalanta-bergamo']=dict([('home',[('Simone Zaza',' ',63,1,0,0),('Domenico Berardi',' ',67,2,0,0)]),('day',13),('away',[])])\n",
    "itagames_scorers_assists13['lazio-roma-atalanta-bergamo']=dict([('home',[]),('day',27),('away',[('Maximiliano Moralez',' ',60,1,0,0)])])\n",
    "itagames_scorers_assists13['as-roma-atalanta-bergamo']=dict([('home',[('Rodrigo Taddei',' ',13,1,0,0),('Adem Ljajić',' ',44,2,0,0),('Gervinho',' ',63,3,0,0)]),('day',33),('away',[('Giulio Migliaccio',' ',78,-2,0,0)])])\n",
    "itagames_scorers_assists13['juventus-atalanta-bergamo']=dict([('home',[('Simone Padoin',' ',72,1,0,0)]),('day',36),('away',[])])\n",
    "itagames_scorers_assists13['as-livorno-atalanta-bergamo']=dict([('home',[('Paulinho', ' ',11,1,0,0)]),('day',11),('away',[])])\n",
    "itagames_scorers_assists13['atalanta-bergamo-sassuolo-calcio']=dict([('home',[]),('day',32),('away',[('Nicola Sansone', ' ',33,1,0,0),('Nicola Sansone', ' ',70,2,0,0)])])\n",
    "itagames_scorers_assists13['parma-fc-atalanta-bergamo']=dict([('home',[('Djamel Mesbah', ' ',19,1,0,0),('Marco Parolo', ' ',28,1,0,0),('Marco Parolo', ' ',40,3,0,0),('Aleandro Rosi', ' ',38,2,0,0)]),('day',5),('away',[('Giacomo Bonaventura', ' ',20,0,0,0),('Germán Denis', ' ',44,-2,0,0),('Marko Livaja', ' ',79,1,0,0)])])\n",
    "itagames_scorers_assists13['atalanta-bergamo-sampdoria']=dict([('home',[('Carlos Carmona', ' ',36,1,0,0),('Giacomo Bonaventura', ' ',42,2,0,0),('Germán Denis', ' ',55,3,0,0)]),('day',28),('away',[])])\n",
    "itagames_scorers_assists13['ac-milan-atalanta-bergamo']=dict([('home',[('Kaká', ' ',35,1,0,0),('Kaka', ' ',65,2,0,0),('Bryan Cristante', ' ',67,3,0,0)]),('day',18),('away',[])])\n",
    "itagames_scorers_assists13['atalanta-bergamo-ssc-napoli']=dict([('home',[('Germán Denis', ' ',47,1,0,0),('Germán Denis', ' ',64,2,0,0),('Maximiliano Moralez', ' ',70,3,0,0)]),('day',22),('away',[])])\n",
    "itagames_scorers_assists13['atalanta-bergamo-chievo-verona']=dict([('home',[('Carlos Carmona', ' ',21,1,0,0),('Luca Cigarini', ' ',80,1,0,0)]),('day',26),('away',[('Dario Dainelli',' ',70,0,0,0)])])\n",
    "itagames_scorers_assists13['torino-fc-atalanta-bergamo']=dict([('home',[('Alessio Cerci', ' ',60,1,0,0)]),('day',21),('away',[])])\n",
    "itagames_scorers_assists13['atalanta-bergamo-calcio-catania']=dict([('home',[('Germán Denis', ' ',67,1,0,0),('Maximiliano Moralez', ' ',87,2,0,0)]),('day',19),('away',[('Sebastián Leto',' ',89,-1,0,0)])])\n",
    "itagames_scorers_assists13['inter-atalanta-bergamo']=dict([('home',[('Mauro Icardi', ' ',36,1,0,0)]),('day',29),('away',[('Giacomo Bonaventura', ' ',35,1,0,0),('Giacomo Bonaventura', ' ',90,1,0,0)])])\n",
    "itagames_scorers_assists13['atalanta-bergamo-acf-fiorentina']=dict([('home',[]),('day',4),('away',[('Matías Fernández', ' ',41,1,0,0),('Giuseppe Rossi', ' ',69,2,0,0)])])\n",
    "itagames_scorers_assists13['atalanta-bergamo-inter']=dict([('home',[('Germán Denis', ' ',25,0,0,0)]),('day',10),('away',[('Ricky Álvarez',' ',16,1,0,0)])])\n",
    "itagames_scorers_assists13['atalanta-bergamo-parma-fc']=dict([('home',[]),('day',24),('away',[('Cristian Molinaro',' ',9,1,0,0),('Antonio Cassano',' ',70,3,0,0),('Ezequiel Schelotto',' ',90,4,0,0)])])"
   ]
  },
  {
   "cell_type": "code",
   "execution_count": 171,
   "metadata": {
    "collapsed": false
   },
   "outputs": [
    {
     "data": {
      "text/plain": [
       "{'away': [(u'Juan Iturbe', ' ', 66, -3, 0, 0)],\n",
       " 'day': 38,\n",
       " 'home': [(u'Jos\\xc3\\xa9 Callej\\xc3\\xb3n', u'Dries Mertens', 5, 1, 0, 0),\n",
       "  (u'Duv\\xc3\\xa1n Zapata', u'Dries Mertens', 13, 2, 0, 0),\n",
       "  (u'Duv\\xc3\\xa1n Zapata', u'Jos\\xc3\\xa9 Callej\\xc3\\xb3n', 25, 3, 0, 0),\n",
       "  (u'Dries Mertens', ' ', 62, 4, 0, 0),\n",
       "  (u'Dries Mertens', u'Lorenzo Insigne', 77, 4, 0, 0)]}"
      ]
     },
     "execution_count": 171,
     "metadata": {},
     "output_type": "execute_result"
    }
   ],
   "source": [
    "itagames_scorers_assists13['ssc-napoli-hellas-verona']"
   ]
  },
  {
   "cell_type": "code",
   "execution_count": 172,
   "metadata": {
    "collapsed": true
   },
   "outputs": [],
   "source": [
    "import json\n",
    "with open('Italy13-14.json', 'w') as fp:\n",
    "    json.dump(itagames_scorers_assists13, fp)"
   ]
  },
  {
   "cell_type": "code",
   "execution_count": null,
   "metadata": {
    "collapsed": true
   },
   "outputs": [],
   "source": [
    "#In case you need to reload it:\n",
    "#with open('Italy/Italy13-14.json', 'r') as fp:\n",
    "#    data = json.load(fp)"
   ]
  }
 ],
 "metadata": {
  "kernelspec": {
   "display_name": "Python 2",
   "language": "python",
   "name": "python2"
  },
  "language_info": {
   "codemirror_mode": {
    "name": "ipython",
    "version": 2
   },
   "file_extension": ".py",
   "mimetype": "text/x-python",
   "name": "python",
   "nbconvert_exporter": "python",
   "pygments_lexer": "ipython2",
   "version": "2.7.10"
  }
 },
 "nbformat": 4,
 "nbformat_minor": 0
}
