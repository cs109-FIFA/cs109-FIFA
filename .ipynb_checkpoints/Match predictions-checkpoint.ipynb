{
 "cells": [
  {
   "cell_type": "markdown",
   "metadata": {},
   "source": [
    "## Match predictions:\n",
    "\n",
    "The goal of this notebook is to create a model to predict match results, i.e home win / home loss / draw.\n",
    "\n",
    "We base our model on the intersection of a certain domain knowledge (the kind of information that could influence the result of a game of football) and the data in our possession. Better results could definetily be achevied if we were in possession of more detailed data on previous match such as a breakdown of performances per position or average possession statistics, etc.\n",
    "\n",
    "This analysis is inspired by the work of Gunjan Kumar in his thesis: \"Machine Learning for Soccer Analytics\"."
   ]
  },
  {
   "cell_type": "code",
   "execution_count": 595,
   "metadata": {
    "collapsed": true
   },
   "outputs": [],
   "source": [
    "% matplotlib inline\n",
    "\n",
    "import pandas as pd\n",
    "import numpy as np\n",
    "import matplotlib.pyplot as plt\n",
    "\n",
    "pd.set_option('display.width', 500)\n",
    "pd.set_option('display.max_columns', 100)\n",
    "pd.set_option('display.notebook_repr_html', True)\n",
    "import seaborn as sns\n",
    "sns.set_style(\"whitegrid\")\n",
    "sns.set_context(\"poster\")\n",
    "\n",
    "# Import all ML modules and packages we'll need\n",
    "from sklearn.cross_validation import train_test_split\n",
    "from sklearn.ensemble import RandomForestRegressor\n",
    "from sklearn.linear_model import LinearRegression\n",
    "\n",
    "from __future__ import division"
   ]
  },
  {
   "cell_type": "markdown",
   "metadata": {},
   "source": [
    "## Data preparation"
   ]
  },
  {
   "cell_type": "code",
   "execution_count": 3,
   "metadata": {
    "collapsed": false
   },
   "outputs": [],
   "source": [
    "import json\n",
    "# Load in data\n",
    "filenames = ['BPL/BPL12-13.json']\n",
    "with open(filenames[0], 'r') as fp:\n",
    "    data = json.load(fp)"
   ]
  },
  {
   "cell_type": "markdown",
   "metadata": {},
   "source": [
    "We need to create a dictionary that contains the following data:\n",
    "\n",
    "- Final score: response variable\n",
    "- Home team metric average on past 5 games\n",
    "- Away team metric average on past 5 games\n",
    "- Sum of the differences of the best player metrics score for each team in the past 5 game\n",
    "- Average goals against the home team on the past 5 games\n",
    "- Average goals against the away team on the past 5 games\n",
    "- Number of losses for the home team in the past 2 games\n",
    "- Number of losses for the away team in the past 2 games \n"
   ]
  },
  {
   "cell_type": "markdown",
   "metadata": {},
   "source": [
    "We initialise the dictionary with key equal to the match ID and first values: home team, away team, and day."
   ]
  },
  {
   "cell_type": "code",
   "execution_count": 464,
   "metadata": {
    "collapsed": false
   },
   "outputs": [],
   "source": [
    "teams = ['arsenal-fc','aston-villa','chelsea-fc','everton-fc','fulham-fc','liverpool-fc','manchester-city','manchester-united','newcastle-united','norwich-city','queens-park-rangers','reading-fc','southampton-fc','stoke-city','sunderland-afc','swansea-city','tottenham-hotspur','west-bromwich-albion','west-ham-united','wigan-athletic']\n",
    "games = {}\n",
    "for t1 in teams:\n",
    "    for t2 in teams:\n",
    "        if t1!=t2:\n",
    "            games[t1+\"-\"+t2] = {'home': t1, 'away': t2}"
   ]
  },
  {
   "cell_type": "code",
   "execution_count": 465,
   "metadata": {
    "collapsed": true
   },
   "outputs": [],
   "source": [
    "for k in games.keys():\n",
    "    games[k]['day']= data[k]['day']"
   ]
  },
  {
   "cell_type": "markdown",
   "metadata": {},
   "source": [
    "In order to fill in this dictionary, we need a way to access the data for every player in the team at a particular day. We therefore create a team dictionary. Note that the \"if p[2]>=0 else ' '\" statement is to remove own goal scorers."
   ]
  },
  {
   "cell_type": "code",
   "execution_count": 466,
   "metadata": {
    "collapsed": false
   },
   "outputs": [],
   "source": [
    "team_players = dict.fromkeys(teams)\n",
    "for k in games.keys():\n",
    "    team1 = games[k]['home']\n",
    "    team2 = games[k]['away']\n",
    "    \n",
    "    if team_players[team1] is None:\n",
    "        team_players[team1] = [p[0] if p[2]>=0 else ' ' for p in data[k]['home']]\n",
    "    else:\n",
    "        team_players[team1].extend([p[0] if p[2]>=0 else ' ' for p in data[k]['home']])\n",
    "    team_players[team1].extend([p[1] if p[2]>=0 else ' ' for p in data[k]['home']])\n",
    "    \n",
    "    if team_players[team2] is None:\n",
    "        team_players[team2] = [p[0] if p[2]>=0 else ' ' for p in data[k]['away']]\n",
    "    else:\n",
    "        team_players[team2].extend([p[0] if p[2]>=0 else ' ' for p in data[k]['away']])\n",
    "    team_players[team2].extend([p[1] if p[2]>=0 else ' ' for p in data[k]['away']])"
   ]
  },
  {
   "cell_type": "code",
   "execution_count": 467,
   "metadata": {
    "collapsed": false
   },
   "outputs": [],
   "source": [
    "for k in team_players.keys():\n",
    "    team_players[k] = list(set(team_players[k]))\n",
    "    team_players[k].remove(' ')"
   ]
  },
  {
   "cell_type": "code",
   "execution_count": 468,
   "metadata": {
    "collapsed": true
   },
   "outputs": [],
   "source": [
    "player_to_club = {}\n",
    "for k in team_players.keys():\n",
    "    for v in team_players[k]:\n",
    "        player_to_club[v] = k"
   ]
  },
  {
   "cell_type": "markdown",
   "metadata": {},
   "source": [
    "We test it:"
   ]
  },
  {
   "cell_type": "code",
   "execution_count": 469,
   "metadata": {
    "collapsed": false
   },
   "outputs": [
    {
     "data": {
      "text/plain": [
       "[u'Mikel Arteta',\n",
       " u'Aaron Ramsey',\n",
       " u'Lukas Podolski',\n",
       " u'Jack Wilshere',\n",
       " u'Theo Walcott',\n",
       " u'Per Mertesacker',\n",
       " u'Gervinho',\n",
       " u'Kieran Gibbs',\n",
       " u'Nacho Monreal',\n",
       " u'Alex Oxlade-Chamberlain',\n",
       " u'Tom\\xc3\\xa1\\xc5\\xa1 Rosick\\xc3\\xbd',\n",
       " u'Laurent Koscielny',\n",
       " u'Olivier Giroud',\n",
       " u'Santi Cazorla']"
      ]
     },
     "execution_count": 469,
     "metadata": {},
     "output_type": "execute_result"
    }
   ],
   "source": [
    "team_players['arsenal-fc']"
   ]
  },
  {
   "cell_type": "markdown",
   "metadata": {},
   "source": [
    "We load the feature data:"
   ]
  },
  {
   "cell_type": "code",
   "execution_count": 470,
   "metadata": {
    "collapsed": true
   },
   "outputs": [],
   "source": [
    "features12 = pd.read_pickle('Data/features12-13.pkl')"
   ]
  },
  {
   "cell_type": "markdown",
   "metadata": {},
   "source": [
    "We first fill in the metric averages:"
   ]
  },
  {
   "cell_type": "code",
   "execution_count": 471,
   "metadata": {
    "collapsed": false
   },
   "outputs": [],
   "source": [
    "for k in games.keys():\n",
    "    d = games[k]['day']\n",
    "    if (d-1) == 0:\n",
    "        continue\n",
    "    home_average = 0\n",
    "    for p in team_players[games[k]['home']]:\n",
    "        home_average += features12[p]['match_value_list'][d-2]\n",
    "    games[k]['home_average'] = home_average/len(team_players[games[k]['home']])\n",
    "    away_average = 0\n",
    "    for p in team_players[games[k]['away']]:\n",
    "        away_average += features12[p]['match_value_list'][d-2]\n",
    "    games[k]['away_average'] = away_average/len(team_players[games[k]['away']])"
   ]
  },
  {
   "cell_type": "code",
   "execution_count": 472,
   "metadata": {
    "collapsed": false
   },
   "outputs": [
    {
     "data": {
      "text/plain": [
       "{'away': 'manchester-city',\n",
       " 'away_average': 0.609375,\n",
       " 'day': 19,\n",
       " 'home': 'sunderland-afc',\n",
       " 'home_average': 0.4723214285714285}"
      ]
     },
     "execution_count": 472,
     "metadata": {},
     "output_type": "execute_result"
    }
   ],
   "source": [
    "games[games.keys()[0]]"
   ]
  },
  {
   "cell_type": "markdown",
   "metadata": {},
   "source": [
    "We fill in the best player differences:"
   ]
  },
  {
   "cell_type": "code",
   "execution_count": 473,
   "metadata": {
    "collapsed": false
   },
   "outputs": [],
   "source": [
    "for k in games.keys():\n",
    "    d = games[k]['day']\n",
    "    home_team = games[k]['home']\n",
    "    away_team = games[k]['away']\n",
    "    best_home = []\n",
    "    best_away = []\n",
    "    if (d-1)==0:\n",
    "        continue\n",
    "    elif (d-1) == 1:\n",
    "        for p in team_players[home_team]:\n",
    "            best_home.append(features12[p]['match_value_list'][0])\n",
    "        for p in team_players[away_team]:\n",
    "            best_away.append(features12[p]['match_value_list'][0])\n",
    "            \n",
    "    elif (d-1) == 2:\n",
    "        for p in team_players[home_team]:\n",
    "            best_home.append(np.max(features12[p]['match_value_list'][:2]))\n",
    "        for p in team_players[away_team]:\n",
    "            best_away.append(np.max(features12[p]['match_value_list'][:2]))\n",
    "            \n",
    "    else:\n",
    "        for p in team_players[home_team]:\n",
    "            best_home.append(np.max(features12[p]['match_value_list'][d-4:d-1]))\n",
    "        for p in team_players[away_team]:\n",
    "            best_away.append(np.max(features12[p]['match_value_list'][d-4:d-1]))\n",
    "            \n",
    "#     elif (d-1) == 4:\n",
    "#         for p in team_players[home_team]:\n",
    "#             best_home.append(np.max(features12[p]['match_value_list'][:4]))\n",
    "#         for p in team_players[away_team]:\n",
    "#             best_away.append(np.max(features12[p]['match_value_list'][:4]))\n",
    "#     else:\n",
    "#         for p in team_players[home_team]:\n",
    "#             best_home.append(np.max(features12[p]['match_value_list'][(d-6):(d-2)]))\n",
    "#         for p in team_players[away_team]:\n",
    "#             best_away.append(np.max(features12[p]['match_value_list'][(d-6):(d-2)]))\n",
    "    \n",
    "    \n",
    "    games[k]['best'] = np.sum(best_home)-np.sum(best_away)"
   ]
  },
  {
   "cell_type": "code",
   "execution_count": 474,
   "metadata": {
    "collapsed": false
   },
   "outputs": [
    {
     "data": {
      "text/plain": [
       "{'away': 'manchester-city',\n",
       " 'away_average': 0.609375,\n",
       " 'best': -13.650000000000002,\n",
       " 'day': 19,\n",
       " 'home': 'sunderland-afc',\n",
       " 'home_average': 0.4723214285714285}"
      ]
     },
     "execution_count": 474,
     "metadata": {},
     "output_type": "execute_result"
    }
   ],
   "source": [
    "games[games.keys()[0]]"
   ]
  },
  {
   "cell_type": "markdown",
   "metadata": {},
   "source": [
    "We add the score:"
   ]
  },
  {
   "cell_type": "code",
   "execution_count": 475,
   "metadata": {
    "collapsed": true
   },
   "outputs": [],
   "source": [
    "results = dict.fromkeys(teams)\n",
    "goals_against = dict.fromkeys(teams)\n",
    "\n",
    "for k in results.keys():\n",
    "    results[k] = np.zeros(38)\n",
    "    goals_against[k] = np.zeros(38)\n",
    "    \n",
    "for k in games.keys():\n",
    "    team1 = games[k]['home']\n",
    "    team2 = games[k]['away']\n",
    "    d = games[k]['day']-1\n",
    "    goal_home = len(data[k]['home'])\n",
    "    goal_away = len(data[k]['away'])\n",
    "    \n",
    "    goals_against[team1][d] = -goal_away\n",
    "    goals_against[team2][d] = -goal_home\n",
    "    \n",
    "    if goal_home > goal_away:\n",
    "        results[team1][d] = 1\n",
    "        results[team2][d] = -1\n",
    "    elif goal_home<goal_away:\n",
    "        results[team1][d] = -1\n",
    "        results[team2][d] = 1\n",
    "    else:\n",
    "        results[team1][d] = 0\n",
    "        results[team2][d] = 0"
   ]
  },
  {
   "cell_type": "markdown",
   "metadata": {},
   "source": [
    "We finally add home losses,wins, goals against, etc..."
   ]
  },
  {
   "cell_type": "code",
   "execution_count": 476,
   "metadata": {
    "collapsed": false
   },
   "outputs": [],
   "source": [
    "for k in games.keys():\n",
    "    \n",
    "    team1 = games[k]['home']\n",
    "    team2 = games[k]['away']\n",
    "    \n",
    "    d = games[k]['day']-1\n",
    "    \n",
    "    if d==0:\n",
    "        continue\n",
    "    elif d<=4:\n",
    "        home_goal_vs = np.sum(goals_against[team1][:d])/d\n",
    "        away_goal_vs = np.sum(goals_against[team2][:d])/d\n",
    "        if d<=2:\n",
    "            home_loss = len(results[team1][:d][results[team1][:d]<0])\n",
    "            home_win = len(results[team1][:d][results[team1][:d]>0])\n",
    "            away_loss = len(results[team2][:d][results[team2][:d]<0])\n",
    "            away_win = len(results[team2][:d][results[team2][:d]>0])\n",
    "        else:\n",
    "            home_loss = len(results[team1][d-2:d][results[team1][d-2:d]<0])\n",
    "            home_win = len(results[team1][d-2:d][results[team1][d-2:d]>0])\n",
    "            away_loss = len(results[team2][d-2:d][results[team2][d-2:d]<0])\n",
    "            away_win = len(results[team2][d-2:d][results[team2][d-2:d]>0])\n",
    "    else:\n",
    "        home_goal_vs = np.sum(goals_against[team1][d-5:d])/5\n",
    "        away_goal_vs = np.sum(goals_against[team2][d-5:d])/5\n",
    "        home_loss = len(results[team1][d-2:d][results[team1][d-2:d]<0])\n",
    "        home_win = len(results[team1][d-2:d][results[team1][d-2:d]>0])\n",
    "        away_loss = len(results[team2][d-2:d][results[team2][d-2:d]<0])\n",
    "        away_win = len(results[team2][d-2:d][results[team2][d-2:d]>0])\n",
    "        \n",
    "    games[k]['goals_against_home'] = home_goal_vs\n",
    "    games[k]['goals_against_away'] = away_goal_vs\n",
    "    games[k]['home_loss'] = home_loss\n",
    "    games[k]['away_loss'] = away_loss\n",
    "    games[k]['home_win'] = home_win\n",
    "    games[k]['away_win'] = away_win\n",
    "    games[k]['score'] = results[team1][d]"
   ]
  },
  {
   "cell_type": "markdown",
   "metadata": {},
   "source": [
    "We therefore have:"
   ]
  },
  {
   "cell_type": "code",
   "execution_count": 477,
   "metadata": {
    "collapsed": false
   },
   "outputs": [
    {
     "data": {
      "text/plain": [
       "{'away': 'manchester-city',\n",
       " 'away_average': 0.609375,\n",
       " 'away_loss': 0,\n",
       " 'away_win': 2,\n",
       " 'best': -13.650000000000002,\n",
       " 'day': 19,\n",
       " 'goals_against_away': -1.0,\n",
       " 'goals_against_home': -1.6000000000000001,\n",
       " 'home': 'sunderland-afc',\n",
       " 'home_average': 0.4723214285714285,\n",
       " 'home_loss': 1,\n",
       " 'home_win': 1,\n",
       " 'score': 1.0}"
      ]
     },
     "execution_count": 477,
     "metadata": {},
     "output_type": "execute_result"
    }
   ],
   "source": [
    "games[games.keys()[0]]"
   ]
  },
  {
   "cell_type": "markdown",
   "metadata": {},
   "source": [
    "We now convert it to a dataframe to perform predictions using to start multinomial logistic regression:"
   ]
  },
  {
   "cell_type": "code",
   "execution_count": 478,
   "metadata": {
    "collapsed": false
   },
   "outputs": [],
   "source": [
    "DF = pd.DataFrame.from_dict(games)"
   ]
  },
  {
   "cell_type": "code",
   "execution_count": 524,
   "metadata": {
    "collapsed": false
   },
   "outputs": [
    {
     "data": {
      "text/html": [
       "<div>\n",
       "<table border=\"1\" class=\"dataframe\">\n",
       "  <thead>\n",
       "    <tr style=\"text-align: right;\">\n",
       "      <th></th>\n",
       "      <th>arsenal-fc-aston-villa</th>\n",
       "      <th>arsenal-fc-chelsea-fc</th>\n",
       "      <th>arsenal-fc-everton-fc</th>\n",
       "      <th>arsenal-fc-fulham-fc</th>\n",
       "      <th>arsenal-fc-liverpool-fc</th>\n",
       "      <th>arsenal-fc-manchester-city</th>\n",
       "      <th>arsenal-fc-manchester-united</th>\n",
       "      <th>arsenal-fc-newcastle-united</th>\n",
       "      <th>arsenal-fc-norwich-city</th>\n",
       "      <th>arsenal-fc-queens-park-rangers</th>\n",
       "      <th>arsenal-fc-reading-fc</th>\n",
       "      <th>arsenal-fc-southampton-fc</th>\n",
       "      <th>arsenal-fc-stoke-city</th>\n",
       "      <th>arsenal-fc-sunderland-afc</th>\n",
       "      <th>arsenal-fc-swansea-city</th>\n",
       "      <th>arsenal-fc-tottenham-hotspur</th>\n",
       "      <th>arsenal-fc-west-bromwich-albion</th>\n",
       "      <th>arsenal-fc-west-ham-united</th>\n",
       "      <th>arsenal-fc-wigan-athletic</th>\n",
       "      <th>aston-villa-arsenal-fc</th>\n",
       "      <th>aston-villa-chelsea-fc</th>\n",
       "      <th>aston-villa-everton-fc</th>\n",
       "      <th>aston-villa-fulham-fc</th>\n",
       "      <th>aston-villa-liverpool-fc</th>\n",
       "      <th>aston-villa-manchester-city</th>\n",
       "      <th>aston-villa-manchester-united</th>\n",
       "      <th>aston-villa-newcastle-united</th>\n",
       "      <th>aston-villa-norwich-city</th>\n",
       "      <th>aston-villa-queens-park-rangers</th>\n",
       "      <th>aston-villa-reading-fc</th>\n",
       "      <th>aston-villa-southampton-fc</th>\n",
       "      <th>aston-villa-stoke-city</th>\n",
       "      <th>aston-villa-sunderland-afc</th>\n",
       "      <th>aston-villa-swansea-city</th>\n",
       "      <th>aston-villa-tottenham-hotspur</th>\n",
       "      <th>aston-villa-west-bromwich-albion</th>\n",
       "      <th>aston-villa-west-ham-united</th>\n",
       "      <th>aston-villa-wigan-athletic</th>\n",
       "      <th>chelsea-fc-arsenal-fc</th>\n",
       "      <th>chelsea-fc-aston-villa</th>\n",
       "      <th>chelsea-fc-everton-fc</th>\n",
       "      <th>chelsea-fc-fulham-fc</th>\n",
       "      <th>chelsea-fc-liverpool-fc</th>\n",
       "      <th>chelsea-fc-manchester-city</th>\n",
       "      <th>chelsea-fc-manchester-united</th>\n",
       "      <th>chelsea-fc-newcastle-united</th>\n",
       "      <th>chelsea-fc-norwich-city</th>\n",
       "      <th>chelsea-fc-queens-park-rangers</th>\n",
       "      <th>chelsea-fc-reading-fc</th>\n",
       "      <th>chelsea-fc-southampton-fc</th>\n",
       "      <th>...</th>\n",
       "      <th>west-bromwich-albion-manchester-united</th>\n",
       "      <th>west-bromwich-albion-newcastle-united</th>\n",
       "      <th>west-bromwich-albion-norwich-city</th>\n",
       "      <th>west-bromwich-albion-queens-park-rangers</th>\n",
       "      <th>west-bromwich-albion-reading-fc</th>\n",
       "      <th>west-bromwich-albion-southampton-fc</th>\n",
       "      <th>west-bromwich-albion-stoke-city</th>\n",
       "      <th>west-bromwich-albion-sunderland-afc</th>\n",
       "      <th>west-bromwich-albion-swansea-city</th>\n",
       "      <th>west-bromwich-albion-tottenham-hotspur</th>\n",
       "      <th>west-bromwich-albion-west-ham-united</th>\n",
       "      <th>west-bromwich-albion-wigan-athletic</th>\n",
       "      <th>west-ham-united-arsenal-fc</th>\n",
       "      <th>west-ham-united-aston-villa</th>\n",
       "      <th>west-ham-united-chelsea-fc</th>\n",
       "      <th>west-ham-united-everton-fc</th>\n",
       "      <th>west-ham-united-fulham-fc</th>\n",
       "      <th>west-ham-united-liverpool-fc</th>\n",
       "      <th>west-ham-united-manchester-city</th>\n",
       "      <th>west-ham-united-manchester-united</th>\n",
       "      <th>west-ham-united-newcastle-united</th>\n",
       "      <th>west-ham-united-norwich-city</th>\n",
       "      <th>west-ham-united-queens-park-rangers</th>\n",
       "      <th>west-ham-united-reading-fc</th>\n",
       "      <th>west-ham-united-southampton-fc</th>\n",
       "      <th>west-ham-united-stoke-city</th>\n",
       "      <th>west-ham-united-sunderland-afc</th>\n",
       "      <th>west-ham-united-swansea-city</th>\n",
       "      <th>west-ham-united-tottenham-hotspur</th>\n",
       "      <th>west-ham-united-west-bromwich-albion</th>\n",
       "      <th>west-ham-united-wigan-athletic</th>\n",
       "      <th>wigan-athletic-arsenal-fc</th>\n",
       "      <th>wigan-athletic-aston-villa</th>\n",
       "      <th>wigan-athletic-chelsea-fc</th>\n",
       "      <th>wigan-athletic-everton-fc</th>\n",
       "      <th>wigan-athletic-fulham-fc</th>\n",
       "      <th>wigan-athletic-liverpool-fc</th>\n",
       "      <th>wigan-athletic-manchester-city</th>\n",
       "      <th>wigan-athletic-manchester-united</th>\n",
       "      <th>wigan-athletic-newcastle-united</th>\n",
       "      <th>wigan-athletic-norwich-city</th>\n",
       "      <th>wigan-athletic-queens-park-rangers</th>\n",
       "      <th>wigan-athletic-reading-fc</th>\n",
       "      <th>wigan-athletic-southampton-fc</th>\n",
       "      <th>wigan-athletic-stoke-city</th>\n",
       "      <th>wigan-athletic-sunderland-afc</th>\n",
       "      <th>wigan-athletic-swansea-city</th>\n",
       "      <th>wigan-athletic-tottenham-hotspur</th>\n",
       "      <th>wigan-athletic-west-bromwich-albion</th>\n",
       "      <th>wigan-athletic-west-ham-united</th>\n",
       "    </tr>\n",
       "  </thead>\n",
       "  <tbody>\n",
       "    <tr>\n",
       "      <th>away</th>\n",
       "      <td>aston-villa</td>\n",
       "      <td>chelsea-fc</td>\n",
       "      <td>everton-fc</td>\n",
       "      <td>fulham-fc</td>\n",
       "      <td>liverpool-fc</td>\n",
       "      <td>manchester-city</td>\n",
       "      <td>manchester-united</td>\n",
       "      <td>newcastle-united</td>\n",
       "      <td>norwich-city</td>\n",
       "      <td>queens-park-rangers</td>\n",
       "      <td>reading-fc</td>\n",
       "      <td>southampton-fc</td>\n",
       "      <td>stoke-city</td>\n",
       "      <td>sunderland-afc</td>\n",
       "      <td>swansea-city</td>\n",
       "      <td>tottenham-hotspur</td>\n",
       "      <td>west-bromwich-albion</td>\n",
       "      <td>west-ham-united</td>\n",
       "      <td>wigan-athletic</td>\n",
       "      <td>arsenal-fc</td>\n",
       "      <td>chelsea-fc</td>\n",
       "      <td>everton-fc</td>\n",
       "      <td>fulham-fc</td>\n",
       "      <td>liverpool-fc</td>\n",
       "      <td>manchester-city</td>\n",
       "      <td>manchester-united</td>\n",
       "      <td>newcastle-united</td>\n",
       "      <td>norwich-city</td>\n",
       "      <td>queens-park-rangers</td>\n",
       "      <td>reading-fc</td>\n",
       "      <td>southampton-fc</td>\n",
       "      <td>stoke-city</td>\n",
       "      <td>sunderland-afc</td>\n",
       "      <td>swansea-city</td>\n",
       "      <td>tottenham-hotspur</td>\n",
       "      <td>west-bromwich-albion</td>\n",
       "      <td>west-ham-united</td>\n",
       "      <td>wigan-athletic</td>\n",
       "      <td>arsenal-fc</td>\n",
       "      <td>aston-villa</td>\n",
       "      <td>everton-fc</td>\n",
       "      <td>fulham-fc</td>\n",
       "      <td>liverpool-fc</td>\n",
       "      <td>manchester-city</td>\n",
       "      <td>manchester-united</td>\n",
       "      <td>newcastle-united</td>\n",
       "      <td>norwich-city</td>\n",
       "      <td>queens-park-rangers</td>\n",
       "      <td>reading-fc</td>\n",
       "      <td>southampton-fc</td>\n",
       "      <td>...</td>\n",
       "      <td>manchester-united</td>\n",
       "      <td>newcastle-united</td>\n",
       "      <td>norwich-city</td>\n",
       "      <td>queens-park-rangers</td>\n",
       "      <td>reading-fc</td>\n",
       "      <td>southampton-fc</td>\n",
       "      <td>stoke-city</td>\n",
       "      <td>sunderland-afc</td>\n",
       "      <td>swansea-city</td>\n",
       "      <td>tottenham-hotspur</td>\n",
       "      <td>west-ham-united</td>\n",
       "      <td>wigan-athletic</td>\n",
       "      <td>arsenal-fc</td>\n",
       "      <td>aston-villa</td>\n",
       "      <td>chelsea-fc</td>\n",
       "      <td>everton-fc</td>\n",
       "      <td>fulham-fc</td>\n",
       "      <td>liverpool-fc</td>\n",
       "      <td>manchester-city</td>\n",
       "      <td>manchester-united</td>\n",
       "      <td>newcastle-united</td>\n",
       "      <td>norwich-city</td>\n",
       "      <td>queens-park-rangers</td>\n",
       "      <td>reading-fc</td>\n",
       "      <td>southampton-fc</td>\n",
       "      <td>stoke-city</td>\n",
       "      <td>sunderland-afc</td>\n",
       "      <td>swansea-city</td>\n",
       "      <td>tottenham-hotspur</td>\n",
       "      <td>west-bromwich-albion</td>\n",
       "      <td>wigan-athletic</td>\n",
       "      <td>arsenal-fc</td>\n",
       "      <td>aston-villa</td>\n",
       "      <td>chelsea-fc</td>\n",
       "      <td>everton-fc</td>\n",
       "      <td>fulham-fc</td>\n",
       "      <td>liverpool-fc</td>\n",
       "      <td>manchester-city</td>\n",
       "      <td>manchester-united</td>\n",
       "      <td>newcastle-united</td>\n",
       "      <td>norwich-city</td>\n",
       "      <td>queens-park-rangers</td>\n",
       "      <td>reading-fc</td>\n",
       "      <td>southampton-fc</td>\n",
       "      <td>stoke-city</td>\n",
       "      <td>sunderland-afc</td>\n",
       "      <td>swansea-city</td>\n",
       "      <td>tottenham-hotspur</td>\n",
       "      <td>west-bromwich-albion</td>\n",
       "      <td>west-ham-united</td>\n",
       "    </tr>\n",
       "    <tr>\n",
       "      <th>away_average</th>\n",
       "      <td>0.25</td>\n",
       "      <td>0.75</td>\n",
       "      <td>0.578125</td>\n",
       "      <td>0.4305556</td>\n",
       "      <td>0.6111111</td>\n",
       "      <td>0.359375</td>\n",
       "      <td>0.4204545</td>\n",
       "      <td>0.603125</td>\n",
       "      <td>0.6470588</td>\n",
       "      <td>0.4907895</td>\n",
       "      <td>0</td>\n",
       "      <td>1.045455</td>\n",
       "      <td>0.2666667</td>\n",
       "      <td>NaN</td>\n",
       "      <td>0.6607143</td>\n",
       "      <td>0.314881</td>\n",
       "      <td>0</td>\n",
       "      <td>0.3026316</td>\n",
       "      <td>1.292969</td>\n",
       "      <td>1.107143</td>\n",
       "      <td>0</td>\n",
       "      <td>0.359375</td>\n",
       "      <td>0</td>\n",
       "      <td>0.06388889</td>\n",
       "      <td>0.59375</td>\n",
       "      <td>0.2159091</td>\n",
       "      <td>0.15</td>\n",
       "      <td>0.1764706</td>\n",
       "      <td>0.5</td>\n",
       "      <td>0.330625</td>\n",
       "      <td>0.5227273</td>\n",
       "      <td>0.7075</td>\n",
       "      <td>0.4107143</td>\n",
       "      <td>0.75</td>\n",
       "      <td>0.2142857</td>\n",
       "      <td>0.4558824</td>\n",
       "      <td>0.3026316</td>\n",
       "      <td>0.071875</td>\n",
       "      <td>0</td>\n",
       "      <td>0.6109375</td>\n",
       "      <td>0.25</td>\n",
       "      <td>0</td>\n",
       "      <td>0.2916667</td>\n",
       "      <td>0.53125</td>\n",
       "      <td>0.6590909</td>\n",
       "      <td>0.3575</td>\n",
       "      <td>0.2794118</td>\n",
       "      <td>0</td>\n",
       "      <td>0</td>\n",
       "      <td>0.5227273</td>\n",
       "      <td>...</td>\n",
       "      <td>0.5795455</td>\n",
       "      <td>0</td>\n",
       "      <td>0.6764706</td>\n",
       "      <td>0.09210526</td>\n",
       "      <td>0.2875</td>\n",
       "      <td>0.09090909</td>\n",
       "      <td>1.3</td>\n",
       "      <td>0</td>\n",
       "      <td>0.5</td>\n",
       "      <td>0.2875</td>\n",
       "      <td>0.5980263</td>\n",
       "      <td>0.65625</td>\n",
       "      <td>0.5178571</td>\n",
       "      <td>NaN</td>\n",
       "      <td>0</td>\n",
       "      <td>0</td>\n",
       "      <td>0.43125</td>\n",
       "      <td>0.3194444</td>\n",
       "      <td>0.359375</td>\n",
       "      <td>0.5909091</td>\n",
       "      <td>0</td>\n",
       "      <td>0.2647059</td>\n",
       "      <td>0</td>\n",
       "      <td>0</td>\n",
       "      <td>1.045455</td>\n",
       "      <td>0.3833333</td>\n",
       "      <td>0.4107143</td>\n",
       "      <td>0</td>\n",
       "      <td>0.2857143</td>\n",
       "      <td>0</td>\n",
       "      <td>0.375</td>\n",
       "      <td>1.047321</td>\n",
       "      <td>0.359375</td>\n",
       "      <td>NaN</td>\n",
       "      <td>0.640625</td>\n",
       "      <td>0.4305556</td>\n",
       "      <td>0.6805556</td>\n",
       "      <td>0</td>\n",
       "      <td>0.1704545</td>\n",
       "      <td>0.725</td>\n",
       "      <td>0.3889706</td>\n",
       "      <td>0.25</td>\n",
       "      <td>0.4125</td>\n",
       "      <td>0.3136364</td>\n",
       "      <td>0</td>\n",
       "      <td>0.4107143</td>\n",
       "      <td>1.046429</td>\n",
       "      <td>0.797619</td>\n",
       "      <td>0.4411765</td>\n",
       "      <td>0.5</td>\n",
       "    </tr>\n",
       "    <tr>\n",
       "      <th>away_loss</th>\n",
       "      <td>0</td>\n",
       "      <td>0</td>\n",
       "      <td>1</td>\n",
       "      <td>0</td>\n",
       "      <td>1</td>\n",
       "      <td>0</td>\n",
       "      <td>0</td>\n",
       "      <td>1</td>\n",
       "      <td>1</td>\n",
       "      <td>1</td>\n",
       "      <td>2</td>\n",
       "      <td>2</td>\n",
       "      <td>1</td>\n",
       "      <td>NaN</td>\n",
       "      <td>0</td>\n",
       "      <td>2</td>\n",
       "      <td>2</td>\n",
       "      <td>1</td>\n",
       "      <td>0</td>\n",
       "      <td>0</td>\n",
       "      <td>0</td>\n",
       "      <td>0</td>\n",
       "      <td>1</td>\n",
       "      <td>1</td>\n",
       "      <td>1</td>\n",
       "      <td>0</td>\n",
       "      <td>1</td>\n",
       "      <td>1</td>\n",
       "      <td>0</td>\n",
       "      <td>1</td>\n",
       "      <td>0</td>\n",
       "      <td>0</td>\n",
       "      <td>0</td>\n",
       "      <td>0</td>\n",
       "      <td>0</td>\n",
       "      <td>1</td>\n",
       "      <td>1</td>\n",
       "      <td>2</td>\n",
       "      <td>1</td>\n",
       "      <td>0</td>\n",
       "      <td>0</td>\n",
       "      <td>2</td>\n",
       "      <td>0</td>\n",
       "      <td>0</td>\n",
       "      <td>0</td>\n",
       "      <td>0</td>\n",
       "      <td>2</td>\n",
       "      <td>2</td>\n",
       "      <td>1</td>\n",
       "      <td>1</td>\n",
       "      <td>...</td>\n",
       "      <td>1</td>\n",
       "      <td>1</td>\n",
       "      <td>0</td>\n",
       "      <td>2</td>\n",
       "      <td>2</td>\n",
       "      <td>2</td>\n",
       "      <td>0</td>\n",
       "      <td>2</td>\n",
       "      <td>1</td>\n",
       "      <td>0</td>\n",
       "      <td>1</td>\n",
       "      <td>1</td>\n",
       "      <td>1</td>\n",
       "      <td>NaN</td>\n",
       "      <td>0</td>\n",
       "      <td>0</td>\n",
       "      <td>1</td>\n",
       "      <td>1</td>\n",
       "      <td>0</td>\n",
       "      <td>0</td>\n",
       "      <td>1</td>\n",
       "      <td>2</td>\n",
       "      <td>0</td>\n",
       "      <td>1</td>\n",
       "      <td>1</td>\n",
       "      <td>1</td>\n",
       "      <td>0</td>\n",
       "      <td>0</td>\n",
       "      <td>0</td>\n",
       "      <td>0</td>\n",
       "      <td>1</td>\n",
       "      <td>0</td>\n",
       "      <td>1</td>\n",
       "      <td>NaN</td>\n",
       "      <td>0</td>\n",
       "      <td>1</td>\n",
       "      <td>1</td>\n",
       "      <td>0</td>\n",
       "      <td>0</td>\n",
       "      <td>1</td>\n",
       "      <td>0</td>\n",
       "      <td>0</td>\n",
       "      <td>0</td>\n",
       "      <td>1</td>\n",
       "      <td>0</td>\n",
       "      <td>1</td>\n",
       "      <td>1</td>\n",
       "      <td>0</td>\n",
       "      <td>1</td>\n",
       "      <td>1</td>\n",
       "    </tr>\n",
       "    <tr>\n",
       "      <th>away_win</th>\n",
       "      <td>1</td>\n",
       "      <td>1</td>\n",
       "      <td>1</td>\n",
       "      <td>0</td>\n",
       "      <td>1</td>\n",
       "      <td>2</td>\n",
       "      <td>2</td>\n",
       "      <td>1</td>\n",
       "      <td>0</td>\n",
       "      <td>0</td>\n",
       "      <td>0</td>\n",
       "      <td>0</td>\n",
       "      <td>0</td>\n",
       "      <td>NaN</td>\n",
       "      <td>1</td>\n",
       "      <td>0</td>\n",
       "      <td>0</td>\n",
       "      <td>0</td>\n",
       "      <td>1</td>\n",
       "      <td>1</td>\n",
       "      <td>2</td>\n",
       "      <td>1</td>\n",
       "      <td>1</td>\n",
       "      <td>1</td>\n",
       "      <td>1</td>\n",
       "      <td>2</td>\n",
       "      <td>0</td>\n",
       "      <td>1</td>\n",
       "      <td>2</td>\n",
       "      <td>1</td>\n",
       "      <td>0</td>\n",
       "      <td>2</td>\n",
       "      <td>2</td>\n",
       "      <td>1</td>\n",
       "      <td>1</td>\n",
       "      <td>1</td>\n",
       "      <td>1</td>\n",
       "      <td>0</td>\n",
       "      <td>0</td>\n",
       "      <td>1</td>\n",
       "      <td>1</td>\n",
       "      <td>0</td>\n",
       "      <td>0</td>\n",
       "      <td>2</td>\n",
       "      <td>2</td>\n",
       "      <td>1</td>\n",
       "      <td>0</td>\n",
       "      <td>0</td>\n",
       "      <td>0</td>\n",
       "      <td>1</td>\n",
       "      <td>...</td>\n",
       "      <td>1</td>\n",
       "      <td>1</td>\n",
       "      <td>2</td>\n",
       "      <td>0</td>\n",
       "      <td>0</td>\n",
       "      <td>0</td>\n",
       "      <td>2</td>\n",
       "      <td>0</td>\n",
       "      <td>1</td>\n",
       "      <td>0</td>\n",
       "      <td>1</td>\n",
       "      <td>0</td>\n",
       "      <td>0</td>\n",
       "      <td>NaN</td>\n",
       "      <td>0</td>\n",
       "      <td>1</td>\n",
       "      <td>1</td>\n",
       "      <td>1</td>\n",
       "      <td>2</td>\n",
       "      <td>2</td>\n",
       "      <td>0</td>\n",
       "      <td>0</td>\n",
       "      <td>1</td>\n",
       "      <td>1</td>\n",
       "      <td>0</td>\n",
       "      <td>1</td>\n",
       "      <td>0</td>\n",
       "      <td>1</td>\n",
       "      <td>2</td>\n",
       "      <td>1</td>\n",
       "      <td>0</td>\n",
       "      <td>2</td>\n",
       "      <td>1</td>\n",
       "      <td>NaN</td>\n",
       "      <td>2</td>\n",
       "      <td>1</td>\n",
       "      <td>1</td>\n",
       "      <td>1</td>\n",
       "      <td>2</td>\n",
       "      <td>1</td>\n",
       "      <td>0</td>\n",
       "      <td>0</td>\n",
       "      <td>1</td>\n",
       "      <td>0</td>\n",
       "      <td>0</td>\n",
       "      <td>1</td>\n",
       "      <td>0</td>\n",
       "      <td>1</td>\n",
       "      <td>1</td>\n",
       "      <td>1</td>\n",
       "    </tr>\n",
       "    <tr>\n",
       "      <th>best</th>\n",
       "      <td>0.625</td>\n",
       "      <td>-18.2875</td>\n",
       "      <td>1.2</td>\n",
       "      <td>-30.875</td>\n",
       "      <td>-16.375</td>\n",
       "      <td>18.4875</td>\n",
       "      <td>19.0125</td>\n",
       "      <td>-1.35</td>\n",
       "      <td>5.7125</td>\n",
       "      <td>10.6875</td>\n",
       "      <td>10.625</td>\n",
       "      <td>-11.4875</td>\n",
       "      <td>-2.15</td>\n",
       "      <td>NaN</td>\n",
       "      <td>7.8125</td>\n",
       "      <td>6.9375</td>\n",
       "      <td>-9.175</td>\n",
       "      <td>4.3125</td>\n",
       "      <td>-9.9625</td>\n",
       "      <td>-12.1375</td>\n",
       "      <td>6.2625</td>\n",
       "      <td>-5.75</td>\n",
       "      <td>22.4</td>\n",
       "      <td>-0.3875</td>\n",
       "      <td>-3.9625</td>\n",
       "      <td>-15.6125</td>\n",
       "      <td>8.2125</td>\n",
       "      <td>-3.6125</td>\n",
       "      <td>-10.2</td>\n",
       "      <td>-4.8625</td>\n",
       "      <td>-4.025</td>\n",
       "      <td>-26.25</td>\n",
       "      <td>1.6875</td>\n",
       "      <td>-13.1125</td>\n",
       "      <td>-9.0875</td>\n",
       "      <td>0.475</td>\n",
       "      <td>3.3125</td>\n",
       "      <td>1.7375</td>\n",
       "      <td>-7.675</td>\n",
       "      <td>2.85</td>\n",
       "      <td>18.2625</td>\n",
       "      <td>-17.625</td>\n",
       "      <td>16.675</td>\n",
       "      <td>-1.1</td>\n",
       "      <td>11.3</td>\n",
       "      <td>3.6125</td>\n",
       "      <td>18.925</td>\n",
       "      <td>34.6375</td>\n",
       "      <td>9.35</td>\n",
       "      <td>7.325</td>\n",
       "      <td>...</td>\n",
       "      <td>5.075</td>\n",
       "      <td>-4.4375</td>\n",
       "      <td>-24.1375</td>\n",
       "      <td>-3.775</td>\n",
       "      <td>4.375</td>\n",
       "      <td>11.5375</td>\n",
       "      <td>-1.4125</td>\n",
       "      <td>12.3375</td>\n",
       "      <td>1.575</td>\n",
       "      <td>8.7375</td>\n",
       "      <td>-27.6</td>\n",
       "      <td>-3.0375</td>\n",
       "      <td>-2.825</td>\n",
       "      <td>NaN</td>\n",
       "      <td>-0.275</td>\n",
       "      <td>10.4125</td>\n",
       "      <td>-11.7625</td>\n",
       "      <td>18.2625</td>\n",
       "      <td>-10.475</td>\n",
       "      <td>-2.2</td>\n",
       "      <td>7.0375</td>\n",
       "      <td>1.25</td>\n",
       "      <td>-4.6125</td>\n",
       "      <td>-8.6125</td>\n",
       "      <td>-2.9875</td>\n",
       "      <td>2.875</td>\n",
       "      <td>-10.8125</td>\n",
       "      <td>-0.7125</td>\n",
       "      <td>-2</td>\n",
       "      <td>7.25</td>\n",
       "      <td>-9.95</td>\n",
       "      <td>-3.125</td>\n",
       "      <td>-6.3875</td>\n",
       "      <td>NaN</td>\n",
       "      <td>-31.0625</td>\n",
       "      <td>-6.15</td>\n",
       "      <td>-1.35</td>\n",
       "      <td>-2.25</td>\n",
       "      <td>-11.725</td>\n",
       "      <td>-12.6125</td>\n",
       "      <td>1.3875</td>\n",
       "      <td>12.55</td>\n",
       "      <td>-6.5</td>\n",
       "      <td>5.025</td>\n",
       "      <td>4.3125</td>\n",
       "      <td>0.45</td>\n",
       "      <td>-1.2</td>\n",
       "      <td>-21.25</td>\n",
       "      <td>-7.075</td>\n",
       "      <td>-8.6125</td>\n",
       "    </tr>\n",
       "  </tbody>\n",
       "</table>\n",
       "<p>5 rows × 380 columns</p>\n",
       "</div>"
      ],
      "text/plain": [
       "             arsenal-fc-aston-villa arsenal-fc-chelsea-fc arsenal-fc-everton-fc arsenal-fc-fulham-fc arsenal-fc-liverpool-fc arsenal-fc-manchester-city arsenal-fc-manchester-united arsenal-fc-newcastle-united arsenal-fc-norwich-city arsenal-fc-queens-park-rangers arsenal-fc-reading-fc arsenal-fc-southampton-fc arsenal-fc-stoke-city arsenal-fc-sunderland-afc arsenal-fc-swansea-city arsenal-fc-tottenham-hotspur arsenal-fc-west-bromwich-albion arsenal-fc-west-ham-united arsenal-fc-wigan-athletic  \\\n",
       "away                    aston-villa            chelsea-fc            everton-fc            fulham-fc            liverpool-fc            manchester-city            manchester-united            newcastle-united            norwich-city            queens-park-rangers            reading-fc            southampton-fc            stoke-city            sunderland-afc            swansea-city            tottenham-hotspur            west-bromwich-albion            west-ham-united            wigan-athletic   \n",
       "away_average                   0.25                  0.75              0.578125            0.4305556               0.6111111                   0.359375                    0.4204545                    0.603125               0.6470588                      0.4907895                     0                  1.045455             0.2666667                       NaN               0.6607143                     0.314881                               0                  0.3026316                  1.292969   \n",
       "away_loss                         0                     0                     1                    0                       1                          0                            0                           1                       1                              1                     2                         2                     1                       NaN                       0                            2                               2                          1                         0   \n",
       "away_win                          1                     1                     1                    0                       1                          2                            2                           1                       0                              0                     0                         0                     0                       NaN                       1                            0                               0                          0                         1   \n",
       "best                          0.625              -18.2875                   1.2              -30.875                 -16.375                    18.4875                      19.0125                       -1.35                  5.7125                        10.6875                10.625                  -11.4875                 -2.15                       NaN                  7.8125                       6.9375                          -9.175                     4.3125                   -9.9625   \n",
       "\n",
       "             aston-villa-arsenal-fc aston-villa-chelsea-fc aston-villa-everton-fc aston-villa-fulham-fc aston-villa-liverpool-fc aston-villa-manchester-city aston-villa-manchester-united aston-villa-newcastle-united aston-villa-norwich-city aston-villa-queens-park-rangers aston-villa-reading-fc aston-villa-southampton-fc aston-villa-stoke-city aston-villa-sunderland-afc aston-villa-swansea-city aston-villa-tottenham-hotspur aston-villa-west-bromwich-albion aston-villa-west-ham-united  \\\n",
       "away                     arsenal-fc             chelsea-fc             everton-fc             fulham-fc             liverpool-fc             manchester-city             manchester-united             newcastle-united             norwich-city             queens-park-rangers             reading-fc             southampton-fc             stoke-city             sunderland-afc             swansea-city             tottenham-hotspur             west-bromwich-albion             west-ham-united   \n",
       "away_average               1.107143                      0               0.359375                     0               0.06388889                     0.59375                     0.2159091                         0.15                0.1764706                             0.5               0.330625                  0.5227273                 0.7075                  0.4107143                     0.75                     0.2142857                        0.4558824                   0.3026316   \n",
       "away_loss                         0                      0                      0                     1                        1                           1                             0                            1                        1                               0                      1                          0                      0                          0                        0                             0                                1                           1   \n",
       "away_win                          1                      2                      1                     1                        1                           1                             2                            0                        1                               2                      1                          0                      2                          2                        1                             1                                1                           1   \n",
       "best                       -12.1375                 6.2625                  -5.75                  22.4                  -0.3875                     -3.9625                      -15.6125                       8.2125                  -3.6125                           -10.2                -4.8625                     -4.025                 -26.25                     1.6875                 -13.1125                       -9.0875                            0.475                      3.3125   \n",
       "\n",
       "             aston-villa-wigan-athletic chelsea-fc-arsenal-fc chelsea-fc-aston-villa chelsea-fc-everton-fc chelsea-fc-fulham-fc chelsea-fc-liverpool-fc chelsea-fc-manchester-city chelsea-fc-manchester-united chelsea-fc-newcastle-united chelsea-fc-norwich-city chelsea-fc-queens-park-rangers chelsea-fc-reading-fc chelsea-fc-southampton-fc              ...               west-bromwich-albion-manchester-united west-bromwich-albion-newcastle-united west-bromwich-albion-norwich-city  \\\n",
       "away                     wigan-athletic            arsenal-fc            aston-villa            everton-fc            fulham-fc            liverpool-fc            manchester-city            manchester-united            newcastle-united            norwich-city            queens-park-rangers            reading-fc            southampton-fc              ...                                    manchester-united                      newcastle-united                      norwich-city   \n",
       "away_average                   0.071875                     0              0.6109375                  0.25                    0               0.2916667                    0.53125                    0.6590909                      0.3575               0.2794118                              0                     0                 0.5227273              ...                                            0.5795455                                     0                         0.6764706   \n",
       "away_loss                             2                     1                      0                     0                    2                       0                          0                            0                           0                       2                              2                     1                         1              ...                                                    1                                     1                                 0   \n",
       "away_win                              0                     0                      1                     1                    0                       0                          2                            2                           1                       0                              0                     0                         1              ...                                                    1                                     1                                 2   \n",
       "best                             1.7375                -7.675                   2.85               18.2625              -17.625                  16.675                       -1.1                         11.3                      3.6125                  18.925                        34.6375                  9.35                     7.325              ...                                                5.075                               -4.4375                          -24.1375   \n",
       "\n",
       "             west-bromwich-albion-queens-park-rangers west-bromwich-albion-reading-fc west-bromwich-albion-southampton-fc west-bromwich-albion-stoke-city west-bromwich-albion-sunderland-afc west-bromwich-albion-swansea-city west-bromwich-albion-tottenham-hotspur west-bromwich-albion-west-ham-united west-bromwich-albion-wigan-athletic west-ham-united-arsenal-fc west-ham-united-aston-villa west-ham-united-chelsea-fc west-ham-united-everton-fc west-ham-united-fulham-fc  \\\n",
       "away                              queens-park-rangers                      reading-fc                      southampton-fc                      stoke-city                      sunderland-afc                      swansea-city                      tottenham-hotspur                      west-ham-united                      wigan-athletic                 arsenal-fc                 aston-villa                 chelsea-fc                 everton-fc                 fulham-fc   \n",
       "away_average                               0.09210526                          0.2875                          0.09090909                             1.3                                   0                               0.5                                 0.2875                            0.5980263                             0.65625                  0.5178571                         NaN                          0                          0                   0.43125   \n",
       "away_loss                                           2                               2                                   2                               0                                   2                                 1                                      0                                    1                                   1                          1                         NaN                          0                          0                         1   \n",
       "away_win                                            0                               0                                   0                               2                                   0                                 1                                      0                                    1                                   0                          0                         NaN                          0                          1                         1   \n",
       "best                                           -3.775                           4.375                             11.5375                         -1.4125                             12.3375                             1.575                                 8.7375                                -27.6                             -3.0375                     -2.825                         NaN                     -0.275                    10.4125                  -11.7625   \n",
       "\n",
       "             west-ham-united-liverpool-fc west-ham-united-manchester-city west-ham-united-manchester-united west-ham-united-newcastle-united west-ham-united-norwich-city west-ham-united-queens-park-rangers west-ham-united-reading-fc west-ham-united-southampton-fc west-ham-united-stoke-city west-ham-united-sunderland-afc west-ham-united-swansea-city west-ham-united-tottenham-hotspur west-ham-united-west-bromwich-albion west-ham-united-wigan-athletic wigan-athletic-arsenal-fc  \\\n",
       "away                         liverpool-fc                 manchester-city                 manchester-united                 newcastle-united                 norwich-city                 queens-park-rangers                 reading-fc                 southampton-fc                 stoke-city                 sunderland-afc                 swansea-city                 tottenham-hotspur                 west-bromwich-albion                 wigan-athletic                arsenal-fc   \n",
       "away_average                    0.3194444                        0.359375                         0.5909091                                0                    0.2647059                                   0                          0                       1.045455                  0.3833333                      0.4107143                            0                         0.2857143                                    0                          0.375                  1.047321   \n",
       "away_loss                               1                               0                                 0                                1                            2                                   0                          1                              1                          1                              0                            0                                 0                                    0                              1                         0   \n",
       "away_win                                1                               2                                 2                                0                            0                                   1                          1                              0                          1                              0                            1                                 2                                    1                              0                         2   \n",
       "best                              18.2625                         -10.475                              -2.2                           7.0375                         1.25                             -4.6125                    -8.6125                        -2.9875                      2.875                       -10.8125                      -0.7125                                -2                                 7.25                          -9.95                    -3.125   \n",
       "\n",
       "             wigan-athletic-aston-villa wigan-athletic-chelsea-fc wigan-athletic-everton-fc wigan-athletic-fulham-fc wigan-athletic-liverpool-fc wigan-athletic-manchester-city wigan-athletic-manchester-united wigan-athletic-newcastle-united wigan-athletic-norwich-city wigan-athletic-queens-park-rangers wigan-athletic-reading-fc wigan-athletic-southampton-fc wigan-athletic-stoke-city wigan-athletic-sunderland-afc wigan-athletic-swansea-city wigan-athletic-tottenham-hotspur  \\\n",
       "away                        aston-villa                chelsea-fc                everton-fc                fulham-fc                liverpool-fc                manchester-city                manchester-united                newcastle-united                norwich-city                queens-park-rangers                reading-fc                southampton-fc                stoke-city                sunderland-afc                swansea-city                tottenham-hotspur   \n",
       "away_average                   0.359375                       NaN                  0.640625                0.4305556                   0.6805556                              0                        0.1704545                           0.725                   0.3889706                               0.25                    0.4125                     0.3136364                         0                     0.4107143                    1.046429                         0.797619   \n",
       "away_loss                             1                       NaN                         0                        1                           1                              0                                0                               1                           0                                  0                         0                             1                         0                             1                           1                                0   \n",
       "away_win                              1                       NaN                         2                        1                           1                              1                                2                               1                           0                                  0                         1                             0                         0                             1                           0                                1   \n",
       "best                            -6.3875                       NaN                  -31.0625                    -6.15                       -1.35                          -2.25                          -11.725                        -12.6125                      1.3875                              12.55                      -6.5                         5.025                    4.3125                          0.45                        -1.2                           -21.25   \n",
       "\n",
       "             wigan-athletic-west-bromwich-albion wigan-athletic-west-ham-united  \n",
       "away                        west-bromwich-albion                west-ham-united  \n",
       "away_average                           0.4411765                            0.5  \n",
       "away_loss                                      1                              1  \n",
       "away_win                                       1                              1  \n",
       "best                                      -7.075                        -8.6125  \n",
       "\n",
       "[5 rows x 380 columns]"
      ]
     },
     "execution_count": 524,
     "metadata": {},
     "output_type": "execute_result"
    }
   ],
   "source": [
    "DF.head()"
   ]
  },
  {
   "cell_type": "markdown",
   "metadata": {},
   "source": [
    "## Analysis:"
   ]
  },
  {
   "cell_type": "code",
   "execution_count": 195,
   "metadata": {
    "collapsed": false
   },
   "outputs": [],
   "source": [
    "import statsmodels.api as st\n",
    "from sklearn.linear_model import LogisticRegression"
   ]
  },
  {
   "cell_type": "markdown",
   "metadata": {},
   "source": [
    "We will train on the first part of the season (except the first game as we don't have any explanotary variables for the first game)"
   ]
  },
  {
   "cell_type": "code",
   "execution_count": 395,
   "metadata": {
    "collapsed": false
   },
   "outputs": [],
   "source": [
    "firsthalf = DF.loc['day']<=19\n",
    "secondhalf = ~firsthalf"
   ]
  },
  {
   "cell_type": "code",
   "execution_count": 396,
   "metadata": {
    "collapsed": false
   },
   "outputs": [],
   "source": [
    "DF_firsthalf = DF[DF.columns[firsthalf]]\n",
    "DF_secondhalf = DF[DF.columns[secondhalf]]"
   ]
  },
  {
   "cell_type": "code",
   "execution_count": 397,
   "metadata": {
    "collapsed": false
   },
   "outputs": [],
   "source": [
    "# We remove the first day:\n",
    "train = DF_firsthalf[DF_firsthalf.columns[DF_firsthalf.loc['day']>1]]"
   ]
  },
  {
   "cell_type": "code",
   "execution_count": 398,
   "metadata": {
    "collapsed": false
   },
   "outputs": [],
   "source": [
    "y = train.loc['score'].copy()"
   ]
  },
  {
   "cell_type": "code",
   "execution_count": 403,
   "metadata": {
    "collapsed": true
   },
   "outputs": [],
   "source": [
    "X = train.iloc[[1,2,3,4,5,7,8,10,11,12],:].T\n",
    "test = DF_secondhalf.iloc[[1,2,3,4,5,7,8,10,11,12],:].T\n",
    "y_test = DF_secondhalf.loc['score'].copy()"
   ]
  },
  {
   "cell_type": "code",
   "execution_count": 321,
   "metadata": {
    "collapsed": false
   },
   "outputs": [
    {
     "data": {
      "text/html": [
       "<div>\n",
       "<table border=\"1\" class=\"dataframe\">\n",
       "  <thead>\n",
       "    <tr style=\"text-align: right;\">\n",
       "      <th></th>\n",
       "      <th>away_average</th>\n",
       "      <th>away_loss</th>\n",
       "      <th>away_win</th>\n",
       "      <th>best</th>\n",
       "      <th>goals_against_away</th>\n",
       "      <th>goals_against_home</th>\n",
       "      <th>home_average</th>\n",
       "      <th>home_loss</th>\n",
       "      <th>home_win</th>\n",
       "    </tr>\n",
       "  </thead>\n",
       "  <tbody>\n",
       "    <tr>\n",
       "      <th>arsenal-fc-chelsea-fc</th>\n",
       "      <td>0.75</td>\n",
       "      <td>0</td>\n",
       "      <td>1</td>\n",
       "      <td>-19.1875</td>\n",
       "      <td>-0.4</td>\n",
       "      <td>-0.4</td>\n",
       "      <td>0.2464286</td>\n",
       "      <td>0</td>\n",
       "      <td>1</td>\n",
       "    </tr>\n",
       "    <tr>\n",
       "      <th>arsenal-fc-fulham-fc</th>\n",
       "      <td>0.4305556</td>\n",
       "      <td>0</td>\n",
       "      <td>0</td>\n",
       "      <td>-26.6125</td>\n",
       "      <td>-1.8</td>\n",
       "      <td>-1.2</td>\n",
       "      <td>0.08214286</td>\n",
       "      <td>1</td>\n",
       "      <td>1</td>\n",
       "    </tr>\n",
       "    <tr>\n",
       "      <th>arsenal-fc-queens-park-rangers</th>\n",
       "      <td>0.4907895</td>\n",
       "      <td>1</td>\n",
       "      <td>0</td>\n",
       "      <td>14.4375</td>\n",
       "      <td>-1.6</td>\n",
       "      <td>-1.2</td>\n",
       "      <td>0</td>\n",
       "      <td>1</td>\n",
       "      <td>1</td>\n",
       "    </tr>\n",
       "    <tr>\n",
       "      <th>arsenal-fc-southampton-fc</th>\n",
       "      <td>1.045455</td>\n",
       "      <td>2</td>\n",
       "      <td>0</td>\n",
       "      <td>-11.4875</td>\n",
       "      <td>-2.666667</td>\n",
       "      <td>0</td>\n",
       "      <td>0.6160714</td>\n",
       "      <td>0</td>\n",
       "      <td>1</td>\n",
       "    </tr>\n",
       "    <tr>\n",
       "      <th>arsenal-fc-swansea-city</th>\n",
       "      <td>0.6607143</td>\n",
       "      <td>0</td>\n",
       "      <td>1</td>\n",
       "      <td>9.825</td>\n",
       "      <td>-0.8</td>\n",
       "      <td>-1.6</td>\n",
       "      <td>0.4723214</td>\n",
       "      <td>0</td>\n",
       "      <td>0</td>\n",
       "    </tr>\n",
       "  </tbody>\n",
       "</table>\n",
       "</div>"
      ],
      "text/plain": [
       "                               away_average away_loss away_win     best goals_against_away goals_against_home home_average home_loss home_win\n",
       "arsenal-fc-chelsea-fc                  0.75         0        1 -19.1875               -0.4               -0.4    0.2464286         0        1\n",
       "arsenal-fc-fulham-fc              0.4305556         0        0 -26.6125               -1.8               -1.2   0.08214286         1        1\n",
       "arsenal-fc-queens-park-rangers    0.4907895         1        0  14.4375               -1.6               -1.2            0         1        1\n",
       "arsenal-fc-southampton-fc          1.045455         2        0 -11.4875          -2.666667                  0    0.6160714         0        1\n",
       "arsenal-fc-swansea-city           0.6607143         0        1    9.825               -0.8               -1.6    0.4723214         0        0"
      ]
     },
     "execution_count": 321,
     "metadata": {},
     "output_type": "execute_result"
    }
   ],
   "source": [
    "X.head()"
   ]
  },
  {
   "cell_type": "markdown",
   "metadata": {},
   "source": [
    "We fit the model:"
   ]
  },
  {
   "cell_type": "code",
   "execution_count": 230,
   "metadata": {
    "collapsed": false
   },
   "outputs": [],
   "source": [
    "logreg = LogisticRegression(C=1e5)"
   ]
  },
  {
   "cell_type": "code",
   "execution_count": 231,
   "metadata": {
    "collapsed": false
   },
   "outputs": [
    {
     "data": {
      "text/plain": [
       "LogisticRegression(C=100000.0, class_weight=None, dual=False,\n",
       "          fit_intercept=True, intercept_scaling=1, max_iter=100,\n",
       "          multi_class='ovr', penalty='l2', random_state=None,\n",
       "          solver='liblinear', tol=0.0001, verbose=0)"
      ]
     },
     "execution_count": 231,
     "metadata": {},
     "output_type": "execute_result"
    }
   ],
   "source": [
    "logreg.fit(X,y)"
   ]
  },
  {
   "cell_type": "markdown",
   "metadata": {},
   "source": [
    "We predict the second half:"
   ]
  },
  {
   "cell_type": "code",
   "execution_count": 232,
   "metadata": {
    "collapsed": false
   },
   "outputs": [],
   "source": [
    "y_test_pred = logreg.predict(test)"
   ]
  },
  {
   "cell_type": "markdown",
   "metadata": {},
   "source": [
    "We derive the confusion metric to check how good we actually do:"
   ]
  },
  {
   "cell_type": "code",
   "execution_count": 245,
   "metadata": {
    "collapsed": false
   },
   "outputs": [],
   "source": [
    "from sklearn.metrics import confusion_matrix\n",
    "mat = confusion_matrix(y_test.values.astype(int),y_test_pred.astype(int))"
   ]
  },
  {
   "cell_type": "code",
   "execution_count": 257,
   "metadata": {
    "collapsed": true
   },
   "outputs": [],
   "source": [
    "score = float(mat[0,0]+mat[1,1]+mat[2,2])/np.sum(mat)"
   ]
  },
  {
   "cell_type": "code",
   "execution_count": 258,
   "metadata": {
    "collapsed": false
   },
   "outputs": [
    {
     "name": "stdout",
     "output_type": "stream",
     "text": [
      "0.384210526316\n"
     ]
    }
   ],
   "source": [
    "print score"
   ]
  },
  {
   "cell_type": "markdown",
   "metadata": {},
   "source": [
    "Not great.... Let's see if with a greater training set we can get better results !"
   ]
  },
  {
   "cell_type": "code",
   "execution_count": 250,
   "metadata": {
    "collapsed": true
   },
   "outputs": [],
   "source": [
    "tr = DF.loc['day']<=27\n",
    "ts = ~tr"
   ]
  },
  {
   "cell_type": "code",
   "execution_count": 251,
   "metadata": {
    "collapsed": true
   },
   "outputs": [],
   "source": [
    "DF_tr = DF[DF.columns[tr]]\n",
    "DF_ts = DF[DF.columns[ts]]\n",
    "train2 = DF_tr[DF_tr.columns[DF_tr.loc['day']>1]]\n",
    "y2 = train2.loc['score']\n",
    "\n",
    "X2 = train2.iloc[[1,2,3,4,6,7,9,10,11],:].T\n",
    "test2 = DF_ts.iloc[[1,2,3,4,6,7,9,10,11],:].T\n",
    "y_test2 = DF_ts.loc['score']"
   ]
  },
  {
   "cell_type": "code",
   "execution_count": 252,
   "metadata": {
    "collapsed": false
   },
   "outputs": [
    {
     "data": {
      "text/plain": [
       "LogisticRegression(C=100000.0, class_weight=None, dual=False,\n",
       "          fit_intercept=True, intercept_scaling=1, max_iter=100,\n",
       "          multi_class='ovr', penalty='l2', random_state=None,\n",
       "          solver='liblinear', tol=0.0001, verbose=0)"
      ]
     },
     "execution_count": 252,
     "metadata": {},
     "output_type": "execute_result"
    }
   ],
   "source": [
    "logreg2 = LogisticRegression(C=1e5)\n",
    "logreg.fit(X2,y2)"
   ]
  },
  {
   "cell_type": "code",
   "execution_count": 253,
   "metadata": {
    "collapsed": true
   },
   "outputs": [],
   "source": [
    "y_test_pred2 = logreg.predict(test2)"
   ]
  },
  {
   "cell_type": "code",
   "execution_count": 254,
   "metadata": {
    "collapsed": true
   },
   "outputs": [],
   "source": [
    "mat2 = confusion_matrix(y_test2.values.astype(int),y_test_pred2.astype(int))"
   ]
  },
  {
   "cell_type": "code",
   "execution_count": 255,
   "metadata": {
    "collapsed": false
   },
   "outputs": [
    {
     "data": {
      "text/plain": [
       "array([[ 5,  9, 21],\n",
       "       [ 7,  3, 18],\n",
       "       [ 9,  5, 33]])"
      ]
     },
     "execution_count": 255,
     "metadata": {},
     "output_type": "execute_result"
    }
   ],
   "source": [
    "mat2"
   ]
  },
  {
   "cell_type": "code",
   "execution_count": 259,
   "metadata": {
    "collapsed": true
   },
   "outputs": [],
   "source": [
    "score2 = float(mat2[0,0]+mat2[1,1]+mat2[2,2])/np.sum(mat2)"
   ]
  },
  {
   "cell_type": "code",
   "execution_count": 260,
   "metadata": {
    "collapsed": false
   },
   "outputs": [
    {
     "name": "stdout",
     "output_type": "stream",
     "text": [
      "0.372727272727\n"
     ]
    }
   ],
   "source": [
    "print score2"
   ]
  },
  {
   "cell_type": "markdown",
   "metadata": {},
   "source": [
    "nop...."
   ]
  },
  {
   "cell_type": "markdown",
   "metadata": {},
   "source": [
    "### Let's try random forest:"
   ]
  },
  {
   "cell_type": "code",
   "execution_count": 262,
   "metadata": {
    "collapsed": false
   },
   "outputs": [],
   "source": [
    "from sklearn.ensemble import RandomForestClassifier"
   ]
  },
  {
   "cell_type": "code",
   "execution_count": 263,
   "metadata": {
    "collapsed": false
   },
   "outputs": [
    {
     "data": {
      "text/plain": [
       "RandomForestClassifier(bootstrap=True, class_weight=None, criterion='gini',\n",
       "            max_depth=None, max_features='auto', max_leaf_nodes=None,\n",
       "            min_samples_leaf=1, min_samples_split=2,\n",
       "            min_weight_fraction_leaf=0.0, n_estimators=25, n_jobs=1,\n",
       "            oob_score=False, random_state=None, verbose=0,\n",
       "            warm_start=False)"
      ]
     },
     "execution_count": 263,
     "metadata": {},
     "output_type": "execute_result"
    }
   ],
   "source": [
    "clf = RandomForestClassifier(n_estimators=25)\n",
    "clf.fit(X,y)"
   ]
  },
  {
   "cell_type": "code",
   "execution_count": 265,
   "metadata": {
    "collapsed": false
   },
   "outputs": [],
   "source": [
    "RFC_pred = clf.predict(test).astype(int)"
   ]
  },
  {
   "cell_type": "code",
   "execution_count": 266,
   "metadata": {
    "collapsed": true
   },
   "outputs": [],
   "source": [
    "RFC_mat = confusion_matrix(y_test.astype(int),RFC_pred)"
   ]
  },
  {
   "cell_type": "code",
   "execution_count": 267,
   "metadata": {
    "collapsed": false
   },
   "outputs": [
    {
     "data": {
      "text/plain": [
       "array([[14, 17, 27],\n",
       "       [12, 18, 20],\n",
       "       [18, 14, 50]])"
      ]
     },
     "execution_count": 267,
     "metadata": {},
     "output_type": "execute_result"
    }
   ],
   "source": [
    "RFC_mat"
   ]
  },
  {
   "cell_type": "code",
   "execution_count": 268,
   "metadata": {
    "collapsed": true
   },
   "outputs": [],
   "source": [
    "RFC_score = float(RFC_mat[0,0]+RFC_mat[1,1]+RFC_mat[2,2])/np.sum(RFC_mat)"
   ]
  },
  {
   "cell_type": "code",
   "execution_count": 269,
   "metadata": {
    "collapsed": false
   },
   "outputs": [
    {
     "name": "stdout",
     "output_type": "stream",
     "text": [
      "0.431578947368\n"
     ]
    }
   ],
   "source": [
    "print RFC_score"
   ]
  },
  {
   "cell_type": "markdown",
   "metadata": {},
   "source": [
    "Slightly better...."
   ]
  },
  {
   "cell_type": "code",
   "execution_count": 279,
   "metadata": {
    "collapsed": false
   },
   "outputs": [
    {
     "name": "stdout",
     "output_type": "stream",
     "text": [
      "[[15  8 12]\n",
      " [ 7  5 16]\n",
      " [10 10 27]]\n",
      "0.427272727273\n"
     ]
    }
   ],
   "source": [
    "clf = RandomForestClassifier(n_estimators=10)\n",
    "clf.fit(X2,y2)\n",
    "RFC_pred2 = clf.predict(test2).astype(int)\n",
    "RFC_mat2 = confusion_matrix(y_test2.astype(int),RFC_pred2)\n",
    "\n",
    "print RFC_mat2\n",
    "\n",
    "RFC_score2 = float(RFC_mat2[0,0]+RFC_mat2[1,1]+RFC_mat2[2,2])/np.sum(RFC_mat2)\n",
    "\n",
    "print RFC_score2"
   ]
  },
  {
   "cell_type": "markdown",
   "metadata": {},
   "source": [
    "Let's now to see if we can at least better predict if the home teams doesn't win:"
   ]
  },
  {
   "cell_type": "code",
   "execution_count": 281,
   "metadata": {
    "collapsed": false
   },
   "outputs": [],
   "source": [
    "y[y<1]= 0 "
   ]
  },
  {
   "cell_type": "code",
   "execution_count": 282,
   "metadata": {
    "collapsed": true
   },
   "outputs": [],
   "source": [
    "y_test[y_test<1] = 0"
   ]
  },
  {
   "cell_type": "code",
   "execution_count": 283,
   "metadata": {
    "collapsed": true
   },
   "outputs": [],
   "source": [
    "logreg = LogisticRegression(C=1e5)\n",
    "logreg.fit(X,y)\n",
    "y_test_pred = logreg.predict(test).astype(int)"
   ]
  },
  {
   "cell_type": "code",
   "execution_count": 284,
   "metadata": {
    "collapsed": true
   },
   "outputs": [],
   "source": [
    "mat4 = confusion_matrix(y_test.values.astype(int),y_test_pred)"
   ]
  },
  {
   "cell_type": "code",
   "execution_count": 285,
   "metadata": {
    "collapsed": false
   },
   "outputs": [
    {
     "data": {
      "text/plain": [
       "array([[70, 38],\n",
       "       [44, 38]])"
      ]
     },
     "execution_count": 285,
     "metadata": {},
     "output_type": "execute_result"
    }
   ],
   "source": [
    "mat4"
   ]
  },
  {
   "cell_type": "code",
   "execution_count": 286,
   "metadata": {
    "collapsed": true
   },
   "outputs": [],
   "source": [
    "score4 = float(mat4[0,0]+mat4[1,1])/np.sum(mat4)"
   ]
  },
  {
   "cell_type": "code",
   "execution_count": 287,
   "metadata": {
    "collapsed": false
   },
   "outputs": [
    {
     "data": {
      "text/plain": [
       "0.5684210526315789"
      ]
     },
     "execution_count": 287,
     "metadata": {},
     "output_type": "execute_result"
    }
   ],
   "source": [
    "score4"
   ]
  },
  {
   "cell_type": "markdown",
   "metadata": {},
   "source": [
    "We manage to predict slightly better than by chance... still not good enough..."
   ]
  },
  {
   "cell_type": "code",
   "execution_count": null,
   "metadata": {
    "collapsed": true
   },
   "outputs": [],
   "source": [
    "clf = RandomForestClassifier(n_estimators=25)\n",
    "\n",
    "clf.fit(X,y)\n",
    "\n",
    "RFC_pred3 = clf.predict(test).astype(int)\n",
    "RFC_mat3 = confusion_matrix(y_test.astype(int),RFC_pred3)\n",
    "\n",
    "print RFC_mat3\n",
    "\n",
    "RFC_score3 = float(RFC_mat3[0,0]+RFC_mat3[1,1])/np.sum(RFC_mat3)\n",
    "\n",
    "print RFC_score3"
   ]
  },
  {
   "cell_type": "markdown",
   "metadata": {},
   "source": [
    "Maybe not loose:"
   ]
  },
  {
   "cell_type": "code",
   "execution_count": 307,
   "metadata": {
    "collapsed": false
   },
   "outputs": [],
   "source": [
    "y = train.loc['score'].copy()\n",
    "y_test = DF_secondhalf.loc['score'].copy()\n",
    "y[y>-1]= 1\n",
    "y_test[y_test>-1]= 1"
   ]
  },
  {
   "cell_type": "code",
   "execution_count": 309,
   "metadata": {
    "collapsed": false
   },
   "outputs": [],
   "source": [
    "logreg = LogisticRegression(C=1e5)\n",
    "logreg.fit(X,y)\n",
    "y_test_pred = logreg.predict(test).astype(int)\n",
    "mat5 = confusion_matrix(y_test.values.astype(int),y_test_pred)\n",
    "score5 = float(mat5[0,0]+mat5[1,1])/np.sum(mat5)"
   ]
  },
  {
   "cell_type": "code",
   "execution_count": 310,
   "metadata": {
    "collapsed": false
   },
   "outputs": [
    {
     "data": {
      "text/plain": [
       "0.6631578947368421"
      ]
     },
     "execution_count": 310,
     "metadata": {},
     "output_type": "execute_result"
    }
   ],
   "source": [
    "score5"
   ]
  },
  {
   "cell_type": "markdown",
   "metadata": {},
   "source": [
    "2/3 ! Let's build on this."
   ]
  },
  {
   "cell_type": "code",
   "execution_count": 312,
   "metadata": {
    "collapsed": false
   },
   "outputs": [
    {
     "data": {
      "text/plain": [
       "0.6947368421052632"
      ]
     },
     "execution_count": 312,
     "metadata": {},
     "output_type": "execute_result"
    }
   ],
   "source": [
    "onlywin_mat = confusion_matrix(y_test.values.astype(int),[1]*190)\n",
    "float(onlywin_mat[0,0]+onlywin_mat[1,1])/np.sum(onlywin_mat)"
   ]
  },
  {
   "cell_type": "markdown",
   "metadata": {},
   "source": [
    "ouch...."
   ]
  },
  {
   "cell_type": "code",
   "execution_count": 313,
   "metadata": {
    "collapsed": false
   },
   "outputs": [
    {
     "data": {
      "text/plain": [
       "0.30526315789473685"
      ]
     },
     "execution_count": 313,
     "metadata": {},
     "output_type": "execute_result"
    }
   ],
   "source": [
    "onlyloss_mat = confusion_matrix(y_test.values.astype(int),[-1]*190)\n",
    "float(onlyloss_mat[0,0]+onlyloss_mat[1,1])/np.sum(onlyloss_mat)"
   ]
  },
  {
   "cell_type": "markdown",
   "metadata": {},
   "source": [
    "#### Let's try to improve results by looking in more depths at the models:"
   ]
  },
  {
   "cell_type": "markdown",
   "metadata": {},
   "source": [
    "Let's focus on one model in particular, the random forest "
   ]
  },
  {
   "cell_type": "code",
   "execution_count": 507,
   "metadata": {
    "collapsed": true
   },
   "outputs": [],
   "source": [
    "DF_firsthalf = DF[DF.columns[firsthalf]]\n",
    "DF_secondhalf = DF[DF.columns[secondhalf]]\n",
    "train = DF_firsthalf[DF_firsthalf.columns[DF_firsthalf.loc['day']>1]]\n",
    "y = train.loc['score'].copy()\n",
    "X = train.iloc[[1,2,3,4,6,7,9,10,11],:].T\n",
    "test = DF_secondhalf.iloc[[1,2,3,4,6,7,9,10,11],:].T\n",
    "y_test = DF_secondhalf.loc['score'].copy()"
   ]
  },
  {
   "cell_type": "code",
   "execution_count": 511,
   "metadata": {
    "collapsed": false
   },
   "outputs": [
    {
     "name": "stdout",
     "output_type": "stream",
     "text": [
      "[[21 12 25]\n",
      " [13 18 19]\n",
      " [18 21 43]]\n",
      "0.431578947368\n"
     ]
    }
   ],
   "source": [
    "clf = RandomForestClassifier(n_estimators=10)\n",
    "clf.fit(X,y)\n",
    "\n",
    "RFC_pred = clf.predict(test).astype(int)\n",
    "RFC_mat = confusion_matrix(y_test.astype(int),RFC_pred)\n",
    "\n",
    "print RFC_mat\n",
    "\n",
    "RFC_score = float(RFC_mat[0,0]+RFC_mat[1,1]+RFC_mat[2,2])/np.sum(RFC_mat)\n",
    "print RFC_score"
   ]
  },
  {
   "cell_type": "code",
   "execution_count": 463,
   "metadata": {
    "collapsed": false
   },
   "outputs": [
    {
     "data": {
      "text/plain": [
       "[('away_average', 0.14642648213399728),\n",
       " ('away_loss', 0.037159761707974776),\n",
       " ('away_win', 0.032031118693113647),\n",
       " ('best_away', 0.21480853295013938),\n",
       " ('best_home', 0.13386022164207761),\n",
       " ('goals_against_away', 0.12788066270244336),\n",
       " ('goals_against_home', 0.12051259638730313),\n",
       " ('home_average', 0.11557261273151902),\n",
       " ('home_loss', 0.033852519557199978),\n",
       " ('home_win', 0.037895491494231826)]"
      ]
     },
     "execution_count": 463,
     "metadata": {},
     "output_type": "execute_result"
    }
   ],
   "source": [
    "zip(DF.index[[1,2,3,4,5,7,8,10,11,12]],clf.feature_importances_)"
   ]
  },
  {
   "cell_type": "markdown",
   "metadata": {},
   "source": [
    "### Let's try to add a team factor:"
   ]
  },
  {
   "cell_type": "code",
   "execution_count": 518,
   "metadata": {
    "collapsed": true
   },
   "outputs": [],
   "source": [
    "team_df = dict.fromkeys(games.keys())"
   ]
  },
  {
   "cell_type": "code",
   "execution_count": 521,
   "metadata": {
    "collapsed": false
   },
   "outputs": [],
   "source": [
    "for k in team_df.keys():\n",
    "    team_df[k] = {}\n",
    "    for team in teams:\n",
    "        team_df[k][team] = 0\n",
    "    team_df[k][games[k]['home']] = 1\n",
    "    team_df[k][games[k]['away']] = 1"
   ]
  },
  {
   "cell_type": "code",
   "execution_count": 522,
   "metadata": {
    "collapsed": true
   },
   "outputs": [],
   "source": [
    "team_df = pd.DataFrame.from_dict(team_df)"
   ]
  },
  {
   "cell_type": "code",
   "execution_count": 523,
   "metadata": {
    "collapsed": false
   },
   "outputs": [
    {
     "data": {
      "text/html": [
       "<div>\n",
       "<table border=\"1\" class=\"dataframe\">\n",
       "  <thead>\n",
       "    <tr style=\"text-align: right;\">\n",
       "      <th></th>\n",
       "      <th>arsenal-fc-aston-villa</th>\n",
       "      <th>arsenal-fc-chelsea-fc</th>\n",
       "      <th>arsenal-fc-everton-fc</th>\n",
       "      <th>arsenal-fc-fulham-fc</th>\n",
       "      <th>arsenal-fc-liverpool-fc</th>\n",
       "      <th>arsenal-fc-manchester-city</th>\n",
       "      <th>arsenal-fc-manchester-united</th>\n",
       "      <th>arsenal-fc-newcastle-united</th>\n",
       "      <th>arsenal-fc-norwich-city</th>\n",
       "      <th>arsenal-fc-queens-park-rangers</th>\n",
       "      <th>arsenal-fc-reading-fc</th>\n",
       "      <th>arsenal-fc-southampton-fc</th>\n",
       "      <th>arsenal-fc-stoke-city</th>\n",
       "      <th>arsenal-fc-sunderland-afc</th>\n",
       "      <th>arsenal-fc-swansea-city</th>\n",
       "      <th>arsenal-fc-tottenham-hotspur</th>\n",
       "      <th>arsenal-fc-west-bromwich-albion</th>\n",
       "      <th>arsenal-fc-west-ham-united</th>\n",
       "      <th>arsenal-fc-wigan-athletic</th>\n",
       "      <th>aston-villa-arsenal-fc</th>\n",
       "      <th>aston-villa-chelsea-fc</th>\n",
       "      <th>aston-villa-everton-fc</th>\n",
       "      <th>aston-villa-fulham-fc</th>\n",
       "      <th>aston-villa-liverpool-fc</th>\n",
       "      <th>aston-villa-manchester-city</th>\n",
       "      <th>aston-villa-manchester-united</th>\n",
       "      <th>aston-villa-newcastle-united</th>\n",
       "      <th>aston-villa-norwich-city</th>\n",
       "      <th>aston-villa-queens-park-rangers</th>\n",
       "      <th>aston-villa-reading-fc</th>\n",
       "      <th>aston-villa-southampton-fc</th>\n",
       "      <th>aston-villa-stoke-city</th>\n",
       "      <th>aston-villa-sunderland-afc</th>\n",
       "      <th>aston-villa-swansea-city</th>\n",
       "      <th>aston-villa-tottenham-hotspur</th>\n",
       "      <th>aston-villa-west-bromwich-albion</th>\n",
       "      <th>aston-villa-west-ham-united</th>\n",
       "      <th>aston-villa-wigan-athletic</th>\n",
       "      <th>chelsea-fc-arsenal-fc</th>\n",
       "      <th>chelsea-fc-aston-villa</th>\n",
       "      <th>chelsea-fc-everton-fc</th>\n",
       "      <th>chelsea-fc-fulham-fc</th>\n",
       "      <th>chelsea-fc-liverpool-fc</th>\n",
       "      <th>chelsea-fc-manchester-city</th>\n",
       "      <th>chelsea-fc-manchester-united</th>\n",
       "      <th>chelsea-fc-newcastle-united</th>\n",
       "      <th>chelsea-fc-norwich-city</th>\n",
       "      <th>chelsea-fc-queens-park-rangers</th>\n",
       "      <th>chelsea-fc-reading-fc</th>\n",
       "      <th>chelsea-fc-southampton-fc</th>\n",
       "      <th>...</th>\n",
       "      <th>west-bromwich-albion-manchester-united</th>\n",
       "      <th>west-bromwich-albion-newcastle-united</th>\n",
       "      <th>west-bromwich-albion-norwich-city</th>\n",
       "      <th>west-bromwich-albion-queens-park-rangers</th>\n",
       "      <th>west-bromwich-albion-reading-fc</th>\n",
       "      <th>west-bromwich-albion-southampton-fc</th>\n",
       "      <th>west-bromwich-albion-stoke-city</th>\n",
       "      <th>west-bromwich-albion-sunderland-afc</th>\n",
       "      <th>west-bromwich-albion-swansea-city</th>\n",
       "      <th>west-bromwich-albion-tottenham-hotspur</th>\n",
       "      <th>west-bromwich-albion-west-ham-united</th>\n",
       "      <th>west-bromwich-albion-wigan-athletic</th>\n",
       "      <th>west-ham-united-arsenal-fc</th>\n",
       "      <th>west-ham-united-aston-villa</th>\n",
       "      <th>west-ham-united-chelsea-fc</th>\n",
       "      <th>west-ham-united-everton-fc</th>\n",
       "      <th>west-ham-united-fulham-fc</th>\n",
       "      <th>west-ham-united-liverpool-fc</th>\n",
       "      <th>west-ham-united-manchester-city</th>\n",
       "      <th>west-ham-united-manchester-united</th>\n",
       "      <th>west-ham-united-newcastle-united</th>\n",
       "      <th>west-ham-united-norwich-city</th>\n",
       "      <th>west-ham-united-queens-park-rangers</th>\n",
       "      <th>west-ham-united-reading-fc</th>\n",
       "      <th>west-ham-united-southampton-fc</th>\n",
       "      <th>west-ham-united-stoke-city</th>\n",
       "      <th>west-ham-united-sunderland-afc</th>\n",
       "      <th>west-ham-united-swansea-city</th>\n",
       "      <th>west-ham-united-tottenham-hotspur</th>\n",
       "      <th>west-ham-united-west-bromwich-albion</th>\n",
       "      <th>west-ham-united-wigan-athletic</th>\n",
       "      <th>wigan-athletic-arsenal-fc</th>\n",
       "      <th>wigan-athletic-aston-villa</th>\n",
       "      <th>wigan-athletic-chelsea-fc</th>\n",
       "      <th>wigan-athletic-everton-fc</th>\n",
       "      <th>wigan-athletic-fulham-fc</th>\n",
       "      <th>wigan-athletic-liverpool-fc</th>\n",
       "      <th>wigan-athletic-manchester-city</th>\n",
       "      <th>wigan-athletic-manchester-united</th>\n",
       "      <th>wigan-athletic-newcastle-united</th>\n",
       "      <th>wigan-athletic-norwich-city</th>\n",
       "      <th>wigan-athletic-queens-park-rangers</th>\n",
       "      <th>wigan-athletic-reading-fc</th>\n",
       "      <th>wigan-athletic-southampton-fc</th>\n",
       "      <th>wigan-athletic-stoke-city</th>\n",
       "      <th>wigan-athletic-sunderland-afc</th>\n",
       "      <th>wigan-athletic-swansea-city</th>\n",
       "      <th>wigan-athletic-tottenham-hotspur</th>\n",
       "      <th>wigan-athletic-west-bromwich-albion</th>\n",
       "      <th>wigan-athletic-west-ham-united</th>\n",
       "    </tr>\n",
       "  </thead>\n",
       "  <tbody>\n",
       "    <tr>\n",
       "      <th>arsenal-fc</th>\n",
       "      <td>1</td>\n",
       "      <td>1</td>\n",
       "      <td>1</td>\n",
       "      <td>1</td>\n",
       "      <td>1</td>\n",
       "      <td>1</td>\n",
       "      <td>1</td>\n",
       "      <td>1</td>\n",
       "      <td>1</td>\n",
       "      <td>1</td>\n",
       "      <td>1</td>\n",
       "      <td>1</td>\n",
       "      <td>1</td>\n",
       "      <td>1</td>\n",
       "      <td>1</td>\n",
       "      <td>1</td>\n",
       "      <td>1</td>\n",
       "      <td>1</td>\n",
       "      <td>1</td>\n",
       "      <td>1</td>\n",
       "      <td>0</td>\n",
       "      <td>0</td>\n",
       "      <td>0</td>\n",
       "      <td>0</td>\n",
       "      <td>0</td>\n",
       "      <td>0</td>\n",
       "      <td>0</td>\n",
       "      <td>0</td>\n",
       "      <td>0</td>\n",
       "      <td>0</td>\n",
       "      <td>0</td>\n",
       "      <td>0</td>\n",
       "      <td>0</td>\n",
       "      <td>0</td>\n",
       "      <td>0</td>\n",
       "      <td>0</td>\n",
       "      <td>0</td>\n",
       "      <td>0</td>\n",
       "      <td>1</td>\n",
       "      <td>0</td>\n",
       "      <td>0</td>\n",
       "      <td>0</td>\n",
       "      <td>0</td>\n",
       "      <td>0</td>\n",
       "      <td>0</td>\n",
       "      <td>0</td>\n",
       "      <td>0</td>\n",
       "      <td>0</td>\n",
       "      <td>0</td>\n",
       "      <td>0</td>\n",
       "      <td>...</td>\n",
       "      <td>0</td>\n",
       "      <td>0</td>\n",
       "      <td>0</td>\n",
       "      <td>0</td>\n",
       "      <td>0</td>\n",
       "      <td>0</td>\n",
       "      <td>0</td>\n",
       "      <td>0</td>\n",
       "      <td>0</td>\n",
       "      <td>0</td>\n",
       "      <td>0</td>\n",
       "      <td>0</td>\n",
       "      <td>1</td>\n",
       "      <td>0</td>\n",
       "      <td>0</td>\n",
       "      <td>0</td>\n",
       "      <td>0</td>\n",
       "      <td>0</td>\n",
       "      <td>0</td>\n",
       "      <td>0</td>\n",
       "      <td>0</td>\n",
       "      <td>0</td>\n",
       "      <td>0</td>\n",
       "      <td>0</td>\n",
       "      <td>0</td>\n",
       "      <td>0</td>\n",
       "      <td>0</td>\n",
       "      <td>0</td>\n",
       "      <td>0</td>\n",
       "      <td>0</td>\n",
       "      <td>0</td>\n",
       "      <td>1</td>\n",
       "      <td>0</td>\n",
       "      <td>0</td>\n",
       "      <td>0</td>\n",
       "      <td>0</td>\n",
       "      <td>0</td>\n",
       "      <td>0</td>\n",
       "      <td>0</td>\n",
       "      <td>0</td>\n",
       "      <td>0</td>\n",
       "      <td>0</td>\n",
       "      <td>0</td>\n",
       "      <td>0</td>\n",
       "      <td>0</td>\n",
       "      <td>0</td>\n",
       "      <td>0</td>\n",
       "      <td>0</td>\n",
       "      <td>0</td>\n",
       "      <td>0</td>\n",
       "    </tr>\n",
       "    <tr>\n",
       "      <th>aston-villa</th>\n",
       "      <td>1</td>\n",
       "      <td>0</td>\n",
       "      <td>0</td>\n",
       "      <td>0</td>\n",
       "      <td>0</td>\n",
       "      <td>0</td>\n",
       "      <td>0</td>\n",
       "      <td>0</td>\n",
       "      <td>0</td>\n",
       "      <td>0</td>\n",
       "      <td>0</td>\n",
       "      <td>0</td>\n",
       "      <td>0</td>\n",
       "      <td>0</td>\n",
       "      <td>0</td>\n",
       "      <td>0</td>\n",
       "      <td>0</td>\n",
       "      <td>0</td>\n",
       "      <td>0</td>\n",
       "      <td>1</td>\n",
       "      <td>1</td>\n",
       "      <td>1</td>\n",
       "      <td>1</td>\n",
       "      <td>1</td>\n",
       "      <td>1</td>\n",
       "      <td>1</td>\n",
       "      <td>1</td>\n",
       "      <td>1</td>\n",
       "      <td>1</td>\n",
       "      <td>1</td>\n",
       "      <td>1</td>\n",
       "      <td>1</td>\n",
       "      <td>1</td>\n",
       "      <td>1</td>\n",
       "      <td>1</td>\n",
       "      <td>1</td>\n",
       "      <td>1</td>\n",
       "      <td>1</td>\n",
       "      <td>0</td>\n",
       "      <td>1</td>\n",
       "      <td>0</td>\n",
       "      <td>0</td>\n",
       "      <td>0</td>\n",
       "      <td>0</td>\n",
       "      <td>0</td>\n",
       "      <td>0</td>\n",
       "      <td>0</td>\n",
       "      <td>0</td>\n",
       "      <td>0</td>\n",
       "      <td>0</td>\n",
       "      <td>...</td>\n",
       "      <td>0</td>\n",
       "      <td>0</td>\n",
       "      <td>0</td>\n",
       "      <td>0</td>\n",
       "      <td>0</td>\n",
       "      <td>0</td>\n",
       "      <td>0</td>\n",
       "      <td>0</td>\n",
       "      <td>0</td>\n",
       "      <td>0</td>\n",
       "      <td>0</td>\n",
       "      <td>0</td>\n",
       "      <td>0</td>\n",
       "      <td>1</td>\n",
       "      <td>0</td>\n",
       "      <td>0</td>\n",
       "      <td>0</td>\n",
       "      <td>0</td>\n",
       "      <td>0</td>\n",
       "      <td>0</td>\n",
       "      <td>0</td>\n",
       "      <td>0</td>\n",
       "      <td>0</td>\n",
       "      <td>0</td>\n",
       "      <td>0</td>\n",
       "      <td>0</td>\n",
       "      <td>0</td>\n",
       "      <td>0</td>\n",
       "      <td>0</td>\n",
       "      <td>0</td>\n",
       "      <td>0</td>\n",
       "      <td>0</td>\n",
       "      <td>1</td>\n",
       "      <td>0</td>\n",
       "      <td>0</td>\n",
       "      <td>0</td>\n",
       "      <td>0</td>\n",
       "      <td>0</td>\n",
       "      <td>0</td>\n",
       "      <td>0</td>\n",
       "      <td>0</td>\n",
       "      <td>0</td>\n",
       "      <td>0</td>\n",
       "      <td>0</td>\n",
       "      <td>0</td>\n",
       "      <td>0</td>\n",
       "      <td>0</td>\n",
       "      <td>0</td>\n",
       "      <td>0</td>\n",
       "      <td>0</td>\n",
       "    </tr>\n",
       "    <tr>\n",
       "      <th>chelsea-fc</th>\n",
       "      <td>0</td>\n",
       "      <td>1</td>\n",
       "      <td>0</td>\n",
       "      <td>0</td>\n",
       "      <td>0</td>\n",
       "      <td>0</td>\n",
       "      <td>0</td>\n",
       "      <td>0</td>\n",
       "      <td>0</td>\n",
       "      <td>0</td>\n",
       "      <td>0</td>\n",
       "      <td>0</td>\n",
       "      <td>0</td>\n",
       "      <td>0</td>\n",
       "      <td>0</td>\n",
       "      <td>0</td>\n",
       "      <td>0</td>\n",
       "      <td>0</td>\n",
       "      <td>0</td>\n",
       "      <td>0</td>\n",
       "      <td>1</td>\n",
       "      <td>0</td>\n",
       "      <td>0</td>\n",
       "      <td>0</td>\n",
       "      <td>0</td>\n",
       "      <td>0</td>\n",
       "      <td>0</td>\n",
       "      <td>0</td>\n",
       "      <td>0</td>\n",
       "      <td>0</td>\n",
       "      <td>0</td>\n",
       "      <td>0</td>\n",
       "      <td>0</td>\n",
       "      <td>0</td>\n",
       "      <td>0</td>\n",
       "      <td>0</td>\n",
       "      <td>0</td>\n",
       "      <td>0</td>\n",
       "      <td>1</td>\n",
       "      <td>1</td>\n",
       "      <td>1</td>\n",
       "      <td>1</td>\n",
       "      <td>1</td>\n",
       "      <td>1</td>\n",
       "      <td>1</td>\n",
       "      <td>1</td>\n",
       "      <td>1</td>\n",
       "      <td>1</td>\n",
       "      <td>1</td>\n",
       "      <td>1</td>\n",
       "      <td>...</td>\n",
       "      <td>0</td>\n",
       "      <td>0</td>\n",
       "      <td>0</td>\n",
       "      <td>0</td>\n",
       "      <td>0</td>\n",
       "      <td>0</td>\n",
       "      <td>0</td>\n",
       "      <td>0</td>\n",
       "      <td>0</td>\n",
       "      <td>0</td>\n",
       "      <td>0</td>\n",
       "      <td>0</td>\n",
       "      <td>0</td>\n",
       "      <td>0</td>\n",
       "      <td>1</td>\n",
       "      <td>0</td>\n",
       "      <td>0</td>\n",
       "      <td>0</td>\n",
       "      <td>0</td>\n",
       "      <td>0</td>\n",
       "      <td>0</td>\n",
       "      <td>0</td>\n",
       "      <td>0</td>\n",
       "      <td>0</td>\n",
       "      <td>0</td>\n",
       "      <td>0</td>\n",
       "      <td>0</td>\n",
       "      <td>0</td>\n",
       "      <td>0</td>\n",
       "      <td>0</td>\n",
       "      <td>0</td>\n",
       "      <td>0</td>\n",
       "      <td>0</td>\n",
       "      <td>1</td>\n",
       "      <td>0</td>\n",
       "      <td>0</td>\n",
       "      <td>0</td>\n",
       "      <td>0</td>\n",
       "      <td>0</td>\n",
       "      <td>0</td>\n",
       "      <td>0</td>\n",
       "      <td>0</td>\n",
       "      <td>0</td>\n",
       "      <td>0</td>\n",
       "      <td>0</td>\n",
       "      <td>0</td>\n",
       "      <td>0</td>\n",
       "      <td>0</td>\n",
       "      <td>0</td>\n",
       "      <td>0</td>\n",
       "    </tr>\n",
       "    <tr>\n",
       "      <th>everton-fc</th>\n",
       "      <td>0</td>\n",
       "      <td>0</td>\n",
       "      <td>1</td>\n",
       "      <td>0</td>\n",
       "      <td>0</td>\n",
       "      <td>0</td>\n",
       "      <td>0</td>\n",
       "      <td>0</td>\n",
       "      <td>0</td>\n",
       "      <td>0</td>\n",
       "      <td>0</td>\n",
       "      <td>0</td>\n",
       "      <td>0</td>\n",
       "      <td>0</td>\n",
       "      <td>0</td>\n",
       "      <td>0</td>\n",
       "      <td>0</td>\n",
       "      <td>0</td>\n",
       "      <td>0</td>\n",
       "      <td>0</td>\n",
       "      <td>0</td>\n",
       "      <td>1</td>\n",
       "      <td>0</td>\n",
       "      <td>0</td>\n",
       "      <td>0</td>\n",
       "      <td>0</td>\n",
       "      <td>0</td>\n",
       "      <td>0</td>\n",
       "      <td>0</td>\n",
       "      <td>0</td>\n",
       "      <td>0</td>\n",
       "      <td>0</td>\n",
       "      <td>0</td>\n",
       "      <td>0</td>\n",
       "      <td>0</td>\n",
       "      <td>0</td>\n",
       "      <td>0</td>\n",
       "      <td>0</td>\n",
       "      <td>0</td>\n",
       "      <td>0</td>\n",
       "      <td>1</td>\n",
       "      <td>0</td>\n",
       "      <td>0</td>\n",
       "      <td>0</td>\n",
       "      <td>0</td>\n",
       "      <td>0</td>\n",
       "      <td>0</td>\n",
       "      <td>0</td>\n",
       "      <td>0</td>\n",
       "      <td>0</td>\n",
       "      <td>...</td>\n",
       "      <td>0</td>\n",
       "      <td>0</td>\n",
       "      <td>0</td>\n",
       "      <td>0</td>\n",
       "      <td>0</td>\n",
       "      <td>0</td>\n",
       "      <td>0</td>\n",
       "      <td>0</td>\n",
       "      <td>0</td>\n",
       "      <td>0</td>\n",
       "      <td>0</td>\n",
       "      <td>0</td>\n",
       "      <td>0</td>\n",
       "      <td>0</td>\n",
       "      <td>0</td>\n",
       "      <td>1</td>\n",
       "      <td>0</td>\n",
       "      <td>0</td>\n",
       "      <td>0</td>\n",
       "      <td>0</td>\n",
       "      <td>0</td>\n",
       "      <td>0</td>\n",
       "      <td>0</td>\n",
       "      <td>0</td>\n",
       "      <td>0</td>\n",
       "      <td>0</td>\n",
       "      <td>0</td>\n",
       "      <td>0</td>\n",
       "      <td>0</td>\n",
       "      <td>0</td>\n",
       "      <td>0</td>\n",
       "      <td>0</td>\n",
       "      <td>0</td>\n",
       "      <td>0</td>\n",
       "      <td>1</td>\n",
       "      <td>0</td>\n",
       "      <td>0</td>\n",
       "      <td>0</td>\n",
       "      <td>0</td>\n",
       "      <td>0</td>\n",
       "      <td>0</td>\n",
       "      <td>0</td>\n",
       "      <td>0</td>\n",
       "      <td>0</td>\n",
       "      <td>0</td>\n",
       "      <td>0</td>\n",
       "      <td>0</td>\n",
       "      <td>0</td>\n",
       "      <td>0</td>\n",
       "      <td>0</td>\n",
       "    </tr>\n",
       "    <tr>\n",
       "      <th>fulham-fc</th>\n",
       "      <td>0</td>\n",
       "      <td>0</td>\n",
       "      <td>0</td>\n",
       "      <td>1</td>\n",
       "      <td>0</td>\n",
       "      <td>0</td>\n",
       "      <td>0</td>\n",
       "      <td>0</td>\n",
       "      <td>0</td>\n",
       "      <td>0</td>\n",
       "      <td>0</td>\n",
       "      <td>0</td>\n",
       "      <td>0</td>\n",
       "      <td>0</td>\n",
       "      <td>0</td>\n",
       "      <td>0</td>\n",
       "      <td>0</td>\n",
       "      <td>0</td>\n",
       "      <td>0</td>\n",
       "      <td>0</td>\n",
       "      <td>0</td>\n",
       "      <td>0</td>\n",
       "      <td>1</td>\n",
       "      <td>0</td>\n",
       "      <td>0</td>\n",
       "      <td>0</td>\n",
       "      <td>0</td>\n",
       "      <td>0</td>\n",
       "      <td>0</td>\n",
       "      <td>0</td>\n",
       "      <td>0</td>\n",
       "      <td>0</td>\n",
       "      <td>0</td>\n",
       "      <td>0</td>\n",
       "      <td>0</td>\n",
       "      <td>0</td>\n",
       "      <td>0</td>\n",
       "      <td>0</td>\n",
       "      <td>0</td>\n",
       "      <td>0</td>\n",
       "      <td>0</td>\n",
       "      <td>1</td>\n",
       "      <td>0</td>\n",
       "      <td>0</td>\n",
       "      <td>0</td>\n",
       "      <td>0</td>\n",
       "      <td>0</td>\n",
       "      <td>0</td>\n",
       "      <td>0</td>\n",
       "      <td>0</td>\n",
       "      <td>...</td>\n",
       "      <td>0</td>\n",
       "      <td>0</td>\n",
       "      <td>0</td>\n",
       "      <td>0</td>\n",
       "      <td>0</td>\n",
       "      <td>0</td>\n",
       "      <td>0</td>\n",
       "      <td>0</td>\n",
       "      <td>0</td>\n",
       "      <td>0</td>\n",
       "      <td>0</td>\n",
       "      <td>0</td>\n",
       "      <td>0</td>\n",
       "      <td>0</td>\n",
       "      <td>0</td>\n",
       "      <td>0</td>\n",
       "      <td>1</td>\n",
       "      <td>0</td>\n",
       "      <td>0</td>\n",
       "      <td>0</td>\n",
       "      <td>0</td>\n",
       "      <td>0</td>\n",
       "      <td>0</td>\n",
       "      <td>0</td>\n",
       "      <td>0</td>\n",
       "      <td>0</td>\n",
       "      <td>0</td>\n",
       "      <td>0</td>\n",
       "      <td>0</td>\n",
       "      <td>0</td>\n",
       "      <td>0</td>\n",
       "      <td>0</td>\n",
       "      <td>0</td>\n",
       "      <td>0</td>\n",
       "      <td>0</td>\n",
       "      <td>1</td>\n",
       "      <td>0</td>\n",
       "      <td>0</td>\n",
       "      <td>0</td>\n",
       "      <td>0</td>\n",
       "      <td>0</td>\n",
       "      <td>0</td>\n",
       "      <td>0</td>\n",
       "      <td>0</td>\n",
       "      <td>0</td>\n",
       "      <td>0</td>\n",
       "      <td>0</td>\n",
       "      <td>0</td>\n",
       "      <td>0</td>\n",
       "      <td>0</td>\n",
       "    </tr>\n",
       "  </tbody>\n",
       "</table>\n",
       "<p>5 rows × 380 columns</p>\n",
       "</div>"
      ],
      "text/plain": [
       "             arsenal-fc-aston-villa  arsenal-fc-chelsea-fc  arsenal-fc-everton-fc  arsenal-fc-fulham-fc  arsenal-fc-liverpool-fc  arsenal-fc-manchester-city  arsenal-fc-manchester-united  arsenal-fc-newcastle-united  arsenal-fc-norwich-city  arsenal-fc-queens-park-rangers  arsenal-fc-reading-fc  arsenal-fc-southampton-fc  arsenal-fc-stoke-city  arsenal-fc-sunderland-afc  arsenal-fc-swansea-city  arsenal-fc-tottenham-hotspur  arsenal-fc-west-bromwich-albion  arsenal-fc-west-ham-united  \\\n",
       "arsenal-fc                        1                      1                      1                     1                        1                           1                             1                            1                        1                               1                      1                          1                      1                          1                        1                             1                                1                           1   \n",
       "aston-villa                       1                      0                      0                     0                        0                           0                             0                            0                        0                               0                      0                          0                      0                          0                        0                             0                                0                           0   \n",
       "chelsea-fc                        0                      1                      0                     0                        0                           0                             0                            0                        0                               0                      0                          0                      0                          0                        0                             0                                0                           0   \n",
       "everton-fc                        0                      0                      1                     0                        0                           0                             0                            0                        0                               0                      0                          0                      0                          0                        0                             0                                0                           0   \n",
       "fulham-fc                         0                      0                      0                     1                        0                           0                             0                            0                        0                               0                      0                          0                      0                          0                        0                             0                                0                           0   \n",
       "\n",
       "             arsenal-fc-wigan-athletic  aston-villa-arsenal-fc  aston-villa-chelsea-fc  aston-villa-everton-fc  aston-villa-fulham-fc  aston-villa-liverpool-fc  aston-villa-manchester-city  aston-villa-manchester-united  aston-villa-newcastle-united  aston-villa-norwich-city  aston-villa-queens-park-rangers  aston-villa-reading-fc  aston-villa-southampton-fc  aston-villa-stoke-city  aston-villa-sunderland-afc  aston-villa-swansea-city  aston-villa-tottenham-hotspur  \\\n",
       "arsenal-fc                           1                       1                       0                       0                      0                         0                            0                              0                             0                         0                                0                       0                           0                       0                           0                         0                              0   \n",
       "aston-villa                          0                       1                       1                       1                      1                         1                            1                              1                             1                         1                                1                       1                           1                       1                           1                         1                              1   \n",
       "chelsea-fc                           0                       0                       1                       0                      0                         0                            0                              0                             0                         0                                0                       0                           0                       0                           0                         0                              0   \n",
       "everton-fc                           0                       0                       0                       1                      0                         0                            0                              0                             0                         0                                0                       0                           0                       0                           0                         0                              0   \n",
       "fulham-fc                            0                       0                       0                       0                      1                         0                            0                              0                             0                         0                                0                       0                           0                       0                           0                         0                              0   \n",
       "\n",
       "             aston-villa-west-bromwich-albion  aston-villa-west-ham-united  aston-villa-wigan-athletic  chelsea-fc-arsenal-fc  chelsea-fc-aston-villa  chelsea-fc-everton-fc  chelsea-fc-fulham-fc  chelsea-fc-liverpool-fc  chelsea-fc-manchester-city  chelsea-fc-manchester-united  chelsea-fc-newcastle-united  chelsea-fc-norwich-city  chelsea-fc-queens-park-rangers  chelsea-fc-reading-fc  chelsea-fc-southampton-fc               ...                west-bromwich-albion-manchester-united  \\\n",
       "arsenal-fc                                  0                            0                           0                      1                       0                      0                     0                        0                           0                             0                            0                        0                               0                      0                          0               ...                                                     0   \n",
       "aston-villa                                 1                            1                           1                      0                       1                      0                     0                        0                           0                             0                            0                        0                               0                      0                          0               ...                                                     0   \n",
       "chelsea-fc                                  0                            0                           0                      1                       1                      1                     1                        1                           1                             1                            1                        1                               1                      1                          1               ...                                                     0   \n",
       "everton-fc                                  0                            0                           0                      0                       0                      1                     0                        0                           0                             0                            0                        0                               0                      0                          0               ...                                                     0   \n",
       "fulham-fc                                   0                            0                           0                      0                       0                      0                     1                        0                           0                             0                            0                        0                               0                      0                          0               ...                                                     0   \n",
       "\n",
       "             west-bromwich-albion-newcastle-united  west-bromwich-albion-norwich-city  west-bromwich-albion-queens-park-rangers  west-bromwich-albion-reading-fc  west-bromwich-albion-southampton-fc  west-bromwich-albion-stoke-city  west-bromwich-albion-sunderland-afc  west-bromwich-albion-swansea-city  west-bromwich-albion-tottenham-hotspur  west-bromwich-albion-west-ham-united  west-bromwich-albion-wigan-athletic  west-ham-united-arsenal-fc  west-ham-united-aston-villa  \\\n",
       "arsenal-fc                                       0                                  0                                         0                                0                                    0                                0                                    0                                  0                                       0                                     0                                    0                           1                            0   \n",
       "aston-villa                                      0                                  0                                         0                                0                                    0                                0                                    0                                  0                                       0                                     0                                    0                           0                            1   \n",
       "chelsea-fc                                       0                                  0                                         0                                0                                    0                                0                                    0                                  0                                       0                                     0                                    0                           0                            0   \n",
       "everton-fc                                       0                                  0                                         0                                0                                    0                                0                                    0                                  0                                       0                                     0                                    0                           0                            0   \n",
       "fulham-fc                                        0                                  0                                         0                                0                                    0                                0                                    0                                  0                                       0                                     0                                    0                           0                            0   \n",
       "\n",
       "             west-ham-united-chelsea-fc  west-ham-united-everton-fc  west-ham-united-fulham-fc  west-ham-united-liverpool-fc  west-ham-united-manchester-city  west-ham-united-manchester-united  west-ham-united-newcastle-united  west-ham-united-norwich-city  west-ham-united-queens-park-rangers  west-ham-united-reading-fc  west-ham-united-southampton-fc  west-ham-united-stoke-city  west-ham-united-sunderland-afc  west-ham-united-swansea-city  west-ham-united-tottenham-hotspur  \\\n",
       "arsenal-fc                            0                           0                          0                             0                                0                                  0                                 0                             0                                    0                           0                               0                           0                               0                             0                                  0   \n",
       "aston-villa                           0                           0                          0                             0                                0                                  0                                 0                             0                                    0                           0                               0                           0                               0                             0                                  0   \n",
       "chelsea-fc                            1                           0                          0                             0                                0                                  0                                 0                             0                                    0                           0                               0                           0                               0                             0                                  0   \n",
       "everton-fc                            0                           1                          0                             0                                0                                  0                                 0                             0                                    0                           0                               0                           0                               0                             0                                  0   \n",
       "fulham-fc                             0                           0                          1                             0                                0                                  0                                 0                             0                                    0                           0                               0                           0                               0                             0                                  0   \n",
       "\n",
       "             west-ham-united-west-bromwich-albion  west-ham-united-wigan-athletic  wigan-athletic-arsenal-fc  wigan-athletic-aston-villa  wigan-athletic-chelsea-fc  wigan-athletic-everton-fc  wigan-athletic-fulham-fc  wigan-athletic-liverpool-fc  wigan-athletic-manchester-city  wigan-athletic-manchester-united  wigan-athletic-newcastle-united  wigan-athletic-norwich-city  wigan-athletic-queens-park-rangers  wigan-athletic-reading-fc  wigan-athletic-southampton-fc  wigan-athletic-stoke-city  \\\n",
       "arsenal-fc                                      0                               0                          1                           0                          0                          0                         0                            0                               0                                 0                                0                            0                                   0                          0                              0                          0   \n",
       "aston-villa                                     0                               0                          0                           1                          0                          0                         0                            0                               0                                 0                                0                            0                                   0                          0                              0                          0   \n",
       "chelsea-fc                                      0                               0                          0                           0                          1                          0                         0                            0                               0                                 0                                0                            0                                   0                          0                              0                          0   \n",
       "everton-fc                                      0                               0                          0                           0                          0                          1                         0                            0                               0                                 0                                0                            0                                   0                          0                              0                          0   \n",
       "fulham-fc                                       0                               0                          0                           0                          0                          0                         1                            0                               0                                 0                                0                            0                                   0                          0                              0                          0   \n",
       "\n",
       "             wigan-athletic-sunderland-afc  wigan-athletic-swansea-city  wigan-athletic-tottenham-hotspur  wigan-athletic-west-bromwich-albion  wigan-athletic-west-ham-united  \n",
       "arsenal-fc                               0                            0                                 0                                    0                               0  \n",
       "aston-villa                              0                            0                                 0                                    0                               0  \n",
       "chelsea-fc                               0                            0                                 0                                    0                               0  \n",
       "everton-fc                               0                            0                                 0                                    0                               0  \n",
       "fulham-fc                                0                            0                                 0                                    0                               0  \n",
       "\n",
       "[5 rows x 380 columns]"
      ]
     },
     "execution_count": 523,
     "metadata": {},
     "output_type": "execute_result"
    }
   ],
   "source": [
    "team_df.head()"
   ]
  },
  {
   "cell_type": "code",
   "execution_count": 525,
   "metadata": {
    "collapsed": true
   },
   "outputs": [],
   "source": [
    "big_df = pd.concat([DF,team_df])"
   ]
  },
  {
   "cell_type": "code",
   "execution_count": 527,
   "metadata": {
    "collapsed": true
   },
   "outputs": [],
   "source": [
    "big_df_firsthalf = big_df[big_df.columns[firsthalf]]\n",
    "big_df_secondhalf = big_df[big_df.columns[secondhalf]]\n",
    "train = big_df_firsthalf[big_df_firsthalf.columns[big_df_firsthalf.loc['day']>1]]\n",
    "y = train.loc['score'].copy()\n",
    "X = train.iloc[[1,2,3,4,6,7,9,10,11,13,14,15,16,17,18,19,20,21,22,23,24,25,26,27,28,29,30,31,32],:].T\n",
    "test = big_df_secondhalf.iloc[[1,2,3,4,6,7,9,10,11,13,14,15,16,17,18,19,20,21,22,23,24,25,26,27,28,29,30,31,32],:].T\n",
    "y_test = big_df_secondhalf.loc['score'].copy()"
   ]
  },
  {
   "cell_type": "code",
   "execution_count": 535,
   "metadata": {
    "collapsed": false
   },
   "outputs": [
    {
     "name": "stdout",
     "output_type": "stream",
     "text": [
      "[[16 18 24]\n",
      " [ 9 22 19]\n",
      " [11 24 47]]\n",
      "0.447368421053\n"
     ]
    }
   ],
   "source": [
    "clf = RandomForestClassifier(n_estimators=10,bal)\n",
    "clf.fit(X,y)\n",
    "\n",
    "RFC_pred = clf.predict(test).astype(int)\n",
    "RFC_mat = confusion_matrix(y_test.astype(int),RFC_pred)\n",
    "\n",
    "print RFC_mat\n",
    "\n",
    "RFC_score = float(RFC_mat[0,0]+RFC_mat[1,1]+RFC_mat[2,2])/np.sum(RFC_mat)\n",
    "print RFC_score"
   ]
  },
  {
   "cell_type": "code",
   "execution_count": 580,
   "metadata": {
    "collapsed": true
   },
   "outputs": [],
   "source": [
    "y = train.loc['score'].copy()\n",
    "y_test = big_df_secondhalf.loc['score'].copy()\n",
    "y[y>-1]= 1\n",
    "y[y==-1] = 0\n",
    "y_test[y_test>-1]= 1\n",
    "y_test[y_test==-1] = 0"
   ]
  },
  {
   "cell_type": "code",
   "execution_count": 714,
   "metadata": {
    "collapsed": false
   },
   "outputs": [
    {
     "name": "stdout",
     "output_type": "stream",
     "text": [
      "[[  5  53]\n",
      " [  3 129]]\n",
      "0.705263157895\n"
     ]
    }
   ],
   "source": [
    "clf = RandomForestClassifier(n_estimators=100,class_weight='auto')\n",
    "clf.fit(X,y)\n",
    "\n",
    "RFC_pred = clf.predict(test).astype(int)\n",
    "RFC_mat = confusion_matrix(y_test.astype(int),RFC_pred)\n",
    "\n",
    "print RFC_mat\n",
    "\n",
    "RFC_score = float(RFC_mat[0,0]+RFC_mat[1,1])/np.sum(RFC_mat)\n",
    "print RFC_score"
   ]
  },
  {
   "cell_type": "code",
   "execution_count": 716,
   "metadata": {
    "collapsed": false
   },
   "outputs": [
    {
     "ename": "TypeError",
     "evalue": "list indices must be integers, not Series",
     "output_type": "error",
     "traceback": [
      "\u001b[0;31m---------------------------------------------------------------------------\u001b[0m",
      "\u001b[0;31mTypeError\u001b[0m                                 Traceback (most recent call last)",
      "\u001b[0;32m<ipython-input-716-0caafb2f7e5b>\u001b[0m in \u001b[0;36m<module>\u001b[0;34m()\u001b[0m\n\u001b[0;32m----> 1\u001b[0;31m \u001b[0mrange\u001b[0m\u001b[0;34m(\u001b[0m\u001b[0;36m180\u001b[0m\u001b[0;34m)\u001b[0m\u001b[0;34m[\u001b[0m\u001b[0my\u001b[0m\u001b[0;34m==\u001b[0m\u001b[0;36m1\u001b[0m\u001b[0;34m]\u001b[0m\u001b[0;34m\u001b[0m\u001b[0m\n\u001b[0m",
      "\u001b[0;31mTypeError\u001b[0m: list indices must be integers, not Series"
     ]
    }
   ],
   "source": [
    "range(180)[y==1]"
   ]
  },
  {
   "cell_type": "code",
   "execution_count": 715,
   "metadata": {
    "collapsed": false
   },
   "outputs": [
    {
     "data": {
      "text/plain": [
       "180"
      ]
     },
     "execution_count": 715,
     "metadata": {},
     "output_type": "execute_result"
    }
   ],
   "source": [
    "len(y)"
   ]
  },
  {
   "cell_type": "code",
   "execution_count": null,
   "metadata": {
    "collapsed": true
   },
   "outputs": [],
   "source": []
  }
 ],
 "metadata": {
  "kernelspec": {
   "display_name": "Python 2",
   "language": "python",
   "name": "python2"
  },
  "language_info": {
   "codemirror_mode": {
    "name": "ipython",
    "version": 2
   },
   "file_extension": ".py",
   "mimetype": "text/x-python",
   "name": "python",
   "nbconvert_exporter": "python",
   "pygments_lexer": "ipython2",
   "version": "2.7.10"
  }
 },
 "nbformat": 4,
 "nbformat_minor": 0
}
