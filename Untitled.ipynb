{
 "cells": [
  {
   "cell_type": "code",
   "execution_count": null,
   "metadata": {
    "collapsed": true
   },
   "outputs": [],
   "source": [
    "def summary(page):\n",
    "    home = []\n",
    "    away = []\n",
    "    score = 0\n",
    "    \n",
    "    #Checking if the score was 0-0 as there won't be any scorers to scrape\n",
    "    \n",
    "    #Getting the score:\n",
    "    finalscore = page.find_all(\"table\",attrs={'class': \"standard_tabelle\",'cellpadding': '3'})[0]\n",
    "    finalscore = map(int,re.findall(r'\\b\\d+\\b',finalscore.find(\"div\",attrs={'class':\"resultat\"}).get_text()))\n",
    "    \n",
    "    #Return dictionary with empyt home and away scorer lists:\n",
    "    if np.sum(finalscore)==0:\n",
    "        return dict([('home',[]),('away',[])])\n",
    "    \n",
    "    else:\n",
    "        for td in page.find_all(\"table\",attrs={'class': \"standard_tabelle\",'cellpadding': '3'})[1].find_all('td'):\n",
    "            #Not considering the Goals heading of the table:\n",
    "            if td.has_attr('align'):\n",
    "                continue\n",
    "                \n",
    "            #Getting the home scorers:   \n",
    "            elif td.has_attr('class') and (not td.has_attr('style')):\n",
    "                #Update the score\n",
    "                score += 1\n",
    "                text = td.get_text()\n",
    "                ga = td.find_all(\"a\")\n",
    "                \n",
    "                #Checking if there is a player assisting on the goal:\n",
    "                if len(ga)>1:\n",
    "                    sc = ga[0].get_text()\n",
    "                    assis = ga[1].get_text()\n",
    "                    home.append((sc,assis,map(int,re.findall(r'\\b\\d+\\b', text))[0],score))\n",
    "                    \n",
    "                #If no assist:\n",
    "                else:\n",
    "                    sc = ga[0].get_text()\n",
    "                    home.append((sc,map(int,re.findall(r'\\b\\d+\\b', text))[0],score))\n",
    "        \n",
    "            elif td.has_attr('class') and td.has_attr('style'):\n",
    "                #Update the score\n",
    "                score -= 1\n",
    "                text = td.get_text()\n",
    "                ga = td.find_all(\"a\")\n",
    "                \n",
    "                #Checking if there is a player assisting on the goal:\n",
    "                if len(ga)>1:\n",
    "                    sc = ga[0].get_text()\n",
    "                    assis = ga[1].get_text()\n",
    "                    #Note we return -score to account for the fact that if the away team scores the tie breaker goal, we still output +1:\n",
    "                    away.append((sc,assis,map(int,re.findall(r'\\b\\d+\\b', text))[0],-score))\n",
    "                    \n",
    "                #If no assist:\n",
    "                else:\n",
    "                    sc = ga[0].get_text()\n",
    "                    #Same remark\n",
    "                    away.append((sc,map(int,re.findall(r'\\b\\d+\\b', text))[0],-score))\n",
    "            \n",
    "            else:\n",
    "                continue\n",
    "        \n",
    "        return dict([('home',home),('away',away)])"
   ]
  }
 ],
 "metadata": {
  "kernelspec": {
   "display_name": "Python 2",
   "language": "python",
   "name": "python2"
  },
  "language_info": {
   "codemirror_mode": {
    "name": "ipython",
    "version": 2
   },
   "file_extension": ".py",
   "mimetype": "text/x-python",
   "name": "python",
   "nbconvert_exporter": "python",
   "pygments_lexer": "ipython2",
   "version": "2.7.10"
  }
 },
 "nbformat": 4,
 "nbformat_minor": 0
}
