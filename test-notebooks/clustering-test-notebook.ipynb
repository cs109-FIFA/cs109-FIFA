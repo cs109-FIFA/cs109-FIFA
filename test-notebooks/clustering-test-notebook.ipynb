{
 "cells": [
  {
   "cell_type": "code",
   "execution_count": 54,
   "metadata": {
    "collapsed": false
   },
   "outputs": [],
   "source": [
    "import pandas as pd\n",
    "import numpy as np\n",
    "import itertools\n",
    "import sklearn.cluster as skc\n",
    "import matplotlib.pyplot as plt\n",
    "%matplotlib inline"
   ]
  },
  {
   "cell_type": "code",
   "execution_count": 2,
   "metadata": {
    "collapsed": true
   },
   "outputs": [],
   "source": [
    "combined12 = pd.read_pickle('../combined13-14.pkl')\n",
    "features12 = pd.read_pickle('../features13-14.pkl')"
   ]
  },
  {
   "cell_type": "code",
   "execution_count": 3,
   "metadata": {
    "collapsed": false
   },
   "outputs": [],
   "source": [
    "tr_features12 = features12.transpose()"
   ]
  },
  {
   "cell_type": "code",
   "execution_count": 4,
   "metadata": {
    "collapsed": false
   },
   "outputs": [
    {
     "data": {
      "text/plain": [
       "Index([u'avg_value', u'avg_value_smoothed', u'cum_value_list',\n",
       "       u'match_value_list', u'nassists', u'naway_assists', u'naway_goals',\n",
       "       u'nearly_assists', u'nearly_goals', u'nequalizer_assists',\n",
       "       u'nequalizer_goals', u'ngoals', u'nhome_assists', u'nhome_goals',\n",
       "       u'nlate_assists', u'nlate_goals', u'nmid_assists', u'nmid_goals',\n",
       "       u'nsub_assists', u'nsub_goals', u'ntiebreaker_assists',\n",
       "       u'ntiebreaker_goals', u'season_value', u'smoothed_value_list'],\n",
       "      dtype='object')"
      ]
     },
     "execution_count": 4,
     "metadata": {},
     "output_type": "execute_result"
    }
   ],
   "source": [
    "tr_features12.columns"
   ]
  },
  {
   "cell_type": "code",
   "execution_count": 5,
   "metadata": {
    "collapsed": false
   },
   "outputs": [],
   "source": [
    "#Splitting the smoothed_value_list into 38 new columns\n",
    "split_fn = lambda x: pd.Series([i for i in x])\n",
    "tr_features12_sm = tr_features12['smoothed_value_list'].apply(split_fn)"
   ]
  },
  {
   "cell_type": "code",
   "execution_count": 6,
   "metadata": {
    "collapsed": true
   },
   "outputs": [],
   "source": [
    "#Splitting the cum_value_list into 38 new columns\n",
    "tr_features12_cm = tr_features12['cum_value_list'].apply(split_fn)"
   ]
  },
  {
   "cell_type": "code",
   "execution_count": 7,
   "metadata": {
    "collapsed": false
   },
   "outputs": [],
   "source": [
    "#Generating column names for the new dataframe\n",
    "col_names_sm = []\n",
    "col_names_cm = []\n",
    "for i in range(38):\n",
    "    col_names_sm.append('smooth_value_week_'+str(i+1))\n",
    "    col_names_cm.append('cuml_value_week_'+str(i+1))"
   ]
  },
  {
   "cell_type": "code",
   "execution_count": 8,
   "metadata": {
    "collapsed": false
   },
   "outputs": [],
   "source": [
    "#Setting the column names for the new dataframe\n",
    "tr_features12_sm.columns = col_names_sm\n",
    "tr_features12_cm.columns = col_names_cm"
   ]
  },
  {
   "cell_type": "code",
   "execution_count": 9,
   "metadata": {
    "collapsed": false
   },
   "outputs": [],
   "source": [
    "#Concatenating the two dataframes\n",
    "df_features12 = pd.concat([tr_features12,tr_features12_sm,tr_features12_cm],axis=1)"
   ]
  },
  {
   "cell_type": "code",
   "execution_count": 10,
   "metadata": {
    "collapsed": false
   },
   "outputs": [],
   "source": [
    "#Selecting columns to be clustered\n",
    "columns_cluster = [[u'avg_value'], [u'avg_value_smoothed'],\n",
    "        [u'nassists'], [u'naway_assists'], [u'naway_goals'],\n",
    "        [u'nearly_assists'], [u'nearly_goals'], [u'nequalizer_assists'],\n",
    "        [u'nequalizer_goals'], [u'ngoals'], [u'nhome_assists'], [u'nhome_goals'],\n",
    "        [u'nlate_assists'], [u'nlate_goals'], [u'nmid_assists'], [u'nmid_goals'],\n",
    "        [u'nsub_assists'], [u'nsub_goals'], [u'ntiebreaker_assists'],\n",
    "        [u'ntiebreaker_goals'], [u'season_value'],col_names_sm, col_names_cm]\n",
    "columns_cluster = list(itertools.chain(*columns_cluster))"
   ]
  },
  {
   "cell_type": "code",
   "execution_count": 11,
   "metadata": {
    "collapsed": false
   },
   "outputs": [],
   "source": [
    "#Creating a new dataframe to be used for clustering\n",
    "df_clustering = df_features12[columns_cluster]"
   ]
  },
  {
   "cell_type": "code",
   "execution_count": 12,
   "metadata": {
    "collapsed": false
   },
   "outputs": [
    {
     "data": {
      "text/html": [
       "<div>\n",
       "<table border=\"1\" class=\"dataframe\">\n",
       "  <thead>\n",
       "    <tr style=\"text-align: right;\">\n",
       "      <th></th>\n",
       "      <th>avg_value</th>\n",
       "      <th>avg_value_smoothed</th>\n",
       "      <th>nassists</th>\n",
       "      <th>naway_assists</th>\n",
       "      <th>naway_goals</th>\n",
       "      <th>nearly_assists</th>\n",
       "      <th>nearly_goals</th>\n",
       "      <th>nequalizer_assists</th>\n",
       "      <th>nequalizer_goals</th>\n",
       "      <th>ngoals</th>\n",
       "      <th>...</th>\n",
       "      <th>cuml_value_week_29</th>\n",
       "      <th>cuml_value_week_30</th>\n",
       "      <th>cuml_value_week_31</th>\n",
       "      <th>cuml_value_week_32</th>\n",
       "      <th>cuml_value_week_33</th>\n",
       "      <th>cuml_value_week_34</th>\n",
       "      <th>cuml_value_week_35</th>\n",
       "      <th>cuml_value_week_36</th>\n",
       "      <th>cuml_value_week_37</th>\n",
       "      <th>cuml_value_week_38</th>\n",
       "    </tr>\n",
       "  </thead>\n",
       "  <tbody>\n",
       "    <tr>\n",
       "      <th>Aaron Hughes</th>\n",
       "      <td>0</td>\n",
       "      <td>0</td>\n",
       "      <td>0</td>\n",
       "      <td>0</td>\n",
       "      <td>0</td>\n",
       "      <td>0</td>\n",
       "      <td>0</td>\n",
       "      <td>0</td>\n",
       "      <td>0</td>\n",
       "      <td>0</td>\n",
       "      <td>...</td>\n",
       "      <td>0.0000</td>\n",
       "      <td>0.0000</td>\n",
       "      <td>0.0000</td>\n",
       "      <td>0.0000</td>\n",
       "      <td>0.0000</td>\n",
       "      <td>0.000</td>\n",
       "      <td>0.0000</td>\n",
       "      <td>0.0000</td>\n",
       "      <td>0.0000</td>\n",
       "      <td>0.0000</td>\n",
       "    </tr>\n",
       "    <tr>\n",
       "      <th>Aaron Hunt</th>\n",
       "      <td>0.8835526</td>\n",
       "      <td>0.8835526</td>\n",
       "      <td>7</td>\n",
       "      <td>4</td>\n",
       "      <td>3</td>\n",
       "      <td>2</td>\n",
       "      <td>0</td>\n",
       "      <td>1</td>\n",
       "      <td>3</td>\n",
       "      <td>7</td>\n",
       "      <td>...</td>\n",
       "      <td>20.2125</td>\n",
       "      <td>20.2125</td>\n",
       "      <td>22.9625</td>\n",
       "      <td>26.4125</td>\n",
       "      <td>30.4125</td>\n",
       "      <td>33.575</td>\n",
       "      <td>33.5750</td>\n",
       "      <td>33.5750</td>\n",
       "      <td>33.5750</td>\n",
       "      <td>33.5750</td>\n",
       "    </tr>\n",
       "    <tr>\n",
       "      <th>Aaron Lennon</th>\n",
       "      <td>0.1638158</td>\n",
       "      <td>0.1493421</td>\n",
       "      <td>4</td>\n",
       "      <td>2</td>\n",
       "      <td>0</td>\n",
       "      <td>0</td>\n",
       "      <td>0</td>\n",
       "      <td>0</td>\n",
       "      <td>0</td>\n",
       "      <td>1</td>\n",
       "      <td>...</td>\n",
       "      <td>2.6125</td>\n",
       "      <td>2.6125</td>\n",
       "      <td>2.6125</td>\n",
       "      <td>2.6125</td>\n",
       "      <td>2.6125</td>\n",
       "      <td>3.475</td>\n",
       "      <td>6.2250</td>\n",
       "      <td>6.2250</td>\n",
       "      <td>6.2250</td>\n",
       "      <td>6.2250</td>\n",
       "    </tr>\n",
       "    <tr>\n",
       "      <th>Aaron Ramsey</th>\n",
       "      <td>0.9121711</td>\n",
       "      <td>0.8631195</td>\n",
       "      <td>7</td>\n",
       "      <td>5</td>\n",
       "      <td>7</td>\n",
       "      <td>1</td>\n",
       "      <td>1</td>\n",
       "      <td>0</td>\n",
       "      <td>0</td>\n",
       "      <td>10</td>\n",
       "      <td>...</td>\n",
       "      <td>26.9000</td>\n",
       "      <td>26.9000</td>\n",
       "      <td>26.9000</td>\n",
       "      <td>26.9000</td>\n",
       "      <td>26.9000</td>\n",
       "      <td>26.900</td>\n",
       "      <td>31.2125</td>\n",
       "      <td>31.2125</td>\n",
       "      <td>31.2125</td>\n",
       "      <td>34.6625</td>\n",
       "    </tr>\n",
       "    <tr>\n",
       "      <th>AarÃ³n</th>\n",
       "      <td>0.1059211</td>\n",
       "      <td>0.1059211</td>\n",
       "      <td>1</td>\n",
       "      <td>1</td>\n",
       "      <td>1</td>\n",
       "      <td>0</td>\n",
       "      <td>0</td>\n",
       "      <td>1</td>\n",
       "      <td>0</td>\n",
       "      <td>1</td>\n",
       "      <td>...</td>\n",
       "      <td>4.0250</td>\n",
       "      <td>4.0250</td>\n",
       "      <td>4.0250</td>\n",
       "      <td>4.0250</td>\n",
       "      <td>4.0250</td>\n",
       "      <td>4.025</td>\n",
       "      <td>4.0250</td>\n",
       "      <td>4.0250</td>\n",
       "      <td>4.0250</td>\n",
       "      <td>4.0250</td>\n",
       "    </tr>\n",
       "  </tbody>\n",
       "</table>\n",
       "<p>5 rows × 97 columns</p>\n",
       "</div>"
      ],
      "text/plain": [
       "              avg_value avg_value_smoothed nassists naway_assists naway_goals  \\\n",
       "Aaron Hughes          0                  0        0             0           0   \n",
       "Aaron Hunt    0.8835526          0.8835526        7             4           3   \n",
       "Aaron Lennon  0.1638158          0.1493421        4             2           0   \n",
       "Aaron Ramsey  0.9121711          0.8631195        7             5           7   \n",
       "AarÃ³n        0.1059211          0.1059211        1             1           1   \n",
       "\n",
       "             nearly_assists nearly_goals nequalizer_assists nequalizer_goals  \\\n",
       "Aaron Hughes              0            0                  0                0   \n",
       "Aaron Hunt                2            0                  1                3   \n",
       "Aaron Lennon              0            0                  0                0   \n",
       "Aaron Ramsey              1            1                  0                0   \n",
       "AarÃ³n                    0            0                  1                0   \n",
       "\n",
       "             ngoals        ...         cuml_value_week_29 cuml_value_week_30  \\\n",
       "Aaron Hughes      0        ...                     0.0000             0.0000   \n",
       "Aaron Hunt        7        ...                    20.2125            20.2125   \n",
       "Aaron Lennon      1        ...                     2.6125             2.6125   \n",
       "Aaron Ramsey     10        ...                    26.9000            26.9000   \n",
       "AarÃ³n            1        ...                     4.0250             4.0250   \n",
       "\n",
       "             cuml_value_week_31 cuml_value_week_32 cuml_value_week_33  \\\n",
       "Aaron Hughes             0.0000             0.0000             0.0000   \n",
       "Aaron Hunt              22.9625            26.4125            30.4125   \n",
       "Aaron Lennon             2.6125             2.6125             2.6125   \n",
       "Aaron Ramsey            26.9000            26.9000            26.9000   \n",
       "AarÃ³n                   4.0250             4.0250             4.0250   \n",
       "\n",
       "             cuml_value_week_34 cuml_value_week_35 cuml_value_week_36  \\\n",
       "Aaron Hughes              0.000             0.0000             0.0000   \n",
       "Aaron Hunt               33.575            33.5750            33.5750   \n",
       "Aaron Lennon              3.475             6.2250             6.2250   \n",
       "Aaron Ramsey             26.900            31.2125            31.2125   \n",
       "AarÃ³n                    4.025             4.0250             4.0250   \n",
       "\n",
       "             cuml_value_week_37 cuml_value_week_38  \n",
       "Aaron Hughes             0.0000             0.0000  \n",
       "Aaron Hunt              33.5750            33.5750  \n",
       "Aaron Lennon             6.2250             6.2250  \n",
       "Aaron Ramsey            31.2125            34.6625  \n",
       "AarÃ³n                   4.0250             4.0250  \n",
       "\n",
       "[5 rows x 97 columns]"
      ]
     },
     "execution_count": 12,
     "metadata": {},
     "output_type": "execute_result"
    }
   ],
   "source": [
    "df_clustering.head()"
   ]
  },
  {
   "cell_type": "code",
   "execution_count": 13,
   "metadata": {
    "collapsed": false
   },
   "outputs": [
    {
     "data": {
      "text/plain": [
       "array([[0.0, 0.0, 0, ..., 0.0, 0.0, 0.0],\n",
       "       [0.88355263157894726, 0.88355263157894726, 7, ..., 33.575, 33.575,\n",
       "        33.575],\n",
       "       [0.16381578947368419, 0.14934210526315789, 4, ..., 6.225, 6.225,\n",
       "        6.225],\n",
       "       ..., \n",
       "       [0.15559210526315789, 0.15559210526315789, 1, ..., 5.9125, 5.9125,\n",
       "        5.9125],\n",
       "       [0.18848684210526315, 0.18848684210526315, 0, ..., 7.1625, 7.1625,\n",
       "        7.1625],\n",
       "       [0.022697368421052629, 0.026858552631578946, 1, ...,\n",
       "        0.8624999999999999, 0.8624999999999999, 0.8624999999999999]], dtype=object)"
      ]
     },
     "execution_count": 13,
     "metadata": {},
     "output_type": "execute_result"
    }
   ],
   "source": [
    "df_clustering.values"
   ]
  },
  {
   "cell_type": "code",
   "execution_count": 77,
   "metadata": {
    "collapsed": false
   },
   "outputs": [
    {
     "data": {
      "text/plain": [
       "KMeans(copy_x=True, init='k-means++', max_iter=300, n_clusters=10, n_init=10,\n",
       "    n_jobs=1, precompute_distances='auto', random_state=None, tol=0.0001,\n",
       "    verbose=0)"
      ]
     },
     "execution_count": 77,
     "metadata": {},
     "output_type": "execute_result"
    }
   ],
   "source": [
    "km = skc.KMeans(n_clusters=10)\n",
    "km.fit(df_clustering.values)"
   ]
  },
  {
   "cell_type": "code",
   "execution_count": 78,
   "metadata": {
    "collapsed": false
   },
   "outputs": [
    {
     "data": {
      "text/plain": [
       "array([7, 1, 7, ..., 7, 0, 7], dtype=int32)"
      ]
     },
     "execution_count": 78,
     "metadata": {},
     "output_type": "execute_result"
    }
   ],
   "source": [
    "km.labels_"
   ]
  },
  {
   "cell_type": "code",
   "execution_count": 79,
   "metadata": {
    "collapsed": false
   },
   "outputs": [
    {
     "data": {
      "text/plain": [
       "<matplotlib.collections.PathCollection at 0x11267a790>"
      ]
     },
     "execution_count": 79,
     "metadata": {},
     "output_type": "execute_result"
    },
    {
     "data": {
      "image/png": "[encoded data removed]",
      "text/plain": [
       "<matplotlib.figure.Figure at 0x110c5b110>"
      ]
     },
     "metadata": {},
     "output_type": "display_data"
    }
   ],
   "source": [
    "plt.scatter(df_clustering['ngoals'],km.labels_)"
   ]
  },
  {
   "cell_type": "code",
   "execution_count": 80,
   "metadata": {
    "collapsed": false
   },
   "outputs": [],
   "source": [
    "results = pd.DataFrame([df_clustering.index,km.labels_,df_clustering.season_value,\\\n",
    "                       df_clustering.ngoals,df_clustering.nassists,\\\n",
    "                       df_clustering.ntiebreaker_goals, df_clustering.ntiebreaker_assists]).T\n",
    "results.columns = ['Player','Cluster','Value','Goals','Assists','TGoals', 'TAssists']"
   ]
  },
  {
   "cell_type": "code",
   "execution_count": 81,
   "metadata": {
    "collapsed": false
   },
   "outputs": [
    {
     "data": {
      "text/html": [
       "<div>\n",
       "<table border=\"1\" class=\"dataframe\">\n",
       "  <thead>\n",
       "    <tr style=\"text-align: right;\">\n",
       "      <th></th>\n",
       "      <th>Player</th>\n",
       "      <th>Cluster</th>\n",
       "      <th>Value</th>\n",
       "      <th>Goals</th>\n",
       "      <th>Assists</th>\n",
       "      <th>TGoals</th>\n",
       "      <th>TAssists</th>\n",
       "    </tr>\n",
       "  </thead>\n",
       "  <tbody>\n",
       "    <tr>\n",
       "      <th>308</th>\n",
       "      <td>Cristiano Ronaldo</td>\n",
       "      <td>3</td>\n",
       "      <td>92.88</td>\n",
       "      <td>31</td>\n",
       "      <td>9</td>\n",
       "      <td>17</td>\n",
       "      <td>2</td>\n",
       "    </tr>\n",
       "  </tbody>\n",
       "</table>\n",
       "</div>"
      ],
      "text/plain": [
       "                Player Cluster  Value Goals Assists TGoals TAssists\n",
       "308  Cristiano Ronaldo       3  92.88    31       9     17        2"
      ]
     },
     "execution_count": 81,
     "metadata": {},
     "output_type": "execute_result"
    }
   ],
   "source": [
    "results[results['Player'] == 'Cristiano Ronaldo']"
   ]
  },
  {
   "cell_type": "code",
   "execution_count": 83,
   "metadata": {
    "collapsed": false
   },
   "outputs": [
    {
     "data": {
      "text/html": [
       "<div>\n",
       "<table border=\"1\" class=\"dataframe\">\n",
       "  <thead>\n",
       "    <tr style=\"text-align: right;\">\n",
       "      <th></th>\n",
       "      <th>Player</th>\n",
       "      <th>Cluster</th>\n",
       "      <th>Value</th>\n",
       "      <th>Goals</th>\n",
       "      <th>Assists</th>\n",
       "      <th>TGoals</th>\n",
       "      <th>TAssists</th>\n",
       "    </tr>\n",
       "  </thead>\n",
       "  <tbody>\n",
       "    <tr>\n",
       "      <th>28</th>\n",
       "      <td>AdriÃ¡n Ramos</td>\n",
       "      <td>3</td>\n",
       "      <td>55.0625</td>\n",
       "      <td>16</td>\n",
       "      <td>5</td>\n",
       "      <td>9</td>\n",
       "      <td>3</td>\n",
       "    </tr>\n",
       "    <tr>\n",
       "      <th>59</th>\n",
       "      <td>Alessio Cerci</td>\n",
       "      <td>3</td>\n",
       "      <td>56.5625</td>\n",
       "      <td>13</td>\n",
       "      <td>10</td>\n",
       "      <td>7</td>\n",
       "      <td>5</td>\n",
       "    </tr>\n",
       "    <tr>\n",
       "      <th>75</th>\n",
       "      <td>Alexis SÃ¡nchez</td>\n",
       "      <td>3</td>\n",
       "      <td>69.6375</td>\n",
       "      <td>19</td>\n",
       "      <td>11</td>\n",
       "      <td>9</td>\n",
       "      <td>6</td>\n",
       "    </tr>\n",
       "    <tr>\n",
       "      <th>103</th>\n",
       "      <td>AndrÃ©-Pierre Gignac</td>\n",
       "      <td>3</td>\n",
       "      <td>61.275</td>\n",
       "      <td>16</td>\n",
       "      <td>3</td>\n",
       "      <td>9</td>\n",
       "      <td>3</td>\n",
       "    </tr>\n",
       "    <tr>\n",
       "      <th>236</th>\n",
       "      <td>Carlos Vela</td>\n",
       "      <td>3</td>\n",
       "      <td>71.1</td>\n",
       "      <td>16</td>\n",
       "      <td>12</td>\n",
       "      <td>10</td>\n",
       "      <td>5</td>\n",
       "    </tr>\n",
       "    <tr>\n",
       "      <th>276</th>\n",
       "      <td>Ciro Immobile</td>\n",
       "      <td>3</td>\n",
       "      <td>72.1</td>\n",
       "      <td>22</td>\n",
       "      <td>3</td>\n",
       "      <td>12</td>\n",
       "      <td>2</td>\n",
       "    </tr>\n",
       "    <tr>\n",
       "      <th>308</th>\n",
       "      <td>Cristiano Ronaldo</td>\n",
       "      <td>3</td>\n",
       "      <td>92.88</td>\n",
       "      <td>31</td>\n",
       "      <td>9</td>\n",
       "      <td>17</td>\n",
       "      <td>2</td>\n",
       "    </tr>\n",
       "    <tr>\n",
       "      <th>340</th>\n",
       "      <td>Daniel Sturridge</td>\n",
       "      <td>3</td>\n",
       "      <td>60.3875</td>\n",
       "      <td>22</td>\n",
       "      <td>7</td>\n",
       "      <td>8</td>\n",
       "      <td>0</td>\n",
       "    </tr>\n",
       "    <tr>\n",
       "      <th>390</th>\n",
       "      <td>Diego Costa</td>\n",
       "      <td>3</td>\n",
       "      <td>62.225</td>\n",
       "      <td>27</td>\n",
       "      <td>3</td>\n",
       "      <td>11</td>\n",
       "      <td>2</td>\n",
       "    </tr>\n",
       "    <tr>\n",
       "      <th>421</th>\n",
       "      <td>Eden Hazard</td>\n",
       "      <td>3</td>\n",
       "      <td>51.1875</td>\n",
       "      <td>14</td>\n",
       "      <td>7</td>\n",
       "      <td>6</td>\n",
       "      <td>3</td>\n",
       "    </tr>\n",
       "    <tr>\n",
       "      <th>571</th>\n",
       "      <td>Gonzalo HiguaÃ­Â­n</td>\n",
       "      <td>3</td>\n",
       "      <td>59.3375</td>\n",
       "      <td>16</td>\n",
       "      <td>8</td>\n",
       "      <td>7</td>\n",
       "      <td>7</td>\n",
       "    </tr>\n",
       "    <tr>\n",
       "      <th>651</th>\n",
       "      <td>Ivan RakitiÄ</td>\n",
       "      <td>3</td>\n",
       "      <td>57.2</td>\n",
       "      <td>12</td>\n",
       "      <td>11</td>\n",
       "      <td>5</td>\n",
       "      <td>6</td>\n",
       "    </tr>\n",
       "    <tr>\n",
       "      <th>767</th>\n",
       "      <td>Josip DrmiÄ</td>\n",
       "      <td>3</td>\n",
       "      <td>52.0125</td>\n",
       "      <td>17</td>\n",
       "      <td>3</td>\n",
       "      <td>6</td>\n",
       "      <td>1</td>\n",
       "    </tr>\n",
       "    <tr>\n",
       "      <th>888</th>\n",
       "      <td>Lionel Messi</td>\n",
       "      <td>3</td>\n",
       "      <td>87.24688</td>\n",
       "      <td>28</td>\n",
       "      <td>11</td>\n",
       "      <td>10</td>\n",
       "      <td>4</td>\n",
       "    </tr>\n",
       "    <tr>\n",
       "      <th>923</th>\n",
       "      <td>Luis SuÃ¡rez</td>\n",
       "      <td>3</td>\n",
       "      <td>74.8125</td>\n",
       "      <td>31</td>\n",
       "      <td>13</td>\n",
       "      <td>7</td>\n",
       "      <td>5</td>\n",
       "    </tr>\n",
       "    <tr>\n",
       "      <th>968</th>\n",
       "      <td>Marco Reus</td>\n",
       "      <td>3</td>\n",
       "      <td>71.0625</td>\n",
       "      <td>16</td>\n",
       "      <td>13</td>\n",
       "      <td>7</td>\n",
       "      <td>7</td>\n",
       "    </tr>\n",
       "    <tr>\n",
       "      <th>1338</th>\n",
       "      <td>Romelu Lukaku</td>\n",
       "      <td>3</td>\n",
       "      <td>58.955</td>\n",
       "      <td>15</td>\n",
       "      <td>6</td>\n",
       "      <td>8</td>\n",
       "      <td>3</td>\n",
       "    </tr>\n",
       "    <tr>\n",
       "      <th>1569</th>\n",
       "      <td>Wayne Rooney</td>\n",
       "      <td>3</td>\n",
       "      <td>57.025</td>\n",
       "      <td>17</td>\n",
       "      <td>10</td>\n",
       "      <td>4</td>\n",
       "      <td>4</td>\n",
       "    </tr>\n",
       "    <tr>\n",
       "      <th>1610</th>\n",
       "      <td>Zlatan IbrahimoviÄ</td>\n",
       "      <td>3</td>\n",
       "      <td>72.2125</td>\n",
       "      <td>26</td>\n",
       "      <td>11</td>\n",
       "      <td>9</td>\n",
       "      <td>6</td>\n",
       "    </tr>\n",
       "  </tbody>\n",
       "</table>\n",
       "</div>"
      ],
      "text/plain": [
       "                    Player Cluster     Value Goals Assists TGoals TAssists\n",
       "28           AdriÃ¡n Ramos       3   55.0625    16       5      9        3\n",
       "59           Alessio Cerci       3   56.5625    13      10      7        5\n",
       "75         Alexis SÃ¡nchez       3   69.6375    19      11      9        6\n",
       "103   AndrÃ©-Pierre Gignac       3    61.275    16       3      9        3\n",
       "236            Carlos Vela       3      71.1    16      12     10        5\n",
       "276          Ciro Immobile       3      72.1    22       3     12        2\n",
       "308      Cristiano Ronaldo       3     92.88    31       9     17        2\n",
       "340       Daniel Sturridge       3   60.3875    22       7      8        0\n",
       "390            Diego Costa       3    62.225    27       3     11        2\n",
       "421            Eden Hazard       3   51.1875    14       7      6        3\n",
       "571     Gonzalo HiguaÃ­Â­n       3   59.3375    16       8      7        7\n",
       "651          Ivan RakitiÄ       3      57.2    12      11      5        6\n",
       "767           Josip DrmiÄ       3   52.0125    17       3      6        1\n",
       "888           Lionel Messi       3  87.24688    28      11     10        4\n",
       "923           Luis SuÃ¡rez       3   74.8125    31      13      7        5\n",
       "968             Marco Reus       3   71.0625    16      13      7        7\n",
       "1338         Romelu Lukaku       3    58.955    15       6      8        3\n",
       "1569          Wayne Rooney       3    57.025    17      10      4        4\n",
       "1610   Zlatan IbrahimoviÄ       3   72.2125    26      11      9        6"
      ]
     },
     "execution_count": 83,
     "metadata": {},
     "output_type": "execute_result"
    }
   ],
   "source": [
    "results[results['Cluster'] == 3]"
   ]
  },
  {
   "cell_type": "code",
   "execution_count": null,
   "metadata": {
    "collapsed": true
   },
   "outputs": [],
   "source": []
  }
 ],
 "metadata": {
  "kernelspec": {
   "display_name": "Python 2",
   "language": "python",
   "name": "python2"
  },
  "language_info": {
   "codemirror_mode": {
    "name": "ipython",
    "version": 2
   },
   "file_extension": ".py",
   "mimetype": "text/x-python",
   "name": "python",
   "nbconvert_exporter": "python",
   "pygments_lexer": "ipython2",
   "version": "2.7.10"
  }
 },
 "nbformat": 4,
 "nbformat_minor": 0
}
