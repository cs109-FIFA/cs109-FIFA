{
 "cells": [
  {
   "cell_type": "code",
   "execution_count": null,
   "metadata": {
    "collapsed": false
   },
   "outputs": [],
   "source": [
    "import pandas as pd\n",
    "import numpy as np\n",
    "import itertools\n",
    "import sklearn.cluster as skc\n",
    "import matplotlib.pyplot as plt\n",
    "import matplotlib.cm as cm\n",
    "from mpl_toolkits.mplot3d import Axes3D\n",
    "import plotly.plotly as py\n",
    "import plotly.tools as tls\n",
    "py.sign_in('AbhishekMalali', 'rwqa8v03mr')\n",
    "from plotly.graph_objs import *\n",
    "%matplotlib inline"
   ]
  },
  {
   "cell_type": "markdown",
   "metadata": {},
   "source": [
    "####Loading the data for the 2012-13 Season"
   ]
  },
  {
   "cell_type": "code",
   "execution_count": null,
   "metadata": {
    "collapsed": false
   },
   "outputs": [],
   "source": [
    "features12 = pd.read_pickle('../Data/features12-13.pkl')\n",
    "tr_features12 = features12.transpose()"
   ]
  },
  {
   "cell_type": "code",
   "execution_count": null,
   "metadata": {
    "collapsed": false
   },
   "outputs": [],
   "source": [
    "#Splitting the smoothed_value_list into 38 new columns\n",
    "split_fn = lambda x: pd.Series([i for i in x])\n",
    "tr_features12_sm = tr_features12['smoothed_value_list'].apply(split_fn)"
   ]
  },
  {
   "cell_type": "code",
   "execution_count": null,
   "metadata": {
    "collapsed": true
   },
   "outputs": [],
   "source": [
    "#Splitting the cum_value_list into 38 new columns\n",
    "tr_features12_cm = tr_features12['cum_value_list'].apply(split_fn)"
   ]
  },
  {
   "cell_type": "code",
   "execution_count": null,
   "metadata": {
    "collapsed": false
   },
   "outputs": [],
   "source": [
    "#Generating column names for the new dataframe\n",
    "col_names_sm = []\n",
    "col_names_cm = []\n",
    "for i in range(38):\n",
    "    col_names_sm.append('smooth_value_week_'+str(i+1))\n",
    "    col_names_cm.append('cuml_value_week_'+str(i+1))"
   ]
  },
  {
   "cell_type": "code",
   "execution_count": null,
   "metadata": {
    "collapsed": false
   },
   "outputs": [],
   "source": [
    "#Setting the column names for the new dataframe\n",
    "tr_features12_sm.columns = col_names_sm\n",
    "tr_features12_cm.columns = col_names_cm"
   ]
  },
  {
   "cell_type": "code",
   "execution_count": null,
   "metadata": {
    "collapsed": false
   },
   "outputs": [],
   "source": [
    "#Concatenating the two dataframes\n",
    "df_features12 = pd.concat([tr_features12,tr_features12_sm,tr_features12_cm],axis=1)"
   ]
  },
  {
   "cell_type": "code",
   "execution_count": null,
   "metadata": {
    "collapsed": false
   },
   "outputs": [],
   "source": [
    "#Selecting columns to be clustered\n",
    "columns_cluster = [[u'avg_value'], [u'avg_value_smoothed'],\n",
    "        [u'nassists'], [u'naway_assists'], [u'naway_goals'],\n",
    "        [u'nearly_assists'], [u'nearly_goals'], [u'nequalizer_assists'],\n",
    "        [u'nequalizer_goals'], [u'ngoals'], [u'nhome_assists'], [u'nhome_goals'],\n",
    "        [u'nlate_assists'], [u'nlate_goals'], [u'nmid_assists'], [u'nmid_goals'],\n",
    "        [u'nsub_assists'], [u'nsub_goals'], [u'ntiebreaker_assists'],\n",
    "        [u'ntiebreaker_goals'], [u'season_value'],col_names_sm, col_names_cm]\n",
    "columns_cluster = list(itertools.chain(*columns_cluster))"
   ]
  },
  {
   "cell_type": "code",
   "execution_count": null,
   "metadata": {
    "collapsed": false
   },
   "outputs": [],
   "source": [
    "#Creating a new dataframe to be used for clustering\n",
    "df_clustering = df_features12[columns_cluster]"
   ]
  },
  {
   "cell_type": "code",
   "execution_count": null,
   "metadata": {
    "collapsed": false
   },
   "outputs": [],
   "source": [
    "df_clustering.head()"
   ]
  },
  {
   "cell_type": "markdown",
   "metadata": {},
   "source": [
    "####Clustering the data using K-Means"
   ]
  },
  {
   "cell_type": "code",
   "execution_count": null,
   "metadata": {
    "collapsed": false
   },
   "outputs": [],
   "source": [
    "n_clusters = 10\n",
    "km = skc.KMeans(n_clusters=n_clusters)\n",
    "km.fit(df_clustering.values)"
   ]
  },
  {
   "cell_type": "markdown",
   "metadata": {},
   "source": [
    "####Counting the number of players in every cluster"
   ]
  },
  {
   "cell_type": "code",
   "execution_count": null,
   "metadata": {
    "collapsed": false
   },
   "outputs": [],
   "source": [
    "for cl_idx in range(10):\n",
    "    print \"Number of players in Cluster no. \"+str(cl_idx)+\":\",\\\n",
    "                    sum(km.labels_ == cl_idx)"
   ]
  },
  {
   "cell_type": "code",
   "execution_count": null,
   "metadata": {
    "collapsed": false
   },
   "outputs": [],
   "source": [
    "plt.scatter(df_clustering['ngoals'],km.labels_)"
   ]
  },
  {
   "cell_type": "markdown",
   "metadata": {},
   "source": [
    "#### Visualizing results"
   ]
  },
  {
   "cell_type": "code",
   "execution_count": null,
   "metadata": {
    "collapsed": false
   },
   "outputs": [],
   "source": [
    "results = pd.DataFrame([df_clustering.index,km.labels_,df_clustering.season_value,\\\n",
    "                       df_clustering.ngoals,df_clustering.nassists,\\\n",
    "                       df_clustering.ntiebreaker_goals, df_clustering.ntiebreaker_assists]).T\n",
    "results.columns = ['Player','Cluster','Value','Goals','Assists','TGoals', 'TAssists']"
   ]
  },
  {
   "cell_type": "code",
   "execution_count": null,
   "metadata": {
    "collapsed": false
   },
   "outputs": [],
   "source": [
    "results[results['Player'] == 'Cristiano Ronaldo']"
   ]
  },
  {
   "cell_type": "code",
   "execution_count": null,
   "metadata": {
    "collapsed": false
   },
   "outputs": [],
   "source": [
    "results[results['Cluster'] == 7]"
   ]
  },
  {
   "cell_type": "code",
   "execution_count": null,
   "metadata": {
    "collapsed": true
   },
   "outputs": [],
   "source": [
    "colors = cm.rainbow(np.linspace(0, 1, n_clusters))"
   ]
  },
  {
   "cell_type": "code",
   "execution_count": null,
   "metadata": {
    "collapsed": false
   },
   "outputs": [],
   "source": [
    "fig = plt.figure()\n",
    "ax = fig.add_subplot(111, projection='3d')\n",
    "ax = Axes3D(fig)\n",
    "cluster_idx = 0\n",
    "for c in colors:\n",
    "    ax.scatter(results['Value'][results['Cluster'] == cluster_idx],\\\n",
    "                results['Goals'][results['Cluster'] == cluster_idx],\n",
    "            zs=results['Assists'][results['Cluster'] == cluster_idx],\\\n",
    "                color=c)\n",
    "    cluster_idx += 1"
   ]
  },
  {
   "cell_type": "code",
   "execution_count": null,
   "metadata": {
    "collapsed": false
   },
   "outputs": [],
   "source": [
    "cluster_idx = 0\n",
    "for c in colors:\n",
    "    plt.scatter(results['Value'][results['Cluster'] == cluster_idx],\\\n",
    "                results['Goals'][results['Cluster'] == cluster_idx],\\\n",
    "                color=c)\n",
    "    cluster_idx += 1"
   ]
  },
  {
   "cell_type": "code",
   "execution_count": null,
   "metadata": {
    "collapsed": true
   },
   "outputs": [],
   "source": [
    "# Dictionary of style options for all axes\n",
    "axis = dict(\n",
    "    showbackground=True, # (!) show axis background\n",
    "    backgroundcolor=\"rgb(204, 204, 204)\", # set background color to grey\n",
    "    gridcolor=\"rgb(255, 255, 255)\",       # set grid line color\n",
    "    zerolinecolor=\"rgb(255, 255, 255)\",   # set zero grid line color\n",
    ")\n",
    "\n",
    "# Make a layout object\n",
    "layout = Layout(\n",
    "    title='Cluster Distribution', # set plot title\n",
    "    scene=Scene(  # (!) axes are part of a 'scene' in 3d plots\n",
    "        xaxis=XAxis(axis,title='Assists'), # set x-axis style\n",
    "        yaxis=YAxis(axis,title='Goals'), # set y-axis style\n",
    "        zaxis=ZAxis(axis,title='Season Value')  # set z-axis style\n",
    "    )\n",
    ")"
   ]
  },
  {
   "cell_type": "code",
   "execution_count": null,
   "metadata": {
    "collapsed": false
   },
   "outputs": [],
   "source": [
    "cluster_idx=0\n",
    "trace_list = []\n",
    "for c in range(n_clusters):\n",
    "    trace = Scatter3d(\n",
    "        z=np.array(results['Value'][results['Cluster'] == c].astype(float)),\n",
    "        x=np.array(results['Assists'][results['Cluster'] == c].astype(float)),\n",
    "        y=np.array(results['Goals'][results['Cluster'] == c].astype(float)),\n",
    "        name = \"Cluster\" + str(c),\n",
    "        text= results['Player'][results['Cluster'] == c].astype(unicode),\n",
    "        mode='markers')\n",
    "    trace_list.append(trace)\n",
    "data = Data(trace_list)"
   ]
  },
  {
   "cell_type": "code",
   "execution_count": 126,
   "metadata": {
    "collapsed": false
   },
   "outputs": [
    {
     "data": {
      "text/html": [
       "<iframe id=\"igraph\" scrolling=\"no\" style=\"border:none;\"seamless=\"seamless\" src=\"https://plot.ly/~AbhishekMalali/8.embed\" height=\"525px\" width=\"100%\"></iframe>"
      ],
      "text/plain": [
       "<plotly.tools.PlotlyDisplay object>"
      ]
     },
     "execution_count": 126,
     "metadata": {},
     "output_type": "execute_result"
    }
   ],
   "source": [
    "# Make a figure object\n",
    "fig = Figure(data=data, layout=layout)\n",
    "\n",
    "# (@) Send to Plotly and show in notebook\n",
    "py.iplot(fig, filename='s8_surface')"
   ]
  },
  {
   "cell_type": "code",
   "execution_count": null,
   "metadata": {
    "collapsed": true
   },
   "outputs": [],
   "source": []
  }
 ],
 "metadata": {
  "kernelspec": {
   "display_name": "Python 2",
   "language": "python",
   "name": "python2"
  },
  "language_info": {
   "codemirror_mode": {
    "name": "ipython",
    "version": 2
   },
   "file_extension": ".py",
   "mimetype": "text/x-python",
   "name": "python",
   "nbconvert_exporter": "python",
   "pygments_lexer": "ipython2",
   "version": "2.7.10"
  }
 },
 "nbformat": 4,
 "nbformat_minor": 0
}
