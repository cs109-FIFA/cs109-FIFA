{
 "cells": [
  {
   "cell_type": "code",
   "execution_count": 155,
   "metadata": {
    "collapsed": false
   },
   "outputs": [],
   "source": [
    "import numpy as np\n",
    "import pandas as pd\n",
    "import json\n",
    "import difflib\n",
    "from fuzzywuzzy import fuzz\n",
    "pd.options.display.max_rows = 100"
   ]
  },
  {
   "cell_type": "code",
   "execution_count": 236,
   "metadata": {
    "collapsed": true
   },
   "outputs": [],
   "source": [
    "transfers_england_summer = pd.read_json('../Transfer_data/England_summer_2013.json')\n",
    "transfers_england_winter = pd.read_json('../Transfer_data/England_winter_2012_13.json')"
   ]
  },
  {
   "cell_type": "code",
   "execution_count": 237,
   "metadata": {
    "collapsed": false
   },
   "outputs": [],
   "source": [
    "transfers_england_summer['value'] = transfers_england_summer['value'].astype(str)\n",
    "transfers_england_winter['value'] = transfers_england_winter['value'].astype(str)"
   ]
  },
  {
   "cell_type": "code",
   "execution_count": 238,
   "metadata": {
    "collapsed": true
   },
   "outputs": [],
   "source": [
    "#Reading in the feature data\n",
    "features12 = pd.read_pickle('../features12-13.pkl')\n",
    "tr_features12 = features12.transpose()"
   ]
  },
  {
   "cell_type": "code",
   "execution_count": 239,
   "metadata": {
    "collapsed": false
   },
   "outputs": [],
   "source": [
    "#Concatenating all transfers for the season 12-13 for England\n",
    "df_eng_12_13 = pd.concat([transfers_england_summer,transfers_england_winter],axis=0)"
   ]
  },
  {
   "cell_type": "code",
   "execution_count": 231,
   "metadata": {
    "collapsed": true
   },
   "outputs": [],
   "source": [
    "def fix_name(name_list):\n",
    "    if len(name_list) == 1:\n",
    "        return name_list[0]\n",
    "    elif len(name_list) == 2:\n",
    "        val = ' '.join([name_list[1],name_list[0]])\n",
    "        return val.lstrip().rstrip()\n",
    "    else:\n",
    "        return 'Name Error'\n",
    "##This function reverses the names which have commas and sets name column as index\n",
    "def fix_names(df):\n",
    "    df['name'] = df['name'].apply(lambda x:x.split(','))\n",
    "    df['name'] = df['name'].apply(lambda x:fix_name(x))\n",
    "    df['name'] = df['name'].astype(unicode)\n",
    "    df = df.set_index('name')\n",
    "    return df"
   ]
  },
  {
   "cell_type": "code",
   "execution_count": 234,
   "metadata": {
    "collapsed": true
   },
   "outputs": [],
   "source": [
    "check_list = ['Loan','Undisclosed','Swap','Free','Loan return']\n",
    "#test_df = df_eng_12_13[~df_eng_12_13['value'].isin(check_list)]"
   ]
  },
  {
   "cell_type": "code",
   "execution_count": 241,
   "metadata": {
    "collapsed": false
   },
   "outputs": [
    {
     "data": {
      "text/plain": [
       "435850000.0"
      ]
     },
     "execution_count": 241,
     "metadata": {},
     "output_type": "execute_result"
    }
   ],
   "source": [
    "##Testing the amount of transfer money we can account for after name fix\n",
    "sum(trial_df[~trial_df['value'].isin(check_list)]['value'].astype(float))"
   ]
  },
  {
   "cell_type": "markdown",
   "metadata": {},
   "source": [
    "##Function to clean and match names and join the values"
   ]
  },
  {
   "cell_type": "code",
   "execution_count": 224,
   "metadata": {
    "collapsed": true
   },
   "outputs": [],
   "source": [
    "def join_df(transfer_df,stats_df):\n",
    "    test_df = transfer_df\n",
    "    test_df['check_name'] = test_df.index.map(lambda x: difflib.get_close_matches(x, stats_df.index,1))\n",
    "    test_df = test_df[test_df['check_name'].str.len() != 0]\n",
    "    test_df['check_name'] = test_df['check_name'].apply(lambda x:x[0])\n",
    "    test_df['names'] = test_df.index\n",
    "    test_df['sim_score'] = test_df[['check_name','names']].apply(lambda x:fuzz.ratio(x[0],x[1]),axis=1)\n",
    "    to_be_joined = test_df[test_df['sim_score'] > 82]\n",
    "    to_be_joined['ref_name'] = to_be_joined['check_name']\n",
    "    to_be_joined = to_be_joined.set_index('check_name')\n",
    "    trial_df = stats_df.join(to_be_joined,how='inner')\n",
    "    return trial_df"
   ]
  },
  {
   "cell_type": "markdown",
   "metadata": {},
   "source": [
    "####See trial df for the data"
   ]
  },
  {
   "cell_type": "code",
   "execution_count": null,
   "metadata": {
    "collapsed": false
   },
   "outputs": [],
   "source": [
    "trial_df = join_df(fix_names(df_eng_12_13),tr_features12)"
   ]
  },
  {
   "cell_type": "code",
   "execution_count": 226,
   "metadata": {
    "collapsed": true
   },
   "outputs": [],
   "source": [
    "#Loading data for Spain for 2012-13\n",
    "transfers_spain_summer = pd.read_json('../Transfer_data/Spain_summer_2013.json')\n",
    "transfers_spain_winter = pd.read_json('../Transfer_data/Spain_winter_2012_13.json')"
   ]
  },
  {
   "cell_type": "code",
   "execution_count": 227,
   "metadata": {
    "collapsed": true
   },
   "outputs": [],
   "source": [
    "df_spn_12_13 = pd.concat([transfers_spain_summer,transfers_spain_winter],axis=0)"
   ]
  },
  {
   "cell_type": "code",
   "execution_count": null,
   "metadata": {
    "collapsed": true
   },
   "outputs": [],
   "source": []
  }
 ],
 "metadata": {
  "kernelspec": {
   "display_name": "Python 2",
   "language": "python",
   "name": "python2"
  },
  "language_info": {
   "codemirror_mode": {
    "name": "ipython",
    "version": 2
   },
   "file_extension": ".py",
   "mimetype": "text/x-python",
   "name": "python",
   "nbconvert_exporter": "python",
   "pygments_lexer": "ipython2",
   "version": "2.7.10"
  }
 },
 "nbformat": 4,
 "nbformat_minor": 0
}
