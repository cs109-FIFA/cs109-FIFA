{
 "cells": [
  {
   "cell_type": "code",
   "execution_count": 1,
   "metadata": {
    "collapsed": false
   },
   "outputs": [],
   "source": [
    "import numpy as np\n",
    "import pandas as pd\n",
    "import json\n",
    "import difflib\n",
    "from fuzzywuzzy import fuzz\n",
    "pd.options.display.max_rows = 100"
   ]
  },
  {
   "cell_type": "markdown",
   "metadata": {},
   "source": [
    "####Function to fix names"
   ]
  },
  {
   "cell_type": "code",
   "execution_count": 2,
   "metadata": {
    "collapsed": true
   },
   "outputs": [],
   "source": [
    "\"\"\"\n",
    "Functions\n",
    "--------\n",
    "fix_names recieves a dataframe(containing transfer data) where it cleans\n",
    "the dataframe 'name' column.\n",
    "\n",
    "Inputs\n",
    "------\n",
    "df: a dataframe which contains transfer value with the following details.\n",
    "currency: currency of transfer amount\n",
    "date: date of the transfer\n",
    "from: Former club of the player\n",
    "name: Name of the player\n",
    "to: New club of the player\n",
    "value: Transfer value/type\n",
    "\n",
    "Returns\n",
    "-------\n",
    "A dataframe where the names have been fixed for further processing.\n",
    "\n",
    "Notes\n",
    "-----\n",
    "fix_name is a helper function for the fix_names function.\n",
    "Written 28 Nov. 2015 by ARM\n",
    "\"\"\"\n",
    "def fix_name(name_list):\n",
    "    if len(name_list) == 1:\n",
    "        return name_list[0]\n",
    "    elif len(name_list) == 2:\n",
    "        val = ' '.join([name_list[1],name_list[0]])\n",
    "        return val.lstrip().rstrip()\n",
    "    else:\n",
    "        return 'Name Error'\n",
    "\n",
    "def fix_names(df):\n",
    "    df['name'] = df['name'].apply(lambda x:x.split(','))\n",
    "    df['name'] = df['name'].apply(lambda x:fix_name(x))\n",
    "    df['name'] = df['name'].astype(unicode)\n",
    "    df = df.set_index('name')\n",
    "    return df"
   ]
  },
  {
   "cell_type": "markdown",
   "metadata": {},
   "source": [
    "####Function to clean and match names and join the values"
   ]
  },
  {
   "cell_type": "code",
   "execution_count": 3,
   "metadata": {
    "collapsed": true
   },
   "outputs": [],
   "source": [
    "\"\"\"\n",
    "Functions\n",
    "--------\n",
    "fix_names recieves a dataframe(containing transfer data) where it cleans\n",
    "the dataframe 'name' column.\n",
    "\n",
    "Inputs\n",
    "------\n",
    "transfer_df: a dataframe which contains transfer data cleaned with\n",
    "fix_names function.\n",
    "stats_df: a dataframe which contains the feature data collected for the\n",
    "corresponding season.\n",
    "Returns\n",
    "-------\n",
    "A joined dataframe which collects the common players in the data.\n",
    "\n",
    "Notes\n",
    "-----\n",
    "fix_name is a helper function for the fix_names function.\n",
    "Written 28 Nov. 2015 by ARM\n",
    "\"\"\"\n",
    "def join_df(transfer_df,stats_df):\n",
    "    test_df = transfer_df\n",
    "    test_df['check_name'] = test_df.index.map(lambda x: difflib.get_close_matches(x, stats_df.index,1))\n",
    "    test_df = test_df[test_df['check_name'].str.len() != 0]\n",
    "    test_df['check_name'] = test_df['check_name'].apply(lambda x:x[0])\n",
    "    test_df['names'] = test_df.index\n",
    "    test_df['sim_score'] = test_df[['check_name','names']].apply(lambda x:fuzz.ratio(x[0],x[1]),axis=1)\n",
    "    to_be_joined = test_df[test_df['sim_score'] > 80]\n",
    "    to_be_joined['ref_name'] = to_be_joined['check_name']\n",
    "    to_be_joined = to_be_joined.set_index('check_name')\n",
    "    trial_df = stats_df.join(to_be_joined,how='inner')\n",
    "    return trial_df"
   ]
  },
  {
   "cell_type": "markdown",
   "metadata": {
    "collapsed": false
   },
   "source": [
    "#### Loading feature data for season 2012-13"
   ]
  },
  {
   "cell_type": "code",
   "execution_count": 4,
   "metadata": {
    "collapsed": false
   },
   "outputs": [],
   "source": [
    "features12 = pd.read_pickle('../Data/features12-13.pkl')\n",
    "tr_features12 = features12.transpose()"
   ]
  },
  {
   "cell_type": "markdown",
   "metadata": {},
   "source": [
    "####Loading feature data for season 2013-14"
   ]
  },
  {
   "cell_type": "code",
   "execution_count": 5,
   "metadata": {
    "collapsed": true
   },
   "outputs": [],
   "source": [
    "features13 = pd.read_pickle('../Data/features13-14.pkl')\n",
    "tr_features13 = features13.transpose()"
   ]
  },
  {
   "cell_type": "markdown",
   "metadata": {},
   "source": [
    "#### Loading transfer data for 2012-13 for England"
   ]
  },
  {
   "cell_type": "code",
   "execution_count": 6,
   "metadata": {
    "collapsed": true
   },
   "outputs": [],
   "source": [
    "transfers_england_summer = pd.read_json('../Transfer_data/England_summer_2013.json')\n",
    "transfers_england_winter = pd.read_json('../Transfer_data/England_winter_2012_13.json')\n",
    "transfers_england_summer['value'] = transfers_england_summer['value'].astype(str)\n",
    "transfers_england_winter['value'] = transfers_england_winter['value'].astype(str)\n",
    "\n",
    "#Concatenating all transfers for the season 12-13 for England\n",
    "df_eng_12_13 = pd.concat([transfers_england_summer,transfers_england_winter],axis=0)"
   ]
  },
  {
   "cell_type": "markdown",
   "metadata": {
    "collapsed": false
   },
   "source": [
    "####Processing data for 2012-13 for England"
   ]
  },
  {
   "cell_type": "code",
   "execution_count": null,
   "metadata": {
    "collapsed": false
   },
   "outputs": [],
   "source": [
    "england_2012_13_df = join_df(fix_names(df_eng_12_13),tr_features12)"
   ]
  },
  {
   "cell_type": "code",
   "execution_count": 8,
   "metadata": {
    "collapsed": false
   },
   "outputs": [],
   "source": [
    "#Deleting columns with lists before saving\n",
    "england_2012_13_df = england_2012_13_df.drop(['smoothed_value_list',\\\n",
    "                    'match_value_list','cum_value_list'],axis=1)\n",
    "#Resetting the dataframe\n",
    "england_2012_13_df = england_2012_13_df.reset_index()"
   ]
  },
  {
   "cell_type": "markdown",
   "metadata": {},
   "source": [
    "####Loading data for Spain for 2012-13"
   ]
  },
  {
   "cell_type": "code",
   "execution_count": 9,
   "metadata": {
    "collapsed": true
   },
   "outputs": [],
   "source": [
    "transfers_spain_summer = pd.read_json('../Transfer_data/Spain_summer_2013.json')\n",
    "transfers_spain_winter = pd.read_json('../Transfer_data/Spain_winter_2012_13.json')\n",
    "transfers_spain_summer['value'] = transfers_spain_summer['value'].astype(str)\n",
    "transfers_spain_winter['value'] = transfers_spain_winter['value'].astype(str)\n",
    "\n",
    "#Concatenating all transfers for the season 12-13 for Spain\n",
    "df_spn_12_13 = pd.concat([transfers_spain_summer,transfers_spain_winter],axis=0)"
   ]
  },
  {
   "cell_type": "markdown",
   "metadata": {
    "collapsed": true
   },
   "source": [
    "####Processing data for 2012-13 for Spain"
   ]
  },
  {
   "cell_type": "code",
   "execution_count": null,
   "metadata": {
    "collapsed": false
   },
   "outputs": [],
   "source": [
    "spain_2012_13_df = join_df(fix_names(df_spn_12_13),tr_features12)"
   ]
  },
  {
   "cell_type": "code",
   "execution_count": 11,
   "metadata": {
    "collapsed": true
   },
   "outputs": [],
   "source": [
    "#Deleting columns with lists before saving\n",
    "spain_2012_13_df = spain_2012_13_df.drop(['smoothed_value_list',\\\n",
    "                    'match_value_list','cum_value_list'],axis=1)\n",
    "#Resetting the dataframe\n",
    "spain_2012_13_df = spain_2012_13_df.reset_index()"
   ]
  },
  {
   "cell_type": "markdown",
   "metadata": {},
   "source": [
    "####Loading data for Italy for 2012-13"
   ]
  },
  {
   "cell_type": "code",
   "execution_count": 12,
   "metadata": {
    "collapsed": false
   },
   "outputs": [],
   "source": [
    "transfers_italy_summer_jul = pd.read_json('../Transfer_data/Italy_summer_2013_Jul.json')\n",
    "transfers_italy_summer_aug = pd.read_json('../Transfer_data/Italy_summer_2013_Aug.json')\n",
    "transfers_italy_winter = pd.read_json('../Transfer_data/Spain_winter_2012_13.json')\n",
    "\n",
    "#Concatenating all transfers for the season 12-13 for Italy\n",
    "df_it_12_13 = pd.concat([transfers_italy_summer_jul,\\\n",
    "                         transfers_italy_summer_aug, transfers_italy_winter],axis=0)"
   ]
  },
  {
   "cell_type": "markdown",
   "metadata": {},
   "source": [
    "####Processing data for 2012-13 for Italy"
   ]
  },
  {
   "cell_type": "code",
   "execution_count": null,
   "metadata": {
    "collapsed": false
   },
   "outputs": [],
   "source": [
    "italy_2012_13_df = join_df(fix_names(df_it_12_13),tr_features12)"
   ]
  },
  {
   "cell_type": "code",
   "execution_count": 14,
   "metadata": {
    "collapsed": true
   },
   "outputs": [],
   "source": [
    "#Deleting columns with lists before saving\n",
    "italy_2012_13_df = italy_2012_13_df.drop(['smoothed_value_list',\\\n",
    "                    'match_value_list','cum_value_list'],axis=1)\n",
    "#Resetting the dataframe\n",
    "italy_2012_13_df = italy_2012_13_df.reset_index()"
   ]
  },
  {
   "cell_type": "markdown",
   "metadata": {},
   "source": [
    "####Loading data for 2013-14 for England"
   ]
  },
  {
   "cell_type": "code",
   "execution_count": 15,
   "metadata": {
    "collapsed": true
   },
   "outputs": [],
   "source": [
    "transfers_england_summer = pd.read_json('../Transfer_data/England_summer_2014.json')\n",
    "transfers_england_winter = pd.read_json('../Transfer_data/England_winter_2013_14.json')\n",
    "transfers_england_summer['value'] = transfers_england_summer['value'].astype(str)\n",
    "transfers_england_winter['value'] = transfers_england_winter['value'].astype(str)\n",
    "\n",
    "#Concatenating all transfers for the season 13-14 for England\n",
    "df_eng_13_14 = pd.concat([transfers_england_summer,transfers_england_winter],axis=0)"
   ]
  },
  {
   "cell_type": "markdown",
   "metadata": {},
   "source": [
    "####Processing data for 2013-14 for England"
   ]
  },
  {
   "cell_type": "code",
   "execution_count": null,
   "metadata": {
    "collapsed": false
   },
   "outputs": [],
   "source": [
    "england_2013_14_df = join_df(fix_names(df_eng_13_14),tr_features13)"
   ]
  },
  {
   "cell_type": "code",
   "execution_count": 34,
   "metadata": {
    "collapsed": true
   },
   "outputs": [],
   "source": [
    "#Deleting columns with lists before saving\n",
    "england_2013_14_df = england_2013_14_df.drop(['smoothed_value_list',\\\n",
    "                    'match_value_list','cum_value_list'],axis=1)\n",
    "#Resetting the dataframe\n",
    "england_2013_14_df = england_2013_14_df.reset_index()"
   ]
  },
  {
   "cell_type": "markdown",
   "metadata": {},
   "source": [
    "####Saving only england data"
   ]
  },
  {
   "cell_type": "code",
   "execution_count": 42,
   "metadata": {
    "collapsed": false
   },
   "outputs": [],
   "source": [
    "val_eng_12_13 = england_2012_13_df[england_2012_13_df['value'].apply(lambda x: x.isdigit())]\n",
    "val_eng_13_14 = england_2013_14_df[england_2013_14_df['value'].apply(lambda x: x.isdigit())]\n",
    "val_eng = pd.concat([val_eng_12_13,val_eng_13_14],axis=0)\n",
    "val_eng = val_eng.reset_index()\n",
    "val_eng = val_eng.drop(['level_0','index','ref_name'], axis=1)\n",
    "val_eng.to_excel(\"England_all_transfers_with_value.xlsx\")"
   ]
  },
  {
   "cell_type": "code",
   "execution_count": 43,
   "metadata": {
    "collapsed": true
   },
   "outputs": [],
   "source": [
    "val_eng_12_13 = england_2012_13_df[~england_2012_13_df['value'].apply(lambda x: x.isdigit())]\n",
    "val_eng_13_14 = england_2013_14_df[~england_2013_14_df['value'].apply(lambda x: x.isdigit())]\n",
    "val_eng = pd.concat([val_eng_12_13,val_eng_13_14],axis=0)\n",
    "val_eng = val_eng.reset_index()\n",
    "val_eng = val_eng.drop(['level_0','index','ref_name'], axis=1)\n",
    "val_eng.to_excel(\"England_all_transfers_without_value.xlsx\")"
   ]
  },
  {
   "cell_type": "code",
   "execution_count": 17,
   "metadata": {
    "collapsed": true
   },
   "outputs": [],
   "source": [
    "check_list = ['Loan','Undisclosed','Swap','Free','Loan return']\n",
    "#test_df = df_eng_12_13[~df_eng_12_13['value'].isin(check_list)]"
   ]
  },
  {
   "cell_type": "code",
   "execution_count": 18,
   "metadata": {
    "collapsed": false
   },
   "outputs": [
    {
     "data": {
      "text/plain": [
       "262000000.0"
      ]
     },
     "execution_count": 18,
     "metadata": {},
     "output_type": "execute_result"
    }
   ],
   "source": [
    "##Testing the amount of transfer money we can account for after name fix\n",
    "sum(spain_2012_13_df[~spain_2012_13_df['value'].isin(check_list)]['value'].astype(float))"
   ]
  }
 ],
 "metadata": {
  "kernelspec": {
   "display_name": "Python 2",
   "language": "python",
   "name": "python2"
  },
  "language_info": {
   "codemirror_mode": {
    "name": "ipython",
    "version": 2
   },
   "file_extension": ".py",
   "mimetype": "text/x-python",
   "name": "python",
   "nbconvert_exporter": "python",
   "pygments_lexer": "ipython2",
   "version": "2.7.10"
  }
 },
 "nbformat": 4,
 "nbformat_minor": 0
}
