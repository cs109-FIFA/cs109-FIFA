{
 "cells": [
  {
   "cell_type": "markdown",
   "metadata": {},
   "source": [
    "#Initial Data Cleaning\n",
    "\n",
    "This notebook is for the initial stages of data cleaning. It will be updated and cleaned up as we solidify our methods and have completed our scraping."
   ]
  },
  {
   "cell_type": "code",
   "execution_count": 1,
   "metadata": {
    "collapsed": true
   },
   "outputs": [],
   "source": [
    "% matplotlib inline\n",
    "import json\n",
    "import pandas as pd\n",
    "import numpy as np\n",
    "import copy\n",
    "pd.set_option('display.width', 500)\n",
    "pd.set_option('display.max_columns', 100)\n",
    "pd.set_option('display.notebook_repr_html', True)\n",
    "import seaborn as sns\n",
    "sns.set_style(\"whitegrid\")\n",
    "sns.set_context(\"poster\")"
   ]
  },
  {
   "cell_type": "code",
   "execution_count": 2,
   "metadata": {
    "collapsed": true
   },
   "outputs": [],
   "source": [
    "# Load in data\n",
    "filenames = ['BPL/BPL12-13.json', 'BPL/BPL13-14.json', 'French/French12-13.json', 'French/French13-14.json', \n",
    "             'Germany/Bundes12-13.json', 'Germany/Bundes13-14.json', \n",
    "             'Italy/Italy12-13.json', 'Italy/Italy13-14.json', \n",
    "             'Spanish/Spanish12-13.json', 'Spanish/Spanish13-14.json']\n",
    "with open(filenames[0], 'r') as fp:\n",
    "    data = json.load(fp)"
   ]
  },
  {
   "cell_type": "markdown",
   "metadata": {},
   "source": [
    "###Gaining familiarity with data structure and early testing"
   ]
  },
  {
   "cell_type": "code",
   "execution_count": 3,
   "metadata": {
    "collapsed": false
   },
   "outputs": [
    {
     "data": {
      "text/plain": [
       "{u'away': [[u'Andreas Weimann', u' ', 67, 0, 0, 0]],\n",
       " u'day': 27,\n",
       " u'home': [[u'Santi Cazorla', u' ', 5, 1, 0, 0],\n",
       "  [u'Santi Cazorla', u'Nacho Monreal', 84, 1, 0, 0]]}"
      ]
     },
     "execution_count": 3,
     "metadata": {},
     "output_type": "execute_result"
    }
   ],
   "source": [
    "data['arsenal-fc-aston-villa']"
   ]
  },
  {
   "cell_type": "code",
   "execution_count": 4,
   "metadata": {
    "collapsed": false
   },
   "outputs": [
    {
     "data": {
      "text/plain": [
       "[[u'Santi Cazorla', u' ', 5, 1, 0, 0],\n",
       " [u'Santi Cazorla', u'Nacho Monreal', 84, 1, 0, 0]]"
      ]
     },
     "execution_count": 4,
     "metadata": {},
     "output_type": "execute_result"
    }
   ],
   "source": [
    "data['arsenal-fc-aston-villa']['home']"
   ]
  },
  {
   "cell_type": "code",
   "execution_count": 5,
   "metadata": {
    "collapsed": false
   },
   "outputs": [
    {
     "data": {
      "text/plain": [
       "[(u'Santi Cazorla', 2)]"
      ]
     },
     "execution_count": 5,
     "metadata": {},
     "output_type": "execute_result"
    }
   ],
   "source": [
    "homescorer = [goals[0] for goals in data['arsenal-fc-aston-villa']['home']]\n",
    "homescorer = [(player, homescorer.count(player)) for player in set(homescorer)]\n",
    "homescorer"
   ]
  },
  {
   "cell_type": "code",
   "execution_count": 6,
   "metadata": {
    "collapsed": false
   },
   "outputs": [
    {
     "data": {
      "text/plain": [
       "[u' ', u'Nacho Monreal']"
      ]
     },
     "execution_count": 6,
     "metadata": {},
     "output_type": "execute_result"
    }
   ],
   "source": [
    "homeassist = [goals[1] for goals in data['arsenal-fc-aston-villa']['home'] if isinstance(goals[1],unicode)]\n",
    "homeassist"
   ]
  },
  {
   "cell_type": "code",
   "execution_count": 7,
   "metadata": {
    "collapsed": false
   },
   "outputs": [
    {
     "data": {
      "text/plain": [
       "[(u'Andreas Weimann', 1)]"
      ]
     },
     "execution_count": 7,
     "metadata": {},
     "output_type": "execute_result"
    }
   ],
   "source": [
    "awayscorer = [goals[0] for goals in data['arsenal-fc-aston-villa']['away']]\n",
    "awayscorer = [(player, awayscorer.count(player)) for player in set(awayscorer)]\n",
    "awayscorer"
   ]
  },
  {
   "cell_type": "code",
   "execution_count": 8,
   "metadata": {
    "collapsed": false
   },
   "outputs": [
    {
     "data": {
      "text/plain": [
       "{u'away': [[u'Jermain Defoe', u'Kyle Naughton', 58, 1, 0, 0],\n",
       "  [u'Gareth Bale', u' ', 61, 2, 0, 0],\n",
       "  [u'Gareth Bale', u'Aaron Lennon', 73, 3, 0, 0],\n",
       "  [u'Gareth Bale', u'Gylfi Sigur\\xc3\\xb0sson', 84, 4, 0, 1]],\n",
       " u'day': 19,\n",
       " u'home': []}"
      ]
     },
     "execution_count": 8,
     "metadata": {},
     "output_type": "execute_result"
    }
   ],
   "source": [
    "data['aston-villa-tottenham-hotspur']"
   ]
  },
  {
   "cell_type": "code",
   "execution_count": 9,
   "metadata": {
    "collapsed": false
   },
   "outputs": [
    {
     "data": {
      "text/plain": [
       "['arsenal-fc-aston-villa', 'arsenal-fc-chelsea-fc', 'arsenal-fc-everton-fc']"
      ]
     },
     "execution_count": 9,
     "metadata": {},
     "output_type": "execute_result"
    }
   ],
   "source": [
    "teams = ['arsenal-fc','aston-villa','chelsea-fc','everton-fc','fulham-fc','liverpool-fc','manchester-city','manchester-united','newcastle-united','norwich-city','queens-park-rangers','reading-fc','southampton-fc','stoke-city','sunderland-afc','swansea-city','tottenham-hotspur','west-bromwich-albion','west-ham-united','wigan-athletic']\n",
    "games = [t1+\"-\"+t2 for t1 in teams for t2 in teams if t1!=t2]\n",
    "games[:3]"
   ]
  },
  {
   "cell_type": "code",
   "execution_count": 10,
   "metadata": {
    "collapsed": false
   },
   "outputs": [
    {
     "data": {
      "text/plain": [
       "{u'away': [[u'Andreas Weimann', u' ', 67, 0, 0, 0]],\n",
       " u'day': 27,\n",
       " u'home': [[u'Santi Cazorla', u' ', 5, 1, 0, 0],\n",
       "  [u'Santi Cazorla', u'Nacho Monreal', 84, 1, 0, 0]]}"
      ]
     },
     "execution_count": 10,
     "metadata": {},
     "output_type": "execute_result"
    }
   ],
   "source": [
    "data[games[0]]"
   ]
  },
  {
   "cell_type": "markdown",
   "metadata": {},
   "source": [
    " "
   ]
  },
  {
   "cell_type": "markdown",
   "metadata": {},
   "source": [
    " "
   ]
  },
  {
   "cell_type": "markdown",
   "metadata": {},
   "source": [
    "### The following function reads in the data scraped from http://www.worldfootball.net/ via the scraping.ipynb code that is stored as .json files in our repository. What needs to be changed is the number of columns per player. In order to keep things uniform, each player has every match for the season. I want to change this to be ordered by match chronologically."
   ]
  },
  {
   "cell_type": "code",
   "execution_count": 11,
   "metadata": {
    "collapsed": false
   },
   "outputs": [],
   "source": [
    "def cleaner_to_df(data,matches):\n",
    "    \"\"\"\n",
    "    Function\n",
    "    --------\n",
    "    cleaner_to_df\n",
    "\n",
    "    Inputs\n",
    "    ------\n",
    "    data : dictionary of dictionaries\n",
    "       dictionary provided from scraping.ipynb in the format of {match: home: [], away: []}\n",
    "    games : list of match pairings\n",
    "\n",
    "    Returns\n",
    "    -------\n",
    "     A dataframe, indexed by player, with each match as the columns (will be adjusted to matchday):\n",
    "         Each column contains a dictionary for the players contributions during that particular match\n",
    "         {goals: (minute, was_tiebreaker, was_equalizer), \n",
    "         assists: (minute, was_tiebreaker, was_equalizer), \n",
    "         was_sub: boolean, whether player was a substitute or not\n",
    "         was_home: boolean, whether player's club was home team}\n",
    "\n",
    "    Notes\n",
    "    -----\n",
    "    Current version of code creates a column for every match for each player (very wrong I know),\n",
    "    this will be updated to contain matchday information so that the columns are consistent across match day \n",
    "\n",
    "    Written by TWK ... 11 November '15\n",
    "    \"\"\"\n",
    "    # Create a unique set of players that contributed in any way during the season\n",
    "    players_list = set([])\n",
    "    for match in matches:\n",
    "        for team in ['home', 'away']:\n",
    "            for goal in range(len(data[match][team])):\n",
    "                scorer = data[match][team][goal][0]\n",
    "                assister = data[match][team][goal][1]\n",
    "\n",
    "                if not isinstance(assister,unicode):\n",
    "                    assister = ''\n",
    "                players_list.add(scorer)\n",
    "                players_list.add(assister)  \n",
    "\n",
    "    # Initializing player dictionary... \n",
    "    # Creates empty list for every player for every match played in the season\n",
    "    base_dict = {}\n",
    "#     for match in matches:\n",
    "    for day in range(1,39):\n",
    "        base_dict[day] = dict(zip(['goals','assists','was_sub', 'was_home'],[[],[],0, 0]))\n",
    "    players = {}\n",
    "    for player in players_list:\n",
    "        players[player] = copy.deepcopy(base_dict)\n",
    "\n",
    "    # Populate the player dictionary\n",
    "    for match in matches:\n",
    "        matchDay = data[match]['day']\n",
    "        for team in ['home','away']:\n",
    "            for num_goal in range(len(data[match][team])):\n",
    "                goal = data[match][team][num_goal] # Get the event information\n",
    "                scorerName = goal[0] # Pull the scorer's name\n",
    "                assistName = goal[1] # Pull the assist man's name\n",
    "\n",
    "\n",
    "                #The following structure will change as virgodi pushes his most recent changes to scraping.ipynb\n",
    "                if isinstance(assistName, unicode): # Check if the assist column is missing...\n",
    "                    goaltuple = (goal[2],goal[3]==1,goal[3]==0) # (minute, was_tiebreaker, was_equalizer)\n",
    "                    scorerSub = goal[4] # Check if scorer was a substitute\n",
    "                    assistSub = goal[5] # Check if scorer was a substitute\n",
    "                    \n",
    "                    # Fill in relevant information for assist man\n",
    "                    players[assistName][matchDay][\"assists\"].append(goaltuple)\n",
    "                    players[assistName][matchDay][\"was_sub\"] = assistSub == 1\n",
    "                    players[assistName][matchDay][\"was_home\"] = team == 'home'\n",
    "                else:\n",
    "                    assistName = ''\n",
    "                    goaltuple = (goal[1],goal[2]==1,goal[2]==0)\n",
    "                    scorerSub = goal[3]\n",
    "                    assistSub = 0\n",
    "                # Fill in relevant information for goal scorer\n",
    "                players[scorerName][matchDay][\"goals\"].append(goaltuple)\n",
    "                players[scorerName][matchDay][\"was_sub\"] = scorerSub == 1\n",
    "                if goaltuple[0] > 0:\n",
    "                    players[scorerName][matchDay][\"was_home\"] = team == 'home'\n",
    "                else:\n",
    "                    players[scorerName][matchDay][\"was_home\"] = team != 'home'\n",
    "\n",
    "    # Return player dictionary as a dataframe\n",
    "    return pd.DataFrame(players)"
   ]
  },
  {
   "cell_type": "markdown",
   "metadata": {},
   "source": [
    "### For each json stored in our repository as of 10 PM on 11 Nov. '15, we load each data set and populate the relevant dataframe and save it with the same file name with the .pkl extension (saved the data frames using the pickle class of Pandas...)"
   ]
  },
  {
   "cell_type": "code",
   "execution_count": 12,
   "metadata": {
    "collapsed": false
   },
   "outputs": [],
   "source": [
    "for filedir in filenames:\n",
    "    \n",
    "    with open(filedir, 'r') as fp:\n",
    "        data = json.load(fp)\n",
    "        \n",
    "    if filedir == filenames[0]:\n",
    "        teams = ['arsenal-fc','aston-villa','chelsea-fc','everton-fc','fulham-fc','liverpool-fc','manchester-city','manchester-united','newcastle-united','norwich-city','queens-park-rangers','reading-fc','southampton-fc','stoke-city','sunderland-afc','swansea-city','tottenham-hotspur','west-bromwich-albion','west-ham-united','wigan-athletic']\n",
    "        \n",
    "    elif filedir == filenames[1]:\n",
    "        teams = ['arsenal-fc','aston-villa','cardiff-city','chelsea-fc','crystal-palace','everton-fc','fulham-fc','hull-city','liverpool-fc','manchester-city','manchester-united','newcastle-united','norwich-city','southampton-fc','stoke-city','sunderland-afc','swansea-city','tottenham-hotspur','west-bromwich-albion','west-ham-united']\n",
    "        \n",
    "    elif filedir == filenames[2]:\n",
    "        teams = ['ac-ajaccio','as-nancy','as-saint-etienne','estac-troyes','evian-thonon-gaillard','fc-lorient','fc-sochaux','girondins-bordeaux','lille-osc','montpellier-hsc','ogc-nice','olympique-lyon','olympique-marseille','paris-saint-germain','sc-bastia','stade-brest','stade-reims','stade-rennes','toulouse-fc','valenciennes-fc']\n",
    "        \n",
    "    elif filedir == filenames[3]:\n",
    "        teams = ['ac-ajaccio','as-monaco','as-saint-etienne','ea-guingamp','evian-thonon-gaillard','fc-lorient','fc-nantes','fc-sochaux','girondins-bordeaux','lille-osc','montpellier-hsc','ogc-nice','olympique-lyon','olympique-marseille','paris-saint-germain','sc-bastia','stade-reims','stade-rennes','toulouse-fc','valenciennes-fc']\n",
    "        \n",
    "    elif filedir == filenames[4]:\n",
    "        teams = ['bor-moenchengladbach','bayern-muenchen','sc-freiburg','fc-schalke-04','hamburger-sv','bayer-leverkusen','eintracht-frankfurt','vfl-wolfsburg','1-fc-nuernberg','werder-bremen','borussia-dortmund','1899-hoffenheim','vfb-stuttgart','1-fsv-mainz-05','fc-augsburg','spvgg-greuther-fuerth','hannover-96','fortuna-duesseldorf']\n",
    "        \n",
    "    elif filedir == filenames[5]:\n",
    "        teams = ['bor-moenchengladbach','bayern-muenchen','sc-freiburg','fc-schalke-04','hamburger-sv','bayer-leverkusen','eintracht-frankfurt','vfl-wolfsburg','1-fc-nuernberg','werder-bremen','borussia-dortmund','1899-hoffenheim','vfb-stuttgart','1-fsv-mainz-05','fc-augsburg','eintracht-braunschweig','hannover-96','hertha-bsc']\n",
    "        \n",
    "    elif filedir == filenames[6]:\n",
    "        teams = ['sampdoria','juventus','atalanta-bergamo','chievo-verona','bologna-fc','genoa-cfc','torino-fc','calcio-catania','cagliari-calcio','lazio-roma','delfino-pescara-1936','acf-fiorentina','ac-siena','ac-milan','as-roma','ssc-napoli','us-palermo','parma-fc','inter','udinese-calcio']\n",
    "        \n",
    "    elif filedir == filenames[7]:\n",
    "        teams = ['sampdoria','juventus','atalanta-bergamo','chievo-verona','bologna-fc','genoa-cfc','torino-fc','calcio-catania','cagliari-calcio','lazio-roma','sassuolo-calcio','acf-fiorentina','hellas-verona','ac-milan','as-roma','ssc-napoli','as-livorno','parma-fc','inter','udinese-calcio']\n",
    "        \n",
    "    elif filedir == filenames[8]:\n",
    "        teams = ['real-madrid','ca-osasuna','fc-barcelona','malaga-cf','granada-cf','getafe-cf','sevilla-fc','valencia-cf','deportivo-la-coruna','real-sociedad','celta-vigo','espanyol-barcelona','rcd-mallorca','real-valladolid','real-zaragoza','atletico-madrid','levante-ud','real-betis','rayo-vallecano','athletic-bilbao']\n",
    "        \n",
    "    elif filedir == filenames[9]:\n",
    "        teams = ['real-madrid','ca-osasuna','fc-barcelona','malaga-cf','granada-cf','getafe-cf','sevilla-fc','valencia-cf','elche-cf','real-sociedad','celta-vigo','espanyol-barcelona','villarreal-cf','real-valladolid','ud-almeria','atletico-madrid','levante-ud','real-betis','rayo-vallecano','athletic-bilbao']\n",
    "\n",
    "    matches = [t1+\"-\"+t2 for t1 in teams for t2 in teams if t1!=t2]\n",
    "    playerdf = cleaner_to_df(data, matches)\n",
    "    \n",
    "    filename = filedir[:-5].replace(\"-\",\"_\")\n",
    "    filename = filename+'.pkl'\n",
    "    \n",
    "    playerdf.to_pickle(filename)"
   ]
  },
  {
   "cell_type": "code",
   "execution_count": null,
   "metadata": {
    "collapsed": false
   },
   "outputs": [],
   "source": []
  },
  {
   "cell_type": "code",
   "execution_count": null,
   "metadata": {
    "collapsed": true
   },
   "outputs": [],
   "source": []
  },
  {
   "cell_type": "markdown",
   "metadata": {},
   "source": [
    " "
   ]
  },
  {
   "cell_type": "markdown",
   "metadata": {},
   "source": [
    "### Example of how to load one of our dataframes"
   ]
  },
  {
   "cell_type": "code",
   "execution_count": 13,
   "metadata": {
    "collapsed": false
   },
   "outputs": [],
   "source": [
    "playerdf = pd.read_pickle('BPL/BPL12_13.pkl')"
   ]
  },
  {
   "cell_type": "code",
   "execution_count": 14,
   "metadata": {
    "collapsed": false
   },
   "outputs": [
    {
     "data": {
      "text/plain": [
       "{'assists': [(27, False, True)],\n",
       " 'goals': [(44, True, False)],\n",
       " 'was_home': True,\n",
       " 'was_sub': False}"
      ]
     },
     "execution_count": 14,
     "metadata": {},
     "output_type": "execute_result"
    }
   ],
   "source": [
    "playerdf[\"Robin van Persie\"][8]"
   ]
  },
  {
   "cell_type": "code",
   "execution_count": 15,
   "metadata": {
    "collapsed": false
   },
   "outputs": [
    {
     "data": {
      "text/plain": [
       "{'assists': [(44, True, False), (46, False, False)],\n",
       " 'goals': [(27, False, True), (65, False, False), (-11, True, False)],\n",
       " 'was_home': True,\n",
       " 'was_sub': False}"
      ]
     },
     "execution_count": 15,
     "metadata": {},
     "output_type": "execute_result"
    }
   ],
   "source": [
    "playerdf['Wayne Rooney'][8]"
   ]
  },
  {
   "cell_type": "markdown",
   "metadata": {},
   "source": [
    "##FIXED\n",
    "####What you see above is that Rooney had an own goal that gets counted for him and since he gets counted during the away team's search his 'was_home' field gets switched. We need to have a flag (like a negative minute or something) to mark if the goal was an own goal. I want to keep own goals so that they are counted against player's value..."
   ]
  },
  {
   "cell_type": "markdown",
   "metadata": {},
   "source": [
    " "
   ]
  },
  {
   "cell_type": "code",
   "execution_count": 16,
   "metadata": {
    "collapsed": false
   },
   "outputs": [],
   "source": [
    "playerdf2 = pd.read_pickle('Italy/Italy13_14.pkl')"
   ]
  },
  {
   "cell_type": "code",
   "execution_count": 17,
   "metadata": {
    "collapsed": false
   },
   "outputs": [
    {
     "data": {
      "text/plain": [
       "{'assists': [],\n",
       " 'goals': [(46, True, False)],\n",
       " 'was_home': False,\n",
       " 'was_sub': False}"
      ]
     },
     "execution_count": 17,
     "metadata": {},
     "output_type": "execute_result"
    }
   ],
   "source": [
    "playerdf2[\"Paul Pogba\"][17]"
   ]
  },
  {
   "cell_type": "code",
   "execution_count": null,
   "metadata": {
    "collapsed": true
   },
   "outputs": [],
   "source": []
  }
 ],
 "metadata": {
  "kernelspec": {
   "display_name": "Python 2",
   "language": "python",
   "name": "python2"
  },
  "language_info": {
   "codemirror_mode": {
    "name": "ipython",
    "version": 2
   },
   "file_extension": ".py",
   "mimetype": "text/x-python",
   "name": "python",
   "nbconvert_exporter": "python",
   "pygments_lexer": "ipython2",
   "version": "2.7.10"
  }
 },
 "nbformat": 4,
 "nbformat_minor": 0
}
