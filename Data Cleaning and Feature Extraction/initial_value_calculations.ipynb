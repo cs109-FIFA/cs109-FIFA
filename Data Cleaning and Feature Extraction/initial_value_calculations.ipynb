{
 "cells": [
  {
   "cell_type": "markdown",
   "metadata": {},
   "source": [
    "# In this notebook, I'll start the process of building and refining our algorithm (read, function... it's really only a linear combination of weights and game statistics) for calculating the game-by-game value of a player."
   ]
  },
  {
   "cell_type": "code",
   "execution_count": 1,
   "metadata": {
    "collapsed": false
   },
   "outputs": [],
   "source": [
    "% matplotlib inline\n",
    "import json\n",
    "import pandas as pd\n",
    "import numpy as np\n",
    "import copy\n",
    "pd.set_option('display.width', 500)\n",
    "pd.set_option('display.max_columns', 100)\n",
    "pd.set_option('display.notebook_repr_html', True)"
   ]
  },
  {
   "cell_type": "markdown",
   "metadata": {},
   "source": [
    "### First, we need to load all the data frames created in Init_DataCleaning.ipynb and merge them by season. We do this so that we'll have a superset of players."
   ]
  },
  {
   "cell_type": "code",
   "execution_count": 2,
   "metadata": {
    "collapsed": false
   },
   "outputs": [],
   "source": [
    "filenames = ['BPL/BPL12_13.pkl', 'BPL/BPL13_14.pkl', 'French/French12_13.pkl', 'French/French13_14.pkl', \n",
    "             'Germany/Bundes12_13.pkl', 'Germany/Bundes13_14.pkl', \n",
    "             'Italy/Italy12_13.pkl', 'Italy/Italy13_14.pkl', \n",
    "             'Spanish/Spanish12_13.pkl', 'Spanish/Spanish13_14.pkl']\n",
    "\n",
    "BPL12 = pd.read_pickle(filenames[0]).drop(' ', axis=1)\n",
    "BPL13 = pd.read_pickle(filenames[1]).drop(' ', axis=1)\n",
    "FRA12 = pd.read_pickle(filenames[2]).drop(' ', axis=1)\n",
    "FRA13 = pd.read_pickle(filenames[3]).drop(' ', axis=1)\n",
    "GER12 = pd.read_pickle(filenames[4]).drop(' ', axis=1)\n",
    "GER13 = pd.read_pickle(filenames[5]).drop(' ', axis=1)\n",
    "ITA12 = pd.read_pickle(filenames[6]).drop(' ', axis=1)\n",
    "ITA13 = pd.read_pickle(filenames[7]).drop(' ', axis=1)\n",
    "SPA12 = pd.read_pickle(filenames[8]).drop(' ', axis=1)\n",
    "SPA13 = pd.read_pickle(filenames[9]).drop(' ', axis=1)\n"
   ]
  },
  {
   "cell_type": "code",
   "execution_count": 3,
   "metadata": {
    "collapsed": false
   },
   "outputs": [],
   "source": [
    "players12 = BPL12.merge(FRA12,left_index=True, right_index=True)\n",
    "players12 = players12.merge(GER12,left_index=True, right_index=True)\n",
    "players12 = players12.merge(ITA12,left_index=True, right_index=True)\n",
    "players12 = players12.merge(SPA12,left_index=True, right_index=True)"
   ]
  },
  {
   "cell_type": "code",
   "execution_count": 4,
   "metadata": {
    "collapsed": false
   },
   "outputs": [
    {
     "data": {
      "text/plain": [
       "(38, 1679)"
      ]
     },
     "execution_count": 4,
     "metadata": {},
     "output_type": "execute_result"
    }
   ],
   "source": [
    "players12.shape"
   ]
  },
  {
   "cell_type": "markdown",
   "metadata": {},
   "source": [
    "#### Accounting for players who have transferred midseason, 2012-13 Season"
   ]
  },
  {
   "cell_type": "code",
   "execution_count": 5,
   "metadata": {
    "collapsed": false
   },
   "outputs": [],
   "source": [
    "playerlist12 = players12.columns\n",
    "dup_list12 = np.unique([name[:-2] for name in playerlist12 if (name[-2:] == '_x' or name[-2:]=='_y')])"
   ]
  },
  {
   "cell_type": "code",
   "execution_count": 6,
   "metadata": {
    "collapsed": false
   },
   "outputs": [
    {
     "data": {
      "text/plain": [
       "16"
      ]
     },
     "execution_count": 6,
     "metadata": {},
     "output_type": "execute_result"
    }
   ],
   "source": [
    "len(dup_list12)"
   ]
  },
  {
   "cell_type": "code",
   "execution_count": 7,
   "metadata": {
    "collapsed": false
   },
   "outputs": [],
   "source": [
    "'''To account for players switching teams and leagues mid-season, we simply just collapse\n",
    "the lists into a single list and repopulate the data frame with that player's name, without any\n",
    "suffix attached via the merge operation done previously'''\n",
    "for name in dup_list12:\n",
    "    series_x = players12[name+'_x'].to_dict()\n",
    "    series_y = players12[name+'_y'].to_dict()\n",
    "    new_series = {}\n",
    "    for ii in np.arange(1,39):\n",
    "        is_x = isinstance(series_x[ii]['was_sub'],bool)\n",
    "        is_y = isinstance(series_y[ii]['was_sub'],bool)\n",
    "        if is_x:\n",
    "            new_series[ii] = series_x[ii]\n",
    "        elif is_y:\n",
    "            new_series[ii] = series_y[ii]\n",
    "        else:\n",
    "            new_series[ii] = series_y[ii]\n",
    "    players12[name] = pd.Series(new_series)\n",
    "    players12 = players12.drop([name+'_x', name+'_y'], axis=1)"
   ]
  },
  {
   "cell_type": "code",
   "execution_count": 8,
   "metadata": {
    "collapsed": false
   },
   "outputs": [
    {
     "data": {
      "text/plain": [
       "(38, 1663)"
      ]
     },
     "execution_count": 8,
     "metadata": {},
     "output_type": "execute_result"
    }
   ],
   "source": [
    "players12.shape"
   ]
  },
  {
   "cell_type": "markdown",
   "metadata": {},
   "source": [
    "Looks like it worked as it should, nice!"
   ]
  },
  {
   "cell_type": "markdown",
   "metadata": {},
   "source": [
    "#### Now repeat for the next season..."
   ]
  },
  {
   "cell_type": "code",
   "execution_count": 9,
   "metadata": {
    "collapsed": false
   },
   "outputs": [],
   "source": [
    "players13 = BPL13.merge(FRA13,left_index=True, right_index=True)\n",
    "players13 = players13.merge(GER13,left_index=True, right_index=True)\n",
    "players13 = players13.merge(ITA13,left_index=True, right_index=True)\n",
    "players13 = players13.merge(SPA13,left_index=True, right_index=True)"
   ]
  },
  {
   "cell_type": "code",
   "execution_count": 10,
   "metadata": {
    "collapsed": false
   },
   "outputs": [
    {
     "data": {
      "text/plain": [
       "(38, 1659)"
      ]
     },
     "execution_count": 10,
     "metadata": {},
     "output_type": "execute_result"
    }
   ],
   "source": [
    "players13.shape"
   ]
  },
  {
   "cell_type": "code",
   "execution_count": 11,
   "metadata": {
    "collapsed": true
   },
   "outputs": [],
   "source": [
    "playerlist13 = players13.columns\n",
    "dup_list13 = np.unique([name[:-2] for name in playerlist13 if (name[-2:] == '_x' or name[-2:]=='_y')])"
   ]
  },
  {
   "cell_type": "code",
   "execution_count": 12,
   "metadata": {
    "collapsed": false
   },
   "outputs": [
    {
     "data": {
      "text/plain": [
       "16"
      ]
     },
     "execution_count": 12,
     "metadata": {},
     "output_type": "execute_result"
    }
   ],
   "source": [
    "len(dup_list13)"
   ]
  },
  {
   "cell_type": "code",
   "execution_count": 13,
   "metadata": {
    "collapsed": true
   },
   "outputs": [],
   "source": [
    "'''To account for players switching teams and leagues mid-season, we simply just collapse\n",
    "the lists into a single list and repopulate the data frame with that player's name, without any\n",
    "suffix attached via the merge operation done previously'''\n",
    "for name in dup_list13:\n",
    "    series_x = players13[name+'_x'].to_dict()\n",
    "    series_y = players13[name+'_y'].to_dict()\n",
    "    new_series = {}\n",
    "    for ii in np.arange(1,39):\n",
    "        is_x = isinstance(series_x[ii]['was_sub'],bool)\n",
    "        is_y = isinstance(series_y[ii]['was_sub'],bool)\n",
    "        if is_x:\n",
    "            new_series[ii] = series_x[ii]\n",
    "        elif is_y:\n",
    "            new_series[ii] = series_y[ii]\n",
    "        else:\n",
    "            new_series[ii] = series_y[ii]\n",
    "    players13[name] = pd.Series(new_series)\n",
    "    players13 = players13.drop([name+'_x', name+'_y'], axis=1)"
   ]
  },
  {
   "cell_type": "code",
   "execution_count": 14,
   "metadata": {
    "collapsed": false
   },
   "outputs": [
    {
     "data": {
      "text/plain": [
       "(38, 1642)"
      ]
     },
     "execution_count": 14,
     "metadata": {},
     "output_type": "execute_result"
    }
   ],
   "source": [
    "players13.shape"
   ]
  },
  {
   "cell_type": "markdown",
   "metadata": {},
   "source": [
    "# Now for the fun part! The algorithm/metric/function... (whatever you want to call it)"
   ]
  },
  {
   "cell_type": "code",
   "execution_count": 15,
   "metadata": {
    "collapsed": false
   },
   "outputs": [],
   "source": [
    "\"\"\"\n",
    "Function\n",
    "--------\n",
    "player_val\n",
    "\n",
    "Inputs\n",
    "------\n",
    "playerdf: a dataframe keyed by player and containing rows for each individual match day.\n",
    "     For each player, match day pair there is a a dictionary with the following fields:\n",
    "     \n",
    "     goals: list of goals scored by that player (minute, was tiebreaker, was equalizer)\n",
    "     assists: list of assists created by that player (minute, was tiebreaker, was equalizer)\n",
    "     was_sub: Whether or not the player was a substitute\n",
    "     was_home: Whether or not the player was on the home team or not\n",
    "   \n",
    "Returns\n",
    "-------\n",
    "Nothing is returned, the function adds the following information to the input dataframe\n",
    "after scanning through the data contained therein:\n",
    "\n",
    "    current match value score\n",
    "    cumulative score for the season\n",
    "    moving average over the past five games to smooth out discrete events\n",
    "\n",
    "Notes\n",
    "-----\n",
    "Specific game state parameters will be updated.\n",
    "Written 19 Nov. 2015 by TWK\n",
    "\"\"\"\n",
    "\n",
    "def player_val(playerdf):\n",
    "\n",
    "    # Get the name of each player that contributed in any way in the season\n",
    "    playerlist = playerdf.columns\n",
    "    \n",
    "    # Loop through each player in the playerlist, record their value added for each match.\n",
    "    for player in playerlist: \n",
    "    \n",
    "        cont = 0 # Counter for consistency factor multiplication\n",
    "        del_cont = 0.15 # Consistency factor\n",
    "        window = 5 # Moving average to help smooth out discrete events\n",
    "        value_tracker = [] # Aggregated value, will be incremented each match\n",
    "        for i_match in np.arange(1,39):\n",
    "            goal_list = playerdf[player][i_match]['goals']\n",
    "            assist_list = playerdf[player][i_match]['assists']\n",
    "            is_home = playerdf[player][i_match]['was_home']\n",
    "            is_sub = playerdf[player][i_match]['was_sub']\n",
    "\n",
    "\n",
    "            # Provide slight bump if player scores away from home\n",
    "            if isinstance(is_home,bool) & is_home:\n",
    "                away = 0\n",
    "            elif isinstance(is_home,bool) & (not is_home):\n",
    "                away = 0.15\n",
    "            else:\n",
    "                away = 0\n",
    "\n",
    "            # Provide slight bump if player is a substitute and registers a statistic\n",
    "            if isinstance(is_sub,bool) & is_sub:\n",
    "                sub = 2\n",
    "            elif isinstance(is_sub,bool) & (not is_sub):\n",
    "                sub = 0\n",
    "            else:\n",
    "                sub = 0\n",
    "\n",
    "            val4goal, num_goals = 0, 0\n",
    "            val4asst, num_assts = 0, 0\n",
    "\n",
    "            # GOALS\n",
    "            #--------------\n",
    "            for goal in goal_list:\n",
    "                timescored = goal[0]\n",
    "                is_tb = goal[1]\n",
    "                is_eq = goal[2]\n",
    "\n",
    "                # Filter out own-goals\n",
    "                if timescored < 0:\n",
    "                    continue\n",
    "\n",
    "                if timescored <= 20: # If goal is scored early\n",
    "                    if is_tb: tb = 2\n",
    "                    else: tb = 0\n",
    "\n",
    "                    if is_eq: eq = 1.5\n",
    "                    else:  eq = 0\n",
    "\n",
    "                elif timescored > 80:\n",
    "                    if is_tb: tb = 4 # Heavily favor late gamewinning goals\n",
    "                    else: tb = 0\n",
    "\n",
    "                    if is_eq: eq = 2\n",
    "                    else: eq = 0\n",
    "\n",
    "                else:\n",
    "                    if is_tb: tb = 2\n",
    "                    else: tb = 0\n",
    "\n",
    "                    if is_eq: eq = 1.75\n",
    "                    else:  eq = 0\n",
    "\n",
    "                val4goal += (1+(del_cont*cont))*(1+away)*(eq + tb + 1)\n",
    "                num_goals += 1\n",
    "\n",
    "            # ASSISTS\n",
    "            #-------------------\n",
    "            for assist in assist_list:\n",
    "                timescored = assist[0]\n",
    "                is_tb = assist[1]\n",
    "                is_eq = assist[2]\n",
    "\n",
    "                # Filter out own-goals\n",
    "                if timescored < 0:\n",
    "                    continue\n",
    "\n",
    "                if timescored <= 20: # If goal is scored early\n",
    "                    if is_tb: tb = 2\n",
    "                    else: tb = 0\n",
    "\n",
    "                    if is_eq: eq = 1.5\n",
    "                    else:  eq = 0\n",
    "\n",
    "                elif timescored > 80:\n",
    "                    if is_tb: tb = 4 # Heavily favor late gamewinning goals\n",
    "                    else: tb = 0\n",
    "\n",
    "                    if is_eq: eq = 2\n",
    "                    else: eq = 0\n",
    "\n",
    "                else:\n",
    "                    if is_tb: tb = 2\n",
    "                    else: tb = 0\n",
    "\n",
    "                    if is_eq: eq = 1.75\n",
    "                    else:  eq = 0\n",
    "\n",
    "                val4asst += (1+(del_cont*cont))*(1+away)*(eq + tb + .75)\n",
    "                num_assts += 1\n",
    "\n",
    "            # Sum up player impact on match\n",
    "            match_value = val4goal + val4asst + sub \n",
    "            value_tracker.append(match_value)\n",
    "\n",
    "            # Place calculated impact into match dictionary\n",
    "            playerdf[player][i_match]['match_value'] = match_value\n",
    "            playerdf[player][i_match]['cum_val'] = sum(value_tracker)\n",
    "            playerdf[player][i_match]['avg_val_smooth'] = sum(value_tracker[max(0,(i_match-window)):i_match])/float(min(i_match,window))  \n",
    "\n",
    "            if num_goals > 0 | num_assts > 0:\n",
    "                cont += 1 # Increment consistency multiplier if player registers a statistic\n",
    "            else:\n",
    "                cont = 0  # Reset consistency multiplier if player doesn't register a statistic"
   ]
  },
  {
   "cell_type": "markdown",
   "metadata": {},
   "source": [
    "### Now for the moment of truth..."
   ]
  },
  {
   "cell_type": "code",
   "execution_count": 16,
   "metadata": {
    "collapsed": false
   },
   "outputs": [
    {
     "name": "stdout",
     "output_type": "stream",
     "text": [
      "CPU times: user 4.57 s, sys: 70.3 ms, total: 4.64 s\n",
      "Wall time: 4.67 s\n"
     ]
    }
   ],
   "source": [
    "%%time\n",
    "player_val(players12)"
   ]
  },
  {
   "cell_type": "code",
   "execution_count": 17,
   "metadata": {
    "collapsed": false
   },
   "outputs": [
    {
     "data": {
      "text/plain": [
       "{'assists': [(44, True, False), (46, False, False)],\n",
       " 'avg_val_smooth': 2.3449999999999998,\n",
       " 'cum_val': 11.725,\n",
       " 'goals': [(27, False, True), (65, False, False), (-11, True, False)],\n",
       " 'match_value': 7.25,\n",
       " 'was_home': True,\n",
       " 'was_sub': False}"
      ]
     },
     "execution_count": 17,
     "metadata": {},
     "output_type": "execute_result"
    }
   ],
   "source": [
    "players12['Wayne Rooney'][8]"
   ]
  },
  {
   "cell_type": "markdown",
   "metadata": {},
   "source": [
    "#### SUCCESS!!!"
   ]
  },
  {
   "cell_type": "code",
   "execution_count": 18,
   "metadata": {
    "collapsed": false
   },
   "outputs": [
    {
     "name": "stdout",
     "output_type": "stream",
     "text": [
      "CPU times: user 4.41 s, sys: 68.6 ms, total: 4.48 s\n",
      "Wall time: 4.47 s\n"
     ]
    }
   ],
   "source": [
    "%%time\n",
    "player_val(players13)"
   ]
  },
  {
   "cell_type": "markdown",
   "metadata": {},
   "source": [
    "## Save the data frames for further analysis"
   ]
  },
  {
   "cell_type": "code",
   "execution_count": 19,
   "metadata": {
    "collapsed": true
   },
   "outputs": [],
   "source": [
    "players12.to_pickle('playerdf12-13.pkl')\n",
    "players13.to_pickle('playerdf13-14.pkl')"
   ]
  }
 ],
 "metadata": {
  "kernelspec": {
   "display_name": "Python 2",
   "language": "python",
   "name": "python2"
  },
  "language_info": {
   "codemirror_mode": {
    "name": "ipython",
    "version": 2
   },
   "file_extension": ".py",
   "mimetype": "text/x-python",
   "name": "python",
   "nbconvert_exporter": "python",
   "pygments_lexer": "ipython2",
   "version": "2.7.10"
  }
 },
 "nbformat": 4,
 "nbformat_minor": 0
}
