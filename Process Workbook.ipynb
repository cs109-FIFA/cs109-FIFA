{
 "cells": [
  {
   "cell_type": "markdown",
   "metadata": {},
   "source": [
    "# Assessing Player Value through Quantitative Measures of Match Performance\n",
    "\n",
    "## CS 109 Final Project by FIFA (Future Impact Football Analytics)\n",
    "##### Presented by Taylor Killian, Virgile Audi and Abhishek Malali"
   ]
  },
  {
   "cell_type": "markdown",
   "metadata": {},
   "source": [
    "#Table of Contents\n",
    "* [Assessing Player Value through Quantitative Measures of Match Performance](#Asessing-Player-Value-through-Quantitative-Measures-of-Match-Performance)\n",
    "\t* [Section 0: Project Overview](#Section 0:-Project-Overview)\n",
    "\t\t* [Background and Motivation](#Background-and-Motivation)\n",
    "\t\t* [Project Objectives](#Project-Objectives)\n",
    "\t* [Section 1: Gathering Data: Acquisition and Cleaning](#Section 1:-Gathering-Data:-Acquisition-and-Cleaning)\n",
    "\t\t* [1.1: Scraping Data](#1.1:-Scraping-Data)\n",
    "\t\t\t* [Match Statistics](#Match-Statistics)\n",
    "\t\t\t* [Transfer Values](#Transfer Values)\n",
    "\t\t* [1.2: Data Cleaning](#1.2:-Data-Cleaning)\n",
    "            * [Calculation of Player Impact](#Calculation-of-Player-Impact)\n",
    "\t* [Section 2: Feature Extraction and ML](#Section-2:-Feature-Extraction-and-ML)\n",
    "        * [2.1: Continued Data Munging](#2.1:-Continued-Data-Munging)\n",
    "\t\t* [2.2: EDA via Methods of ML](#2.2: EDA-via-Methods-of-ML)\n",
    "            * [Validating our Metric](#Validating-out-Metric)\n",
    "            * [Clustering](#Clustering)\n",
    "\t* [Section 3: Further Analysis and Visualization](#Section 3:Further-Analysis-and-Visualization)\n",
    "    * [Section 4: Conclusions](#Section 4:-Conclusions)\n"
   ]
  },
  {
   "cell_type": "code",
   "execution_count": 1,
   "metadata": {
    "collapsed": true
   },
   "outputs": [],
   "source": [
    "%matplotlib inline\n",
    "import numpy as np\n",
    "import scipy as sp\n",
    "import matplotlib as mpl\n",
    "import matplotlib.cm as cm\n",
    "import matplotlib.pyplot as plt\n",
    "import pandas as pd\n",
    "pd.set_option('display.width', 500)\n",
    "pd.set_option('display.max_columns', 100)\n",
    "pd.set_option('display.notebook_repr_html', True)\n",
    "import seaborn as sns\n",
    "sns.set_style(\"whitegrid\")\n",
    "sns.set_context(\"poster\")"
   ]
  },
  {
   "cell_type": "markdown",
   "metadata": {},
   "source": [
    "## Section 0: Project Overview"
   ]
  },
  {
   "cell_type": "markdown",
   "metadata": {},
   "source": [
    "### Background and Motivation\n",
    "\n",
    "The three of us are large football (and by football, we of course mean the one and only, the one played with feet) fans. We consume the game in many aspects of our lives. Our hearts are lifted when our respective teams do well and are similarly frustrated when they fail to perform to our expectations. When teams do not perform equal to their, and their fans', expectations they look to infuse their team with more talented players, typically drawn from lower-tier or financially poor teams. The financial incentive for both teams in any transaction is clear, the buying team has hope that the new addition will put them over the top talent-wise to improve their standing in league competition while the selling team may look at the new funds as a way to prepare for the future and secure several new players to improve their team long-term.\n",
    "\n",
    "In the past few years, the economy of player transfers has undergone significant inflation where the top-tier clubs have shown a willingness to overpay for marginal talent or for players that may not be a good fit in their team. There is some notion that the transfer system is broken and is in need of revitalization. There are multiple ways to address the psychology of club executives and try to identify their motivations for spending money to procure new talent for their team. We refrain from any investigation into club finances but want to determine a method by which we can accurately and objectively place value on any player based on the impact that they have on the matches they play in."
   ]
  },
  {
   "cell_type": "markdown",
   "metadata": {},
   "source": [
    "### Project Objectives\n",
    "\n",
    "Our primary motivation is to quantify the impact (based on goals scored, assists made and consistency of play) an individual player has on the games which he plays for his team. We intend to use this quantity for each player to infer their value (agnostic of team at first and later based on current team and potential buyers). We hope to learn more about what goes into modeling player value, beyond subjective measures of team they currently play for and the league they currently play in, and how we can compare like players with each other. Our hope is that this work will provide the foundation to build an analysis portfolio to enable application to sports analytics positions or, at the very least, a long-term hobby."
   ]
  },
  {
   "cell_type": "markdown",
   "metadata": {},
   "source": [
    " "
   ]
  },
  {
   "cell_type": "markdown",
   "metadata": {},
   "source": [
    "## Section 1: Gathering Data: Acquisition and Cleaning\n",
    "\n",
    "As the use of statistical analysis within sport has [matured and been formalized](http://www.forbes.com/sites/leighsteinberg/2015/08/18/changing-the-game-the-rise-of-sports-analytics/), there have appeared a variety of organizations (some public, most private) whose sole purpose is to record and store event data for use in developing a greater understanding of sport analytically. In baseball, this was done (at least initially) by amateurs and news organizations as a way to better describe and follow the game as well as player performance. This practice has evolved to a point where most professional teams in baseball employ full-time analysts employed to delve into intracacies of player statistics in order to find any competitive edge. Over time, more sports and leagues have begun to rely on quantitative measures to influence organizational as well as gameplay decisions. This focus on analytics has ushered in a wave of private companies who track and record minutae of each game or match with the design to sell this information to the organizations involved with sport.\n",
    "\n",
    "Our team (FIFA) hoped to get a hold of some of this data but found the subscription cost to statistical sources with finer detail to be prohibitive for a final project. Since we would not have access to the most detailed of data we were forced to redirect our analytical plan to only include match results (Teams, goals, assists, time of important events and players involved). We scoured multiple websites in search of historical data from the top 5 European football (soccer) leagues for the 2012-2013 and 2013-2014 seasons. After a few false starts and dead-ends, we were fortunate to find [www.worldfootball.net](http://www.worldfootball.net) that contained exactly the data we were looking for."
   ]
  },
  {
   "cell_type": "markdown",
   "metadata": {},
   "source": [
    "### 1.1: Scraping Data\n"
   ]
  },
  {
   "cell_type": "markdown",
   "metadata": {},
   "source": [
    "#### Match Statistics\n",
    "\n",
    "Significant effort was required to understand how worldfootball.net encoded their match result webpages. Once that was understood, the html from each match played over the course of the two seasons was parsed and summarized into a .json file. Each .json recorded the names of the teams that faced off, the goals and assists recorded by each team, the players involved in each score, what time they occured and also some second order features of what effect that goal had on the match (if it broke a tie, was an equalizer, etc).\n",
    "\n",
    "We updated the scraping function iteratively as we determined deeper aspects that influenced a players impact on a match and found better ways to organize and compare our data. Two such updates were including whether a player was a substitute (if a substitute can positively effect the outcome of a match, he has to be given some added bonus to his value score) and what point in the season the match was played (helped to organize and unify the dataset)."
   ]
  },
  {
   "cell_type": "markdown",
   "metadata": {},
   "source": [
    "Our scraping function and process can be viewed at [scraping.ipynb](Scraping/scraping.ipynb)"
   ]
  },
  {
   "cell_type": "markdown",
   "metadata": {},
   "source": [
    "#### Transfer Values\n",
    "\n",
    "We wanted to see if there was a correlation between our metric and how players have been valued over the course of the years we recorded. This was a fairly limited data set as many transfers are undisclosed and the number of transfers completed from one season to the next is quite small when compared with the total number of players. \n",
    "\n",
    "The work done along that vein can be seen in [Transfer_values_scraping.ipynb](Scraping/Transfer_values_scraping.ipynb)"
   ]
  },
  {
   "cell_type": "markdown",
   "metadata": {},
   "source": [
    "### 1.2 Data Cleaning"
   ]
  },
  {
   "cell_type": "markdown",
   "metadata": {},
   "source": [
    "In order to efficiently scrape the match data from www.worldfootball.net a good deal of cleaning was already performed. However, since we were focused on individual player performance, there was a need to parse the match data and clean it up in order to provide a database of players, including the contributions each player made on a particular match day. All information used to calculate player impact, according to our metrics, was stored in these databases following cleaning.\n",
    "\n",
    "Link to [Init_DataCleaning.ipynb](Data Cleaning and Feature Extraction/Init_DataCleaning.ipynb)"
   ]
  },
  {
   "cell_type": "markdown",
   "metadata": {},
   "source": [
    "#### Calculation of Player Impact"
   ]
  },
  {
   "cell_type": "markdown",
   "metadata": {},
   "source": [
    "Since we use are using goals and assists to define a player's impact (by virtue of the data we had access to within the time constraints of our project), it's abundantly clear that our databases are biased toward offensively minded players. To differentiate between these players, we tried to identify which match states and types of goals are more impactful for a team during a game. We weighted these kinds of goals and assists more heavily which would provide for a better score for a player. \n",
    "\n",
    "We split each 90-min match into three time intervals: Early ($\\leq$ 20 min), Mid ( > 20 min and < 80 min) and Late ($\\geq$ 80 min). We also split the goals/assists into three categories; tiebreakers, equalizers and nominal. Each of these kinds of goals/assists were weighted differently depending on when in the match they were recorded.\n",
    "\n",
    "As mentioned previously, players were given a bonus if they recorded a statistic after coming into the match as a substitute. Another bonus that we provided players was if they recorded a positive statistic (we, as a rule to simplify our analysis and not dwell on extremely rare events, ignore own-goals) if they were on the \"away\" team. It is well understood and intuitive that it is more difficult in football to score away from home, we chose to reflect that in our analysis by a small increment. We also determined that goals are more valuable than assists, so the two were weighted differently (but only *slightly*) for each contributing player.\n",
    "\n",
    "We also chose to reward players for consistency. We view a player as more valuable if they score a few goals frequently rather than a player who may score a lot at one time but is otherwise absent from the scoresheet. To do this, we created an incremental increase to the weight for a goal or assist if the player registered a postive statistic in the previous match.\n",
    "\n",
    "To track a player's impact over the course of the season we also record a player's cumulative value for each match day. We also wanted to smooth for inconsistency in this feature by tracking a smoothed average of player impact over the previous five matches.\n",
    "\n",
    "Further details and information can be found in [initial_value_calculations.ipynb](Data Cleaning and Feature Extraction/initial_value_calculations.ipynb)"
   ]
  },
  {
   "cell_type": "markdown",
   "metadata": {},
   "source": [
    "## Section 2: Feature Extraction and ML"
   ]
  },
  {
   "cell_type": "markdown",
   "metadata": {},
   "source": [
    "### 2.1: Continued Data Munging"
   ]
  },
  {
   "cell_type": "markdown",
   "metadata": {},
   "source": [
    "Link to [continued_data_munging.ipynb](Data Cleaning and Feature Extraction/continued_data_munging.ipynb)"
   ]
  },
  {
   "cell_type": "markdown",
   "metadata": {},
   "source": [
    "### 2.2: EDA via Methods of ML"
   ]
  },
  {
   "cell_type": "markdown",
   "metadata": {},
   "source": [
    "#### Validating our Metric"
   ]
  },
  {
   "cell_type": "markdown",
   "metadata": {},
   "source": [
    "Link to [ML_Regression.ipynb](Analysis/ML_Regression.ipynb)"
   ]
  },
  {
   "cell_type": "markdown",
   "metadata": {},
   "source": [
    "#### Clustering"
   ]
  },
  {
   "cell_type": "markdown",
   "metadata": {},
   "source": [
    "Link to [clustering-test-notebook.ipynb](Analysis/clustering-test-notebook.ipynb)"
   ]
  },
  {
   "cell_type": "markdown",
   "metadata": {},
   "source": [
    "## Section 3: Further Analysis and Visualization"
   ]
  },
  {
   "cell_type": "markdown",
   "metadata": {},
   "source": [
    "Link to [Match_predictions.ipynb](Analysis/Match_predictions.ipynb)\n",
    "\n",
    "Link to [finding_percentiles.ipynb](Analysis/finding_percentiles.ipynb)\n",
    "\n",
    "Link to [transfer-data-test.ipynb](Plots/transfer-data-test.ipynb)\n",
    "\n",
    "Link to [Plotting.ipynb](Plots/Plotting.ipynb)"
   ]
  },
  {
   "cell_type": "markdown",
   "metadata": {},
   "source": [
    "## Section 4: Conclusions"
   ]
  },
  {
   "cell_type": "code",
   "execution_count": null,
   "metadata": {
    "collapsed": true
   },
   "outputs": [],
   "source": []
  }
 ],
 "metadata": {
  "kernelspec": {
   "display_name": "Python 2",
   "language": "python",
   "name": "python2"
  },
  "language_info": {
   "codemirror_mode": {
    "name": "ipython",
    "version": 2
   },
   "file_extension": ".py",
   "mimetype": "text/x-python",
   "name": "python",
   "nbconvert_exporter": "python",
   "pygments_lexer": "ipython2",
   "version": "2.7.10"
  }
 },
 "nbformat": 4,
 "nbformat_minor": 0
}
