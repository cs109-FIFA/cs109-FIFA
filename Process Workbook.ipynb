{
 "cells": [
  {
   "cell_type": "markdown",
   "metadata": {},
   "source": [
    "# Assessing Player Value through Quantitative Measures of Match Performance\n",
    "\n",
    "## CS 109 Final Project by FIFA (Future Impact Football Analytics)\n",
    "##### Presented by Taylor Killian, Virgile Audi and Abhishek Malali"
   ]
  },
  {
   "cell_type": "markdown",
   "metadata": {},
   "source": [
    "#Table of Contents\n",
    "* [Assessing Player Value through Quantitative Measures of Match Performance](#Asessing-Player-Value-through-Quantitative-Measures-of-Match-Performance)\n",
    "\t* [Section 0: Project Overview](#Section 0:-Project-Overview)\n",
    "\t\t* [Background and Motivation](#Background-and-Motivation)\n",
    "\t\t* [Project Objectives](#Project-Objectives)\n",
    "\t* [Section 1: Gathering Data: Acquisition and Cleaning](#Section 1:-Gathering-Data:-Acquisition-and-Cleaning)\n",
    "\t\t* [1.1: Scraping Data](#1.1:-Scraping-Data)\n",
    "\t\t\t* [Match Statistics](#Match-Statistics)\n",
    "\t\t\t* [Transfer Values](#Transfer Values)\n",
    "\t\t* [1.2: Data Cleaning](#1.2:-Data-Cleaning)\n",
    "            * [Calculation of Player Impact](#Calculation-of-Player-Impact)\n",
    "\t* [Section 2: Feature Extraction and ML](#Section-2:-Feature-Extraction-and-ML)\n",
    "        * [2.1: Continued Data Munging](#2.1:-Continued-Data-Munging)\n",
    "\t\t* [2.2: EDA via Methods of ML](#2.2: EDA-via-Methods-of-ML)\n",
    "            * [Validating our Metric](#Validating-out-Metric)\n",
    "            * [Clustering](#Clustering)\n",
    "\t* [Section 3: Further Analysis and Visualization](#Section 3:Further-Analysis-and-Visualization)\n",
    "    * [Section 4: Conclusions](#Section 4:-Conclusions)\n"
   ]
  },
  {
   "cell_type": "code",
   "execution_count": 1,
   "metadata": {
    "collapsed": true
   },
   "outputs": [],
   "source": [
    "%matplotlib inline\n",
    "import numpy as np\n",
    "import scipy as sp\n",
    "import matplotlib as mpl\n",
    "import matplotlib.cm as cm\n",
    "import matplotlib.pyplot as plt\n",
    "import pandas as pd\n",
    "pd.set_option('display.width', 500)\n",
    "pd.set_option('display.max_columns', 100)\n",
    "pd.set_option('display.notebook_repr_html', True)\n",
    "import seaborn as sns\n",
    "sns.set_style(\"whitegrid\")\n",
    "sns.set_context(\"poster\")"
   ]
  },
  {
   "cell_type": "markdown",
   "metadata": {},
   "source": [
    "## Section 0: Project Overview"
   ]
  },
  {
   "cell_type": "markdown",
   "metadata": {},
   "source": [
    "### Background and Motivation\n",
    "\n",
    "The three of us are large football (and by football, we of course mean the one and only, the one played with feet) fans. We consume the game in many aspects of our lives. Our hearts are lifted when our respective teams do well and are similarly frustrated when they fail to perform to our expectations. When teams consistently underperform they look to infuse their team with more talented players, typically drawn from lower-tier or financially poor teams. The financial incentive for both teams in any transaction is clear, the buying team has hope that the new addition will put them over the top talent-wise to improve their standing in their league competition while the selling team may look at the new funds as a way to prepare for the future and secure several new players to improve their team in the future.\n",
    "\n",
    "In the past few years the economy of player transfers has undergone significant inflation where the top-tier clubs have shown a willingness to overpay for marginal talent or for players that may not be a good fit in their team. There is some notion that the environment is broken and is in need of revitalization. There are multiple ways to address the psychology of club executives and try to identify their motivations for spending money to procure new talent for their team. We refrain from any investigation into club finances but want to determine a method by which we can accurately and objectively valuate any player based on the impact that they have on the matches they play in."
   ]
  },
  {
   "cell_type": "markdown",
   "metadata": {},
   "source": [
    "### Project Objectives\n",
    "\n",
    "Our primary motivation is to quantify the impact (based on goals scored, assists made and consistency of play) an individual player has on the games which he plays for his team. We intend to use this quantity for each player to infer their value (agnostic of team at first and later based on current team and potential buyers). We hope to learn more about what goes into modeling player value, beyond subjective measures of team they currently play for and the league they currently play in, and how we can compare like players with each other. Our hope is that this work will provide the foundation to build an analysis portfolio to enable application to sports analytics positions or a long-term hobby at the very least."
   ]
  },
  {
   "cell_type": "markdown",
   "metadata": {},
   "source": [
    " "
   ]
  },
  {
   "cell_type": "markdown",
   "metadata": {},
   "source": [
    "## Section 1: Gathering Data: Acquisition and Cleaning"
   ]
  },
  {
   "cell_type": "markdown",
   "metadata": {},
   "source": [
    "### 1.1: Scraping Data"
   ]
  },
  {
   "cell_type": "markdown",
   "metadata": {},
   "source": [
    "#### Match Statistics"
   ]
  },
  {
   "cell_type": "markdown",
   "metadata": {},
   "source": [
    "Link to [Notebook 2](Scraping/scraping.ipynb)"
   ]
  },
  {
   "cell_type": "markdown",
   "metadata": {},
   "source": [
    "#### Transfer Values"
   ]
  },
  {
   "cell_type": "markdown",
   "metadata": {},
   "source": [
    "### 1.2 Data Cleaning"
   ]
  },
  {
   "cell_type": "markdown",
   "metadata": {},
   "source": [
    "#### Calculation of Player Impact"
   ]
  },
  {
   "cell_type": "markdown",
   "metadata": {},
   "source": [
    "## Section 2: Feature Extraction and ML"
   ]
  },
  {
   "cell_type": "markdown",
   "metadata": {},
   "source": [
    "### 2.1: Continued Data Munging"
   ]
  },
  {
   "cell_type": "markdown",
   "metadata": {},
   "source": [
    "### 2.2: EDA via Methods of ML"
   ]
  },
  {
   "cell_type": "markdown",
   "metadata": {},
   "source": [
    "#### Validating our Metric"
   ]
  },
  {
   "cell_type": "markdown",
   "metadata": {},
   "source": [
    "#### Clustering"
   ]
  },
  {
   "cell_type": "markdown",
   "metadata": {},
   "source": [
    "## Section 3: Further Analysis and Visualization"
   ]
  },
  {
   "cell_type": "markdown",
   "metadata": {},
   "source": [
    "## Section 4: Conclusions"
   ]
  },
  {
   "cell_type": "code",
   "execution_count": null,
   "metadata": {
    "collapsed": true
   },
   "outputs": [],
   "source": []
  }
 ],
 "metadata": {
  "kernelspec": {
   "display_name": "Python 2",
   "language": "python",
   "name": "python2"
  },
  "language_info": {
   "codemirror_mode": {
    "name": "ipython",
    "version": 2
   },
   "file_extension": ".py",
   "mimetype": "text/x-python",
   "name": "python",
   "nbconvert_exporter": "python",
   "pygments_lexer": "ipython2",
   "version": "2.7.10"
  }
 },
 "nbformat": 4,
 "nbformat_minor": 0
}
