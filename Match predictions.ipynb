{
 "cells": [
  {
   "cell_type": "markdown",
   "metadata": {},
   "source": [
    "## Match predictions:\n",
    "\n",
    "The goal of this notebook is to create a model to predict match results, i.e home win / home loss / draw.\n",
    "\n",
    "We base our model on the intersection of a certain domain knowledge (the kind of information that could influence the result of a game of football) and the data in our possession. Better results could definetily be achevied if we were in possession of more detailed data on previous match such as a breakdown of performances per position or average possession statistics, etc.\n",
    "\n",
    "This analysis is inspired by the work of Gunjan Kumar in his thesis: \"Machine Learning for Soccer Analytics\"."
   ]
  },
  {
   "cell_type": "code",
   "execution_count": 1,
   "metadata": {
    "collapsed": true
   },
   "outputs": [],
   "source": [
    "% matplotlib inline\n",
    "\n",
    "import pandas as pd\n",
    "import numpy as np\n",
    "import matplotlib.pyplot as plt\n",
    "\n",
    "pd.set_option('display.width', 500)\n",
    "pd.set_option('display.max_columns', 100)\n",
    "pd.set_option('display.notebook_repr_html', True)\n",
    "import seaborn as sns\n",
    "sns.set_style(\"whitegrid\")\n",
    "sns.set_context(\"poster\")\n",
    "\n",
    "# Import all ML modules and packages we'll need\n",
    "from sklearn.cross_validation import train_test_split\n",
    "from sklearn.ensemble import RandomForestRegressor\n",
    "from sklearn.linear_model import LinearRegression"
   ]
  },
  {
   "cell_type": "markdown",
   "metadata": {},
   "source": [
    "## Data preparation"
   ]
  },
  {
   "cell_type": "code",
   "execution_count": 3,
   "metadata": {
    "collapsed": false
   },
   "outputs": [],
   "source": [
    "import json\n",
    "# Load in data\n",
    "filenames = ['BPL/BPL12-13.json']\n",
    "with open(filenames[0], 'r') as fp:\n",
    "    data = json.load(fp)"
   ]
  },
  {
   "cell_type": "markdown",
   "metadata": {},
   "source": [
    "We need to create a dictionary that contains the following data:\n",
    "\n",
    "- Final score: response variable\n",
    "- Home team metric average on past 5 games\n",
    "- Away team metric average on past 5 games\n",
    "- Sum of the differences of the best player metrics score for each team in the past 5 game\n",
    "- Average goals against the home team on the past 5 games\n",
    "- Average goals against the away team on the past 5 games\n",
    "- Number of losses for the home team in the past 2 games\n",
    "- Number of losses for the away team in the past 2 games \n"
   ]
  },
  {
   "cell_type": "markdown",
   "metadata": {},
   "source": [
    "We initialise the dictionary with key equal to the match ID and first values: home team, away team, and day."
   ]
  },
  {
   "cell_type": "code",
   "execution_count": 110,
   "metadata": {
    "collapsed": false
   },
   "outputs": [],
   "source": [
    "teams = ['arsenal-fc','aston-villa','chelsea-fc','everton-fc','fulham-fc','liverpool-fc','manchester-city','manchester-united','newcastle-united','norwich-city','queens-park-rangers','reading-fc','southampton-fc','stoke-city','sunderland-afc','swansea-city','tottenham-hotspur','west-bromwich-albion','west-ham-united','wigan-athletic']\n",
    "games = {}\n",
    "for t1 in teams:\n",
    "    for t2 in teams:\n",
    "        if t1!=t2:\n",
    "            games[t1+\"-\"+t2] = {'home': t1, 'away': t2}"
   ]
  },
  {
   "cell_type": "code",
   "execution_count": 111,
   "metadata": {
    "collapsed": true
   },
   "outputs": [],
   "source": [
    "for k in games.keys():\n",
    "    games[k]['day']= data[k]['day']"
   ]
  },
  {
   "cell_type": "markdown",
   "metadata": {},
   "source": [
    "In order to fill in this dictionary, we need a way to access the data for every player in the team at a particular day. We therefore create a team dictionary. Note that the \"if p[2]>=0 else ' '\" statement is to remove own goal scorers."
   ]
  },
  {
   "cell_type": "code",
   "execution_count": 125,
   "metadata": {
    "collapsed": false
   },
   "outputs": [],
   "source": [
    "team_players = dict.fromkeys(teams)\n",
    "for k in games.keys():\n",
    "    team1 = games[k]['home']\n",
    "    team2 = games[k]['away']\n",
    "    \n",
    "    if team_players[team1] is None:\n",
    "        team_players[team1] = [p[0] if p[2]>=0 else ' ' for p in data[k]['home']]\n",
    "    else:\n",
    "        team_players[team1].extend([p[0] if p[2]>=0 else ' ' for p in data[k]['home']])\n",
    "    team_players[team1].extend([p[1] if p[2]>=0 else ' ' for p in data[k]['home']])\n",
    "    \n",
    "    if team_players[team2] is None:\n",
    "        team_players[team2] = [p[0] if p[2]>=0 else ' ' for p in data[k]['away']]\n",
    "    else:\n",
    "        team_players[team2].extend([p[0] if p[2]>=0 else ' ' for p in data[k]['away']])\n",
    "    team_players[team2].extend([p[1] if p[2]>=0 else ' ' for p in data[k]['away']])"
   ]
  },
  {
   "cell_type": "code",
   "execution_count": 127,
   "metadata": {
    "collapsed": false
   },
   "outputs": [],
   "source": [
    "for k in team_players.keys():\n",
    "    team_players[k] = list(set(team_players[k]))\n",
    "    team_players[k].remove(' ')"
   ]
  },
  {
   "cell_type": "code",
   "execution_count": 128,
   "metadata": {
    "collapsed": true
   },
   "outputs": [],
   "source": [
    "player_to_club = {}\n",
    "for k in team_players.keys():\n",
    "    for v in team_players[k]:\n",
    "        player_to_club[v] = k"
   ]
  },
  {
   "cell_type": "markdown",
   "metadata": {},
   "source": [
    "We test it:"
   ]
  },
  {
   "cell_type": "code",
   "execution_count": 129,
   "metadata": {
    "collapsed": false
   },
   "outputs": [
    {
     "data": {
      "text/plain": [
       "[u'Mikel Arteta',\n",
       " u'Aaron Ramsey',\n",
       " u'Lukas Podolski',\n",
       " u'Jack Wilshere',\n",
       " u'Theo Walcott',\n",
       " u'Per Mertesacker',\n",
       " u'Gervinho',\n",
       " u'Kieran Gibbs',\n",
       " u'Nacho Monreal',\n",
       " u'Alex Oxlade-Chamberlain',\n",
       " u'Tom\\xc3\\xa1\\xc5\\xa1 Rosick\\xc3\\xbd',\n",
       " u'Laurent Koscielny',\n",
       " u'Olivier Giroud',\n",
       " u'Santi Cazorla']"
      ]
     },
     "execution_count": 129,
     "metadata": {},
     "output_type": "execute_result"
    }
   ],
   "source": [
    "team_players['arsenal-fc']"
   ]
  },
  {
   "cell_type": "markdown",
   "metadata": {},
   "source": [
    "We load the feature data:"
   ]
  },
  {
   "cell_type": "code",
   "execution_count": 37,
   "metadata": {
    "collapsed": true
   },
   "outputs": [],
   "source": [
    "features12 = pd.read_pickle('Data/features12-13.pkl')"
   ]
  },
  {
   "cell_type": "markdown",
   "metadata": {},
   "source": [
    "We first fill in the metric averages:"
   ]
  },
  {
   "cell_type": "code",
   "execution_count": 130,
   "metadata": {
    "collapsed": false
   },
   "outputs": [],
   "source": [
    "for k in games.keys():\n",
    "    d = games[k]['day']\n",
    "    if (d-1) == 0:\n",
    "        continue\n",
    "    home_average = 0\n",
    "    for p in team_players[games[k]['home']]:\n",
    "        home_average += features12[p]['match_value_list'][d-2]\n",
    "    games[k]['home_average'] = home_average/len(team_players[games[k]['home']])\n",
    "    away_average = 0\n",
    "    for p in team_players[games[k]['away']]:\n",
    "        away_average += features12[p]['match_value_list'][d-2]\n",
    "    games[k]['away_average'] = away_average/len(team_players[games[k]['away']])"
   ]
  },
  {
   "cell_type": "code",
   "execution_count": 131,
   "metadata": {
    "collapsed": false
   },
   "outputs": [
    {
     "data": {
      "text/plain": [
       "{'away': 'manchester-city',\n",
       " 'away_average': 0.609375,\n",
       " 'day': 19,\n",
       " 'home': 'sunderland-afc',\n",
       " 'home_average': 0.4723214285714285}"
      ]
     },
     "execution_count": 131,
     "metadata": {},
     "output_type": "execute_result"
    }
   ],
   "source": [
    "games[games.keys()[0]]"
   ]
  },
  {
   "cell_type": "markdown",
   "metadata": {},
   "source": [
    "We fill in the best player differences:"
   ]
  },
  {
   "cell_type": "code",
   "execution_count": 132,
   "metadata": {
    "collapsed": false
   },
   "outputs": [],
   "source": [
    "for k in games.keys():\n",
    "    d = games[k]['day']\n",
    "    home_team = games[k]['home']\n",
    "    away_team = games[k]['away']\n",
    "    best_home = []\n",
    "    best_away = []\n",
    "    if (d-1)==0:\n",
    "        continue\n",
    "    elif (d-1) == 1:\n",
    "        for p in team_players[home_team]:\n",
    "            best_home.append(features12[p]['match_value_list'][0])\n",
    "        for p in team_players[away_team]:\n",
    "            best_away.append(features12[p]['match_value_list'][0])\n",
    "            \n",
    "    elif (d-1) == 2:\n",
    "        for p in team_players[home_team]:\n",
    "            best_home.append(np.max(features12[p]['match_value_list'][:2]))\n",
    "        for p in team_players[away_team]:\n",
    "            best_away.append(np.max(features12[p]['match_value_list'][:2]))\n",
    "            \n",
    "    elif (d-1) == 3:\n",
    "        for p in team_players[home_team]:\n",
    "            best_home.append(np.max(features12[p]['match_value_list'][:3]))\n",
    "        for p in team_players[away_team]:\n",
    "            best_away.append(np.max(features12[p]['match_value_list'][:3]))\n",
    "            \n",
    "    elif (d-1) == 4:\n",
    "        for p in team_players[home_team]:\n",
    "            best_home.append(np.max(features12[p]['match_value_list'][:4]))\n",
    "        for p in team_players[away_team]:\n",
    "            best_away.append(np.max(features12[p]['match_value_list'][:4]))\n",
    "    else:\n",
    "        for p in team_players[home_team]:\n",
    "            best_home.append(np.max(features12[p]['match_value_list'][(d-6):(d-2)]))\n",
    "        for p in team_players[away_team]:\n",
    "            best_away.append(np.max(features12[p]['match_value_list'][(d-6):(d-2)]))\n",
    "    \n",
    "    \n",
    "    games[k]['best'] = np.sum(best_home)-np.sum(best_away)"
   ]
  },
  {
   "cell_type": "code",
   "execution_count": 133,
   "metadata": {
    "collapsed": false
   },
   "outputs": [
    {
     "data": {
      "text/plain": [
       "{'away': 'manchester-city',\n",
       " 'away_average': 0.609375,\n",
       " 'best': -19.324999999999996,\n",
       " 'day': 19,\n",
       " 'home': 'sunderland-afc',\n",
       " 'home_average': 0.4723214285714285}"
      ]
     },
     "execution_count": 133,
     "metadata": {},
     "output_type": "execute_result"
    }
   ],
   "source": [
    "games[games.keys()[0]]"
   ]
  },
  {
   "cell_type": "markdown",
   "metadata": {},
   "source": [
    "We add the score:"
   ]
  },
  {
   "cell_type": "code",
   "execution_count": 134,
   "metadata": {
    "collapsed": true
   },
   "outputs": [],
   "source": [
    "results = dict.fromkeys(teams)\n",
    "goals_against = dict.fromkeys(teams)\n",
    "\n",
    "for k in results.keys():\n",
    "    results[k] = np.zeros(38)\n",
    "    goals_against[k] = np.zeros(38)\n",
    "    \n",
    "for k in games.keys():\n",
    "    team1 = games[k]['home']\n",
    "    team2 = games[k]['away']\n",
    "    d = games[k]['day']-1\n",
    "    goal_home = len(data[k]['home'])\n",
    "    goal_away = len(data[k]['away'])\n",
    "    \n",
    "    goals_against[team1][d] = -goal_away\n",
    "    goals_against[team2][d] = -goal_home\n",
    "    \n",
    "    if goal_home > goal_away:\n",
    "        results[team1][d] = 1\n",
    "        results[team2][d] = -1\n",
    "    elif goal_home<goal_away:\n",
    "        results[team1][d] = -1\n",
    "        results[team2][d] = 1\n",
    "    else:\n",
    "        results[team1][d] = 0\n",
    "        results[team2][d] = 0"
   ]
  },
  {
   "cell_type": "markdown",
   "metadata": {},
   "source": [
    "We finally add home losses,wins, goals against, etc..."
   ]
  },
  {
   "cell_type": "code",
   "execution_count": 136,
   "metadata": {
    "collapsed": false
   },
   "outputs": [],
   "source": [
    "for k in games.keys():\n",
    "    \n",
    "    team1 = games[k]['home']\n",
    "    team2 = games[k]['away']\n",
    "    \n",
    "    d = games[k]['day']-1\n",
    "    \n",
    "    if d==0:\n",
    "        continue\n",
    "    elif d<=4:\n",
    "        home_goal_vs = np.sum(goals_against[team1][:d])/d\n",
    "        away_goal_vs = np.sum(goals_against[team2][:d])/d\n",
    "        if d<=2:\n",
    "            home_loss = len(results[team1][:d][results[team1][:d]<0])\n",
    "            home_win = len(results[team1][:d][results[team1][:d]>0])\n",
    "            away_loss = len(results[team2][:d][results[team2][:d]<0])\n",
    "            away_win = len(results[team2][:d][results[team2][:d]>0])\n",
    "        else:\n",
    "            home_loss = len(results[team1][d-2:d][results[team1][d-2:d]<0])\n",
    "            home_win = len(results[team1][d-2:d][results[team1][d-2:d]>0])\n",
    "            away_loss = len(results[team2][d-2:d][results[team2][d-2:d]<0])\n",
    "            away_win = len(results[team2][d-2:d][results[team2][d-2:d]>0])\n",
    "    else:\n",
    "        home_goal_vs = np.sum(goals_against[team1][d-5:d])/5\n",
    "        away_goal_vs = np.sum(goals_against[team2][d-5:d])/5\n",
    "        home_loss = len(results[team1][d-2:d][results[team1][d-2:d]<0])\n",
    "        home_win = len(results[team1][d-2:d][results[team1][d-2:d]>0])\n",
    "        away_loss = len(results[team2][d-2:d][results[team2][d-2:d]<0])\n",
    "        away_win = len(results[team2][d-2:d][results[team2][d-2:d]>0])\n",
    "        \n",
    "    games[k]['goals_against_home'] = home_goal_vs\n",
    "    games[k]['goals_against_away'] = away_goal_vs\n",
    "    games[k]['home_loss'] = home_loss\n",
    "    games[k]['away_loss'] = away_loss\n",
    "    games[k]['home_win'] = home_win\n",
    "    games[k]['away_win'] = away_win\n",
    "    games[k]['score'] = results[team1][d]"
   ]
  },
  {
   "cell_type": "markdown",
   "metadata": {},
   "source": [
    "We therefore have:"
   ]
  },
  {
   "cell_type": "code",
   "execution_count": 137,
   "metadata": {
    "collapsed": false
   },
   "outputs": [
    {
     "data": {
      "text/plain": [
       "{'away': 'manchester-city',\n",
       " 'away_average': 0.609375,\n",
       " 'away_loss': 0,\n",
       " 'away_win': 2,\n",
       " 'best': -19.324999999999996,\n",
       " 'day': 19,\n",
       " 'goals_against_away': -1.0,\n",
       " 'goals_against_home': -1.6000000000000001,\n",
       " 'home': 'sunderland-afc',\n",
       " 'home_average': 0.4723214285714285,\n",
       " 'home_loss': 1,\n",
       " 'home_win': 1,\n",
       " 'score': 1.0}"
      ]
     },
     "execution_count": 137,
     "metadata": {},
     "output_type": "execute_result"
    }
   ],
   "source": [
    "games[games.keys()[0]]"
   ]
  },
  {
   "cell_type": "markdown",
   "metadata": {},
   "source": [
    "We now convert it to a dataframe to perform predictions using to start multinomial logistic regression:"
   ]
  },
  {
   "cell_type": "code",
   "execution_count": 140,
   "metadata": {
    "collapsed": false
   },
   "outputs": [],
   "source": [
    "DF = pd.DataFrame.from_dict(games)"
   ]
  },
  {
   "cell_type": "code",
   "execution_count": 171,
   "metadata": {
    "collapsed": false
   },
   "outputs": [
    {
     "data": {
      "text/html": [
       "<div>\n",
       "<table border=\"1\" class=\"dataframe\">\n",
       "  <thead>\n",
       "    <tr style=\"text-align: right;\">\n",
       "      <th></th>\n",
       "      <th>arsenal-fc-aston-villa</th>\n",
       "      <th>arsenal-fc-chelsea-fc</th>\n",
       "      <th>arsenal-fc-everton-fc</th>\n",
       "      <th>arsenal-fc-fulham-fc</th>\n",
       "      <th>arsenal-fc-liverpool-fc</th>\n",
       "    </tr>\n",
       "  </thead>\n",
       "  <tbody>\n",
       "    <tr>\n",
       "      <th>away</th>\n",
       "      <td>aston-villa</td>\n",
       "      <td>chelsea-fc</td>\n",
       "      <td>everton-fc</td>\n",
       "      <td>fulham-fc</td>\n",
       "      <td>liverpool-fc</td>\n",
       "    </tr>\n",
       "    <tr>\n",
       "      <th>away_average</th>\n",
       "      <td>0.25</td>\n",
       "      <td>0.75</td>\n",
       "      <td>0.578125</td>\n",
       "      <td>0.4305556</td>\n",
       "      <td>0.6111111</td>\n",
       "    </tr>\n",
       "    <tr>\n",
       "      <th>away_loss</th>\n",
       "      <td>0</td>\n",
       "      <td>0</td>\n",
       "      <td>1</td>\n",
       "      <td>0</td>\n",
       "      <td>1</td>\n",
       "    </tr>\n",
       "    <tr>\n",
       "      <th>away_win</th>\n",
       "      <td>1</td>\n",
       "      <td>1</td>\n",
       "      <td>1</td>\n",
       "      <td>0</td>\n",
       "      <td>1</td>\n",
       "    </tr>\n",
       "    <tr>\n",
       "      <th>best</th>\n",
       "      <td>-3.2375</td>\n",
       "      <td>-19.1875</td>\n",
       "      <td>7.7125</td>\n",
       "      <td>-26.6125</td>\n",
       "      <td>12.6</td>\n",
       "    </tr>\n",
       "    <tr>\n",
       "      <th>day</th>\n",
       "      <td>27</td>\n",
       "      <td>6</td>\n",
       "      <td>29</td>\n",
       "      <td>11</td>\n",
       "      <td>24</td>\n",
       "    </tr>\n",
       "    <tr>\n",
       "      <th>goals_against_away</th>\n",
       "      <td>-1.8</td>\n",
       "      <td>-0.4</td>\n",
       "      <td>-1.8</td>\n",
       "      <td>-1.8</td>\n",
       "      <td>-1</td>\n",
       "    </tr>\n",
       "    <tr>\n",
       "      <th>goals_against_home</th>\n",
       "      <td>-1.2</td>\n",
       "      <td>-0.4</td>\n",
       "      <td>-1</td>\n",
       "      <td>-1.2</td>\n",
       "      <td>-1.8</td>\n",
       "    </tr>\n",
       "    <tr>\n",
       "      <th>home</th>\n",
       "      <td>arsenal-fc</td>\n",
       "      <td>arsenal-fc</td>\n",
       "      <td>arsenal-fc</td>\n",
       "      <td>arsenal-fc</td>\n",
       "      <td>arsenal-fc</td>\n",
       "    </tr>\n",
       "    <tr>\n",
       "      <th>home_average</th>\n",
       "      <td>0.4723214</td>\n",
       "      <td>0.2464286</td>\n",
       "      <td>0.14375</td>\n",
       "      <td>0.08214286</td>\n",
       "      <td>0.14375</td>\n",
       "    </tr>\n",
       "    <tr>\n",
       "      <th>home_loss</th>\n",
       "      <td>0</td>\n",
       "      <td>0</td>\n",
       "      <td>1</td>\n",
       "      <td>1</td>\n",
       "      <td>2</td>\n",
       "    </tr>\n",
       "    <tr>\n",
       "      <th>home_win</th>\n",
       "      <td>2</td>\n",
       "      <td>1</td>\n",
       "      <td>1</td>\n",
       "      <td>1</td>\n",
       "      <td>0</td>\n",
       "    </tr>\n",
       "    <tr>\n",
       "      <th>score</th>\n",
       "      <td>1</td>\n",
       "      <td>-1</td>\n",
       "      <td>0</td>\n",
       "      <td>0</td>\n",
       "      <td>0</td>\n",
       "    </tr>\n",
       "  </tbody>\n",
       "</table>\n",
       "</div>"
      ],
      "text/plain": [
       "                   arsenal-fc-aston-villa arsenal-fc-chelsea-fc arsenal-fc-everton-fc arsenal-fc-fulham-fc arsenal-fc-liverpool-fc\n",
       "away                          aston-villa            chelsea-fc            everton-fc            fulham-fc            liverpool-fc\n",
       "away_average                         0.25                  0.75              0.578125            0.4305556               0.6111111\n",
       "away_loss                               0                     0                     1                    0                       1\n",
       "away_win                                1                     1                     1                    0                       1\n",
       "best                              -3.2375              -19.1875                7.7125             -26.6125                    12.6\n",
       "day                                    27                     6                    29                   11                      24\n",
       "goals_against_away                   -1.8                  -0.4                  -1.8                 -1.8                      -1\n",
       "goals_against_home                   -1.2                  -0.4                    -1                 -1.2                    -1.8\n",
       "home                           arsenal-fc            arsenal-fc            arsenal-fc           arsenal-fc              arsenal-fc\n",
       "home_average                    0.4723214             0.2464286               0.14375           0.08214286                 0.14375\n",
       "home_loss                               0                     0                     1                    1                       2\n",
       "home_win                                2                     1                     1                    1                       0\n",
       "score                                   1                    -1                     0                    0                       0"
      ]
     },
     "execution_count": 171,
     "metadata": {},
     "output_type": "execute_result"
    }
   ],
   "source": [
    "DF.iloc[0:13,:5]"
   ]
  },
  {
   "cell_type": "markdown",
   "metadata": {},
   "source": [
    "## Analysis:"
   ]
  },
  {
   "cell_type": "code",
   "execution_count": 195,
   "metadata": {
    "collapsed": false
   },
   "outputs": [],
   "source": [
    "import statsmodels.api as st\n",
    "from sklearn.linear_model import LogisticRegression"
   ]
  },
  {
   "cell_type": "markdown",
   "metadata": {},
   "source": [
    "We will train on the first part of the season (except the first game as we don't have any explanotary variables for the first game)"
   ]
  },
  {
   "cell_type": "code",
   "execution_count": 224,
   "metadata": {
    "collapsed": false
   },
   "outputs": [],
   "source": [
    "firsthalf = DF.loc['day']<=19\n",
    "secondhalf = ~firsthalf"
   ]
  },
  {
   "cell_type": "code",
   "execution_count": 299,
   "metadata": {
    "collapsed": false
   },
   "outputs": [],
   "source": [
    "DF_firsthalf = DF[DF.columns[firsthalf]]\n",
    "DF_secondhalf = DF[DF.columns[secondhalf]]"
   ]
  },
  {
   "cell_type": "code",
   "execution_count": 300,
   "metadata": {
    "collapsed": false
   },
   "outputs": [],
   "source": [
    "# We remove the first day:\n",
    "train = DF_firsthalf[DF_firsthalf.columns[DF_firsthalf.loc['day']>1]]"
   ]
  },
  {
   "cell_type": "code",
   "execution_count": 303,
   "metadata": {
    "collapsed": false
   },
   "outputs": [],
   "source": [
    "y = train.loc['score'].copy()"
   ]
  },
  {
   "cell_type": "code",
   "execution_count": 304,
   "metadata": {
    "collapsed": true
   },
   "outputs": [],
   "source": [
    "X = train.iloc[[1,2,3,4,6,7,9,10,11],:].T\n",
    "test = DF_secondhalf.iloc[[1,2,3,4,6,7,9,10,11],:].T\n",
    "y_test = DF_secondhalf.loc['score'].copy()"
   ]
  },
  {
   "cell_type": "code",
   "execution_count": 204,
   "metadata": {
    "collapsed": false
   },
   "outputs": [
    {
     "data": {
      "text/html": [
       "<div>\n",
       "<table border=\"1\" class=\"dataframe\">\n",
       "  <thead>\n",
       "    <tr style=\"text-align: right;\">\n",
       "      <th></th>\n",
       "      <th>away_average</th>\n",
       "      <th>away_loss</th>\n",
       "      <th>away_win</th>\n",
       "      <th>best</th>\n",
       "      <th>goals_against_away</th>\n",
       "      <th>goals_against_home</th>\n",
       "      <th>home_average</th>\n",
       "      <th>home_loss</th>\n",
       "      <th>home_win</th>\n",
       "    </tr>\n",
       "  </thead>\n",
       "  <tbody>\n",
       "    <tr>\n",
       "      <th>arsenal-fc-chelsea-fc</th>\n",
       "      <td>0.75</td>\n",
       "      <td>0</td>\n",
       "      <td>1</td>\n",
       "      <td>-19.1875</td>\n",
       "      <td>-0.4</td>\n",
       "      <td>-0.4</td>\n",
       "      <td>0.2464286</td>\n",
       "      <td>0</td>\n",
       "      <td>1</td>\n",
       "    </tr>\n",
       "    <tr>\n",
       "      <th>arsenal-fc-fulham-fc</th>\n",
       "      <td>0.4305556</td>\n",
       "      <td>0</td>\n",
       "      <td>0</td>\n",
       "      <td>-26.6125</td>\n",
       "      <td>-1.8</td>\n",
       "      <td>-1.2</td>\n",
       "      <td>0.08214286</td>\n",
       "      <td>1</td>\n",
       "      <td>1</td>\n",
       "    </tr>\n",
       "    <tr>\n",
       "      <th>arsenal-fc-queens-park-rangers</th>\n",
       "      <td>0.4907895</td>\n",
       "      <td>1</td>\n",
       "      <td>0</td>\n",
       "      <td>14.4375</td>\n",
       "      <td>-1.6</td>\n",
       "      <td>-1.2</td>\n",
       "      <td>0</td>\n",
       "      <td>1</td>\n",
       "      <td>1</td>\n",
       "    </tr>\n",
       "    <tr>\n",
       "      <th>arsenal-fc-southampton-fc</th>\n",
       "      <td>1.045455</td>\n",
       "      <td>2</td>\n",
       "      <td>0</td>\n",
       "      <td>-11.4875</td>\n",
       "      <td>-2.666667</td>\n",
       "      <td>0</td>\n",
       "      <td>0.6160714</td>\n",
       "      <td>0</td>\n",
       "      <td>1</td>\n",
       "    </tr>\n",
       "    <tr>\n",
       "      <th>arsenal-fc-swansea-city</th>\n",
       "      <td>0.6607143</td>\n",
       "      <td>0</td>\n",
       "      <td>1</td>\n",
       "      <td>9.825</td>\n",
       "      <td>-0.8</td>\n",
       "      <td>-1.6</td>\n",
       "      <td>0.4723214</td>\n",
       "      <td>0</td>\n",
       "      <td>0</td>\n",
       "    </tr>\n",
       "  </tbody>\n",
       "</table>\n",
       "</div>"
      ],
      "text/plain": [
       "                               away_average away_loss away_win     best goals_against_away goals_against_home home_average home_loss home_win\n",
       "arsenal-fc-chelsea-fc                  0.75         0        1 -19.1875               -0.4               -0.4    0.2464286         0        1\n",
       "arsenal-fc-fulham-fc              0.4305556         0        0 -26.6125               -1.8               -1.2   0.08214286         1        1\n",
       "arsenal-fc-queens-park-rangers    0.4907895         1        0  14.4375               -1.6               -1.2            0         1        1\n",
       "arsenal-fc-southampton-fc          1.045455         2        0 -11.4875          -2.666667                  0    0.6160714         0        1\n",
       "arsenal-fc-swansea-city           0.6607143         0        1    9.825               -0.8               -1.6    0.4723214         0        0"
      ]
     },
     "execution_count": 204,
     "metadata": {},
     "output_type": "execute_result"
    }
   ],
   "source": [
    "X.head()"
   ]
  },
  {
   "cell_type": "markdown",
   "metadata": {},
   "source": [
    "We fit the model:"
   ]
  },
  {
   "cell_type": "code",
   "execution_count": 230,
   "metadata": {
    "collapsed": false
   },
   "outputs": [],
   "source": [
    "logreg = LogisticRegression(C=1e5)"
   ]
  },
  {
   "cell_type": "code",
   "execution_count": 231,
   "metadata": {
    "collapsed": false
   },
   "outputs": [
    {
     "data": {
      "text/plain": [
       "LogisticRegression(C=100000.0, class_weight=None, dual=False,\n",
       "          fit_intercept=True, intercept_scaling=1, max_iter=100,\n",
       "          multi_class='ovr', penalty='l2', random_state=None,\n",
       "          solver='liblinear', tol=0.0001, verbose=0)"
      ]
     },
     "execution_count": 231,
     "metadata": {},
     "output_type": "execute_result"
    }
   ],
   "source": [
    "logreg.fit(X,y)"
   ]
  },
  {
   "cell_type": "markdown",
   "metadata": {},
   "source": [
    "We predict the second half:"
   ]
  },
  {
   "cell_type": "code",
   "execution_count": 232,
   "metadata": {
    "collapsed": false
   },
   "outputs": [],
   "source": [
    "y_test_pred = logreg.predict(test)"
   ]
  },
  {
   "cell_type": "markdown",
   "metadata": {},
   "source": [
    "We derive the confusion metric to check how good we actually do:"
   ]
  },
  {
   "cell_type": "code",
   "execution_count": 245,
   "metadata": {
    "collapsed": false
   },
   "outputs": [],
   "source": [
    "from sklearn.metrics import confusion_matrix\n",
    "mat = confusion_matrix(y_test.values.astype(int),y_test_pred.astype(int))"
   ]
  },
  {
   "cell_type": "code",
   "execution_count": 257,
   "metadata": {
    "collapsed": true
   },
   "outputs": [],
   "source": [
    "score = float(mat[0,0]+mat[1,1]+mat[2,2])/np.sum(mat)"
   ]
  },
  {
   "cell_type": "code",
   "execution_count": 258,
   "metadata": {
    "collapsed": false
   },
   "outputs": [
    {
     "name": "stdout",
     "output_type": "stream",
     "text": [
      "0.384210526316\n"
     ]
    }
   ],
   "source": [
    "print score"
   ]
  },
  {
   "cell_type": "markdown",
   "metadata": {},
   "source": [
    "Not great.... Let's see if with a greater training set we can get better results !"
   ]
  },
  {
   "cell_type": "code",
   "execution_count": 250,
   "metadata": {
    "collapsed": true
   },
   "outputs": [],
   "source": [
    "tr = DF.loc['day']<=27\n",
    "ts = ~tr"
   ]
  },
  {
   "cell_type": "code",
   "execution_count": 251,
   "metadata": {
    "collapsed": true
   },
   "outputs": [],
   "source": [
    "DF_tr = DF[DF.columns[tr]]\n",
    "DF_ts = DF[DF.columns[ts]]\n",
    "train2 = DF_tr[DF_tr.columns[DF_tr.loc['day']>1]]\n",
    "y2 = train2.loc['score']\n",
    "\n",
    "X2 = train2.iloc[[1,2,3,4,6,7,9,10,11],:].T\n",
    "test2 = DF_ts.iloc[[1,2,3,4,6,7,9,10,11],:].T\n",
    "y_test2 = DF_ts.loc['score']"
   ]
  },
  {
   "cell_type": "code",
   "execution_count": 252,
   "metadata": {
    "collapsed": false
   },
   "outputs": [
    {
     "data": {
      "text/plain": [
       "LogisticRegression(C=100000.0, class_weight=None, dual=False,\n",
       "          fit_intercept=True, intercept_scaling=1, max_iter=100,\n",
       "          multi_class='ovr', penalty='l2', random_state=None,\n",
       "          solver='liblinear', tol=0.0001, verbose=0)"
      ]
     },
     "execution_count": 252,
     "metadata": {},
     "output_type": "execute_result"
    }
   ],
   "source": [
    "logreg2 = LogisticRegression(C=1e5)\n",
    "logreg.fit(X2,y2)"
   ]
  },
  {
   "cell_type": "code",
   "execution_count": 253,
   "metadata": {
    "collapsed": true
   },
   "outputs": [],
   "source": [
    "y_test_pred2 = logreg.predict(test2)"
   ]
  },
  {
   "cell_type": "code",
   "execution_count": 254,
   "metadata": {
    "collapsed": true
   },
   "outputs": [],
   "source": [
    "mat2 = confusion_matrix(y_test2.values.astype(int),y_test_pred2.astype(int))"
   ]
  },
  {
   "cell_type": "code",
   "execution_count": 255,
   "metadata": {
    "collapsed": false
   },
   "outputs": [
    {
     "data": {
      "text/plain": [
       "array([[ 5,  9, 21],\n",
       "       [ 7,  3, 18],\n",
       "       [ 9,  5, 33]])"
      ]
     },
     "execution_count": 255,
     "metadata": {},
     "output_type": "execute_result"
    }
   ],
   "source": [
    "mat2"
   ]
  },
  {
   "cell_type": "code",
   "execution_count": 259,
   "metadata": {
    "collapsed": true
   },
   "outputs": [],
   "source": [
    "score2 = float(mat2[0,0]+mat2[1,1]+mat2[2,2])/np.sum(mat2)"
   ]
  },
  {
   "cell_type": "code",
   "execution_count": 260,
   "metadata": {
    "collapsed": false
   },
   "outputs": [
    {
     "name": "stdout",
     "output_type": "stream",
     "text": [
      "0.372727272727\n"
     ]
    }
   ],
   "source": [
    "print score2"
   ]
  },
  {
   "cell_type": "markdown",
   "metadata": {},
   "source": [
    "nop...."
   ]
  },
  {
   "cell_type": "markdown",
   "metadata": {},
   "source": [
    "### Let's try random forest:"
   ]
  },
  {
   "cell_type": "code",
   "execution_count": 262,
   "metadata": {
    "collapsed": false
   },
   "outputs": [],
   "source": [
    "from sklearn.ensemble import RandomForestClassifier"
   ]
  },
  {
   "cell_type": "code",
   "execution_count": 263,
   "metadata": {
    "collapsed": false
   },
   "outputs": [
    {
     "data": {
      "text/plain": [
       "RandomForestClassifier(bootstrap=True, class_weight=None, criterion='gini',\n",
       "            max_depth=None, max_features='auto', max_leaf_nodes=None,\n",
       "            min_samples_leaf=1, min_samples_split=2,\n",
       "            min_weight_fraction_leaf=0.0, n_estimators=25, n_jobs=1,\n",
       "            oob_score=False, random_state=None, verbose=0,\n",
       "            warm_start=False)"
      ]
     },
     "execution_count": 263,
     "metadata": {},
     "output_type": "execute_result"
    }
   ],
   "source": [
    "clf = RandomForestClassifier(n_estimators=25)\n",
    "clf.fit(X,y)"
   ]
  },
  {
   "cell_type": "code",
   "execution_count": 265,
   "metadata": {
    "collapsed": false
   },
   "outputs": [],
   "source": [
    "RFC_pred = clf.predict(test).astype(int)"
   ]
  },
  {
   "cell_type": "code",
   "execution_count": 266,
   "metadata": {
    "collapsed": true
   },
   "outputs": [],
   "source": [
    "RFC_mat = confusion_matrix(y_test.astype(int),RFC_pred)"
   ]
  },
  {
   "cell_type": "code",
   "execution_count": 267,
   "metadata": {
    "collapsed": false
   },
   "outputs": [
    {
     "data": {
      "text/plain": [
       "array([[14, 17, 27],\n",
       "       [12, 18, 20],\n",
       "       [18, 14, 50]])"
      ]
     },
     "execution_count": 267,
     "metadata": {},
     "output_type": "execute_result"
    }
   ],
   "source": [
    "RFC_mat"
   ]
  },
  {
   "cell_type": "code",
   "execution_count": 268,
   "metadata": {
    "collapsed": true
   },
   "outputs": [],
   "source": [
    "RFC_score = float(RFC_mat[0,0]+RFC_mat[1,1]+RFC_mat[2,2])/np.sum(RFC_mat)"
   ]
  },
  {
   "cell_type": "code",
   "execution_count": 269,
   "metadata": {
    "collapsed": false
   },
   "outputs": [
    {
     "name": "stdout",
     "output_type": "stream",
     "text": [
      "0.431578947368\n"
     ]
    }
   ],
   "source": [
    "print RFC_score"
   ]
  },
  {
   "cell_type": "markdown",
   "metadata": {},
   "source": [
    "Slightly better...."
   ]
  },
  {
   "cell_type": "code",
   "execution_count": 279,
   "metadata": {
    "collapsed": false
   },
   "outputs": [
    {
     "name": "stdout",
     "output_type": "stream",
     "text": [
      "[[15  8 12]\n",
      " [ 7  5 16]\n",
      " [10 10 27]]\n",
      "0.427272727273\n"
     ]
    }
   ],
   "source": [
    "clf = RandomForestClassifier(n_estimators=10)\n",
    "clf.fit(X2,y2)\n",
    "RFC_pred2 = clf.predict(test2).astype(int)\n",
    "RFC_mat2 = confusion_matrix(y_test2.astype(int),RFC_pred2)\n",
    "\n",
    "print RFC_mat2\n",
    "\n",
    "RFC_score2 = float(RFC_mat2[0,0]+RFC_mat2[1,1]+RFC_mat2[2,2])/np.sum(RFC_mat2)\n",
    "\n",
    "print RFC_score2"
   ]
  },
  {
   "cell_type": "markdown",
   "metadata": {},
   "source": [
    "Let's now to see if we can at least better predict if the home teams doesn't win:"
   ]
  },
  {
   "cell_type": "code",
   "execution_count": 281,
   "metadata": {
    "collapsed": false
   },
   "outputs": [],
   "source": [
    "y[y<1]= 0 "
   ]
  },
  {
   "cell_type": "code",
   "execution_count": 282,
   "metadata": {
    "collapsed": true
   },
   "outputs": [],
   "source": [
    "y_test[y_test<1] = 0"
   ]
  },
  {
   "cell_type": "code",
   "execution_count": 283,
   "metadata": {
    "collapsed": true
   },
   "outputs": [],
   "source": [
    "logreg = LogisticRegression(C=1e5)\n",
    "logreg.fit(X,y)\n",
    "y_test_pred = logreg.predict(test).astype(int)"
   ]
  },
  {
   "cell_type": "code",
   "execution_count": 284,
   "metadata": {
    "collapsed": true
   },
   "outputs": [],
   "source": [
    "mat4 = confusion_matrix(y_test.values.astype(int),y_test_pred)"
   ]
  },
  {
   "cell_type": "code",
   "execution_count": 285,
   "metadata": {
    "collapsed": false
   },
   "outputs": [
    {
     "data": {
      "text/plain": [
       "array([[70, 38],\n",
       "       [44, 38]])"
      ]
     },
     "execution_count": 285,
     "metadata": {},
     "output_type": "execute_result"
    }
   ],
   "source": [
    "mat4"
   ]
  },
  {
   "cell_type": "code",
   "execution_count": 286,
   "metadata": {
    "collapsed": true
   },
   "outputs": [],
   "source": [
    "score4 = float(mat4[0,0]+mat4[1,1])/np.sum(mat4)"
   ]
  },
  {
   "cell_type": "code",
   "execution_count": 287,
   "metadata": {
    "collapsed": false
   },
   "outputs": [
    {
     "data": {
      "text/plain": [
       "0.5684210526315789"
      ]
     },
     "execution_count": 287,
     "metadata": {},
     "output_type": "execute_result"
    }
   ],
   "source": [
    "score4"
   ]
  },
  {
   "cell_type": "markdown",
   "metadata": {},
   "source": [
    "We manage to predict slightly better than by chance... still not good enough..."
   ]
  },
  {
   "cell_type": "code",
   "execution_count": null,
   "metadata": {
    "collapsed": true
   },
   "outputs": [],
   "source": [
    "clf = RandomForestClassifier(n_estimators=25)\n",
    "\n",
    "clf.fit(X,y)\n",
    "\n",
    "RFC_pred3 = clf.predict(test).astype(int)\n",
    "RFC_mat3 = confusion_matrix(y_test.astype(int),RFC_pred3)\n",
    "\n",
    "print RFC_mat3\n",
    "\n",
    "RFC_score3 = float(RFC_mat3[0,0]+RFC_mat3[1,1])/np.sum(RFC_mat3)\n",
    "\n",
    "print RFC_score3"
   ]
  },
  {
   "cell_type": "markdown",
   "metadata": {},
   "source": [
    "Maybe not loose:"
   ]
  },
  {
   "cell_type": "code",
   "execution_count": 307,
   "metadata": {
    "collapsed": false
   },
   "outputs": [],
   "source": [
    "y = train.loc['score'].copy()\n",
    "y_test = DF_secondhalf.loc['score'].copy()\n",
    "y[y>-1]= 1\n",
    "y_test[y_test>-1]= 1"
   ]
  },
  {
   "cell_type": "code",
   "execution_count": 309,
   "metadata": {
    "collapsed": false
   },
   "outputs": [],
   "source": [
    "logreg = LogisticRegression(C=1e5)\n",
    "logreg.fit(X,y)\n",
    "y_test_pred = logreg.predict(test).astype(int)\n",
    "mat5 = confusion_matrix(y_test.values.astype(int),y_test_pred)\n",
    "score5 = float(mat5[0,0]+mat5[1,1])/np.sum(mat5)"
   ]
  },
  {
   "cell_type": "code",
   "execution_count": 310,
   "metadata": {
    "collapsed": false
   },
   "outputs": [
    {
     "data": {
      "text/plain": [
       "0.6631578947368421"
      ]
     },
     "execution_count": 310,
     "metadata": {},
     "output_type": "execute_result"
    }
   ],
   "source": [
    "score5"
   ]
  },
  {
   "cell_type": "markdown",
   "metadata": {},
   "source": [
    "2/3 ! Let's build on this."
   ]
  },
  {
   "cell_type": "code",
   "execution_count": 312,
   "metadata": {
    "collapsed": false
   },
   "outputs": [
    {
     "data": {
      "text/plain": [
       "0.6947368421052632"
      ]
     },
     "execution_count": 312,
     "metadata": {},
     "output_type": "execute_result"
    }
   ],
   "source": [
    "onlywin_mat = confusion_matrix(y_test.values.astype(int),[1]*190)\n",
    "float(onlywin_mat[0,0]+onlywin_mat[1,1])/np.sum(onlywin_mat)"
   ]
  },
  {
   "cell_type": "markdown",
   "metadata": {},
   "source": [
    "ouch...."
   ]
  },
  {
   "cell_type": "code",
   "execution_count": 313,
   "metadata": {
    "collapsed": false
   },
   "outputs": [
    {
     "data": {
      "text/plain": [
       "0.30526315789473685"
      ]
     },
     "execution_count": 313,
     "metadata": {},
     "output_type": "execute_result"
    }
   ],
   "source": [
    "onlyloss_mat = confusion_matrix(y_test.values.astype(int),[-1]*190)\n",
    "float(onlyloss_mat[0,0]+onlyloss_mat[1,1])/np.sum(onlyloss_mat)"
   ]
  },
  {
   "cell_type": "code",
   "execution_count": null,
   "metadata": {
    "collapsed": true
   },
   "outputs": [],
   "source": []
  }
 ],
 "metadata": {
  "kernelspec": {
   "display_name": "Python 2",
   "language": "python",
   "name": "python2"
  },
  "language_info": {
   "codemirror_mode": {
    "name": "ipython",
    "version": 2
   },
   "file_extension": ".py",
   "mimetype": "text/x-python",
   "name": "python",
   "nbconvert_exporter": "python",
   "pygments_lexer": "ipython2",
   "version": "2.7.10"
  }
 },
 "nbformat": 4,
 "nbformat_minor": 0
}
